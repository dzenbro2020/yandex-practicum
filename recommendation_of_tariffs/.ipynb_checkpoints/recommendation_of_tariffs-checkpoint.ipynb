{
 "cells": [
  {
   "cell_type": "markdown",
   "metadata": {},
   "source": [
    "# Рекомендация тарифов"
   ]
  },
  {
   "cell_type": "markdown",
   "metadata": {},
   "source": [
    "Оператор мобильной связи «Мегалайн» выяснил: многие клиенты пользуются архивными тарифами. Они хотят построить систему, способную проанализировать поведение клиентов и предложить пользователям новый тариф: «Смарт» или «Ультра».\n",
    "\n",
    "В вашем распоряжении данные о поведении клиентов, которые уже перешли на эти тарифы (из проекта курса «Статистический анализ данных»). Нужно построить модель для задачи классификации, которая выберет подходящий тариф. Предобработка данных не понадобится — вы её уже сделали.\n",
    "\n",
    "Постройте модель с максимально большим значением accuracy. Чтобы сдать проект успешно, нужно довести долю правильных ответов по крайней мере до 0.75."
   ]
  },
  {
   "cell_type": "markdown",
   "metadata": {},
   "source": [
    "## Откройте и изучите файл"
   ]
  },
  {
   "cell_type": "code",
   "execution_count": 112,
   "metadata": {},
   "outputs": [],
   "source": [
    "import pandas as pd\n",
    "from tqdm import tqdm\n",
    "from sklearn.model_selection import train_test_split\n",
    "from sklearn.tree import DecisionTreeClassifier\n",
    "from sklearn.ensemble import RandomForestClassifier\n",
    "from sklearn.linear_model import LogisticRegression\n",
    "from sklearn.metrics import accuracy_score\n",
    "from sklearn import tree"
   ]
  },
  {
   "cell_type": "code",
   "execution_count": 113,
   "metadata": {},
   "outputs": [],
   "source": [
    "df = pd.read_csv('/datasets/users_behavior.csv')"
   ]
  },
  {
   "cell_type": "code",
   "execution_count": 114,
   "metadata": {},
   "outputs": [
    {
     "data": {
      "text/html": [
       "<div>\n",
       "<style scoped>\n",
       "    .dataframe tbody tr th:only-of-type {\n",
       "        vertical-align: middle;\n",
       "    }\n",
       "\n",
       "    .dataframe tbody tr th {\n",
       "        vertical-align: top;\n",
       "    }\n",
       "\n",
       "    .dataframe thead th {\n",
       "        text-align: right;\n",
       "    }\n",
       "</style>\n",
       "<table border=\"1\" class=\"dataframe\">\n",
       "  <thead>\n",
       "    <tr style=\"text-align: right;\">\n",
       "      <th></th>\n",
       "      <th>calls</th>\n",
       "      <th>minutes</th>\n",
       "      <th>messages</th>\n",
       "      <th>mb_used</th>\n",
       "      <th>is_ultra</th>\n",
       "    </tr>\n",
       "  </thead>\n",
       "  <tbody>\n",
       "    <tr>\n",
       "      <th>0</th>\n",
       "      <td>40.0</td>\n",
       "      <td>311.90</td>\n",
       "      <td>83.0</td>\n",
       "      <td>19915.42</td>\n",
       "      <td>0</td>\n",
       "    </tr>\n",
       "    <tr>\n",
       "      <th>1</th>\n",
       "      <td>85.0</td>\n",
       "      <td>516.75</td>\n",
       "      <td>56.0</td>\n",
       "      <td>22696.96</td>\n",
       "      <td>0</td>\n",
       "    </tr>\n",
       "    <tr>\n",
       "      <th>2</th>\n",
       "      <td>77.0</td>\n",
       "      <td>467.66</td>\n",
       "      <td>86.0</td>\n",
       "      <td>21060.45</td>\n",
       "      <td>0</td>\n",
       "    </tr>\n",
       "    <tr>\n",
       "      <th>3</th>\n",
       "      <td>106.0</td>\n",
       "      <td>745.53</td>\n",
       "      <td>81.0</td>\n",
       "      <td>8437.39</td>\n",
       "      <td>1</td>\n",
       "    </tr>\n",
       "    <tr>\n",
       "      <th>4</th>\n",
       "      <td>66.0</td>\n",
       "      <td>418.74</td>\n",
       "      <td>1.0</td>\n",
       "      <td>14502.75</td>\n",
       "      <td>0</td>\n",
       "    </tr>\n",
       "  </tbody>\n",
       "</table>\n",
       "</div>"
      ],
      "text/plain": [
       "   calls  minutes  messages   mb_used  is_ultra\n",
       "0   40.0   311.90      83.0  19915.42         0\n",
       "1   85.0   516.75      56.0  22696.96         0\n",
       "2   77.0   467.66      86.0  21060.45         0\n",
       "3  106.0   745.53      81.0   8437.39         1\n",
       "4   66.0   418.74       1.0  14502.75         0"
      ]
     },
     "execution_count": 114,
     "metadata": {},
     "output_type": "execute_result"
    }
   ],
   "source": [
    "df.head()"
   ]
  },
  {
   "cell_type": "code",
   "execution_count": 115,
   "metadata": {},
   "outputs": [
    {
     "name": "stdout",
     "output_type": "stream",
     "text": [
      "<class 'pandas.core.frame.DataFrame'>\n",
      "RangeIndex: 3214 entries, 0 to 3213\n",
      "Data columns (total 5 columns):\n",
      " #   Column    Non-Null Count  Dtype  \n",
      "---  ------    --------------  -----  \n",
      " 0   calls     3214 non-null   float64\n",
      " 1   minutes   3214 non-null   float64\n",
      " 2   messages  3214 non-null   float64\n",
      " 3   mb_used   3214 non-null   float64\n",
      " 4   is_ultra  3214 non-null   int64  \n",
      "dtypes: float64(4), int64(1)\n",
      "memory usage: 125.7 KB\n"
     ]
    }
   ],
   "source": [
    "df.info()"
   ]
  },
  {
   "cell_type": "code",
   "execution_count": 116,
   "metadata": {},
   "outputs": [
    {
     "data": {
      "text/html": [
       "<div>\n",
       "<style scoped>\n",
       "    .dataframe tbody tr th:only-of-type {\n",
       "        vertical-align: middle;\n",
       "    }\n",
       "\n",
       "    .dataframe tbody tr th {\n",
       "        vertical-align: top;\n",
       "    }\n",
       "\n",
       "    .dataframe thead th {\n",
       "        text-align: right;\n",
       "    }\n",
       "</style>\n",
       "<table border=\"1\" class=\"dataframe\">\n",
       "  <thead>\n",
       "    <tr style=\"text-align: right;\">\n",
       "      <th></th>\n",
       "      <th>calls</th>\n",
       "      <th>minutes</th>\n",
       "      <th>messages</th>\n",
       "      <th>mb_used</th>\n",
       "      <th>is_ultra</th>\n",
       "    </tr>\n",
       "  </thead>\n",
       "  <tbody>\n",
       "    <tr>\n",
       "      <th>count</th>\n",
       "      <td>3214.000000</td>\n",
       "      <td>3214.000000</td>\n",
       "      <td>3214.000000</td>\n",
       "      <td>3214.000000</td>\n",
       "      <td>3214.000000</td>\n",
       "    </tr>\n",
       "    <tr>\n",
       "      <th>mean</th>\n",
       "      <td>63.038892</td>\n",
       "      <td>438.208787</td>\n",
       "      <td>38.281269</td>\n",
       "      <td>17207.673836</td>\n",
       "      <td>0.306472</td>\n",
       "    </tr>\n",
       "    <tr>\n",
       "      <th>std</th>\n",
       "      <td>33.236368</td>\n",
       "      <td>234.569872</td>\n",
       "      <td>36.148326</td>\n",
       "      <td>7570.968246</td>\n",
       "      <td>0.461100</td>\n",
       "    </tr>\n",
       "    <tr>\n",
       "      <th>min</th>\n",
       "      <td>0.000000</td>\n",
       "      <td>0.000000</td>\n",
       "      <td>0.000000</td>\n",
       "      <td>0.000000</td>\n",
       "      <td>0.000000</td>\n",
       "    </tr>\n",
       "    <tr>\n",
       "      <th>25%</th>\n",
       "      <td>40.000000</td>\n",
       "      <td>274.575000</td>\n",
       "      <td>9.000000</td>\n",
       "      <td>12491.902500</td>\n",
       "      <td>0.000000</td>\n",
       "    </tr>\n",
       "    <tr>\n",
       "      <th>50%</th>\n",
       "      <td>62.000000</td>\n",
       "      <td>430.600000</td>\n",
       "      <td>30.000000</td>\n",
       "      <td>16943.235000</td>\n",
       "      <td>0.000000</td>\n",
       "    </tr>\n",
       "    <tr>\n",
       "      <th>75%</th>\n",
       "      <td>82.000000</td>\n",
       "      <td>571.927500</td>\n",
       "      <td>57.000000</td>\n",
       "      <td>21424.700000</td>\n",
       "      <td>1.000000</td>\n",
       "    </tr>\n",
       "    <tr>\n",
       "      <th>max</th>\n",
       "      <td>244.000000</td>\n",
       "      <td>1632.060000</td>\n",
       "      <td>224.000000</td>\n",
       "      <td>49745.730000</td>\n",
       "      <td>1.000000</td>\n",
       "    </tr>\n",
       "  </tbody>\n",
       "</table>\n",
       "</div>"
      ],
      "text/plain": [
       "             calls      minutes     messages       mb_used     is_ultra\n",
       "count  3214.000000  3214.000000  3214.000000   3214.000000  3214.000000\n",
       "mean     63.038892   438.208787    38.281269  17207.673836     0.306472\n",
       "std      33.236368   234.569872    36.148326   7570.968246     0.461100\n",
       "min       0.000000     0.000000     0.000000      0.000000     0.000000\n",
       "25%      40.000000   274.575000     9.000000  12491.902500     0.000000\n",
       "50%      62.000000   430.600000    30.000000  16943.235000     0.000000\n",
       "75%      82.000000   571.927500    57.000000  21424.700000     1.000000\n",
       "max     244.000000  1632.060000   224.000000  49745.730000     1.000000"
      ]
     },
     "execution_count": 116,
     "metadata": {},
     "output_type": "execute_result"
    }
   ],
   "source": [
    "df.describe()"
   ]
  },
  {
   "cell_type": "code",
   "execution_count": 117,
   "metadata": {},
   "outputs": [
    {
     "data": {
      "text/html": [
       "<div>\n",
       "<style scoped>\n",
       "    .dataframe tbody tr th:only-of-type {\n",
       "        vertical-align: middle;\n",
       "    }\n",
       "\n",
       "    .dataframe tbody tr th {\n",
       "        vertical-align: top;\n",
       "    }\n",
       "\n",
       "    .dataframe thead th {\n",
       "        text-align: right;\n",
       "    }\n",
       "</style>\n",
       "<table border=\"1\" class=\"dataframe\">\n",
       "  <thead>\n",
       "    <tr style=\"text-align: right;\">\n",
       "      <th></th>\n",
       "      <th>calls</th>\n",
       "      <th>minutes</th>\n",
       "      <th>messages</th>\n",
       "      <th>mb_used</th>\n",
       "      <th>is_ultra</th>\n",
       "    </tr>\n",
       "  </thead>\n",
       "  <tbody>\n",
       "    <tr>\n",
       "      <th>calls</th>\n",
       "      <td>1.000000</td>\n",
       "      <td>0.982083</td>\n",
       "      <td>0.177385</td>\n",
       "      <td>0.286442</td>\n",
       "      <td>0.207122</td>\n",
       "    </tr>\n",
       "    <tr>\n",
       "      <th>minutes</th>\n",
       "      <td>0.982083</td>\n",
       "      <td>1.000000</td>\n",
       "      <td>0.173110</td>\n",
       "      <td>0.280967</td>\n",
       "      <td>0.206955</td>\n",
       "    </tr>\n",
       "    <tr>\n",
       "      <th>messages</th>\n",
       "      <td>0.177385</td>\n",
       "      <td>0.173110</td>\n",
       "      <td>1.000000</td>\n",
       "      <td>0.195721</td>\n",
       "      <td>0.203830</td>\n",
       "    </tr>\n",
       "    <tr>\n",
       "      <th>mb_used</th>\n",
       "      <td>0.286442</td>\n",
       "      <td>0.280967</td>\n",
       "      <td>0.195721</td>\n",
       "      <td>1.000000</td>\n",
       "      <td>0.198568</td>\n",
       "    </tr>\n",
       "    <tr>\n",
       "      <th>is_ultra</th>\n",
       "      <td>0.207122</td>\n",
       "      <td>0.206955</td>\n",
       "      <td>0.203830</td>\n",
       "      <td>0.198568</td>\n",
       "      <td>1.000000</td>\n",
       "    </tr>\n",
       "  </tbody>\n",
       "</table>\n",
       "</div>"
      ],
      "text/plain": [
       "             calls   minutes  messages   mb_used  is_ultra\n",
       "calls     1.000000  0.982083  0.177385  0.286442  0.207122\n",
       "minutes   0.982083  1.000000  0.173110  0.280967  0.206955\n",
       "messages  0.177385  0.173110  1.000000  0.195721  0.203830\n",
       "mb_used   0.286442  0.280967  0.195721  1.000000  0.198568\n",
       "is_ultra  0.207122  0.206955  0.203830  0.198568  1.000000"
      ]
     },
     "execution_count": 117,
     "metadata": {},
     "output_type": "execute_result"
    }
   ],
   "source": [
    "df.corr()"
   ]
  },
  {
   "cell_type": "markdown",
   "metadata": {},
   "source": [
    "Количество минут и Количество звонков имеют сильную взаимную корреляцию."
   ]
  },
  {
   "cell_type": "code",
   "execution_count": 118,
   "metadata": {
    "scrolled": false
   },
   "outputs": [
    {
     "data": {
      "image/png": "[encoded data removed]",
      "text/plain": [
       "<Figure size 864x576 with 6 Axes>"
      ]
     },
     "metadata": {
      "needs_background": "light"
     },
     "output_type": "display_data"
    }
   ],
   "source": [
    "df.hist(bins=30,figsize=[12,8]);"
   ]
  },
  {
   "cell_type": "markdown",
   "metadata": {},
   "source": [
    "Из графика с признаком тарифов видно, что данных для тарифа \"Смарт\" больше в 2 раза, чем для тарифа \"Ульра\", что может сказаться на адекватности результатов предсказания итоговой модели."
   ]
  },
  {
   "cell_type": "markdown",
   "metadata": {},
   "source": [
    "## Разбейте данные на выборки"
   ]
  },
  {
   "cell_type": "markdown",
   "metadata": {},
   "source": [
    "Так как отдельных тестовых данных нет, то разобъем наш единственный датасет на обучающую, тестовую и валидационные выборки в пропорции\n",
    "\n",
    "60 - 20 - 20\n"
   ]
  },
  {
   "cell_type": "code",
   "execution_count": 119,
   "metadata": {},
   "outputs": [],
   "source": [
    "# Делим датасет на features и target\n",
    "features = df.drop(['is_ultra'], axis=1)\n",
    "target = df['is_ultra']\n",
    "\n",
    "# Создаем выборки для обучения/валидациии и для теста со стратификацией\n",
    "features_train_valid, features_test, target_train_valid, target_test = train_test_split(\n",
    "    features, target, test_size=0.2, random_state=12345, stratify=target)\n",
    "\n",
    "# Делим общую выборку для обучения/валидации на части со стратификацией\n",
    "features_train, features_valid, target_train, target_valid = train_test_split(\n",
    "    features_train_valid, target_train_valid, test_size=0.25, random_state=12345, stratify=target_train_valid)\n",
    "\n"
   ]
  },
  {
   "cell_type": "markdown",
   "metadata": {},
   "source": [
    "Проверим, правильно ли разделили выборки"
   ]
  },
  {
   "cell_type": "code",
   "execution_count": 120,
   "metadata": {},
   "outputs": [
    {
     "name": "stdout",
     "output_type": "stream",
     "text": [
      "Кол-во записей в features и target общих данных:  [3214, 3214]\n",
      "Кол-во записей в features и target обучающей выборки:  [1928, 1928]\n",
      "Кол-во записей в features и target валидационной выборки:  [643, 643]\n",
      "Кол-во записей в features и target тестовой выборки:  [643, 643]\n"
     ]
    }
   ],
   "source": [
    "print('Кол-во записей в features и target общих данных: ',[features.shape[0],target.shape[0]])\n",
    "print('Кол-во записей в features и target обучающей выборки: ',[features_train.shape[0],target_train.shape[0]])\n",
    "print('Кол-во записей в features и target валидационной выборки: ',[features_valid.shape[0],target_valid.shape[0]])\n",
    "print('Кол-во записей в features и target тестовой выборки: ',[features_test.shape[0],target_test.shape[0]])"
   ]
  },
  {
   "cell_type": "markdown",
   "metadata": {},
   "source": [
    "## Исследуйте модели"
   ]
  },
  {
   "cell_type": "markdown",
   "metadata": {},
   "source": [
    "Обучим три вида моделей и подберем оптимальные гиперпараметры для каждой.\\\n",
    "Оценивать качество моделей будем метрикой accuracy, потому что нам важна точность предсказания, от этого зависит доход компании."
   ]
  },
  {
   "cell_type": "markdown",
   "metadata": {},
   "source": [
    "### Решающее дерево"
   ]
  },
  {
   "cell_type": "code",
   "execution_count": 121,
   "metadata": {},
   "outputs": [
    {
     "name": "stderr",
     "output_type": "stream",
     "text": [
      "100%|██████████| 100/100 [00:01<00:00, 74.89it/s]"
     ]
    },
    {
     "name": "stdout",
     "output_type": "stream",
     "text": [
      "Accuracy лучшей модели: 0.8164852255054432\n",
      "Глубина лучшей модели: 5\n"
     ]
    },
    {
     "name": "stderr",
     "output_type": "stream",
     "text": [
      "\n"
     ]
    }
   ],
   "source": [
    "best_result = 0\n",
    "depth_list = []\n",
    "accuracy_list = []\n",
    "\n",
    "for depth in tqdm(range(1, 101)):\n",
    "    \n",
    "    model = DecisionTreeClassifier(random_state=12345, max_depth=depth)\n",
    "    model.fit(features_train,target_train)\n",
    "    predictions = model.predict(features_valid)\n",
    "    result = accuracy_score(target_valid, predictions)\n",
    "    \n",
    "    depth_list.append(depth)\n",
    "    accuracy_list.append(result)\n",
    "    \n",
    "    if result > best_result:\n",
    "        best_tree_model = model\n",
    "        best_result = result\n",
    "        best_depth = depth\n",
    "        \n",
    "print(\"Accuracy лучшей модели:\", best_result)\n",
    "print(\"Глубина лучшей модели:\", best_depth)"
   ]
  },
  {
   "cell_type": "code",
   "execution_count": 122,
   "metadata": {
    "scrolled": true
   },
   "outputs": [
    {
     "data": {
      "image/png": "[encoded data removed]",
      "text/plain": [
       "<Figure size 432x288 with 1 Axes>"
      ]
     },
     "metadata": {
      "needs_background": "light"
     },
     "output_type": "display_data"
    }
   ],
   "source": [
    "plt.plot(depth_list,accuracy_list);"
   ]
  },
  {
   "cell_type": "markdown",
   "metadata": {},
   "source": [
    "Пик точности приходится на грубину = 5, затем точность резко падает до 73%.\\\n",
    "Глубина более 26 перестает влиять на точность предсказания."
   ]
  },
  {
   "cell_type": "code",
   "execution_count": 123,
   "metadata": {
    "scrolled": false
   },
   "outputs": [
    {
     "data": {
      "image/png": "[encoded data removed]",
      "text/plain": [
       "<Figure size 432x288 with 1 Axes>"
      ]
     },
     "metadata": {
      "needs_background": "light"
     },
     "output_type": "display_data"
    }
   ],
   "source": [
    "tree.plot_tree(best_tree_model,max_depth=3);"
   ]
  },
  {
   "cell_type": "markdown",
   "metadata": {},
   "source": [
    "### Случайный лес"
   ]
  },
  {
   "cell_type": "code",
   "execution_count": 124,
   "metadata": {},
   "outputs": [
    {
     "name": "stderr",
     "output_type": "stream",
     "text": [
      "100%|██████████| 29/29 [00:32<00:00,  1.12s/it]"
     ]
    },
    {
     "name": "stdout",
     "output_type": "stream",
     "text": [
      "Accuracy лучшей модели: 0.8320373250388803\n",
      "Количество деревьев лучшей модели: 10\n",
      "Глубина лучшей модели: 8\n"
     ]
    },
    {
     "name": "stderr",
     "output_type": "stream",
     "text": [
      "\n"
     ]
    }
   ],
   "source": [
    "best_result = 0\n",
    "\n",
    "depth_list_rf = []\n",
    "accuracy_list_rf = []\n",
    "estimators_list_rf = []\n",
    "\n",
    "for est in tqdm(range(1, 30)):\n",
    "    for depth in range (1,20):\n",
    "\n",
    "        model = RandomForestClassifier(random_state=12345, n_estimators=est, max_depth=depth)\n",
    "        model.fit(features_train,target_train)\n",
    "        predictions = model.predict(features_valid)\n",
    "        result = accuracy_score(target_valid, predictions)\n",
    "\n",
    "        if result > best_result:\n",
    "            best_forest_model = model\n",
    "            best_result = result\n",
    "            best_depth = depth\n",
    "            best_est = est\n",
    "        \n",
    "    accuracy_list_rf.append(best_result)\n",
    "    estimators_list_rf.append(est)\n",
    "        \n",
    "print(\"Accuracy лучшей модели:\", best_result)\n",
    "print(\"Количество деревьев лучшей модели:\", best_est)\n",
    "print(\"Глубина лучшей модели:\", best_depth)"
   ]
  },
  {
   "cell_type": "code",
   "execution_count": 125,
   "metadata": {},
   "outputs": [
    {
     "data": {
      "image/png": "[encoded data removed]",
      "text/plain": [
       "<Figure size 432x288 with 1 Axes>"
      ]
     },
     "metadata": {
      "needs_background": "light"
     },
     "output_type": "display_data"
    }
   ],
   "source": [
    "plt.plot(estimators_list_rf,accuracy_list_rf);"
   ]
  },
  {
   "cell_type": "markdown",
   "metadata": {},
   "source": [
    "Начиная с 10 увеличение количества деревьев не влияет на точность"
   ]
  },
  {
   "cell_type": "markdown",
   "metadata": {},
   "source": [
    "### Логистическая регрессия"
   ]
  },
  {
   "cell_type": "code",
   "execution_count": 126,
   "metadata": {
    "scrolled": false
   },
   "outputs": [
    {
     "name": "stderr",
     "output_type": "stream",
     "text": [
      "100%|██████████| 109/109 [00:03<00:00, 27.58it/s]"
     ]
    },
    {
     "name": "stdout",
     "output_type": "stream",
     "text": [
      "Accuracy лучшей модели: 0.7558320373250389\n",
      "Количество итераций обучения лучшей модели: 1000\n"
     ]
    },
    {
     "name": "stderr",
     "output_type": "stream",
     "text": [
      "\n"
     ]
    }
   ],
   "source": [
    "best_result = 0\n",
    "\n",
    "iter_list_lr = []\n",
    "accuracy_list_lr = []\n",
    "\n",
    "for iter_ in tqdm(range(1000,110000,1000)):\n",
    "\n",
    "    model = LogisticRegression(random_state=12345, solver='lbfgs', max_iter=iter_)\n",
    "    model.fit(features_train,target_train)\n",
    "    predictions = model.predict(features_valid)\n",
    "    result = accuracy_score(target_valid, predictions)\n",
    "    if result > best_result:\n",
    "        best_log_regression_model = model\n",
    "        best_result = result\n",
    "        best_iter = iter_\n",
    "    \n",
    "    iter_list_lr.append(iter_)\n",
    "    accuracy_list_lr.append(result)\n",
    "        \n",
    "print(\"Accuracy лучшей модели:\", best_result)\n",
    "print(\"Количество итераций обучения лучшей модели:\", best_iter)\n"
   ]
  },
  {
   "cell_type": "code",
   "execution_count": 127,
   "metadata": {
    "scrolled": true
   },
   "outputs": [
    {
     "data": {
      "image/png": "[encoded data removed]",
      "text/plain": [
       "<Figure size 432x288 with 1 Axes>"
      ]
     },
     "metadata": {
      "needs_background": "light"
     },
     "output_type": "display_data"
    }
   ],
   "source": [
    "plt.plot(iter_list_lr,accuracy_list_lr);"
   ]
  },
  {
   "cell_type": "markdown",
   "metadata": {},
   "source": [
    "При использовании логистической регрессии, в данном случае нет никакой зависимости от количества итераций более 1000"
   ]
  },
  {
   "cell_type": "markdown",
   "metadata": {},
   "source": [
    "Обучив 3 вида моделей с разными гиперпараметрами очевидно, что модель \"Случайный лес\" - показывает самую высокую точность предсказания.\\\n",
    "Гиперпараметры лучшей модели данного вида:\n",
    "- Количество деревьев: 10\n",
    "- Глубина: 8"
   ]
  },
  {
   "cell_type": "markdown",
   "metadata": {},
   "source": [
    "## Проверьте модель на тестовой выборке"
   ]
  },
  {
   "cell_type": "markdown",
   "metadata": {},
   "source": [
    "Проверим лучшую модель на тестовой выборке"
   ]
  },
  {
   "cell_type": "code",
   "execution_count": 128,
   "metadata": {},
   "outputs": [
    {
     "name": "stdout",
     "output_type": "stream",
     "text": [
      "Accuracy модели: 0.8102643856920684\n"
     ]
    }
   ],
   "source": [
    "predictions_forest = best_forest_model.predict(features_test)\n",
    "result = accuracy_score(target_test, predictions_forest)\n",
    "print(\"Accuracy модели:\", result)"
   ]
  },
  {
   "cell_type": "markdown",
   "metadata": {},
   "source": [
    "Проверка лучшей моделей на тестовой выборке показала точность прогноза = 81%"
   ]
  },
  {
   "cell_type": "code",
   "execution_count": 129,
   "metadata": {},
   "outputs": [
    {
     "name": "stdout",
     "output_type": "stream",
     "text": [
      "Accuracy модели: 0.8149300155520995\n"
     ]
    }
   ],
   "source": [
    "model_plus = RandomForestClassifier(random_state=12345, n_estimators=10, max_depth=8)\n",
    "\n",
    "train_val_features = pd.concat([features_train,features_valid])\n",
    "train_val_target = pd.concat([target_train,target_valid])\n",
    "\n",
    "model_plus.fit(train_val_features,train_val_target)\n",
    "predictions = model_plus.predict(features_test)\n",
    "\n",
    "result = accuracy_score(target_test, predictions)\n",
    "print(\"Accuracy модели:\", result)"
   ]
  },
  {
   "cell_type": "markdown",
   "metadata": {},
   "source": [
    "Если обучить нашу лучшую модель с оптимальными гиперпараметрами на обучающей + валидационной выборке, то получим увеличение точности на 0,5%, итого - 81,5% (при целевой 75%, цель достигнута)"
   ]
  },
  {
   "cell_type": "markdown",
   "metadata": {},
   "source": [
    "## (бонус) Проверьте модели на адекватность"
   ]
  },
  {
   "cell_type": "markdown",
   "metadata": {},
   "source": [
    "Проверим точность лучшей модели, подавая на вход данные только тарифа \"Смарт\" (значение \"0\")"
   ]
  },
  {
   "cell_type": "code",
   "execution_count": 138,
   "metadata": {},
   "outputs": [
    {
     "name": "stdout",
     "output_type": "stream",
     "text": [
      "Accuracy модели: 0.9506726457399103\n"
     ]
    }
   ],
   "source": [
    "df_zero = df.loc[df.is_ultra == 0]\n",
    "\n",
    "# Делим датасет на features и target\n",
    "features_zero = df_zero.drop(['is_ultra'], axis=1)\n",
    "target_zero = df_zero['is_ultra']\n",
    "\n",
    "# Создаем выборки для обучения/валидациии и для теста со стратификацией\n",
    "features_train_valid, features_zero_test, target_train_valid, target_zero_test = train_test_split(\n",
    "    features_zero, target_zero, test_size=0.2, random_state=12345, stratify=target_zero)\n",
    "\n",
    "\n",
    "model_plus.fit(train_val_features,train_val_target)\n",
    "predictions = model_plus.predict(features_zero_test)\n",
    "\n",
    "result = accuracy_score(target_zero_test, predictions)\n",
    "print(\"Accuracy модели:\", result)"
   ]
  },
  {
   "cell_type": "markdown",
   "metadata": {},
   "source": [
    "Проверим точность лучшей модели, подавая на вход данные только тарифа \"Ультра\" (значение \"1\")"
   ]
  },
  {
   "cell_type": "code",
   "execution_count": 139,
   "metadata": {},
   "outputs": [
    {
     "name": "stdout",
     "output_type": "stream",
     "text": [
      "Accuracy модели: 0.5888324873096447\n"
     ]
    }
   ],
   "source": [
    "df_one = df.loc[df.is_ultra == 1]\n",
    "\n",
    "# Делим датасет на features и target\n",
    "features_one = df_one.drop(['is_ultra'], axis=1)\n",
    "target_one = df_one['is_ultra']\n",
    "\n",
    "# Создаем выборки для обучения/валидациии и для теста со стратификацией\n",
    "features_train_valid, features_one_test, target_train_valid, target_one_test = train_test_split(\n",
    "    features_one, target_one, test_size=0.2, random_state=12345, stratify=target_one)\n",
    "\n",
    "\n",
    "model_plus.fit(train_val_features,train_val_target)\n",
    "predictions = model_plus.predict(features_one_test)\n",
    "\n",
    "result = accuracy_score(target_one_test, predictions)\n",
    "print(\"Accuracy модели:\", result)"
   ]
  },
  {
   "cell_type": "markdown",
   "metadata": {},
   "source": [
    "Как видно из значений точности из-за дисбаланса в количестве объектов двух тарифов модель намного лучше предсказывает для тарифа \"Смарт\"."
   ]
  }
 ],
 "metadata": {
  "ExecuteTimeLog": [
   {
    "duration": 399,
    "start_time": "2023-03-26T12:03:47.078Z"
   },
   {
    "duration": 2,
    "start_time": "2023-03-26T12:03:50.389Z"
   },
   {
    "duration": 74,
    "start_time": "2023-03-26T12:04:12.961Z"
   },
   {
    "duration": 16,
    "start_time": "2023-03-26T12:04:25.631Z"
   },
   {
    "duration": 12,
    "start_time": "2023-03-26T12:04:37.309Z"
   },
   {
    "duration": 852,
    "start_time": "2023-03-26T12:04:55.896Z"
   },
   {
    "duration": 444,
    "start_time": "2023-03-26T12:05:10.189Z"
   },
   {
    "duration": 506,
    "start_time": "2023-03-26T12:05:23.453Z"
   },
   {
    "duration": 786,
    "start_time": "2023-03-26T12:05:44.481Z"
   },
   {
    "duration": 522,
    "start_time": "2023-03-26T12:05:52.347Z"
   },
   {
    "duration": 81,
    "start_time": "2023-03-26T12:06:25.199Z"
   },
   {
    "duration": 16,
    "start_time": "2023-03-26T12:07:57.610Z"
   },
   {
    "duration": 16,
    "start_time": "2023-03-26T12:08:15.430Z"
   },
   {
    "duration": 638,
    "start_time": "2023-03-26T12:08:58.185Z"
   },
   {
    "duration": 9,
    "start_time": "2023-03-26T12:11:39.712Z"
   },
   {
    "duration": 147,
    "start_time": "2023-03-26T12:11:57.564Z"
   },
   {
    "duration": 108,
    "start_time": "2023-03-26T12:12:23.889Z"
   },
   {
    "duration": 85,
    "start_time": "2023-03-26T12:12:29.228Z"
   },
   {
    "duration": 325,
    "start_time": "2023-03-26T12:12:48.204Z"
   },
   {
    "duration": 111,
    "start_time": "2023-03-26T12:13:20.366Z"
   },
   {
    "duration": 96,
    "start_time": "2023-03-26T12:13:29.693Z"
   },
   {
    "duration": 10,
    "start_time": "2023-03-26T12:15:04.248Z"
   },
   {
    "duration": 9,
    "start_time": "2023-03-26T12:17:30.020Z"
   },
   {
    "duration": 9,
    "start_time": "2023-03-26T12:17:41.661Z"
   },
   {
    "duration": 8,
    "start_time": "2023-03-26T12:17:46.721Z"
   },
   {
    "duration": 7,
    "start_time": "2023-03-26T12:17:50.414Z"
   },
   {
    "duration": 8,
    "start_time": "2023-03-26T12:17:56.916Z"
   },
   {
    "duration": 6,
    "start_time": "2023-03-26T12:18:24.283Z"
   },
   {
    "duration": 8,
    "start_time": "2023-03-26T12:18:32.098Z"
   },
   {
    "duration": 9,
    "start_time": "2023-03-26T12:19:03.774Z"
   },
   {
    "duration": 9,
    "start_time": "2023-03-26T12:19:20.088Z"
   },
   {
    "duration": 6,
    "start_time": "2023-03-26T12:19:37.583Z"
   },
   {
    "duration": 7,
    "start_time": "2023-03-26T12:19:42.893Z"
   },
   {
    "duration": 4,
    "start_time": "2023-03-26T12:19:48.086Z"
   },
   {
    "duration": 8,
    "start_time": "2023-03-26T12:19:52.127Z"
   },
   {
    "duration": 785,
    "start_time": "2023-03-26T12:49:58.548Z"
   },
   {
    "duration": 4,
    "start_time": "2023-03-26T15:04:35.946Z"
   },
   {
    "duration": 4,
    "start_time": "2023-03-26T15:04:38.698Z"
   },
   {
    "duration": 13,
    "start_time": "2023-03-26T15:07:30.890Z"
   },
   {
    "duration": 3,
    "start_time": "2023-03-26T15:08:25.730Z"
   },
   {
    "duration": 13,
    "start_time": "2023-03-26T15:08:30.448Z"
   },
   {
    "duration": 13,
    "start_time": "2023-03-26T15:08:37.165Z"
   },
   {
    "duration": 3,
    "start_time": "2023-03-26T15:08:45.265Z"
   },
   {
    "duration": 13,
    "start_time": "2023-03-26T15:08:46.718Z"
   },
   {
    "duration": 13,
    "start_time": "2023-03-26T15:08:49.565Z"
   },
   {
    "duration": 48,
    "start_time": "2023-03-26T15:22:30.345Z"
   },
   {
    "duration": 9,
    "start_time": "2023-03-26T15:22:52.213Z"
   },
   {
    "duration": 36,
    "start_time": "2023-03-26T15:27:20.065Z"
   },
   {
    "duration": 3,
    "start_time": "2023-03-26T15:30:19.424Z"
   },
   {
    "duration": 179,
    "start_time": "2023-03-26T15:36:53.429Z"
   },
   {
    "duration": 215,
    "start_time": "2023-03-26T15:37:02.342Z"
   },
   {
    "duration": 1314,
    "start_time": "2023-03-26T15:37:08.346Z"
   },
   {
    "duration": 66,
    "start_time": "2023-03-26T15:37:15.343Z"
   },
   {
    "duration": 74,
    "start_time": "2023-03-26T15:41:11.348Z"
   },
   {
    "duration": 67,
    "start_time": "2023-03-26T15:41:33.865Z"
   },
   {
    "duration": 15,
    "start_time": "2023-03-26T15:43:51.542Z"
   },
   {
    "duration": 10,
    "start_time": "2023-03-26T15:44:01.405Z"
   },
   {
    "duration": 49064,
    "start_time": "2023-03-26T15:44:05.909Z"
   },
   {
    "duration": 1354,
    "start_time": "2023-03-26T15:44:59.635Z"
   },
   {
    "duration": 2,
    "start_time": "2023-03-26T15:45:46.531Z"
   },
   {
    "duration": 59677,
    "start_time": "2023-03-26T15:46:11.251Z"
   },
   {
    "duration": 5029,
    "start_time": "2023-03-26T15:47:15.412Z"
   },
   {
    "duration": 11132,
    "start_time": "2023-03-26T15:47:28.474Z"
   },
   {
    "duration": 19111,
    "start_time": "2023-03-26T15:47:47.152Z"
   },
   {
    "duration": 4858,
    "start_time": "2023-03-26T15:48:15.128Z"
   },
   {
    "duration": 3,
    "start_time": "2023-03-26T15:49:30.836Z"
   },
   {
    "duration": 693,
    "start_time": "2023-03-26T16:03:20.748Z"
   },
   {
    "duration": 5,
    "start_time": "2023-03-26T16:04:27.610Z"
   },
   {
    "duration": 2355,
    "start_time": "2023-03-26T16:06:22.787Z"
   },
   {
    "duration": 2862,
    "start_time": "2023-03-26T16:06:52.487Z"
   },
   {
    "duration": 26283,
    "start_time": "2023-03-26T16:07:10.171Z"
   },
   {
    "duration": 54,
    "start_time": "2023-03-26T16:46:43.642Z"
   },
   {
    "duration": 1149,
    "start_time": "2023-03-26T16:46:48.914Z"
   },
   {
    "duration": 77,
    "start_time": "2023-03-26T16:46:50.064Z"
   },
   {
    "duration": 15,
    "start_time": "2023-03-26T16:46:50.142Z"
   },
   {
    "duration": 10,
    "start_time": "2023-03-26T16:46:50.159Z"
   },
   {
    "duration": 1052,
    "start_time": "2023-03-26T16:46:50.171Z"
   },
   {
    "duration": 17,
    "start_time": "2023-03-26T16:46:51.225Z"
   },
   {
    "duration": 154,
    "start_time": "2023-03-26T16:46:51.244Z"
   },
   {
    "duration": 5222,
    "start_time": "2023-03-26T16:46:51.399Z"
   },
   {
    "duration": 1118,
    "start_time": "2023-03-26T16:46:56.623Z"
   },
   {
    "duration": 5275,
    "start_time": "2023-03-26T16:47:15.881Z"
   },
   {
    "duration": 14454,
    "start_time": "2023-03-26T16:47:42.401Z"
   },
   {
    "duration": 5319,
    "start_time": "2023-03-26T16:48:04.894Z"
   },
   {
    "duration": 1657,
    "start_time": "2023-03-26T16:48:40.089Z"
   },
   {
    "duration": 6,
    "start_time": "2023-03-26T16:50:56.001Z"
   },
   {
    "duration": 11,
    "start_time": "2023-03-26T16:52:19.835Z"
   },
   {
    "duration": 6,
    "start_time": "2023-03-26T16:52:36.476Z"
   },
   {
    "duration": 71,
    "start_time": "2023-03-26T17:02:44.318Z"
   },
   {
    "duration": 5,
    "start_time": "2023-03-26T17:09:55.918Z"
   },
   {
    "duration": 13,
    "start_time": "2023-03-26T17:10:03.275Z"
   },
   {
    "duration": 6,
    "start_time": "2023-03-26T17:10:11.590Z"
   },
   {
    "duration": 5,
    "start_time": "2023-03-26T17:10:20.338Z"
   },
   {
    "duration": 85,
    "start_time": "2023-03-26T17:11:36.918Z"
   },
   {
    "duration": 11,
    "start_time": "2023-03-26T17:12:46.000Z"
   },
   {
    "duration": 26,
    "start_time": "2023-03-26T17:12:50.659Z"
   },
   {
    "duration": 68,
    "start_time": "2023-03-26T17:14:31.173Z"
   },
   {
    "duration": 3,
    "start_time": "2023-03-26T17:15:12.590Z"
   },
   {
    "duration": 15,
    "start_time": "2023-03-26T17:15:17.311Z"
   },
   {
    "duration": 6,
    "start_time": "2023-03-26T17:16:46.342Z"
   },
   {
    "duration": 15,
    "start_time": "2023-03-26T17:17:01.714Z"
   },
   {
    "duration": 16,
    "start_time": "2023-03-26T17:17:05.251Z"
   },
   {
    "duration": 3,
    "start_time": "2023-03-26T17:18:14.105Z"
   },
   {
    "duration": 4,
    "start_time": "2023-03-26T17:18:16.713Z"
   },
   {
    "duration": 5,
    "start_time": "2023-03-26T17:18:47.609Z"
   },
   {
    "duration": 14,
    "start_time": "2023-03-26T17:18:52.609Z"
   },
   {
    "duration": 23,
    "start_time": "2023-03-26T17:20:46.519Z"
   },
   {
    "duration": 6,
    "start_time": "2023-03-26T17:22:29.780Z"
   },
   {
    "duration": 3,
    "start_time": "2023-03-26T17:22:50.264Z"
   },
   {
    "duration": 30,
    "start_time": "2023-03-26T17:22:50.269Z"
   },
   {
    "duration": 8,
    "start_time": "2023-03-26T17:22:50.301Z"
   },
   {
    "duration": 12,
    "start_time": "2023-03-26T17:22:50.310Z"
   },
   {
    "duration": 604,
    "start_time": "2023-03-26T17:22:50.324Z"
   },
   {
    "duration": 14,
    "start_time": "2023-03-26T17:22:50.929Z"
   },
   {
    "duration": 73,
    "start_time": "2023-03-26T17:22:50.944Z"
   },
   {
    "duration": 5119,
    "start_time": "2023-03-26T17:22:51.018Z"
   },
   {
    "duration": 1807,
    "start_time": "2023-03-26T17:22:56.138Z"
   },
   {
    "duration": 94,
    "start_time": "2023-03-26T17:22:57.947Z"
   },
   {
    "duration": 98,
    "start_time": "2023-03-26T17:22:58.043Z"
   },
   {
    "duration": 6,
    "start_time": "2023-03-26T17:22:58.142Z"
   },
   {
    "duration": 11,
    "start_time": "2023-03-26T17:30:40.688Z"
   },
   {
    "duration": 4,
    "start_time": "2023-03-26T17:30:49.114Z"
   },
   {
    "duration": 13,
    "start_time": "2023-03-26T17:31:34.369Z"
   },
   {
    "duration": 8,
    "start_time": "2023-03-26T17:31:40.563Z"
   },
   {
    "duration": 10,
    "start_time": "2023-03-26T17:33:50.389Z"
   },
   {
    "duration": 10,
    "start_time": "2023-03-26T17:35:34.288Z"
   },
   {
    "duration": 10,
    "start_time": "2023-03-26T17:35:48.593Z"
   },
   {
    "duration": 5,
    "start_time": "2023-03-26T17:38:16.117Z"
   },
   {
    "duration": 5,
    "start_time": "2023-03-26T17:38:26.400Z"
   },
   {
    "duration": 10,
    "start_time": "2023-03-26T17:38:31.973Z"
   },
   {
    "duration": 9,
    "start_time": "2023-03-26T17:38:48.088Z"
   },
   {
    "duration": 4,
    "start_time": "2023-03-26T17:39:13.662Z"
   },
   {
    "duration": 11,
    "start_time": "2023-03-26T17:42:44.001Z"
   },
   {
    "duration": 11,
    "start_time": "2023-03-26T17:43:07.718Z"
   },
   {
    "duration": 3,
    "start_time": "2023-03-26T17:43:13.705Z"
   },
   {
    "duration": 6,
    "start_time": "2023-03-26T17:43:26.012Z"
   },
   {
    "duration": 6,
    "start_time": "2023-03-26T17:43:43.224Z"
   },
   {
    "duration": 9,
    "start_time": "2023-03-26T17:44:51.721Z"
   },
   {
    "duration": 17,
    "start_time": "2023-03-26T17:45:09.811Z"
   },
   {
    "duration": 13,
    "start_time": "2023-03-26T17:46:53.062Z"
   },
   {
    "duration": 3,
    "start_time": "2023-03-26T17:47:06.402Z"
   },
   {
    "duration": 5,
    "start_time": "2023-03-26T17:47:10.000Z"
   },
   {
    "duration": 14,
    "start_time": "2023-03-26T17:47:26.720Z"
   },
   {
    "duration": 8,
    "start_time": "2023-03-26T17:47:42.667Z"
   },
   {
    "duration": 21,
    "start_time": "2023-03-26T17:49:34.846Z"
   },
   {
    "duration": 111,
    "start_time": "2023-03-26T17:49:49.921Z"
   },
   {
    "duration": 3,
    "start_time": "2023-03-26T17:49:54.866Z"
   },
   {
    "duration": 6,
    "start_time": "2023-03-26T17:49:58.763Z"
   },
   {
    "duration": 7,
    "start_time": "2023-03-26T17:51:35.654Z"
   },
   {
    "duration": 17,
    "start_time": "2023-03-26T17:51:47.475Z"
   },
   {
    "duration": 6,
    "start_time": "2023-03-26T17:51:51.371Z"
   },
   {
    "duration": 4,
    "start_time": "2023-03-26T17:52:16.431Z"
   },
   {
    "duration": 4,
    "start_time": "2023-03-26T17:55:27.252Z"
   },
   {
    "duration": 8,
    "start_time": "2023-03-26T17:55:55.577Z"
   },
   {
    "duration": 5,
    "start_time": "2023-03-26T18:00:34.661Z"
   },
   {
    "duration": 8,
    "start_time": "2023-03-26T18:01:04.789Z"
   },
   {
    "duration": 4,
    "start_time": "2023-03-26T18:01:41.934Z"
   },
   {
    "duration": 10,
    "start_time": "2023-03-26T18:01:42.706Z"
   },
   {
    "duration": 4,
    "start_time": "2023-03-26T18:02:10.092Z"
   },
   {
    "duration": 8,
    "start_time": "2023-03-26T18:02:10.427Z"
   },
   {
    "duration": 12,
    "start_time": "2023-03-26T18:02:27.081Z"
   },
   {
    "duration": 3,
    "start_time": "2023-03-26T18:02:53.731Z"
   },
   {
    "duration": 10,
    "start_time": "2023-03-26T18:02:53.988Z"
   },
   {
    "duration": 6,
    "start_time": "2023-03-26T18:03:11.744Z"
   },
   {
    "duration": 9,
    "start_time": "2023-03-26T18:03:12.256Z"
   },
   {
    "duration": 4,
    "start_time": "2023-03-26T18:03:31.194Z"
   },
   {
    "duration": 4,
    "start_time": "2023-03-26T18:06:04.505Z"
   },
   {
    "duration": 8,
    "start_time": "2023-03-26T18:06:04.767Z"
   },
   {
    "duration": 15,
    "start_time": "2023-03-26T18:07:06.540Z"
   },
   {
    "duration": 9,
    "start_time": "2023-03-26T18:07:08.461Z"
   },
   {
    "duration": 6,
    "start_time": "2023-03-26T18:07:56.460Z"
   },
   {
    "duration": 12,
    "start_time": "2023-03-26T18:07:56.749Z"
   },
   {
    "duration": 7,
    "start_time": "2023-03-26T18:07:56.985Z"
   },
   {
    "duration": 2683,
    "start_time": "2023-03-26T18:40:28.600Z"
   },
   {
    "duration": 40,
    "start_time": "2023-03-26T18:40:31.292Z"
   },
   {
    "duration": 18,
    "start_time": "2023-03-26T18:40:31.334Z"
   },
   {
    "duration": 57,
    "start_time": "2023-03-26T18:40:31.354Z"
   },
   {
    "duration": 1306,
    "start_time": "2023-03-26T18:40:31.415Z"
   },
   {
    "duration": 10,
    "start_time": "2023-03-26T18:40:32.723Z"
   },
   {
    "duration": 203,
    "start_time": "2023-03-26T18:40:32.735Z"
   },
   {
    "duration": 6550,
    "start_time": "2023-03-26T18:40:32.940Z"
   },
   {
    "duration": 11904,
    "start_time": "2023-03-26T18:40:39.492Z"
   },
   {
    "duration": 100,
    "start_time": "2023-03-26T18:40:51.405Z"
   },
   {
    "duration": 58,
    "start_time": "2023-03-26T18:40:51.518Z"
   },
   {
    "duration": 17,
    "start_time": "2023-03-26T18:40:51.585Z"
   },
   {
    "duration": 19,
    "start_time": "2023-03-26T18:40:51.610Z"
   },
   {
    "duration": 10,
    "start_time": "2023-03-26T18:40:51.632Z"
   },
   {
    "duration": 6,
    "start_time": "2023-03-26T18:40:51.644Z"
   },
   {
    "duration": 25,
    "start_time": "2023-03-26T18:40:51.652Z"
   },
   {
    "duration": 25,
    "start_time": "2023-03-26T18:40:51.679Z"
   },
   {
    "duration": 10,
    "start_time": "2023-03-26T18:40:51.706Z"
   },
   {
    "duration": 75,
    "start_time": "2023-03-27T07:33:06.306Z"
   },
   {
    "duration": 1521,
    "start_time": "2023-03-27T07:33:10.714Z"
   },
   {
    "duration": 158,
    "start_time": "2023-03-27T07:33:12.238Z"
   },
   {
    "duration": 20,
    "start_time": "2023-03-27T07:33:12.399Z"
   },
   {
    "duration": 13,
    "start_time": "2023-03-27T07:33:12.422Z"
   },
   {
    "duration": 1421,
    "start_time": "2023-03-27T07:33:12.439Z"
   },
   {
    "duration": 17,
    "start_time": "2023-03-27T07:33:13.861Z"
   },
   {
    "duration": 69,
    "start_time": "2023-03-27T07:33:13.880Z"
   },
   {
    "duration": 5592,
    "start_time": "2023-03-27T07:33:13.950Z"
   },
   {
    "duration": 337,
    "start_time": "2023-03-27T07:33:19.545Z"
   },
   {
    "duration": 7,
    "start_time": "2023-03-27T07:33:19.884Z"
   },
   {
    "duration": 23,
    "start_time": "2023-03-27T07:33:19.893Z"
   },
   {
    "duration": 29,
    "start_time": "2023-03-27T07:33:19.918Z"
   },
   {
    "duration": 113,
    "start_time": "2023-03-27T07:33:19.949Z"
   },
   {
    "duration": 0,
    "start_time": "2023-03-27T07:33:20.066Z"
   },
   {
    "duration": 0,
    "start_time": "2023-03-27T07:33:20.067Z"
   },
   {
    "duration": 0,
    "start_time": "2023-03-27T07:33:20.067Z"
   },
   {
    "duration": 0,
    "start_time": "2023-03-27T07:33:20.072Z"
   },
   {
    "duration": 0,
    "start_time": "2023-03-27T07:33:20.073Z"
   },
   {
    "duration": 776,
    "start_time": "2023-03-27T07:37:53.127Z"
   },
   {
    "duration": 872,
    "start_time": "2023-03-27T07:37:55.922Z"
   },
   {
    "duration": 7,
    "start_time": "2023-03-27T07:39:22.156Z"
   },
   {
    "duration": 979,
    "start_time": "2023-03-27T07:39:25.120Z"
   },
   {
    "duration": 775,
    "start_time": "2023-03-27T07:39:49.417Z"
   },
   {
    "duration": 3,
    "start_time": "2023-03-27T07:39:58.433Z"
   },
   {
    "duration": 16,
    "start_time": "2023-03-27T07:41:27.874Z"
   },
   {
    "duration": 28,
    "start_time": "2023-03-27T07:41:30.694Z"
   },
   {
    "duration": 16,
    "start_time": "2023-03-27T07:42:41.930Z"
   },
   {
    "duration": 15,
    "start_time": "2023-03-27T07:49:09.306Z"
   },
   {
    "duration": 5,
    "start_time": "2023-03-27T07:49:26.805Z"
   },
   {
    "duration": 4,
    "start_time": "2023-03-27T07:50:02.914Z"
   },
   {
    "duration": 5,
    "start_time": "2023-03-27T07:50:43.017Z"
   },
   {
    "duration": 3,
    "start_time": "2023-03-27T07:51:36.471Z"
   },
   {
    "duration": 7,
    "start_time": "2023-03-27T07:52:06.721Z"
   },
   {
    "duration": 6,
    "start_time": "2023-03-27T07:52:38.305Z"
   },
   {
    "duration": 6,
    "start_time": "2023-03-27T07:53:08.471Z"
   },
   {
    "duration": 3,
    "start_time": "2023-03-27T07:56:33.006Z"
   },
   {
    "duration": 59,
    "start_time": "2023-03-27T07:56:33.011Z"
   },
   {
    "duration": 10,
    "start_time": "2023-03-27T07:56:33.072Z"
   },
   {
    "duration": 42,
    "start_time": "2023-03-27T07:56:33.084Z"
   },
   {
    "duration": 33,
    "start_time": "2023-03-27T07:56:33.128Z"
   },
   {
    "duration": 35,
    "start_time": "2023-03-27T07:56:33.163Z"
   },
   {
    "duration": 1001,
    "start_time": "2023-03-27T07:56:33.201Z"
   },
   {
    "duration": 14,
    "start_time": "2023-03-27T07:56:34.205Z"
   },
   {
    "duration": 22,
    "start_time": "2023-03-27T07:56:34.222Z"
   },
   {
    "duration": 114,
    "start_time": "2023-03-27T07:56:34.246Z"
   },
   {
    "duration": 5245,
    "start_time": "2023-03-27T07:56:34.364Z"
   },
   {
    "duration": 314,
    "start_time": "2023-03-27T07:56:39.611Z"
   },
   {
    "duration": 9,
    "start_time": "2023-03-27T07:56:39.927Z"
   },
   {
    "duration": 18,
    "start_time": "2023-03-27T07:56:39.944Z"
   },
   {
    "duration": 0,
    "start_time": "2023-03-27T07:56:39.964Z"
   },
   {
    "duration": 0,
    "start_time": "2023-03-27T07:56:39.967Z"
   },
   {
    "duration": 0,
    "start_time": "2023-03-27T07:56:39.969Z"
   },
   {
    "duration": 0,
    "start_time": "2023-03-27T07:56:39.970Z"
   },
   {
    "duration": 1,
    "start_time": "2023-03-27T07:56:39.973Z"
   },
   {
    "duration": 7,
    "start_time": "2023-03-27T07:59:48.202Z"
   },
   {
    "duration": 68,
    "start_time": "2023-03-27T08:00:40.404Z"
   },
   {
    "duration": 12472,
    "start_time": "2023-03-27T08:01:02.099Z"
   },
   {
    "duration": 12251,
    "start_time": "2023-03-27T08:04:20.129Z"
   },
   {
    "duration": 19,
    "start_time": "2023-03-27T08:05:23.324Z"
   },
   {
    "duration": 12,
    "start_time": "2023-03-27T08:05:42.171Z"
   },
   {
    "duration": 9,
    "start_time": "2023-03-27T08:05:46.800Z"
   },
   {
    "duration": 141,
    "start_time": "2023-03-27T08:05:50.873Z"
   },
   {
    "duration": 256,
    "start_time": "2023-03-27T08:06:10.025Z"
   },
   {
    "duration": 11,
    "start_time": "2023-03-27T08:06:18.016Z"
   },
   {
    "duration": 256,
    "start_time": "2023-03-27T08:06:40.360Z"
   },
   {
    "duration": 165,
    "start_time": "2023-03-27T08:06:54.213Z"
   },
   {
    "duration": 167,
    "start_time": "2023-03-27T08:07:14.927Z"
   },
   {
    "duration": 141,
    "start_time": "2023-03-27T08:07:23.166Z"
   },
   {
    "duration": 11,
    "start_time": "2023-03-27T08:07:31.581Z"
   },
   {
    "duration": 19,
    "start_time": "2023-03-27T08:07:42.162Z"
   },
   {
    "duration": 146,
    "start_time": "2023-03-27T08:08:16.165Z"
   },
   {
    "duration": 1089,
    "start_time": "2023-03-27T08:08:40.565Z"
   },
   {
    "duration": 1086,
    "start_time": "2023-03-27T08:08:56.800Z"
   },
   {
    "duration": 130,
    "start_time": "2023-03-27T08:08:58.102Z"
   },
   {
    "duration": 136,
    "start_time": "2023-03-27T08:09:20.368Z"
   },
   {
    "duration": 125,
    "start_time": "2023-03-27T08:09:24.203Z"
   },
   {
    "duration": 1069,
    "start_time": "2023-03-27T08:10:38.131Z"
   },
   {
    "duration": 4991,
    "start_time": "2023-03-27T08:11:12.326Z"
   },
   {
    "duration": 123,
    "start_time": "2023-03-27T08:13:56.465Z"
   },
   {
    "duration": 10,
    "start_time": "2023-03-27T08:14:15.356Z"
   },
   {
    "duration": 449085,
    "start_time": "2023-03-27T08:15:03.132Z"
   },
   {
    "duration": 0,
    "start_time": "2023-03-27T08:22:32.219Z"
   },
   {
    "duration": 0,
    "start_time": "2023-03-27T08:22:32.220Z"
   },
   {
    "duration": 0,
    "start_time": "2023-03-27T08:22:32.221Z"
   },
   {
    "duration": 12724,
    "start_time": "2023-03-27T08:22:46.407Z"
   },
   {
    "duration": 154,
    "start_time": "2023-03-27T08:23:04.557Z"
   },
   {
    "duration": 139,
    "start_time": "2023-03-27T08:23:13.129Z"
   },
   {
    "duration": 13042,
    "start_time": "2023-03-27T08:23:39.688Z"
   },
   {
    "duration": 160,
    "start_time": "2023-03-27T08:23:55.766Z"
   },
   {
    "duration": 139,
    "start_time": "2023-03-27T08:23:58.388Z"
   },
   {
    "duration": 13219,
    "start_time": "2023-03-27T08:25:18.538Z"
   },
   {
    "duration": 29034,
    "start_time": "2023-03-27T08:25:33.287Z"
   },
   {
    "duration": 149,
    "start_time": "2023-03-27T08:26:02.324Z"
   },
   {
    "duration": 0,
    "start_time": "2023-03-27T08:26:02.475Z"
   },
   {
    "duration": 177,
    "start_time": "2023-03-27T08:26:12.111Z"
   },
   {
    "duration": 140,
    "start_time": "2023-03-27T08:28:07.843Z"
   },
   {
    "duration": 28467,
    "start_time": "2023-03-27T08:28:25.115Z"
   },
   {
    "duration": 30345,
    "start_time": "2023-03-27T08:30:37.487Z"
   },
   {
    "duration": 141,
    "start_time": "2023-03-27T08:31:10.465Z"
   },
   {
    "duration": 5,
    "start_time": "2023-03-27T08:34:50.117Z"
   },
   {
    "duration": 1921,
    "start_time": "2023-03-27T08:35:39.620Z"
   },
   {
    "duration": 1063,
    "start_time": "2023-03-27T08:36:05.586Z"
   },
   {
    "duration": 1044,
    "start_time": "2023-03-27T08:36:16.744Z"
   },
   {
    "duration": 497,
    "start_time": "2023-03-27T08:36:23.349Z"
   },
   {
    "duration": 963,
    "start_time": "2023-03-27T08:36:41.440Z"
   },
   {
    "duration": 1090,
    "start_time": "2023-03-27T08:37:36.061Z"
   },
   {
    "duration": 1146,
    "start_time": "2023-03-27T08:38:15.559Z"
   },
   {
    "duration": 1069,
    "start_time": "2023-03-27T08:38:30.982Z"
   },
   {
    "duration": 26,
    "start_time": "2023-03-27T08:41:15.992Z"
   },
   {
    "duration": 71,
    "start_time": "2023-03-27T08:41:21.035Z"
   },
   {
    "duration": 322,
    "start_time": "2023-03-27T08:41:38.656Z"
   },
   {
    "duration": 3976,
    "start_time": "2023-03-27T08:41:48.112Z"
   },
   {
    "duration": 135,
    "start_time": "2023-03-27T08:42:15.257Z"
   },
   {
    "duration": 1576,
    "start_time": "2023-03-27T08:49:23.968Z"
   },
   {
    "duration": 150,
    "start_time": "2023-03-27T08:49:26.880Z"
   },
   {
    "duration": 1194,
    "start_time": "2023-03-27T08:49:43.160Z"
   },
   {
    "duration": 142,
    "start_time": "2023-03-27T08:49:46.789Z"
   },
   {
    "duration": 10,
    "start_time": "2023-03-27T09:10:01.748Z"
   },
   {
    "duration": 18,
    "start_time": "2023-03-27T09:15:17.898Z"
   },
   {
    "duration": 21,
    "start_time": "2023-03-27T09:15:37.907Z"
   },
   {
    "duration": 57,
    "start_time": "2023-03-27T09:16:22.405Z"
   },
   {
    "duration": 14,
    "start_time": "2023-03-27T09:21:30.767Z"
   },
   {
    "duration": 54,
    "start_time": "2023-03-27T09:26:53.865Z"
   },
   {
    "duration": 5,
    "start_time": "2023-03-27T09:26:58.940Z"
   },
   {
    "duration": 56,
    "start_time": "2023-03-27T09:26:58.948Z"
   },
   {
    "duration": 13,
    "start_time": "2023-03-27T09:26:59.015Z"
   },
   {
    "duration": 16,
    "start_time": "2023-03-27T09:26:59.030Z"
   },
   {
    "duration": 49,
    "start_time": "2023-03-27T09:26:59.048Z"
   },
   {
    "duration": 11,
    "start_time": "2023-03-27T09:26:59.099Z"
   },
   {
    "duration": 801,
    "start_time": "2023-03-27T09:26:59.112Z"
   },
   {
    "duration": 11,
    "start_time": "2023-03-27T09:26:59.915Z"
   },
   {
    "duration": 22,
    "start_time": "2023-03-27T09:26:59.927Z"
   },
   {
    "duration": 1366,
    "start_time": "2023-03-27T09:26:59.951Z"
   },
   {
    "duration": 176,
    "start_time": "2023-03-27T09:27:01.319Z"
   },
   {
    "duration": 1262,
    "start_time": "2023-03-27T09:27:01.498Z"
   },
   {
    "duration": 32631,
    "start_time": "2023-03-27T09:27:02.763Z"
   },
   {
    "duration": 177,
    "start_time": "2023-03-27T09:27:35.396Z"
   },
   {
    "duration": 3964,
    "start_time": "2023-03-27T09:27:35.577Z"
   },
   {
    "duration": 139,
    "start_time": "2023-03-27T09:27:39.547Z"
   },
   {
    "duration": 11,
    "start_time": "2023-03-27T09:27:39.688Z"
   },
   {
    "duration": 79,
    "start_time": "2023-03-27T09:27:39.702Z"
   },
   {
    "duration": 48,
    "start_time": "2023-03-27T09:27:39.783Z"
   },
   {
    "duration": 15,
    "start_time": "2023-03-27T09:29:22.941Z"
   },
   {
    "duration": 147,
    "start_time": "2023-03-27T09:30:09.793Z"
   },
   {
    "duration": 19,
    "start_time": "2023-03-27T09:30:14.206Z"
   },
   {
    "duration": 55,
    "start_time": "2023-03-27T09:31:20.546Z"
   },
   {
    "duration": 66,
    "start_time": "2023-03-27T09:32:04.339Z"
   },
   {
    "duration": 64,
    "start_time": "2023-03-27T09:33:36.101Z"
   },
   {
    "duration": 55,
    "start_time": "2023-03-27T09:33:38.128Z"
   },
   {
    "duration": 55,
    "start_time": "2023-03-27T09:33:59.739Z"
   },
   {
    "duration": 52,
    "start_time": "2023-03-27T09:34:01.465Z"
   },
   {
    "duration": 16,
    "start_time": "2023-03-27T10:15:06.510Z"
   },
   {
    "duration": 1221,
    "start_time": "2023-03-27T10:15:27.746Z"
   }
  ],
  "kernelspec": {
   "display_name": "Python 3 (ipykernel)",
   "language": "python",
   "name": "python3"
  },
  "language_info": {
   "codemirror_mode": {
    "name": "ipython",
    "version": 3
   },
   "file_extension": ".py",
   "mimetype": "text/x-python",
   "name": "python",
   "nbconvert_exporter": "python",
   "pygments_lexer": "ipython3",
   "version": "3.11.3"
  },
  "toc": {
   "base_numbering": 1,
   "nav_menu": {},
   "number_sections": true,
   "sideBar": true,
   "skip_h1_title": true,
   "title_cell": "Table of Contents",
   "title_sidebar": "Contents",
   "toc_cell": false,
   "toc_position": {},
   "toc_section_display": true,
   "toc_window_display": false
  }
 },
 "nbformat": 4,
 "nbformat_minor": 2
}
