{
 "cells": [
  {
   "cell_type": "markdown",
   "id": "4f11de00",
   "metadata": {
    "deletable": false,
    "editable": false,
    "id": "4f11de00"
   },
   "source": [
    "# Исследование надежности заемщиков"
   ]
  },
  {
   "cell_type": "markdown",
   "id": "f09d6878",
   "metadata": {
    "deletable": false,
    "editable": false,
    "id": "f09d6878"
   },
   "source": [
    "Это первая часть проекта, она будет проверена автоматически. Вторую часть проверит ревьюер. "
   ]
  },
  {
   "cell_type": "markdown",
   "id": "516620ee",
   "metadata": {
    "deletable": false,
    "editable": false,
    "id": "516620ee"
   },
   "source": [
    "## Откройте таблицу и изучите общую информацию о данных"
   ]
  },
  {
   "cell_type": "markdown",
   "id": "76a8a9ce",
   "metadata": {
    "deletable": false,
    "editable": false,
    "id": "76a8a9ce",
    "tags": [
     "start_task"
    ]
   },
   "source": [
    "**Задание 1. Импортируйте библиотеку pandas. Считайте данные из csv-файла в датафрейм и сохраните в переменную `data`. Путь к файлу:**\n",
    "\n",
    "`/datasets/data.csv`"
   ]
  },
  {
   "cell_type": "code",
   "execution_count": 1,
   "id": "fab207d0",
   "metadata": {
    "id": "fab207d0"
   },
   "outputs": [],
   "source": [
    "import pandas as pd# импортируйте библиотеку pandas"
   ]
  },
  {
   "cell_type": "code",
   "execution_count": 2,
   "id": "6c82b607",
   "metadata": {
    "id": "6c82b607"
   },
   "outputs": [],
   "source": [
    "data = pd.read_csv('/datasets/data.csv')# прочитайте csv-файл"
   ]
  },
  {
   "cell_type": "markdown",
   "id": "08bbb5b3",
   "metadata": {
    "deletable": false,
    "editable": false,
    "id": "08bbb5b3",
    "tags": [
     "start_task"
    ]
   },
   "source": [
    "**Задание 2. Выведите первые 20 строчек датафрейма `data` на экран.**"
   ]
  },
  {
   "cell_type": "code",
   "execution_count": 3,
   "id": "4ff33b36",
   "metadata": {
    "id": "4ff33b36",
    "scrolled": false
   },
   "outputs": [
    {
     "data": {
      "text/html": [
       "<div>\n",
       "<style scoped>\n",
       "    .dataframe tbody tr th:only-of-type {\n",
       "        vertical-align: middle;\n",
       "    }\n",
       "\n",
       "    .dataframe tbody tr th {\n",
       "        vertical-align: top;\n",
       "    }\n",
       "\n",
       "    .dataframe thead th {\n",
       "        text-align: right;\n",
       "    }\n",
       "</style>\n",
       "<table border=\"1\" class=\"dataframe\">\n",
       "  <thead>\n",
       "    <tr style=\"text-align: right;\">\n",
       "      <th></th>\n",
       "      <th>children</th>\n",
       "      <th>days_employed</th>\n",
       "      <th>dob_years</th>\n",
       "      <th>education</th>\n",
       "      <th>education_id</th>\n",
       "      <th>family_status</th>\n",
       "      <th>family_status_id</th>\n",
       "      <th>gender</th>\n",
       "      <th>income_type</th>\n",
       "      <th>debt</th>\n",
       "      <th>total_income</th>\n",
       "      <th>purpose</th>\n",
       "    </tr>\n",
       "  </thead>\n",
       "  <tbody>\n",
       "    <tr>\n",
       "      <th>0</th>\n",
       "      <td>1</td>\n",
       "      <td>-8437.673028</td>\n",
       "      <td>42</td>\n",
       "      <td>высшее</td>\n",
       "      <td>0</td>\n",
       "      <td>женат / замужем</td>\n",
       "      <td>0</td>\n",
       "      <td>F</td>\n",
       "      <td>сотрудник</td>\n",
       "      <td>0</td>\n",
       "      <td>253875.639453</td>\n",
       "      <td>покупка жилья</td>\n",
       "    </tr>\n",
       "    <tr>\n",
       "      <th>1</th>\n",
       "      <td>1</td>\n",
       "      <td>-4024.803754</td>\n",
       "      <td>36</td>\n",
       "      <td>среднее</td>\n",
       "      <td>1</td>\n",
       "      <td>женат / замужем</td>\n",
       "      <td>0</td>\n",
       "      <td>F</td>\n",
       "      <td>сотрудник</td>\n",
       "      <td>0</td>\n",
       "      <td>112080.014102</td>\n",
       "      <td>приобретение автомобиля</td>\n",
       "    </tr>\n",
       "    <tr>\n",
       "      <th>2</th>\n",
       "      <td>0</td>\n",
       "      <td>-5623.422610</td>\n",
       "      <td>33</td>\n",
       "      <td>Среднее</td>\n",
       "      <td>1</td>\n",
       "      <td>женат / замужем</td>\n",
       "      <td>0</td>\n",
       "      <td>M</td>\n",
       "      <td>сотрудник</td>\n",
       "      <td>0</td>\n",
       "      <td>145885.952297</td>\n",
       "      <td>покупка жилья</td>\n",
       "    </tr>\n",
       "    <tr>\n",
       "      <th>3</th>\n",
       "      <td>3</td>\n",
       "      <td>-4124.747207</td>\n",
       "      <td>32</td>\n",
       "      <td>среднее</td>\n",
       "      <td>1</td>\n",
       "      <td>женат / замужем</td>\n",
       "      <td>0</td>\n",
       "      <td>M</td>\n",
       "      <td>сотрудник</td>\n",
       "      <td>0</td>\n",
       "      <td>267628.550329</td>\n",
       "      <td>дополнительное образование</td>\n",
       "    </tr>\n",
       "    <tr>\n",
       "      <th>4</th>\n",
       "      <td>0</td>\n",
       "      <td>340266.072047</td>\n",
       "      <td>53</td>\n",
       "      <td>среднее</td>\n",
       "      <td>1</td>\n",
       "      <td>гражданский брак</td>\n",
       "      <td>1</td>\n",
       "      <td>F</td>\n",
       "      <td>пенсионер</td>\n",
       "      <td>0</td>\n",
       "      <td>158616.077870</td>\n",
       "      <td>сыграть свадьбу</td>\n",
       "    </tr>\n",
       "    <tr>\n",
       "      <th>5</th>\n",
       "      <td>0</td>\n",
       "      <td>-926.185831</td>\n",
       "      <td>27</td>\n",
       "      <td>высшее</td>\n",
       "      <td>0</td>\n",
       "      <td>гражданский брак</td>\n",
       "      <td>1</td>\n",
       "      <td>M</td>\n",
       "      <td>компаньон</td>\n",
       "      <td>0</td>\n",
       "      <td>255763.565419</td>\n",
       "      <td>покупка жилья</td>\n",
       "    </tr>\n",
       "    <tr>\n",
       "      <th>6</th>\n",
       "      <td>0</td>\n",
       "      <td>-2879.202052</td>\n",
       "      <td>43</td>\n",
       "      <td>высшее</td>\n",
       "      <td>0</td>\n",
       "      <td>женат / замужем</td>\n",
       "      <td>0</td>\n",
       "      <td>F</td>\n",
       "      <td>компаньон</td>\n",
       "      <td>0</td>\n",
       "      <td>240525.971920</td>\n",
       "      <td>операции с жильем</td>\n",
       "    </tr>\n",
       "    <tr>\n",
       "      <th>7</th>\n",
       "      <td>0</td>\n",
       "      <td>-152.779569</td>\n",
       "      <td>50</td>\n",
       "      <td>СРЕДНЕЕ</td>\n",
       "      <td>1</td>\n",
       "      <td>женат / замужем</td>\n",
       "      <td>0</td>\n",
       "      <td>M</td>\n",
       "      <td>сотрудник</td>\n",
       "      <td>0</td>\n",
       "      <td>135823.934197</td>\n",
       "      <td>образование</td>\n",
       "    </tr>\n",
       "    <tr>\n",
       "      <th>8</th>\n",
       "      <td>2</td>\n",
       "      <td>-6929.865299</td>\n",
       "      <td>35</td>\n",
       "      <td>ВЫСШЕЕ</td>\n",
       "      <td>0</td>\n",
       "      <td>гражданский брак</td>\n",
       "      <td>1</td>\n",
       "      <td>F</td>\n",
       "      <td>сотрудник</td>\n",
       "      <td>0</td>\n",
       "      <td>95856.832424</td>\n",
       "      <td>на проведение свадьбы</td>\n",
       "    </tr>\n",
       "    <tr>\n",
       "      <th>9</th>\n",
       "      <td>0</td>\n",
       "      <td>-2188.756445</td>\n",
       "      <td>41</td>\n",
       "      <td>среднее</td>\n",
       "      <td>1</td>\n",
       "      <td>женат / замужем</td>\n",
       "      <td>0</td>\n",
       "      <td>M</td>\n",
       "      <td>сотрудник</td>\n",
       "      <td>0</td>\n",
       "      <td>144425.938277</td>\n",
       "      <td>покупка жилья для семьи</td>\n",
       "    </tr>\n",
       "    <tr>\n",
       "      <th>10</th>\n",
       "      <td>2</td>\n",
       "      <td>-4171.483647</td>\n",
       "      <td>36</td>\n",
       "      <td>высшее</td>\n",
       "      <td>0</td>\n",
       "      <td>женат / замужем</td>\n",
       "      <td>0</td>\n",
       "      <td>M</td>\n",
       "      <td>компаньон</td>\n",
       "      <td>0</td>\n",
       "      <td>113943.491460</td>\n",
       "      <td>покупка недвижимости</td>\n",
       "    </tr>\n",
       "    <tr>\n",
       "      <th>11</th>\n",
       "      <td>0</td>\n",
       "      <td>-792.701887</td>\n",
       "      <td>40</td>\n",
       "      <td>среднее</td>\n",
       "      <td>1</td>\n",
       "      <td>женат / замужем</td>\n",
       "      <td>0</td>\n",
       "      <td>F</td>\n",
       "      <td>сотрудник</td>\n",
       "      <td>0</td>\n",
       "      <td>77069.234271</td>\n",
       "      <td>покупка коммерческой недвижимости</td>\n",
       "    </tr>\n",
       "    <tr>\n",
       "      <th>12</th>\n",
       "      <td>0</td>\n",
       "      <td>NaN</td>\n",
       "      <td>65</td>\n",
       "      <td>среднее</td>\n",
       "      <td>1</td>\n",
       "      <td>гражданский брак</td>\n",
       "      <td>1</td>\n",
       "      <td>M</td>\n",
       "      <td>пенсионер</td>\n",
       "      <td>0</td>\n",
       "      <td>NaN</td>\n",
       "      <td>сыграть свадьбу</td>\n",
       "    </tr>\n",
       "    <tr>\n",
       "      <th>13</th>\n",
       "      <td>0</td>\n",
       "      <td>-1846.641941</td>\n",
       "      <td>54</td>\n",
       "      <td>неоконченное высшее</td>\n",
       "      <td>2</td>\n",
       "      <td>женат / замужем</td>\n",
       "      <td>0</td>\n",
       "      <td>F</td>\n",
       "      <td>сотрудник</td>\n",
       "      <td>0</td>\n",
       "      <td>130458.228857</td>\n",
       "      <td>приобретение автомобиля</td>\n",
       "    </tr>\n",
       "    <tr>\n",
       "      <th>14</th>\n",
       "      <td>0</td>\n",
       "      <td>-1844.956182</td>\n",
       "      <td>56</td>\n",
       "      <td>высшее</td>\n",
       "      <td>0</td>\n",
       "      <td>гражданский брак</td>\n",
       "      <td>1</td>\n",
       "      <td>F</td>\n",
       "      <td>компаньон</td>\n",
       "      <td>1</td>\n",
       "      <td>165127.911772</td>\n",
       "      <td>покупка жилой недвижимости</td>\n",
       "    </tr>\n",
       "    <tr>\n",
       "      <th>15</th>\n",
       "      <td>1</td>\n",
       "      <td>-972.364419</td>\n",
       "      <td>26</td>\n",
       "      <td>среднее</td>\n",
       "      <td>1</td>\n",
       "      <td>женат / замужем</td>\n",
       "      <td>0</td>\n",
       "      <td>F</td>\n",
       "      <td>сотрудник</td>\n",
       "      <td>0</td>\n",
       "      <td>116820.904450</td>\n",
       "      <td>строительство собственной недвижимости</td>\n",
       "    </tr>\n",
       "    <tr>\n",
       "      <th>16</th>\n",
       "      <td>0</td>\n",
       "      <td>-1719.934226</td>\n",
       "      <td>35</td>\n",
       "      <td>среднее</td>\n",
       "      <td>1</td>\n",
       "      <td>женат / замужем</td>\n",
       "      <td>0</td>\n",
       "      <td>F</td>\n",
       "      <td>сотрудник</td>\n",
       "      <td>0</td>\n",
       "      <td>289202.704229</td>\n",
       "      <td>недвижимость</td>\n",
       "    </tr>\n",
       "    <tr>\n",
       "      <th>17</th>\n",
       "      <td>0</td>\n",
       "      <td>-2369.999720</td>\n",
       "      <td>33</td>\n",
       "      <td>высшее</td>\n",
       "      <td>0</td>\n",
       "      <td>гражданский брак</td>\n",
       "      <td>1</td>\n",
       "      <td>M</td>\n",
       "      <td>сотрудник</td>\n",
       "      <td>0</td>\n",
       "      <td>90410.586745</td>\n",
       "      <td>строительство недвижимости</td>\n",
       "    </tr>\n",
       "    <tr>\n",
       "      <th>18</th>\n",
       "      <td>0</td>\n",
       "      <td>400281.136913</td>\n",
       "      <td>53</td>\n",
       "      <td>среднее</td>\n",
       "      <td>1</td>\n",
       "      <td>вдовец / вдова</td>\n",
       "      <td>2</td>\n",
       "      <td>F</td>\n",
       "      <td>пенсионер</td>\n",
       "      <td>0</td>\n",
       "      <td>56823.777243</td>\n",
       "      <td>на покупку подержанного автомобиля</td>\n",
       "    </tr>\n",
       "    <tr>\n",
       "      <th>19</th>\n",
       "      <td>0</td>\n",
       "      <td>-10038.818549</td>\n",
       "      <td>48</td>\n",
       "      <td>СРЕДНЕЕ</td>\n",
       "      <td>1</td>\n",
       "      <td>в разводе</td>\n",
       "      <td>3</td>\n",
       "      <td>F</td>\n",
       "      <td>сотрудник</td>\n",
       "      <td>0</td>\n",
       "      <td>242831.107982</td>\n",
       "      <td>на покупку своего автомобиля</td>\n",
       "    </tr>\n",
       "  </tbody>\n",
       "</table>\n",
       "</div>"
      ],
      "text/plain": [
       "    children  days_employed  dob_years            education  education_id  \\\n",
       "0          1   -8437.673028         42               высшее             0   \n",
       "1          1   -4024.803754         36              среднее             1   \n",
       "2          0   -5623.422610         33              Среднее             1   \n",
       "3          3   -4124.747207         32              среднее             1   \n",
       "4          0  340266.072047         53              среднее             1   \n",
       "5          0    -926.185831         27               высшее             0   \n",
       "6          0   -2879.202052         43               высшее             0   \n",
       "7          0    -152.779569         50              СРЕДНЕЕ             1   \n",
       "8          2   -6929.865299         35               ВЫСШЕЕ             0   \n",
       "9          0   -2188.756445         41              среднее             1   \n",
       "10         2   -4171.483647         36               высшее             0   \n",
       "11         0    -792.701887         40              среднее             1   \n",
       "12         0            NaN         65              среднее             1   \n",
       "13         0   -1846.641941         54  неоконченное высшее             2   \n",
       "14         0   -1844.956182         56               высшее             0   \n",
       "15         1    -972.364419         26              среднее             1   \n",
       "16         0   -1719.934226         35              среднее             1   \n",
       "17         0   -2369.999720         33               высшее             0   \n",
       "18         0  400281.136913         53              среднее             1   \n",
       "19         0  -10038.818549         48              СРЕДНЕЕ             1   \n",
       "\n",
       "       family_status  family_status_id gender income_type  debt  \\\n",
       "0    женат / замужем                 0      F   сотрудник     0   \n",
       "1    женат / замужем                 0      F   сотрудник     0   \n",
       "2    женат / замужем                 0      M   сотрудник     0   \n",
       "3    женат / замужем                 0      M   сотрудник     0   \n",
       "4   гражданский брак                 1      F   пенсионер     0   \n",
       "5   гражданский брак                 1      M   компаньон     0   \n",
       "6    женат / замужем                 0      F   компаньон     0   \n",
       "7    женат / замужем                 0      M   сотрудник     0   \n",
       "8   гражданский брак                 1      F   сотрудник     0   \n",
       "9    женат / замужем                 0      M   сотрудник     0   \n",
       "10   женат / замужем                 0      M   компаньон     0   \n",
       "11   женат / замужем                 0      F   сотрудник     0   \n",
       "12  гражданский брак                 1      M   пенсионер     0   \n",
       "13   женат / замужем                 0      F   сотрудник     0   \n",
       "14  гражданский брак                 1      F   компаньон     1   \n",
       "15   женат / замужем                 0      F   сотрудник     0   \n",
       "16   женат / замужем                 0      F   сотрудник     0   \n",
       "17  гражданский брак                 1      M   сотрудник     0   \n",
       "18    вдовец / вдова                 2      F   пенсионер     0   \n",
       "19         в разводе                 3      F   сотрудник     0   \n",
       "\n",
       "     total_income                                 purpose  \n",
       "0   253875.639453                           покупка жилья  \n",
       "1   112080.014102                 приобретение автомобиля  \n",
       "2   145885.952297                           покупка жилья  \n",
       "3   267628.550329              дополнительное образование  \n",
       "4   158616.077870                         сыграть свадьбу  \n",
       "5   255763.565419                           покупка жилья  \n",
       "6   240525.971920                       операции с жильем  \n",
       "7   135823.934197                             образование  \n",
       "8    95856.832424                   на проведение свадьбы  \n",
       "9   144425.938277                 покупка жилья для семьи  \n",
       "10  113943.491460                    покупка недвижимости  \n",
       "11   77069.234271       покупка коммерческой недвижимости  \n",
       "12            NaN                         сыграть свадьбу  \n",
       "13  130458.228857                 приобретение автомобиля  \n",
       "14  165127.911772              покупка жилой недвижимости  \n",
       "15  116820.904450  строительство собственной недвижимости  \n",
       "16  289202.704229                            недвижимость  \n",
       "17   90410.586745              строительство недвижимости  \n",
       "18   56823.777243      на покупку подержанного автомобиля  \n",
       "19  242831.107982            на покупку своего автомобиля  "
      ]
     },
     "execution_count": 3,
     "metadata": {},
     "output_type": "execute_result"
    }
   ],
   "source": [
    "data.head(20)# ваш код здесь"
   ]
  },
  {
   "cell_type": "markdown",
   "id": "c8f382ae",
   "metadata": {
    "deletable": false,
    "editable": false,
    "id": "c8f382ae",
    "tags": [
     "start_task"
    ]
   },
   "source": [
    "**Задание 3. Выведите основную информацию о датафрейме с помощью метода `info()`.**"
   ]
  },
  {
   "cell_type": "code",
   "execution_count": 4,
   "id": "e1ed9908",
   "metadata": {
    "id": "e1ed9908",
    "scrolled": false
   },
   "outputs": [
    {
     "name": "stdout",
     "output_type": "stream",
     "text": [
      "<class 'pandas.core.frame.DataFrame'>\n",
      "RangeIndex: 21525 entries, 0 to 21524\n",
      "Data columns (total 12 columns):\n",
      " #   Column            Non-Null Count  Dtype  \n",
      "---  ------            --------------  -----  \n",
      " 0   children          21525 non-null  int64  \n",
      " 1   days_employed     19351 non-null  float64\n",
      " 2   dob_years         21525 non-null  int64  \n",
      " 3   education         21525 non-null  object \n",
      " 4   education_id      21525 non-null  int64  \n",
      " 5   family_status     21525 non-null  object \n",
      " 6   family_status_id  21525 non-null  int64  \n",
      " 7   gender            21525 non-null  object \n",
      " 8   income_type       21525 non-null  object \n",
      " 9   debt              21525 non-null  int64  \n",
      " 10  total_income      19351 non-null  float64\n",
      " 11  purpose           21525 non-null  object \n",
      "dtypes: float64(2), int64(5), object(5)\n",
      "memory usage: 2.0+ MB\n"
     ]
    }
   ],
   "source": [
    "data.info()# ваш код здесь"
   ]
  },
  {
   "cell_type": "markdown",
   "id": "f969a1cd",
   "metadata": {
    "deletable": false,
    "editable": false,
    "id": "f969a1cd"
   },
   "source": [
    "## Предобработка данных"
   ]
  },
  {
   "cell_type": "markdown",
   "id": "7283e864",
   "metadata": {
    "deletable": false,
    "editable": false,
    "id": "7283e864"
   },
   "source": [
    "### Удаление пропусков"
   ]
  },
  {
   "cell_type": "markdown",
   "id": "c9a0745e",
   "metadata": {
    "deletable": false,
    "editable": false,
    "id": "c9a0745e",
    "tags": [
     "start_task"
    ]
   },
   "source": [
    "**Задание 4. Выведите количество пропущенных значений для каждого столбца. Используйте комбинацию двух методов.**"
   ]
  },
  {
   "cell_type": "code",
   "execution_count": 5,
   "id": "b7a096e1",
   "metadata": {
    "id": "b7a096e1",
    "scrolled": false
   },
   "outputs": [
    {
     "data": {
      "text/plain": [
       "children               0\n",
       "days_employed       2174\n",
       "dob_years              0\n",
       "education              0\n",
       "education_id           0\n",
       "family_status          0\n",
       "family_status_id       0\n",
       "gender                 0\n",
       "income_type            0\n",
       "debt                   0\n",
       "total_income        2174\n",
       "purpose                0\n",
       "dtype: int64"
      ]
     },
     "execution_count": 5,
     "metadata": {},
     "output_type": "execute_result"
    }
   ],
   "source": [
    "data.isna().sum()# ваш код здесь"
   ]
  },
  {
   "cell_type": "markdown",
   "id": "c2578616",
   "metadata": {
    "deletable": false,
    "editable": false,
    "id": "c2578616",
    "tags": [
     "start_task"
    ]
   },
   "source": [
    "**Задание 5. В двух столбцах есть пропущенные значения. Один из них — `days_employed`. Пропуски в этом столбце вы обработаете на следующем этапе. Другой столбец с пропущенными значениями — `total_income` — хранит данные о доходах. На сумму дохода сильнее всего влияет тип занятости, поэтому заполнить пропуски в этом столбце нужно медианным значением по каждому типу из столбца `income_type`. Например, у человека с типом занятости `сотрудник` пропуск в столбце `total_income` должен быть заполнен медианным доходом среди всех записей с тем же типом.**"
   ]
  },
  {
   "cell_type": "code",
   "execution_count": 6,
   "id": "e8afc4bc",
   "metadata": {
    "id": "e8afc4bc",
    "scrolled": true
   },
   "outputs": [],
   "source": [
    "# ваш код здесь\n",
    "median_group_total = data.groupby('income_type')['total_income'].median()\n",
    "\n",
    "for i in range(data.shape[0]):\n",
    "    if pd.isna(data.loc[i,'total_income']):\n",
    "        data.loc[i,'total_income'] = median_group_total.loc[data.loc[i,'income_type']]"
   ]
  },
  {
   "cell_type": "markdown",
   "id": "ae986d46",
   "metadata": {
    "deletable": false,
    "editable": false,
    "id": "ae986d46"
   },
   "source": [
    "### Обработка аномальных значений"
   ]
  },
  {
   "cell_type": "markdown",
   "id": "b049cbae",
   "metadata": {
    "deletable": false,
    "editable": false,
    "id": "b049cbae",
    "tags": [
     "start_task"
    ]
   },
   "source": [
    "**Задание 6. В данных могут встречаться артефакты (аномалии) — значения, которые не отражают действительность и появились по какой-то ошибке. Таким артефактом будет отрицательное количество дней трудового стажа в столбце `days_employed`. Для реальных данных это нормально. Обработайте значения в этом столбце: замените все отрицательные значения положительными с помощью метода `abs()`.**"
   ]
  },
  {
   "cell_type": "code",
   "execution_count": 7,
   "id": "187779b0",
   "metadata": {
    "id": "187779b0"
   },
   "outputs": [],
   "source": [
    "# ваш код здесь\n",
    "data['days_employed'] = data['days_employed'].abs()"
   ]
  },
  {
   "cell_type": "markdown",
   "id": "a13054c2",
   "metadata": {
    "deletable": false,
    "editable": false,
    "id": "a13054c2",
    "tags": [
     "start_task"
    ]
   },
   "source": [
    "**Задание 7. Для каждого типа занятости выведите медианное значение трудового стажа `days_employed` в днях.**"
   ]
  },
  {
   "cell_type": "code",
   "execution_count": 8,
   "id": "f3f5810c",
   "metadata": {
    "id": "f3f5810c"
   },
   "outputs": [
    {
     "data": {
      "text/plain": [
       "income_type\n",
       "безработный        366413.652744\n",
       "в декрете            3296.759962\n",
       "госслужащий          2689.368353\n",
       "компаньон            1547.382223\n",
       "пенсионер          365213.306266\n",
       "предприниматель       520.848083\n",
       "сотрудник            1574.202821\n",
       "студент               578.751554\n",
       "Name: days_employed, dtype: float64"
      ]
     },
     "execution_count": 8,
     "metadata": {},
     "output_type": "execute_result"
    }
   ],
   "source": [
    "# ваш код здесь\n",
    "data.groupby('income_type')['days_employed'].median()"
   ]
  },
  {
   "cell_type": "markdown",
   "id": "dbc3168c",
   "metadata": {
    "deletable": false,
    "editable": false,
    "id": "dbc3168c"
   },
   "source": [
    "У двух типов (безработные и пенсионеры) получатся аномально большие значения. Исправить такие значения сложно, поэтому оставьте их как есть."
   ]
  },
  {
   "cell_type": "markdown",
   "id": "ff4378c2",
   "metadata": {
    "deletable": false,
    "editable": false,
    "id": "ff4378c2",
    "tags": [
     "start_task"
    ]
   },
   "source": [
    "**Задание 8. Выведите перечень уникальных значений столбца `children`.**"
   ]
  },
  {
   "cell_type": "code",
   "execution_count": 9,
   "id": "9bd0c232",
   "metadata": {
    "id": "9bd0c232"
   },
   "outputs": [
    {
     "data": {
      "text/plain": [
       "array([ 1,  0,  3,  2, -1,  4, 20,  5])"
      ]
     },
     "execution_count": 9,
     "metadata": {},
     "output_type": "execute_result"
    }
   ],
   "source": [
    "# ваш код здесь\n",
    "data['children'].unique()"
   ]
  },
  {
   "cell_type": "markdown",
   "id": "8e911990",
   "metadata": {
    "deletable": false,
    "editable": false,
    "id": "8e911990",
    "tags": [
     "start_task"
    ]
   },
   "source": [
    "**Задание 9. В столбце `children` есть два аномальных значения. Удалите строки, в которых встречаются такие аномальные значения из датафрейма `data`.**"
   ]
  },
  {
   "cell_type": "code",
   "execution_count": 10,
   "id": "6d5ba289",
   "metadata": {
    "id": "6d5ba289"
   },
   "outputs": [],
   "source": [
    "# ваш код здесь\n",
    "data = data.loc[(data['children'] != -1) & (data['children'] != 20)]"
   ]
  },
  {
   "cell_type": "markdown",
   "id": "18d77455",
   "metadata": {
    "deletable": false,
    "editable": false,
    "id": "18d77455",
    "tags": [
     "start_task"
    ]
   },
   "source": [
    "**Задание 10. Ещё раз выведите перечень уникальных значений столбца `children`, чтобы убедиться, что артефакты удалены.**"
   ]
  },
  {
   "cell_type": "code",
   "execution_count": 11,
   "id": "2c5fa92c",
   "metadata": {
    "id": "2c5fa92c"
   },
   "outputs": [
    {
     "data": {
      "text/plain": [
       "array([1, 0, 3, 2, 4, 5])"
      ]
     },
     "execution_count": 11,
     "metadata": {},
     "output_type": "execute_result"
    }
   ],
   "source": [
    "# ваш код здесь\n",
    "data['children'].unique()"
   ]
  },
  {
   "cell_type": "markdown",
   "id": "0ec07dee",
   "metadata": {
    "deletable": false,
    "editable": false,
    "id": "0ec07dee"
   },
   "source": [
    "### Удаление пропусков (продолжение)"
   ]
  },
  {
   "cell_type": "markdown",
   "id": "0fc3ae3f",
   "metadata": {
    "deletable": false,
    "editable": false,
    "id": "0fc3ae3f",
    "tags": [
     "start_task"
    ]
   },
   "source": [
    "**Задание 11. Заполните пропуски в столбце `days_employed` медианными значениями по каждому типу занятости `income_type`.**"
   ]
  },
  {
   "cell_type": "code",
   "execution_count": 12,
   "id": "e2aea7ac",
   "metadata": {
    "id": "e2aea7ac"
   },
   "outputs": [],
   "source": [
    "# ваш код здесь\n",
    "median_group_total = data.groupby('income_type')['days_employed'].median()\n",
    "index = 0\n",
    "while index < len(data):\n",
    "    if pd.isna(data.iloc[index,1]):\n",
    "        data.iloc[index,1] = median_group_total.loc[data.iloc[index,8]]\n",
    "    index += 1"
   ]
  },
  {
   "cell_type": "markdown",
   "id": "97b0b795",
   "metadata": {
    "deletable": false,
    "editable": false,
    "id": "97b0b795",
    "tags": [
     "start_task"
    ]
   },
   "source": [
    "**Задание 12. Убедитесь, что все пропуски заполнены. Проверьте себя и ещё раз выведите количество пропущенных значений для каждого столбца с помощью двух методов.**"
   ]
  },
  {
   "cell_type": "code",
   "execution_count": 13,
   "id": "79632a21",
   "metadata": {
    "id": "79632a21",
    "scrolled": true
   },
   "outputs": [
    {
     "data": {
      "text/plain": [
       "children            0\n",
       "days_employed       0\n",
       "dob_years           0\n",
       "education           0\n",
       "education_id        0\n",
       "family_status       0\n",
       "family_status_id    0\n",
       "gender              0\n",
       "income_type         0\n",
       "debt                0\n",
       "total_income        0\n",
       "purpose             0\n",
       "dtype: int64"
      ]
     },
     "execution_count": 13,
     "metadata": {},
     "output_type": "execute_result"
    }
   ],
   "source": [
    "data.isna().sum()# ваш код здесь"
   ]
  },
  {
   "cell_type": "markdown",
   "id": "bd4aeb20",
   "metadata": {
    "deletable": false,
    "editable": false,
    "id": "bd4aeb20"
   },
   "source": [
    "### Изменение типов данных"
   ]
  },
  {
   "cell_type": "markdown",
   "id": "963bfa58",
   "metadata": {
    "deletable": false,
    "editable": false,
    "id": "963bfa58",
    "tags": [
     "start_task"
    ]
   },
   "source": [
    "**Задание 13. Замените вещественный тип данных в столбце `total_income` на целочисленный с помощью метода `astype()`.**"
   ]
  },
  {
   "cell_type": "code",
   "execution_count": 14,
   "id": "73da6ea0",
   "metadata": {
    "id": "73da6ea0"
   },
   "outputs": [],
   "source": [
    "data['total_income'] = data['total_income'].astype('int') # ваш код здесь"
   ]
  },
  {
   "cell_type": "markdown",
   "id": "d290239e",
   "metadata": {
    "deletable": false,
    "editable": false,
    "id": "d290239e"
   },
   "source": [
    "### Обработка дубликатов"
   ]
  },
  {
   "cell_type": "markdown",
   "id": "1b5844fd",
   "metadata": {
    "deletable": false,
    "editable": false,
    "id": "1b5844fd",
    "tags": [
     "start_task"
    ]
   },
   "source": [
    "**Задание 14. Обработайте неявные дубликаты в столбце `education`. В этом столбце есть одни и те же значения, но записанные по-разному: с использованием заглавных и строчных букв. Приведите их к нижнему регистру.**"
   ]
  },
  {
   "cell_type": "code",
   "execution_count": 15,
   "id": "3f2504b3",
   "metadata": {
    "id": "3f2504b3"
   },
   "outputs": [],
   "source": [
    "data['education'] = data['education'].str.lower()# ваш код здесь"
   ]
  },
  {
   "cell_type": "markdown",
   "id": "4c22acbc",
   "metadata": {
    "deletable": false,
    "editable": false,
    "id": "4c22acbc",
    "tags": [
     "start_task"
    ]
   },
   "source": [
    "**Задание 15. Выведите на экран количество строк-дубликатов в данных. Если такие строки присутствуют, удалите их.**"
   ]
  },
  {
   "cell_type": "code",
   "execution_count": 16,
   "id": "d34a4325",
   "metadata": {
    "id": "d34a4325"
   },
   "outputs": [
    {
     "data": {
      "text/plain": [
       "71"
      ]
     },
     "execution_count": 16,
     "metadata": {},
     "output_type": "execute_result"
    }
   ],
   "source": [
    "data.duplicated().sum()# посчитайте дубликаты"
   ]
  },
  {
   "cell_type": "code",
   "execution_count": 17,
   "id": "6e1a6499",
   "metadata": {
    "id": "6e1a6499"
   },
   "outputs": [],
   "source": [
    "data = data.drop_duplicates()# удалите дубликаты"
   ]
  },
  {
   "cell_type": "markdown",
   "id": "e5686ccc",
   "metadata": {
    "deletable": false,
    "editable": false,
    "id": "e5686ccc"
   },
   "source": [
    "### Категоризация данных"
   ]
  },
  {
   "cell_type": "markdown",
   "id": "636e9acd",
   "metadata": {
    "deletable": false,
    "editable": false,
    "id": "636e9acd",
    "tags": [
     "start_task"
    ]
   },
   "source": [
    "**Задание 16. На основании диапазонов, указанных ниже, создайте в датафрейме `data` столбец `total_income_category` с категориями:**\n",
    "\n",
    "- 0–30000 — `'E'`;\n",
    "- 30001–50000 — `'D'`;\n",
    "- 50001–200000 — `'C'`;\n",
    "- 200001–1000000 — `'B'`;\n",
    "- 1000001 и выше — `'A'`.\n",
    "\n",
    "\n",
    "**Например, кредитополучателю с доходом 25000 нужно назначить категорию `'E'`, а клиенту, получающему 235000, — `'B'`. Используйте собственную функцию с именем `categorize_income()` и метод `apply()`.**"
   ]
  },
  {
   "cell_type": "code",
   "execution_count": 18,
   "id": "880a77e5",
   "metadata": {
    "id": "880a77e5"
   },
   "outputs": [],
   "source": [
    "# создайте функцию categorize_income()\n",
    "def  categorize_income(income):\n",
    "    if 0 <= income <= 30000:\n",
    "        return 'E'\n",
    "    elif 30001 <= income <= 50000:\n",
    "        return 'D'\n",
    "    elif 50001 <= income <= 200000:\n",
    "        return 'C'\n",
    "    elif 200001 <= income <= 1000000:\n",
    "        return 'B'\n",
    "    elif 1000001 <= income:\n",
    "        return 'A'"
   ]
  },
  {
   "cell_type": "code",
   "execution_count": 19,
   "id": "6f25f161",
   "metadata": {
    "id": "6f25f161"
   },
   "outputs": [],
   "source": [
    "data['total_income_category'] = data['total_income'].apply(categorize_income)# примените функцию методом apply()"
   ]
  },
  {
   "cell_type": "markdown",
   "id": "3363b685",
   "metadata": {
    "deletable": false,
    "editable": false,
    "id": "3363b685",
    "tags": [
     "start_task"
    ]
   },
   "source": [
    "**Задание 17. Выведите на экран перечень уникальных целей взятия кредита из столбца `purpose`.**"
   ]
  },
  {
   "cell_type": "code",
   "execution_count": 23,
   "id": "e59f2c15",
   "metadata": {
    "id": "e59f2c15"
   },
   "outputs": [
    {
     "data": {
      "text/plain": [
       "array(['покупка жилья', 'приобретение автомобиля',\n",
       "       'дополнительное образование', 'сыграть свадьбу',\n",
       "       'операции с жильем', 'образование', 'на проведение свадьбы',\n",
       "       'покупка жилья для семьи', 'покупка недвижимости',\n",
       "       'покупка коммерческой недвижимости', 'покупка жилой недвижимости',\n",
       "       'строительство собственной недвижимости', 'недвижимость',\n",
       "       'строительство недвижимости', 'на покупку подержанного автомобиля',\n",
       "       'на покупку своего автомобиля',\n",
       "       'операции с коммерческой недвижимостью',\n",
       "       'строительство жилой недвижимости', 'жилье',\n",
       "       'операции со своей недвижимостью', 'автомобили',\n",
       "       'заняться образованием', 'сделка с подержанным автомобилем',\n",
       "       'получение образования', 'автомобиль', 'свадьба',\n",
       "       'получение дополнительного образования', 'покупка своего жилья',\n",
       "       'операции с недвижимостью', 'получение высшего образования',\n",
       "       'свой автомобиль', 'сделка с автомобилем',\n",
       "       'профильное образование', 'высшее образование',\n",
       "       'покупка жилья для сдачи', 'на покупку автомобиля', 'ремонт жилью',\n",
       "       'заняться высшим образованием'], dtype=object)"
      ]
     },
     "execution_count": 23,
     "metadata": {},
     "output_type": "execute_result"
    }
   ],
   "source": [
    "data['purpose'].unique()# ваш код здесь"
   ]
  },
  {
   "cell_type": "markdown",
   "id": "bb33e847",
   "metadata": {
    "deletable": false,
    "editable": false,
    "id": "bb33e847",
    "tags": [
     "start_task"
    ]
   },
   "source": [
    "**Задание 18. Создайте функцию, которая на основании данных из столбца `purpose` сформирует новый столбец `purpose_category`, в который войдут следующие категории:**\n",
    "\n",
    "- `'операции с автомобилем'`,\n",
    "- `'операции с недвижимостью'`,\n",
    "- `'проведение свадьбы'`,\n",
    "- `'получение образования'`.\n",
    "\n",
    "**Например, если в столбце `purpose` находится подстрока `'на покупку автомобиля'`, то в столбце `purpose_category` должна появиться строка `'операции с автомобилем'`.**\n",
    "\n",
    "**Используйте собственную функцию с именем `categorize_purpose()` и метод `apply()`. Изучите данные в столбце `purpose` и определите, какие подстроки помогут вам правильно определить категорию.**"
   ]
  },
  {
   "cell_type": "code",
   "execution_count": 25,
   "id": "63909b83",
   "metadata": {
    "id": "63909b83"
   },
   "outputs": [],
   "source": [
    "# создайте функцию categorize_purpose()\n",
    "def categorize_purpose(purpose):\n",
    "    if 'автомоб' in purpose:\n",
    "        return 'операции с автомобилем'\n",
    "    elif 'жиль' in purpose or 'недвиж'  in purpose:\n",
    "        return 'операции с недвижимостью'\n",
    "    elif 'свадьб' in purpose:\n",
    "        return 'проведение свадьбы'\n",
    "    else:\n",
    "        return 'получение образования'  "
   ]
  },
  {
   "cell_type": "code",
   "execution_count": 26,
   "id": "7cb4a81d",
   "metadata": {
    "id": "7cb4a81d"
   },
   "outputs": [],
   "source": [
    "# примените функцию методом apply()\n",
    "data['purpose_category'] = data['purpose'].apply(categorize_purpose)"
   ]
  }
 ],
 "metadata": {
  "ExecuteTimeLog": [
   {
    "duration": 448,
    "start_time": "2023-01-20T14:44:50.524Z"
   },
   {
    "duration": 118,
    "start_time": "2023-01-20T14:45:16.452Z"
   },
   {
    "duration": 22,
    "start_time": "2023-01-20T14:45:27.663Z"
   },
   {
    "duration": 17,
    "start_time": "2023-01-20T14:46:02.759Z"
   },
   {
    "duration": 16,
    "start_time": "2023-01-20T14:48:39.151Z"
   },
   {
    "duration": 8,
    "start_time": "2023-01-20T14:49:14.457Z"
   },
   {
    "duration": 5,
    "start_time": "2023-01-20T14:53:52.791Z"
   },
   {
    "duration": 6,
    "start_time": "2023-01-20T14:54:11.800Z"
   },
   {
    "duration": 16,
    "start_time": "2023-01-20T14:56:46.541Z"
   },
   {
    "duration": 32,
    "start_time": "2023-01-20T14:59:58.222Z"
   },
   {
    "duration": 9,
    "start_time": "2023-01-20T15:00:48.415Z"
   },
   {
    "duration": 8,
    "start_time": "2023-01-20T15:02:34.264Z"
   },
   {
    "duration": 7,
    "start_time": "2023-01-20T15:03:41.876Z"
   },
   {
    "duration": 101,
    "start_time": "2023-01-20T15:11:58.814Z"
   },
   {
    "duration": 6,
    "start_time": "2023-01-20T15:12:20.088Z"
   },
   {
    "duration": 77,
    "start_time": "2023-01-20T15:13:35.720Z"
   },
   {
    "duration": 2,
    "start_time": "2023-01-20T15:13:57.361Z"
   },
   {
    "duration": 7,
    "start_time": "2023-01-20T15:16:21.492Z"
   },
   {
    "duration": 11,
    "start_time": "2023-01-20T15:28:45.441Z"
   },
   {
    "duration": 14,
    "start_time": "2023-01-20T15:28:56.102Z"
   },
   {
    "duration": 13,
    "start_time": "2023-01-20T15:29:29.163Z"
   },
   {
    "duration": 18,
    "start_time": "2023-01-20T15:29:42.735Z"
   },
   {
    "duration": 22,
    "start_time": "2023-01-20T15:30:03.127Z"
   },
   {
    "duration": 13,
    "start_time": "2023-01-20T15:30:08.137Z"
   },
   {
    "duration": 9,
    "start_time": "2023-01-20T15:30:14.988Z"
   },
   {
    "duration": 11,
    "start_time": "2023-01-20T15:30:53.186Z"
   },
   {
    "duration": 14,
    "start_time": "2023-01-20T15:32:24.869Z"
   },
   {
    "duration": 8,
    "start_time": "2023-01-20T15:32:38.083Z"
   },
   {
    "duration": 23,
    "start_time": "2023-01-20T15:32:43.284Z"
   },
   {
    "duration": 10,
    "start_time": "2023-01-20T15:33:40.001Z"
   },
   {
    "duration": 7,
    "start_time": "2023-01-20T15:34:28.661Z"
   },
   {
    "duration": 10,
    "start_time": "2023-01-20T15:34:40.181Z"
   },
   {
    "duration": 21,
    "start_time": "2023-01-20T15:34:43.937Z"
   },
   {
    "duration": 6,
    "start_time": "2023-01-20T15:35:29.552Z"
   },
   {
    "duration": 8,
    "start_time": "2023-01-20T15:36:02.058Z"
   },
   {
    "duration": 11,
    "start_time": "2023-01-20T15:36:47.113Z"
   },
   {
    "duration": 10,
    "start_time": "2023-01-20T15:36:56.094Z"
   },
   {
    "duration": 10,
    "start_time": "2023-01-20T15:37:15.306Z"
   },
   {
    "duration": 11,
    "start_time": "2023-01-20T15:37:20.948Z"
   },
   {
    "duration": 14,
    "start_time": "2023-01-20T15:37:47.994Z"
   },
   {
    "duration": 16,
    "start_time": "2023-01-20T15:37:57.993Z"
   },
   {
    "duration": 13,
    "start_time": "2023-01-20T15:38:29.414Z"
   },
   {
    "duration": 8,
    "start_time": "2023-01-20T15:40:36.661Z"
   },
   {
    "duration": 12,
    "start_time": "2023-01-20T15:40:53.894Z"
   },
   {
    "duration": 8,
    "start_time": "2023-01-20T15:41:03.951Z"
   },
   {
    "duration": 10,
    "start_time": "2023-01-20T15:42:48.585Z"
   },
   {
    "duration": 7,
    "start_time": "2023-01-20T15:43:39.881Z"
   },
   {
    "duration": 8,
    "start_time": "2023-01-20T15:44:57.571Z"
   },
   {
    "duration": 8,
    "start_time": "2023-01-20T15:45:53.644Z"
   },
   {
    "duration": 13,
    "start_time": "2023-01-20T15:46:03.544Z"
   },
   {
    "duration": 6,
    "start_time": "2023-01-20T15:46:57.115Z"
   },
   {
    "duration": 16,
    "start_time": "2023-01-20T15:47:07.981Z"
   },
   {
    "duration": 10,
    "start_time": "2023-01-20T15:48:08.018Z"
   },
   {
    "duration": 18,
    "start_time": "2023-01-20T15:48:23.495Z"
   },
   {
    "duration": 22,
    "start_time": "2023-01-20T15:49:30.067Z"
   },
   {
    "duration": 17,
    "start_time": "2023-01-20T15:50:43.340Z"
   },
   {
    "duration": 15,
    "start_time": "2023-01-20T15:50:49.154Z"
   },
   {
    "duration": 72,
    "start_time": "2023-01-20T15:53:06.854Z"
   },
   {
    "duration": 10,
    "start_time": "2023-01-20T15:53:56.487Z"
   },
   {
    "duration": 11,
    "start_time": "2023-01-20T15:54:19.863Z"
   },
   {
    "duration": 11,
    "start_time": "2023-01-20T15:54:46.982Z"
   },
   {
    "duration": 3046,
    "start_time": "2023-01-20T15:55:01.227Z"
   },
   {
    "duration": 10,
    "start_time": "2023-01-20T15:55:57.562Z"
   },
   {
    "duration": 11,
    "start_time": "2023-01-20T15:56:18.917Z"
   },
   {
    "duration": 10,
    "start_time": "2023-01-20T15:56:43.160Z"
   },
   {
    "duration": 2,
    "start_time": "2023-01-20T15:56:58.216Z"
   },
   {
    "duration": 15,
    "start_time": "2023-01-20T15:57:05.986Z"
   },
   {
    "duration": 11,
    "start_time": "2023-01-20T15:57:14.397Z"
   },
   {
    "duration": 151,
    "start_time": "2023-01-20T15:57:30.209Z"
   },
   {
    "duration": 126,
    "start_time": "2023-01-20T15:57:38.402Z"
   },
   {
    "duration": 482,
    "start_time": "2023-01-20T15:58:32.629Z"
   },
   {
    "duration": 18,
    "start_time": "2023-01-20T16:00:42.559Z"
   },
   {
    "duration": 21,
    "start_time": "2023-01-20T16:02:08.718Z"
   },
   {
    "duration": 718,
    "start_time": "2023-01-20T16:04:27.969Z"
   },
   {
    "duration": 156,
    "start_time": "2023-01-20T16:04:38.496Z"
   },
   {
    "duration": 135,
    "start_time": "2023-01-20T16:06:41.968Z"
   },
   {
    "duration": 134,
    "start_time": "2023-01-20T16:07:22.689Z"
   },
   {
    "duration": 143,
    "start_time": "2023-01-20T16:07:42.578Z"
   },
   {
    "duration": 148,
    "start_time": "2023-01-20T16:08:31.135Z"
   },
   {
    "duration": 128,
    "start_time": "2023-01-20T16:09:47.698Z"
   },
   {
    "duration": 368,
    "start_time": "2023-01-20T16:10:17.063Z"
   },
   {
    "duration": 62,
    "start_time": "2023-01-20T16:10:18.105Z"
   },
   {
    "duration": 21,
    "start_time": "2023-01-20T16:10:19.728Z"
   },
   {
    "duration": 11,
    "start_time": "2023-01-20T16:10:25.683Z"
   },
   {
    "duration": 67,
    "start_time": "2023-01-20T16:10:29.399Z"
   },
   {
    "duration": 15,
    "start_time": "2023-01-20T16:11:29.517Z"
   },
   {
    "duration": 331,
    "start_time": "2023-01-20T16:12:28.791Z"
   },
   {
    "duration": 3,
    "start_time": "2023-01-20T16:12:29.989Z"
   },
   {
    "duration": 67,
    "start_time": "2023-01-20T16:12:30.659Z"
   },
   {
    "duration": 21,
    "start_time": "2023-01-20T16:12:34.147Z"
   },
   {
    "duration": 11,
    "start_time": "2023-01-20T16:12:41.856Z"
   },
   {
    "duration": 68,
    "start_time": "2023-01-20T16:12:44.244Z"
   },
   {
    "duration": 9,
    "start_time": "2023-01-20T16:14:17.803Z"
   },
   {
    "duration": 1143,
    "start_time": "2023-01-20T16:15:23.369Z"
   },
   {
    "duration": 13,
    "start_time": "2023-01-20T16:15:58.506Z"
   },
   {
    "duration": 9,
    "start_time": "2023-01-20T16:16:13.397Z"
   },
   {
    "duration": 789,
    "start_time": "2023-01-20T16:16:45.729Z"
   },
   {
    "duration": 3,
    "start_time": "2023-01-20T16:18:42.591Z"
   },
   {
    "duration": 57,
    "start_time": "2023-01-20T16:18:43.779Z"
   },
   {
    "duration": 14,
    "start_time": "2023-01-20T16:18:46.536Z"
   },
   {
    "duration": 13,
    "start_time": "2023-01-20T16:18:49.771Z"
   },
   {
    "duration": 10,
    "start_time": "2023-01-20T16:18:52.282Z"
   },
   {
    "duration": 751,
    "start_time": "2023-01-20T16:19:20.370Z"
   },
   {
    "duration": 11,
    "start_time": "2023-01-20T16:20:56.319Z"
   },
   {
    "duration": 35,
    "start_time": "2023-01-20T16:21:02.479Z"
   },
   {
    "duration": 33,
    "start_time": "2023-01-20T16:21:55.819Z"
   },
   {
    "duration": 9,
    "start_time": "2023-01-20T16:23:20.348Z"
   },
   {
    "duration": 5,
    "start_time": "2023-01-20T16:24:38.247Z"
   },
   {
    "duration": 8,
    "start_time": "2023-01-20T16:26:09.361Z"
   },
   {
    "duration": 9,
    "start_time": "2023-01-20T16:26:13.639Z"
   },
   {
    "duration": 1152,
    "start_time": "2023-01-20T16:27:41.450Z"
   },
   {
    "duration": 1093,
    "start_time": "2023-01-20T16:28:33.357Z"
   },
   {
    "duration": 7,
    "start_time": "2023-01-20T16:29:25.067Z"
   },
   {
    "duration": 11,
    "start_time": "2023-01-20T16:30:07.183Z"
   },
   {
    "duration": 2028,
    "start_time": "2023-01-20T16:30:26.043Z"
   },
   {
    "duration": 1115,
    "start_time": "2023-01-20T16:30:51.910Z"
   },
   {
    "duration": 1157,
    "start_time": "2023-01-20T16:31:34.559Z"
   },
   {
    "duration": 382,
    "start_time": "2023-01-20T16:32:10.078Z"
   },
   {
    "duration": 63,
    "start_time": "2023-01-20T16:32:10.462Z"
   },
   {
    "duration": 21,
    "start_time": "2023-01-20T16:32:10.527Z"
   },
   {
    "duration": 13,
    "start_time": "2023-01-20T16:32:10.550Z"
   },
   {
    "duration": 23,
    "start_time": "2023-01-20T16:32:10.564Z"
   },
   {
    "duration": 767,
    "start_time": "2023-01-20T16:32:10.588Z"
   },
   {
    "duration": 3,
    "start_time": "2023-01-20T16:32:11.357Z"
   },
   {
    "duration": 12,
    "start_time": "2023-01-20T16:32:11.361Z"
   },
   {
    "duration": 3,
    "start_time": "2023-01-20T16:32:11.375Z"
   },
   {
    "duration": 7,
    "start_time": "2023-01-20T16:32:11.381Z"
   },
   {
    "duration": 4,
    "start_time": "2023-01-20T16:32:11.389Z"
   },
   {
    "duration": 1209,
    "start_time": "2023-01-20T16:32:11.395Z"
   },
   {
    "duration": 0,
    "start_time": "2023-01-20T16:32:12.606Z"
   },
   {
    "duration": 0,
    "start_time": "2023-01-20T16:32:12.608Z"
   },
   {
    "duration": 0,
    "start_time": "2023-01-20T16:32:12.609Z"
   },
   {
    "duration": 0,
    "start_time": "2023-01-20T16:32:12.610Z"
   },
   {
    "duration": 0,
    "start_time": "2023-01-20T16:32:12.611Z"
   },
   {
    "duration": 1,
    "start_time": "2023-01-20T16:32:12.612Z"
   },
   {
    "duration": 0,
    "start_time": "2023-01-20T16:32:12.613Z"
   },
   {
    "duration": 0,
    "start_time": "2023-01-20T16:32:12.615Z"
   },
   {
    "duration": 0,
    "start_time": "2023-01-20T16:32:12.616Z"
   },
   {
    "duration": 0,
    "start_time": "2023-01-20T16:32:12.617Z"
   },
   {
    "duration": 1107,
    "start_time": "2023-01-20T16:32:25.011Z"
   },
   {
    "duration": 375,
    "start_time": "2023-01-20T16:32:32.739Z"
   },
   {
    "duration": 64,
    "start_time": "2023-01-20T16:32:33.116Z"
   },
   {
    "duration": 20,
    "start_time": "2023-01-20T16:32:33.182Z"
   },
   {
    "duration": 15,
    "start_time": "2023-01-20T16:32:33.203Z"
   },
   {
    "duration": 35,
    "start_time": "2023-01-20T16:32:33.220Z"
   },
   {
    "duration": 782,
    "start_time": "2023-01-20T16:32:33.257Z"
   },
   {
    "duration": 4,
    "start_time": "2023-01-20T16:32:34.040Z"
   },
   {
    "duration": 17,
    "start_time": "2023-01-20T16:32:34.045Z"
   },
   {
    "duration": 10,
    "start_time": "2023-01-20T16:32:34.063Z"
   },
   {
    "duration": 8,
    "start_time": "2023-01-20T16:32:34.074Z"
   },
   {
    "duration": 6,
    "start_time": "2023-01-20T16:32:34.083Z"
   },
   {
    "duration": 1197,
    "start_time": "2023-01-20T16:32:34.090Z"
   },
   {
    "duration": 1,
    "start_time": "2023-01-20T16:32:35.288Z"
   },
   {
    "duration": 0,
    "start_time": "2023-01-20T16:32:35.290Z"
   },
   {
    "duration": 0,
    "start_time": "2023-01-20T16:32:35.291Z"
   },
   {
    "duration": 0,
    "start_time": "2023-01-20T16:32:35.292Z"
   },
   {
    "duration": 0,
    "start_time": "2023-01-20T16:32:35.292Z"
   },
   {
    "duration": 0,
    "start_time": "2023-01-20T16:32:35.293Z"
   },
   {
    "duration": 0,
    "start_time": "2023-01-20T16:32:35.294Z"
   },
   {
    "duration": 0,
    "start_time": "2023-01-20T16:32:35.295Z"
   },
   {
    "duration": 0,
    "start_time": "2023-01-20T16:32:35.296Z"
   },
   {
    "duration": 0,
    "start_time": "2023-01-20T16:32:35.297Z"
   },
   {
    "duration": 14,
    "start_time": "2023-01-20T16:33:50.871Z"
   },
   {
    "duration": 7,
    "start_time": "2023-01-20T16:35:40.147Z"
   },
   {
    "duration": 11,
    "start_time": "2023-01-20T16:36:02.733Z"
   },
   {
    "duration": 17,
    "start_time": "2023-01-20T16:36:54.006Z"
   },
   {
    "duration": 13,
    "start_time": "2023-01-20T16:36:59.286Z"
   },
   {
    "duration": 12,
    "start_time": "2023-01-20T16:37:11.321Z"
   },
   {
    "duration": 1212,
    "start_time": "2023-01-20T16:37:32.458Z"
   },
   {
    "duration": 1113,
    "start_time": "2023-01-20T16:38:08.075Z"
   },
   {
    "duration": 1111,
    "start_time": "2023-01-20T16:38:21.490Z"
   },
   {
    "duration": 392,
    "start_time": "2023-01-20T16:38:48.069Z"
   },
   {
    "duration": 61,
    "start_time": "2023-01-20T16:38:48.463Z"
   },
   {
    "duration": 22,
    "start_time": "2023-01-20T16:38:48.526Z"
   },
   {
    "duration": 13,
    "start_time": "2023-01-20T16:38:48.550Z"
   },
   {
    "duration": 10,
    "start_time": "2023-01-20T16:38:48.566Z"
   },
   {
    "duration": 825,
    "start_time": "2023-01-20T16:38:48.578Z"
   },
   {
    "duration": 3,
    "start_time": "2023-01-20T16:38:49.405Z"
   },
   {
    "duration": 12,
    "start_time": "2023-01-20T16:38:49.410Z"
   },
   {
    "duration": 14,
    "start_time": "2023-01-20T16:38:49.424Z"
   },
   {
    "duration": 8,
    "start_time": "2023-01-20T16:38:49.440Z"
   },
   {
    "duration": 5,
    "start_time": "2023-01-20T16:38:49.450Z"
   },
   {
    "duration": 1191,
    "start_time": "2023-01-20T16:38:49.457Z"
   },
   {
    "duration": 0,
    "start_time": "2023-01-20T16:38:50.650Z"
   },
   {
    "duration": 0,
    "start_time": "2023-01-20T16:38:50.651Z"
   },
   {
    "duration": 0,
    "start_time": "2023-01-20T16:38:50.653Z"
   },
   {
    "duration": 0,
    "start_time": "2023-01-20T16:38:50.654Z"
   },
   {
    "duration": 0,
    "start_time": "2023-01-20T16:38:50.655Z"
   },
   {
    "duration": 0,
    "start_time": "2023-01-20T16:38:50.656Z"
   },
   {
    "duration": 0,
    "start_time": "2023-01-20T16:38:50.658Z"
   },
   {
    "duration": 0,
    "start_time": "2023-01-20T16:38:50.659Z"
   },
   {
    "duration": 0,
    "start_time": "2023-01-20T16:38:50.660Z"
   },
   {
    "duration": 0,
    "start_time": "2023-01-20T16:38:50.661Z"
   },
   {
    "duration": 1160,
    "start_time": "2023-01-20T16:39:09.520Z"
   },
   {
    "duration": 413,
    "start_time": "2023-01-20T16:39:32.324Z"
   },
   {
    "duration": 61,
    "start_time": "2023-01-20T16:39:32.739Z"
   },
   {
    "duration": 21,
    "start_time": "2023-01-20T16:39:32.803Z"
   },
   {
    "duration": 17,
    "start_time": "2023-01-20T16:39:32.827Z"
   },
   {
    "duration": 12,
    "start_time": "2023-01-20T16:39:32.845Z"
   },
   {
    "duration": 756,
    "start_time": "2023-01-20T16:39:32.858Z"
   },
   {
    "duration": 3,
    "start_time": "2023-01-20T16:39:33.616Z"
   },
   {
    "duration": 18,
    "start_time": "2023-01-20T16:39:33.620Z"
   },
   {
    "duration": 3,
    "start_time": "2023-01-20T16:39:33.639Z"
   },
   {
    "duration": 9,
    "start_time": "2023-01-20T16:39:33.644Z"
   },
   {
    "duration": 6,
    "start_time": "2023-01-20T16:39:33.655Z"
   },
   {
    "duration": 1257,
    "start_time": "2023-01-20T16:39:33.662Z"
   },
   {
    "duration": 0,
    "start_time": "2023-01-20T16:39:34.921Z"
   },
   {
    "duration": 0,
    "start_time": "2023-01-20T16:39:34.922Z"
   },
   {
    "duration": 0,
    "start_time": "2023-01-20T16:39:34.923Z"
   },
   {
    "duration": 0,
    "start_time": "2023-01-20T16:39:34.924Z"
   },
   {
    "duration": 0,
    "start_time": "2023-01-20T16:39:34.925Z"
   },
   {
    "duration": 0,
    "start_time": "2023-01-20T16:39:34.926Z"
   },
   {
    "duration": 0,
    "start_time": "2023-01-20T16:39:34.927Z"
   },
   {
    "duration": 0,
    "start_time": "2023-01-20T16:39:34.928Z"
   },
   {
    "duration": 0,
    "start_time": "2023-01-20T16:39:34.929Z"
   },
   {
    "duration": 0,
    "start_time": "2023-01-20T16:39:34.930Z"
   },
   {
    "duration": 1077,
    "start_time": "2023-01-20T16:39:52.836Z"
   },
   {
    "duration": 1115,
    "start_time": "2023-01-20T16:40:34.672Z"
   },
   {
    "duration": 44,
    "start_time": "2023-01-20T16:40:47.853Z"
   },
   {
    "duration": 396,
    "start_time": "2023-01-20T16:40:56.603Z"
   },
   {
    "duration": 3,
    "start_time": "2023-01-20T16:41:02.555Z"
   },
   {
    "duration": 102,
    "start_time": "2023-01-20T16:41:02.560Z"
   },
   {
    "duration": 20,
    "start_time": "2023-01-20T16:41:02.664Z"
   },
   {
    "duration": 40,
    "start_time": "2023-01-20T16:41:02.685Z"
   },
   {
    "duration": 26,
    "start_time": "2023-01-20T16:41:02.727Z"
   },
   {
    "duration": 773,
    "start_time": "2023-01-20T16:41:02.754Z"
   },
   {
    "duration": 3,
    "start_time": "2023-01-20T16:41:03.529Z"
   },
   {
    "duration": 51,
    "start_time": "2023-01-20T16:41:03.537Z"
   },
   {
    "duration": 20,
    "start_time": "2023-01-20T16:41:03.589Z"
   },
   {
    "duration": 35,
    "start_time": "2023-01-20T16:41:03.610Z"
   },
   {
    "duration": 6,
    "start_time": "2023-01-20T16:41:03.647Z"
   },
   {
    "duration": 1131,
    "start_time": "2023-01-20T16:41:03.655Z"
   },
   {
    "duration": 0,
    "start_time": "2023-01-20T16:41:04.788Z"
   },
   {
    "duration": 0,
    "start_time": "2023-01-20T16:41:04.790Z"
   },
   {
    "duration": 0,
    "start_time": "2023-01-20T16:41:04.791Z"
   },
   {
    "duration": 0,
    "start_time": "2023-01-20T16:41:04.793Z"
   },
   {
    "duration": 0,
    "start_time": "2023-01-20T16:41:04.794Z"
   },
   {
    "duration": 0,
    "start_time": "2023-01-20T16:41:04.795Z"
   },
   {
    "duration": 0,
    "start_time": "2023-01-20T16:41:04.797Z"
   },
   {
    "duration": 0,
    "start_time": "2023-01-20T16:41:04.798Z"
   },
   {
    "duration": 0,
    "start_time": "2023-01-20T16:41:04.800Z"
   },
   {
    "duration": 0,
    "start_time": "2023-01-20T16:41:04.801Z"
   },
   {
    "duration": 12,
    "start_time": "2023-01-20T16:42:21.040Z"
   },
   {
    "duration": 34,
    "start_time": "2023-01-20T16:42:56.064Z"
   },
   {
    "duration": 1104,
    "start_time": "2023-01-20T16:43:40.416Z"
   },
   {
    "duration": 396,
    "start_time": "2023-01-20T16:44:07.215Z"
   },
   {
    "duration": 63,
    "start_time": "2023-01-20T16:44:08.226Z"
   },
   {
    "duration": 22,
    "start_time": "2023-01-20T16:44:09.977Z"
   },
   {
    "duration": 15,
    "start_time": "2023-01-20T16:44:13.515Z"
   },
   {
    "duration": 8,
    "start_time": "2023-01-20T16:44:16.234Z"
   },
   {
    "duration": 4,
    "start_time": "2023-01-20T16:44:21.233Z"
   },
   {
    "duration": 10,
    "start_time": "2023-01-20T16:44:23.310Z"
   },
   {
    "duration": 4,
    "start_time": "2023-01-20T16:44:28.523Z"
   },
   {
    "duration": 8,
    "start_time": "2023-01-20T16:44:29.981Z"
   },
   {
    "duration": 5,
    "start_time": "2023-01-20T16:44:31.906Z"
   },
   {
    "duration": 34,
    "start_time": "2023-01-20T16:44:35.130Z"
   },
   {
    "duration": 1525,
    "start_time": "2023-01-20T16:45:01.467Z"
   },
   {
    "duration": 1140,
    "start_time": "2023-01-20T16:45:28.696Z"
   },
   {
    "duration": 358,
    "start_time": "2023-01-20T16:45:37.981Z"
   },
   {
    "duration": 67,
    "start_time": "2023-01-20T16:45:38.341Z"
   },
   {
    "duration": 21,
    "start_time": "2023-01-20T16:45:38.410Z"
   },
   {
    "duration": 13,
    "start_time": "2023-01-20T16:45:38.433Z"
   },
   {
    "duration": 9,
    "start_time": "2023-01-20T16:45:38.448Z"
   },
   {
    "duration": 820,
    "start_time": "2023-01-20T16:45:38.459Z"
   },
   {
    "duration": 3,
    "start_time": "2023-01-20T16:45:39.281Z"
   },
   {
    "duration": 12,
    "start_time": "2023-01-20T16:45:39.286Z"
   },
   {
    "duration": 4,
    "start_time": "2023-01-20T16:45:39.300Z"
   },
   {
    "duration": 9,
    "start_time": "2023-01-20T16:45:39.307Z"
   },
   {
    "duration": 20,
    "start_time": "2023-01-20T16:45:39.318Z"
   },
   {
    "duration": 1153,
    "start_time": "2023-01-20T16:45:39.339Z"
   },
   {
    "duration": 0,
    "start_time": "2023-01-20T16:45:40.493Z"
   },
   {
    "duration": 0,
    "start_time": "2023-01-20T16:45:40.495Z"
   },
   {
    "duration": 0,
    "start_time": "2023-01-20T16:45:40.496Z"
   },
   {
    "duration": 0,
    "start_time": "2023-01-20T16:45:40.497Z"
   },
   {
    "duration": 0,
    "start_time": "2023-01-20T16:45:40.498Z"
   },
   {
    "duration": 0,
    "start_time": "2023-01-20T16:45:40.499Z"
   },
   {
    "duration": 0,
    "start_time": "2023-01-20T16:45:40.500Z"
   },
   {
    "duration": 0,
    "start_time": "2023-01-20T16:45:40.501Z"
   },
   {
    "duration": 0,
    "start_time": "2023-01-20T16:45:40.502Z"
   },
   {
    "duration": 0,
    "start_time": "2023-01-20T16:45:40.503Z"
   },
   {
    "duration": 1208,
    "start_time": "2023-01-20T16:49:27.591Z"
   },
   {
    "duration": 1207,
    "start_time": "2023-01-20T16:50:13.064Z"
   },
   {
    "duration": 1124,
    "start_time": "2023-01-20T16:51:01.082Z"
   },
   {
    "duration": 1209,
    "start_time": "2023-01-20T16:53:05.717Z"
   },
   {
    "duration": 1101,
    "start_time": "2023-01-20T16:53:25.945Z"
   },
   {
    "duration": 1103,
    "start_time": "2023-01-20T16:53:36.145Z"
   },
   {
    "duration": 27,
    "start_time": "2023-01-20T16:53:52.530Z"
   },
   {
    "duration": 8,
    "start_time": "2023-01-20T16:54:08.404Z"
   },
   {
    "duration": 8,
    "start_time": "2023-01-20T16:54:24.541Z"
   },
   {
    "duration": 1099,
    "start_time": "2023-01-20T16:54:28.789Z"
   },
   {
    "duration": 7,
    "start_time": "2023-01-20T16:54:46.442Z"
   },
   {
    "duration": 8,
    "start_time": "2023-01-20T16:55:06.876Z"
   },
   {
    "duration": 21,
    "start_time": "2023-01-20T16:55:11.728Z"
   },
   {
    "duration": 1114,
    "start_time": "2023-01-20T16:55:42.425Z"
   },
   {
    "duration": 7,
    "start_time": "2023-01-20T16:56:00.705Z"
   },
   {
    "duration": 7,
    "start_time": "2023-01-20T16:56:04.780Z"
   },
   {
    "duration": 18,
    "start_time": "2023-01-20T16:56:46.212Z"
   },
   {
    "duration": 13,
    "start_time": "2023-01-20T16:56:56.233Z"
   },
   {
    "duration": 23,
    "start_time": "2023-01-20T16:58:30.714Z"
   },
   {
    "duration": 13,
    "start_time": "2023-01-20T16:58:49.205Z"
   },
   {
    "duration": 13,
    "start_time": "2023-01-20T16:59:09.633Z"
   },
   {
    "duration": 8,
    "start_time": "2023-01-20T16:59:20.102Z"
   },
   {
    "duration": 23,
    "start_time": "2023-01-20T16:59:50.013Z"
   },
   {
    "duration": 17,
    "start_time": "2023-01-20T17:00:02.210Z"
   },
   {
    "duration": 783,
    "start_time": "2023-01-20T17:00:15.093Z"
   },
   {
    "duration": 130,
    "start_time": "2023-01-20T17:01:38.633Z"
   },
   {
    "duration": 62,
    "start_time": "2023-01-20T17:02:31.490Z"
   },
   {
    "duration": 11,
    "start_time": "2023-01-20T17:02:37.495Z"
   },
   {
    "duration": 12,
    "start_time": "2023-01-20T17:02:41.882Z"
   },
   {
    "duration": 2813,
    "start_time": "2023-01-20T17:02:58.985Z"
   },
   {
    "duration": 10,
    "start_time": "2023-01-20T17:03:29.558Z"
   },
   {
    "duration": 13,
    "start_time": "2023-01-20T17:03:48.386Z"
   },
   {
    "duration": 3060,
    "start_time": "2023-01-20T17:03:55.626Z"
   },
   {
    "duration": 796,
    "start_time": "2023-01-20T17:04:14.959Z"
   },
   {
    "duration": 9,
    "start_time": "2023-01-20T17:04:59.882Z"
   },
   {
    "duration": 785,
    "start_time": "2023-01-20T17:05:14.232Z"
   },
   {
    "duration": 9,
    "start_time": "2023-01-20T17:05:19.690Z"
   },
   {
    "duration": 148,
    "start_time": "2023-01-20T17:05:32.946Z"
   },
   {
    "duration": 7,
    "start_time": "2023-01-20T17:12:21.571Z"
   },
   {
    "duration": 7,
    "start_time": "2023-01-20T17:12:25.934Z"
   },
   {
    "duration": 7,
    "start_time": "2023-01-20T17:12:28.208Z"
   },
   {
    "duration": 2,
    "start_time": "2023-01-20T17:12:32.058Z"
   },
   {
    "duration": 138,
    "start_time": "2023-01-20T17:12:35.517Z"
   },
   {
    "duration": 379,
    "start_time": "2023-01-20T17:17:29.662Z"
   },
   {
    "duration": 63,
    "start_time": "2023-01-20T17:17:30.043Z"
   },
   {
    "duration": 20,
    "start_time": "2023-01-20T17:17:30.108Z"
   },
   {
    "duration": 41,
    "start_time": "2023-01-20T17:17:30.129Z"
   },
   {
    "duration": 40,
    "start_time": "2023-01-20T17:17:30.172Z"
   },
   {
    "duration": 815,
    "start_time": "2023-01-20T17:17:30.214Z"
   },
   {
    "duration": 3,
    "start_time": "2023-01-20T17:17:31.031Z"
   },
   {
    "duration": 39,
    "start_time": "2023-01-20T17:17:31.037Z"
   },
   {
    "duration": 43,
    "start_time": "2023-01-20T17:17:31.077Z"
   },
   {
    "duration": 51,
    "start_time": "2023-01-20T17:17:31.122Z"
   },
   {
    "duration": 51,
    "start_time": "2023-01-20T17:17:31.174Z"
   },
   {
    "duration": 1193,
    "start_time": "2023-01-20T17:17:31.226Z"
   },
   {
    "duration": 0,
    "start_time": "2023-01-20T17:17:32.421Z"
   },
   {
    "duration": 0,
    "start_time": "2023-01-20T17:17:32.423Z"
   },
   {
    "duration": 0,
    "start_time": "2023-01-20T17:17:32.424Z"
   },
   {
    "duration": 0,
    "start_time": "2023-01-20T17:17:32.425Z"
   },
   {
    "duration": 0,
    "start_time": "2023-01-20T17:17:32.426Z"
   },
   {
    "duration": 0,
    "start_time": "2023-01-20T17:17:32.428Z"
   },
   {
    "duration": 0,
    "start_time": "2023-01-20T17:17:32.429Z"
   },
   {
    "duration": 0,
    "start_time": "2023-01-20T17:17:32.430Z"
   },
   {
    "duration": 0,
    "start_time": "2023-01-20T17:17:32.431Z"
   },
   {
    "duration": 0,
    "start_time": "2023-01-20T17:17:32.431Z"
   },
   {
    "duration": 1158,
    "start_time": "2023-01-20T17:17:40.690Z"
   },
   {
    "duration": 14,
    "start_time": "2023-01-20T17:17:53.202Z"
   },
   {
    "duration": 1218,
    "start_time": "2023-01-20T17:18:31.566Z"
   },
   {
    "duration": 1089,
    "start_time": "2023-01-20T17:18:39.400Z"
   },
   {
    "duration": 1066,
    "start_time": "2023-01-20T17:18:58.003Z"
   },
   {
    "duration": 1117,
    "start_time": "2023-01-20T17:19:09.001Z"
   },
   {
    "duration": 425,
    "start_time": "2023-01-20T17:19:20.451Z"
   },
   {
    "duration": 67,
    "start_time": "2023-01-20T17:19:20.879Z"
   },
   {
    "duration": 21,
    "start_time": "2023-01-20T17:19:20.947Z"
   },
   {
    "duration": 27,
    "start_time": "2023-01-20T17:19:20.969Z"
   },
   {
    "duration": 20,
    "start_time": "2023-01-20T17:19:20.999Z"
   },
   {
    "duration": 794,
    "start_time": "2023-01-20T17:19:21.021Z"
   },
   {
    "duration": 3,
    "start_time": "2023-01-20T17:19:21.817Z"
   },
   {
    "duration": 56,
    "start_time": "2023-01-20T17:19:21.821Z"
   },
   {
    "duration": 25,
    "start_time": "2023-01-20T17:19:21.878Z"
   },
   {
    "duration": 35,
    "start_time": "2023-01-20T17:19:21.905Z"
   },
   {
    "duration": 12,
    "start_time": "2023-01-20T17:19:21.942Z"
   },
   {
    "duration": 1192,
    "start_time": "2023-01-20T17:19:21.956Z"
   },
   {
    "duration": 0,
    "start_time": "2023-01-20T17:19:23.151Z"
   },
   {
    "duration": 0,
    "start_time": "2023-01-20T17:19:23.152Z"
   },
   {
    "duration": 0,
    "start_time": "2023-01-20T17:19:23.154Z"
   },
   {
    "duration": 0,
    "start_time": "2023-01-20T17:19:23.155Z"
   },
   {
    "duration": 0,
    "start_time": "2023-01-20T17:19:23.157Z"
   },
   {
    "duration": 0,
    "start_time": "2023-01-20T17:19:23.159Z"
   },
   {
    "duration": 0,
    "start_time": "2023-01-20T17:19:23.160Z"
   },
   {
    "duration": 0,
    "start_time": "2023-01-20T17:19:23.161Z"
   },
   {
    "duration": 0,
    "start_time": "2023-01-20T17:19:23.163Z"
   },
   {
    "duration": 0,
    "start_time": "2023-01-20T17:19:23.164Z"
   },
   {
    "duration": 1181,
    "start_time": "2023-01-20T17:20:11.011Z"
   },
   {
    "duration": 1166,
    "start_time": "2023-01-20T17:20:26.227Z"
   },
   {
    "duration": 1205,
    "start_time": "2023-01-20T17:20:47.547Z"
   },
   {
    "duration": 1169,
    "start_time": "2023-01-20T17:23:41.743Z"
   },
   {
    "duration": 747,
    "start_time": "2023-01-20T17:24:07.152Z"
   },
   {
    "duration": 19,
    "start_time": "2023-01-20T17:28:37.021Z"
   },
   {
    "duration": 143,
    "start_time": "2023-01-20T17:28:57.362Z"
   },
   {
    "duration": 21,
    "start_time": "2023-01-20T17:29:32.449Z"
   },
   {
    "duration": 63,
    "start_time": "2023-01-20T17:29:40.382Z"
   },
   {
    "duration": 804,
    "start_time": "2023-01-20T17:29:45.334Z"
   },
   {
    "duration": 60,
    "start_time": "2023-01-20T17:30:56.914Z"
   },
   {
    "duration": 10,
    "start_time": "2023-01-20T17:31:04.467Z"
   },
   {
    "duration": 10,
    "start_time": "2023-01-20T17:31:40.900Z"
   },
   {
    "duration": 10,
    "start_time": "2023-01-20T17:32:00.791Z"
   },
   {
    "duration": 817,
    "start_time": "2023-01-20T17:32:52.375Z"
   },
   {
    "duration": 21,
    "start_time": "2023-01-20T17:32:54.854Z"
   },
   {
    "duration": 8,
    "start_time": "2023-01-20T17:33:55.332Z"
   },
   {
    "duration": 7,
    "start_time": "2023-01-20T17:34:15.493Z"
   },
   {
    "duration": 22,
    "start_time": "2023-01-20T17:34:19.695Z"
   },
   {
    "duration": 128,
    "start_time": "2023-01-20T17:35:00.042Z"
   },
   {
    "duration": 19,
    "start_time": "2023-01-20T17:35:08.117Z"
   },
   {
    "duration": 1105,
    "start_time": "2023-01-20T17:35:34.989Z"
   },
   {
    "duration": 1082,
    "start_time": "2023-01-20T17:35:39.989Z"
   },
   {
    "duration": 6,
    "start_time": "2023-01-20T17:35:45.005Z"
   },
   {
    "duration": 4,
    "start_time": "2023-01-20T17:35:50.652Z"
   },
   {
    "duration": 5,
    "start_time": "2023-01-20T17:35:56.936Z"
   },
   {
    "duration": 5,
    "start_time": "2023-01-20T17:36:03.016Z"
   },
   {
    "duration": 16,
    "start_time": "2023-01-20T17:36:25.616Z"
   },
   {
    "duration": 2,
    "start_time": "2023-01-20T17:36:37.784Z"
   },
   {
    "duration": 9,
    "start_time": "2023-01-20T17:36:53.477Z"
   },
   {
    "duration": 14,
    "start_time": "2023-01-20T17:36:56.849Z"
   },
   {
    "duration": 66,
    "start_time": "2023-01-20T17:37:00.532Z"
   },
   {
    "duration": 765,
    "start_time": "2023-01-20T17:37:03.800Z"
   },
   {
    "duration": 10,
    "start_time": "2023-01-20T17:37:06.125Z"
   },
   {
    "duration": 9,
    "start_time": "2023-01-20T17:37:09.104Z"
   },
   {
    "duration": 129,
    "start_time": "2023-01-20T17:37:37.193Z"
   },
   {
    "duration": 10,
    "start_time": "2023-01-20T17:37:39.388Z"
   },
   {
    "duration": 130,
    "start_time": "2023-01-20T17:37:41.928Z"
   },
   {
    "duration": 60,
    "start_time": "2023-01-20T17:37:45.741Z"
   },
   {
    "duration": 740,
    "start_time": "2023-01-20T17:37:51.222Z"
   },
   {
    "duration": 9,
    "start_time": "2023-01-20T17:37:54.489Z"
   },
   {
    "duration": 395,
    "start_time": "2023-01-20T17:38:01.825Z"
   },
   {
    "duration": 64,
    "start_time": "2023-01-20T17:38:02.222Z"
   },
   {
    "duration": 21,
    "start_time": "2023-01-20T17:38:02.288Z"
   },
   {
    "duration": 14,
    "start_time": "2023-01-20T17:38:02.311Z"
   },
   {
    "duration": 9,
    "start_time": "2023-01-20T17:38:02.336Z"
   },
   {
    "duration": 815,
    "start_time": "2023-01-20T17:38:02.347Z"
   },
   {
    "duration": 3,
    "start_time": "2023-01-20T17:38:03.164Z"
   },
   {
    "duration": 20,
    "start_time": "2023-01-20T17:38:03.168Z"
   },
   {
    "duration": 11,
    "start_time": "2023-01-20T17:38:03.189Z"
   },
   {
    "duration": 12,
    "start_time": "2023-01-20T17:38:03.201Z"
   },
   {
    "duration": 7,
    "start_time": "2023-01-20T17:38:03.214Z"
   },
   {
    "duration": 1178,
    "start_time": "2023-01-20T17:38:03.223Z"
   },
   {
    "duration": 0,
    "start_time": "2023-01-20T17:38:04.403Z"
   },
   {
    "duration": 0,
    "start_time": "2023-01-20T17:38:04.404Z"
   },
   {
    "duration": 0,
    "start_time": "2023-01-20T17:38:04.405Z"
   },
   {
    "duration": 0,
    "start_time": "2023-01-20T17:38:04.406Z"
   },
   {
    "duration": 0,
    "start_time": "2023-01-20T17:38:04.408Z"
   },
   {
    "duration": 0,
    "start_time": "2023-01-20T17:38:04.409Z"
   },
   {
    "duration": 0,
    "start_time": "2023-01-20T17:38:04.410Z"
   },
   {
    "duration": 0,
    "start_time": "2023-01-20T17:38:04.411Z"
   },
   {
    "duration": 0,
    "start_time": "2023-01-20T17:38:04.412Z"
   },
   {
    "duration": 0,
    "start_time": "2023-01-20T17:38:04.414Z"
   },
   {
    "duration": 9,
    "start_time": "2023-01-20T17:38:10.325Z"
   },
   {
    "duration": 1161,
    "start_time": "2023-01-20T17:38:21.274Z"
   },
   {
    "duration": 1805,
    "start_time": "2023-01-20T17:40:02.935Z"
   },
   {
    "duration": 5,
    "start_time": "2023-01-20T17:40:13.647Z"
   },
   {
    "duration": 4,
    "start_time": "2023-01-20T17:40:15.810Z"
   },
   {
    "duration": 1118,
    "start_time": "2023-01-20T17:40:18.289Z"
   },
   {
    "duration": 902,
    "start_time": "2023-01-20T17:40:25.990Z"
   },
   {
    "duration": 4,
    "start_time": "2023-01-20T17:40:34.607Z"
   },
   {
    "duration": 5,
    "start_time": "2023-01-20T17:40:39.299Z"
   },
   {
    "duration": 4,
    "start_time": "2023-01-20T17:40:42.899Z"
   },
   {
    "duration": 4,
    "start_time": "2023-01-20T17:40:45.203Z"
   },
   {
    "duration": 5,
    "start_time": "2023-01-20T17:40:48.674Z"
   },
   {
    "duration": 6,
    "start_time": "2023-01-20T17:40:52.424Z"
   },
   {
    "duration": 13,
    "start_time": "2023-01-20T17:41:12.807Z"
   },
   {
    "duration": 21,
    "start_time": "2023-01-20T17:45:01.696Z"
   },
   {
    "duration": 4,
    "start_time": "2023-01-20T17:45:24.865Z"
   },
   {
    "duration": 19,
    "start_time": "2023-01-20T17:45:41.483Z"
   },
   {
    "duration": 5,
    "start_time": "2023-01-20T17:47:49.738Z"
   },
   {
    "duration": 18,
    "start_time": "2023-01-20T17:47:57.886Z"
   },
   {
    "duration": 5,
    "start_time": "2023-01-20T17:48:25.419Z"
   },
   {
    "duration": 19,
    "start_time": "2023-01-20T17:48:45.778Z"
   },
   {
    "duration": 345,
    "start_time": "2023-01-20T17:49:17.358Z"
   },
   {
    "duration": 357,
    "start_time": "2023-01-20T17:50:08.132Z"
   },
   {
    "duration": 65,
    "start_time": "2023-01-20T17:50:40.129Z"
   },
   {
    "duration": 4,
    "start_time": "2023-01-20T17:50:45.339Z"
   },
   {
    "duration": 4,
    "start_time": "2023-01-20T17:51:07.452Z"
   },
   {
    "duration": 358,
    "start_time": "2023-01-20T17:51:24.220Z"
   },
   {
    "duration": 355,
    "start_time": "2023-01-20T17:51:29.596Z"
   },
   {
    "duration": 11,
    "start_time": "2023-01-20T17:51:51.936Z"
   },
   {
    "duration": 351,
    "start_time": "2023-01-20T17:51:54.255Z"
   },
   {
    "duration": 345,
    "start_time": "2023-01-20T17:52:35.481Z"
   },
   {
    "duration": 64,
    "start_time": "2023-01-20T17:52:35.827Z"
   },
   {
    "duration": 20,
    "start_time": "2023-01-20T17:52:35.892Z"
   },
   {
    "duration": 13,
    "start_time": "2023-01-20T17:52:35.913Z"
   },
   {
    "duration": 13,
    "start_time": "2023-01-20T17:52:35.928Z"
   },
   {
    "duration": 803,
    "start_time": "2023-01-20T17:52:35.943Z"
   },
   {
    "duration": 3,
    "start_time": "2023-01-20T17:52:36.748Z"
   },
   {
    "duration": 40,
    "start_time": "2023-01-20T17:52:36.753Z"
   },
   {
    "duration": 24,
    "start_time": "2023-01-20T17:52:36.795Z"
   },
   {
    "duration": 25,
    "start_time": "2023-01-20T17:52:36.820Z"
   },
   {
    "duration": 27,
    "start_time": "2023-01-20T17:52:36.846Z"
   },
   {
    "duration": 378,
    "start_time": "2023-01-20T17:52:36.875Z"
   },
   {
    "duration": 10,
    "start_time": "2023-01-20T17:52:37.255Z"
   },
   {
    "duration": 18,
    "start_time": "2023-01-20T17:52:37.267Z"
   },
   {
    "duration": 19,
    "start_time": "2023-01-20T17:52:37.286Z"
   },
   {
    "duration": 17,
    "start_time": "2023-01-20T17:52:37.307Z"
   },
   {
    "duration": 33,
    "start_time": "2023-01-20T17:52:37.326Z"
   },
   {
    "duration": 16,
    "start_time": "2023-01-20T17:52:37.361Z"
   },
   {
    "duration": 21,
    "start_time": "2023-01-20T17:52:37.379Z"
   },
   {
    "duration": 23,
    "start_time": "2023-01-20T17:52:37.402Z"
   },
   {
    "duration": 26,
    "start_time": "2023-01-20T17:52:37.426Z"
   },
   {
    "duration": 12,
    "start_time": "2023-01-20T17:52:37.454Z"
   },
   {
    "duration": 9,
    "start_time": "2023-01-20T17:52:55.395Z"
   },
   {
    "duration": 427,
    "start_time": "2023-01-20T17:53:15.864Z"
   },
   {
    "duration": 9,
    "start_time": "2023-01-20T17:53:17.774Z"
   },
   {
    "duration": 398,
    "start_time": "2023-01-20T17:54:06.911Z"
   },
   {
    "duration": 63,
    "start_time": "2023-01-20T17:54:07.311Z"
   },
   {
    "duration": 21,
    "start_time": "2023-01-20T17:54:07.376Z"
   },
   {
    "duration": 13,
    "start_time": "2023-01-20T17:54:07.399Z"
   },
   {
    "duration": 25,
    "start_time": "2023-01-20T17:54:07.413Z"
   },
   {
    "duration": 789,
    "start_time": "2023-01-20T17:54:07.439Z"
   },
   {
    "duration": 3,
    "start_time": "2023-01-20T17:54:08.230Z"
   },
   {
    "duration": 12,
    "start_time": "2023-01-20T17:54:08.237Z"
   },
   {
    "duration": 4,
    "start_time": "2023-01-20T17:54:08.250Z"
   },
   {
    "duration": 9,
    "start_time": "2023-01-20T17:54:08.256Z"
   },
   {
    "duration": 6,
    "start_time": "2023-01-20T17:54:08.267Z"
   },
   {
    "duration": 373,
    "start_time": "2023-01-20T17:54:08.274Z"
   },
   {
    "duration": 8,
    "start_time": "2023-01-20T17:54:08.649Z"
   },
   {
    "duration": 4,
    "start_time": "2023-01-20T17:54:08.658Z"
   },
   {
    "duration": 4,
    "start_time": "2023-01-20T17:54:08.663Z"
   },
   {
    "duration": 9,
    "start_time": "2023-01-20T17:54:08.668Z"
   },
   {
    "duration": 5,
    "start_time": "2023-01-20T17:54:08.679Z"
   },
   {
    "duration": 5,
    "start_time": "2023-01-20T17:54:08.685Z"
   },
   {
    "duration": 5,
    "start_time": "2023-01-20T17:54:08.691Z"
   },
   {
    "duration": 4,
    "start_time": "2023-01-20T17:54:08.697Z"
   },
   {
    "duration": 5,
    "start_time": "2023-01-20T17:54:08.703Z"
   },
   {
    "duration": 4,
    "start_time": "2023-01-20T17:54:08.710Z"
   },
   {
    "duration": 458,
    "start_time": "2023-01-20T17:54:12.400Z"
   },
   {
    "duration": 9,
    "start_time": "2023-01-20T17:54:14.852Z"
   },
   {
    "duration": 337,
    "start_time": "2023-01-20T17:56:32.021Z"
   },
   {
    "duration": 10,
    "start_time": "2023-01-20T17:56:34.332Z"
   },
   {
    "duration": 388,
    "start_time": "2023-01-20T17:56:52.190Z"
   },
   {
    "duration": 8,
    "start_time": "2023-01-20T17:56:54.275Z"
   },
   {
    "duration": 1117,
    "start_time": "2023-01-20T17:58:41.580Z"
   },
   {
    "duration": 1105,
    "start_time": "2023-01-20T17:59:02.586Z"
   },
   {
    "duration": 765,
    "start_time": "2023-01-20T17:59:09.418Z"
   },
   {
    "duration": 10,
    "start_time": "2023-01-20T17:59:12.033Z"
   },
   {
    "duration": 8,
    "start_time": "2023-01-20T18:00:16.682Z"
   },
   {
    "duration": 10,
    "start_time": "2023-01-20T18:00:38.482Z"
   },
   {
    "duration": 139,
    "start_time": "2023-01-20T18:01:20.075Z"
   },
   {
    "duration": 9,
    "start_time": "2023-01-20T18:01:24.951Z"
   },
   {
    "duration": 11,
    "start_time": "2023-01-20T18:02:20.907Z"
   },
   {
    "duration": 10,
    "start_time": "2023-01-20T18:02:41.719Z"
   },
   {
    "duration": 13,
    "start_time": "2023-01-20T18:03:22.663Z"
   },
   {
    "duration": 18,
    "start_time": "2023-01-20T18:03:40.964Z"
   },
   {
    "duration": 18,
    "start_time": "2023-01-20T18:03:48.328Z"
   },
   {
    "duration": 13,
    "start_time": "2023-01-20T18:03:51.883Z"
   },
   {
    "duration": 12,
    "start_time": "2023-01-20T18:03:59.504Z"
   },
   {
    "duration": 11,
    "start_time": "2023-01-20T18:04:07.492Z"
   },
   {
    "duration": 19,
    "start_time": "2023-01-20T18:04:13.198Z"
   },
   {
    "duration": 167,
    "start_time": "2023-01-20T18:04:32.965Z"
   },
   {
    "duration": 19,
    "start_time": "2023-01-20T18:04:34.928Z"
   },
   {
    "duration": 132,
    "start_time": "2023-01-20T18:04:51.569Z"
   },
   {
    "duration": 18,
    "start_time": "2023-01-20T18:06:17.827Z"
   },
   {
    "duration": 74,
    "start_time": "2023-01-20T18:06:23.400Z"
   },
   {
    "duration": 771,
    "start_time": "2023-01-20T18:06:27.432Z"
   },
   {
    "duration": 135,
    "start_time": "2023-01-20T18:06:39.020Z"
   },
   {
    "duration": 21,
    "start_time": "2023-01-20T18:06:41.437Z"
   },
   {
    "duration": 57,
    "start_time": "2023-01-20T18:06:56.599Z"
   },
   {
    "duration": 777,
    "start_time": "2023-01-20T18:07:00.768Z"
   },
   {
    "duration": 34,
    "start_time": "2023-01-20T18:07:02.391Z"
   },
   {
    "duration": 58,
    "start_time": "2023-01-20T18:07:32.099Z"
   },
   {
    "duration": 781,
    "start_time": "2023-01-20T18:07:51.149Z"
   },
   {
    "duration": 18,
    "start_time": "2023-01-20T18:07:54.029Z"
   },
   {
    "duration": 62,
    "start_time": "2023-01-20T18:10:58.008Z"
   },
   {
    "duration": 787,
    "start_time": "2023-01-20T18:11:09.189Z"
   },
   {
    "duration": 20,
    "start_time": "2023-01-20T18:11:10.936Z"
   },
   {
    "duration": 382,
    "start_time": "2023-01-20T18:11:35.535Z"
   },
   {
    "duration": 65,
    "start_time": "2023-01-20T18:11:37.052Z"
   },
   {
    "duration": 4,
    "start_time": "2023-01-20T18:11:52.177Z"
   },
   {
    "duration": 11,
    "start_time": "2023-01-20T18:12:00.066Z"
   },
   {
    "duration": 7,
    "start_time": "2023-01-20T18:12:44.291Z"
   },
   {
    "duration": 427,
    "start_time": "2023-01-20T18:13:19.207Z"
   },
   {
    "duration": 63,
    "start_time": "2023-01-20T18:13:20.095Z"
   },
   {
    "duration": 835,
    "start_time": "2023-01-20T18:13:26.048Z"
   },
   {
    "duration": 23,
    "start_time": "2023-01-20T18:13:29.656Z"
   },
   {
    "duration": 9,
    "start_time": "2023-01-20T18:13:40.538Z"
   },
   {
    "duration": 3,
    "start_time": "2023-01-20T18:15:09.606Z"
   },
   {
    "duration": 7,
    "start_time": "2023-01-20T18:15:15.757Z"
   },
   {
    "duration": 1161,
    "start_time": "2023-01-20T18:15:24.475Z"
   },
   {
    "duration": 396,
    "start_time": "2023-01-20T18:15:45.411Z"
   },
   {
    "duration": 65,
    "start_time": "2023-01-20T18:15:45.835Z"
   },
   {
    "duration": 851,
    "start_time": "2023-01-20T18:16:01.276Z"
   },
   {
    "duration": 791,
    "start_time": "2023-01-20T18:16:07.943Z"
   },
   {
    "duration": 14,
    "start_time": "2023-01-20T18:17:26.495Z"
   },
   {
    "duration": 6,
    "start_time": "2023-01-20T18:17:50.776Z"
   },
   {
    "duration": 1176,
    "start_time": "2023-01-20T18:18:09.171Z"
   },
   {
    "duration": 3,
    "start_time": "2023-01-20T18:25:02.850Z"
   },
   {
    "duration": 64,
    "start_time": "2023-01-20T18:25:05.961Z"
   },
   {
    "duration": 16,
    "start_time": "2023-01-20T18:25:07.272Z"
   },
   {
    "duration": 14,
    "start_time": "2023-01-20T18:27:48.808Z"
   },
   {
    "duration": 15,
    "start_time": "2023-01-20T18:27:51.506Z"
   },
   {
    "duration": 9,
    "start_time": "2023-01-20T18:27:53.879Z"
   },
   {
    "duration": 759,
    "start_time": "2023-01-20T18:28:28.319Z"
   },
   {
    "duration": 3,
    "start_time": "2023-01-20T18:28:33.331Z"
   },
   {
    "duration": 8,
    "start_time": "2023-01-20T18:28:48.197Z"
   },
   {
    "duration": 5,
    "start_time": "2023-01-20T18:28:51.686Z"
   },
   {
    "duration": 5,
    "start_time": "2023-01-20T18:28:55.720Z"
   },
   {
    "duration": 4,
    "start_time": "2023-01-20T18:28:58.396Z"
   },
   {
    "duration": 7,
    "start_time": "2023-01-20T18:30:50.842Z"
   },
   {
    "duration": 16,
    "start_time": "2023-01-20T18:31:38.140Z"
   },
   {
    "duration": 9,
    "start_time": "2023-01-20T18:32:06.692Z"
   },
   {
    "duration": 9,
    "start_time": "2023-01-20T18:32:51.812Z"
   },
   {
    "duration": 18,
    "start_time": "2023-01-20T18:33:42.444Z"
   },
   {
    "duration": 14,
    "start_time": "2023-01-20T18:39:03.243Z"
   },
   {
    "duration": 18,
    "start_time": "2023-01-20T18:39:45.090Z"
   },
   {
    "duration": 14,
    "start_time": "2023-01-20T18:40:12.436Z"
   },
   {
    "duration": 940,
    "start_time": "2023-01-20T18:40:40.808Z"
   },
   {
    "duration": 385,
    "start_time": "2023-01-20T18:40:59.183Z"
   },
   {
    "duration": 9,
    "start_time": "2023-01-20T18:41:56.953Z"
   },
   {
    "duration": 2,
    "start_time": "2023-01-20T18:42:09.520Z"
   },
   {
    "duration": 4,
    "start_time": "2023-01-20T18:42:52.712Z"
   },
   {
    "duration": 20,
    "start_time": "2023-01-20T18:43:37.133Z"
   },
   {
    "duration": 8,
    "start_time": "2023-01-20T18:44:14.828Z"
   },
   {
    "duration": 8,
    "start_time": "2023-01-20T18:44:34.832Z"
   },
   {
    "duration": 8,
    "start_time": "2023-01-20T18:44:53.542Z"
   },
   {
    "duration": 446,
    "start_time": "2023-01-21T08:41:19.886Z"
   },
   {
    "duration": 304,
    "start_time": "2023-01-21T08:41:20.335Z"
   },
   {
    "duration": 24,
    "start_time": "2023-01-21T08:41:20.641Z"
   },
   {
    "duration": 15,
    "start_time": "2023-01-21T08:41:20.667Z"
   },
   {
    "duration": 9,
    "start_time": "2023-01-21T08:41:20.685Z"
   },
   {
    "duration": 891,
    "start_time": "2023-01-21T08:41:20.696Z"
   },
   {
    "duration": 3,
    "start_time": "2023-01-21T08:41:21.591Z"
   },
   {
    "duration": 34,
    "start_time": "2023-01-21T08:41:21.596Z"
   },
   {
    "duration": 9,
    "start_time": "2023-01-21T08:41:21.632Z"
   },
   {
    "duration": 11,
    "start_time": "2023-01-21T08:41:21.643Z"
   },
   {
    "duration": 6,
    "start_time": "2023-01-21T08:41:21.656Z"
   },
   {
    "duration": 979,
    "start_time": "2023-01-21T08:41:21.663Z"
   },
   {
    "duration": 8,
    "start_time": "2023-01-21T08:41:22.644Z"
   },
   {
    "duration": 4,
    "start_time": "2023-01-21T08:41:22.655Z"
   },
   {
    "duration": 78,
    "start_time": "2023-01-21T08:41:22.660Z"
   },
   {
    "duration": 0,
    "start_time": "2023-01-21T08:41:22.740Z"
   },
   {
    "duration": 0,
    "start_time": "2023-01-21T08:41:22.741Z"
   },
   {
    "duration": 0,
    "start_time": "2023-01-21T08:41:22.742Z"
   },
   {
    "duration": 0,
    "start_time": "2023-01-21T08:41:22.744Z"
   },
   {
    "duration": 0,
    "start_time": "2023-01-21T08:41:22.745Z"
   },
   {
    "duration": 0,
    "start_time": "2023-01-21T08:41:22.746Z"
   },
   {
    "duration": 0,
    "start_time": "2023-01-21T08:41:22.748Z"
   },
   {
    "duration": 3,
    "start_time": "2023-01-21T08:41:37.320Z"
   },
   {
    "duration": 29,
    "start_time": "2023-01-21T08:42:32.164Z"
   },
   {
    "duration": 12,
    "start_time": "2023-01-21T08:42:39.553Z"
   },
   {
    "duration": 21,
    "start_time": "2023-01-21T08:43:30.007Z"
   },
   {
    "duration": 17,
    "start_time": "2023-01-21T08:43:35.428Z"
   },
   {
    "duration": 32,
    "start_time": "2023-01-21T08:43:57.157Z"
   },
   {
    "duration": 19,
    "start_time": "2023-01-21T08:47:30.566Z"
   },
   {
    "duration": 45,
    "start_time": "2023-01-21T09:04:11.869Z"
   },
   {
    "duration": 13,
    "start_time": "2023-01-21T09:08:20.914Z"
   },
   {
    "duration": 14,
    "start_time": "2023-01-21T09:08:38.474Z"
   },
   {
    "duration": 8,
    "start_time": "2023-01-21T09:09:15.613Z"
   },
   {
    "duration": 24,
    "start_time": "2023-01-21T09:11:01.326Z"
   },
   {
    "duration": 12,
    "start_time": "2023-01-21T09:11:11.907Z"
   },
   {
    "duration": 11,
    "start_time": "2023-01-21T09:11:36.656Z"
   },
   {
    "duration": 4,
    "start_time": "2023-01-21T09:12:05.678Z"
   },
   {
    "duration": 9,
    "start_time": "2023-01-21T09:12:09.046Z"
   },
   {
    "duration": 12,
    "start_time": "2023-01-21T09:12:44.500Z"
   },
   {
    "duration": 10,
    "start_time": "2023-01-21T09:14:07.391Z"
   },
   {
    "duration": 11,
    "start_time": "2023-01-21T09:14:21.875Z"
   },
   {
    "duration": 10,
    "start_time": "2023-01-21T09:15:08.507Z"
   },
   {
    "duration": 11,
    "start_time": "2023-01-21T09:15:17.806Z"
   },
   {
    "duration": 439,
    "start_time": "2023-01-21T09:15:26.980Z"
   },
   {
    "duration": 69,
    "start_time": "2023-01-21T09:15:27.422Z"
   },
   {
    "duration": 25,
    "start_time": "2023-01-21T09:15:27.493Z"
   },
   {
    "duration": 15,
    "start_time": "2023-01-21T09:15:27.520Z"
   },
   {
    "duration": 192,
    "start_time": "2023-01-21T09:15:27.537Z"
   },
   {
    "duration": 872,
    "start_time": "2023-01-21T09:15:27.731Z"
   },
   {
    "duration": 3,
    "start_time": "2023-01-21T09:15:28.605Z"
   },
   {
    "duration": 28,
    "start_time": "2023-01-21T09:15:28.610Z"
   },
   {
    "duration": 6,
    "start_time": "2023-01-21T09:15:28.640Z"
   },
   {
    "duration": 12,
    "start_time": "2023-01-21T09:15:28.648Z"
   },
   {
    "duration": 6,
    "start_time": "2023-01-21T09:15:28.661Z"
   },
   {
    "duration": 1014,
    "start_time": "2023-01-21T09:15:28.668Z"
   },
   {
    "duration": 13,
    "start_time": "2023-01-21T09:15:29.683Z"
   },
   {
    "duration": 23,
    "start_time": "2023-01-21T09:15:29.698Z"
   },
   {
    "duration": 16,
    "start_time": "2023-01-21T09:15:29.724Z"
   },
   {
    "duration": 30,
    "start_time": "2023-01-21T09:15:29.742Z"
   },
   {
    "duration": 22,
    "start_time": "2023-01-21T09:15:29.774Z"
   },
   {
    "duration": 7,
    "start_time": "2023-01-21T09:15:29.799Z"
   },
   {
    "duration": 13,
    "start_time": "2023-01-21T09:15:29.808Z"
   },
   {
    "duration": 5,
    "start_time": "2023-01-21T09:15:29.823Z"
   },
   {
    "duration": 7,
    "start_time": "2023-01-21T09:15:29.830Z"
   },
   {
    "duration": 8,
    "start_time": "2023-01-21T09:15:29.838Z"
   },
   {
    "duration": 6,
    "start_time": "2023-01-21T09:16:41.920Z"
   },
   {
    "duration": 13,
    "start_time": "2023-01-21T09:28:11.163Z"
   },
   {
    "duration": 3,
    "start_time": "2023-01-21T09:28:51.740Z"
   },
   {
    "duration": 9,
    "start_time": "2023-01-21T09:28:55.755Z"
   }
  ],
  "colab": {
   "provenance": []
  },
  "kernelspec": {
   "display_name": "Python 3 (ipykernel)",
   "language": "python",
   "name": "python3"
  },
  "language_info": {
   "codemirror_mode": {
    "name": "ipython",
    "version": 3
   },
   "file_extension": ".py",
   "mimetype": "text/x-python",
   "name": "python",
   "nbconvert_exporter": "python",
   "pygments_lexer": "ipython3",
   "version": "3.11.3"
  },
  "toc": {
   "base_numbering": 1,
   "nav_menu": {},
   "number_sections": true,
   "sideBar": true,
   "skip_h1_title": true,
   "title_cell": "Table of Contents",
   "title_sidebar": "Contents",
   "toc_cell": false,
   "toc_position": {},
   "toc_section_display": true,
   "toc_window_display": false
  }
 },
 "nbformat": 4,
 "nbformat_minor": 5
}
