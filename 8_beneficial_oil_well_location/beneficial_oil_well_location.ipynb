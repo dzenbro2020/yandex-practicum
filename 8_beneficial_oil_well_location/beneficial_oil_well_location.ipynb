{
 "cells": [
  {
   "cell_type": "markdown",
   "metadata": {},
   "source": [
    "# Выбор локации для скважины"
   ]
  },
  {
   "cell_type": "markdown",
   "metadata": {},
   "source": [
    "Допустим, вы работаете в добывающей компании «ГлавРосГосНефть». Нужно решить, где бурить новую скважину.\n",
    "\n",
    "Вам предоставлены пробы нефти в трёх регионах: в каждом 10 000 месторождений, где измерили качество нефти и объём её запасов. Постройте модель машинного обучения, которая поможет определить регион, где добыча принесёт наибольшую прибыль. Проанализируйте возможную прибыль и риски техникой *Bootstrap.*\n",
    "\n",
    "Шаги для выбора локации:\n",
    "\n",
    "- В избранном регионе ищут месторождения, для каждого определяют значения признаков;\n",
    "- Строят модель и оценивают объём запасов;\n",
    "- Выбирают месторождения с самым высокими оценками значений. Количество месторождений зависит от бюджета компании и стоимости разработки одной скважины;\n",
    "- Прибыль равна суммарной прибыли отобранных месторождений."
   ]
  },
  {
   "cell_type": "markdown",
   "metadata": {},
   "source": [
    "## Загрузка и подготовка данных"
   ]
  },
  {
   "cell_type": "code",
   "execution_count": 3,
   "metadata": {},
   "outputs": [],
   "source": [
    "import pandas as pd\n",
    "import numpy as np\n",
    "\n",
    "from ydata_profiling import ProfileReport\n",
    "from sklearn.preprocessing import StandardScaler\n",
    "from sklearn.model_selection import train_test_split\n",
    "from sklearn.linear_model import LinearRegression\n",
    "from sklearn.metrics import r2_score\n",
    "from sklearn.metrics import mean_squared_error"
   ]
  },
  {
   "cell_type": "markdown",
   "metadata": {},
   "source": [
    "Загружаем данные"
   ]
  },
  {
   "cell_type": "code",
   "execution_count": 4,
   "metadata": {},
   "outputs": [],
   "source": [
    "df_0 = pd.read_csv('/datasets/geo_data_0.csv')\n",
    "df_1 = pd.read_csv('/datasets/geo_data_1.csv')\n",
    "df_2 = pd.read_csv('/datasets/geo_data_2.csv')"
   ]
  },
  {
   "cell_type": "markdown",
   "metadata": {},
   "source": [
    "Поле ```id``` никак не влияет на результат предсказания модели, поэтому данный столбец можно ликвидировать"
   ]
  },
  {
   "cell_type": "code",
   "execution_count": 5,
   "metadata": {},
   "outputs": [],
   "source": [
    "df_0_wo_id = df_0.drop(['id'], axis=1)\n",
    "df_1_wo_id = df_1.drop(['id'], axis=1)\n",
    "df_2_wo_id = df_2.drop(['id'], axis=1)"
   ]
  },
  {
   "cell_type": "markdown",
   "metadata": {},
   "source": [
    "### Изучаем данные"
   ]
  },
  {
   "cell_type": "markdown",
   "metadata": {},
   "source": [
    "- Пропусков нет ни в одном датасете\n",
    "- Во всех датасетах тип данных полей одинаковый\n",
    "- Выбросов, которые можно было бы отсечь тоже не наблюдаем (распределение данных нормальное или близко к нормальному)\n",
    "- Размер таблиц одинаковый - 100000 строк\n",
    "- Есть корреляция признака f2 и product во всех датасетах, особенно в df_1 - корреляция составляет 0.975"
   ]
  },
  {
   "cell_type": "markdown",
   "metadata": {},
   "source": [
    "#### Регион 0"
   ]
  },
  {
   "cell_type": "code",
   "execution_count": 6,
   "metadata": {
    "scrolled": false
   },
   "outputs": [
    {
     "data": {
      "application/vnd.jupyter.widget-view+json": {
       "model_id": "3d539acfa7ac447ca8cc685bde567ff0",
       "version_major": 2,
       "version_minor": 0
      },
      "text/plain": [
       "Summarize dataset:   0%|          | 0/5 [00:00<?, ?it/s]"
      ]
     },
     "metadata": {},
     "output_type": "display_data"
    },
    {
     "data": {
      "application/vnd.jupyter.widget-view+json": {
       "model_id": "7227100b4fe54f8b9fd1b5eb6dc7433c",
       "version_major": 2,
       "version_minor": 0
      },
      "text/plain": [
       "Generate report structure:   0%|          | 0/1 [00:00<?, ?it/s]"
      ]
     },
     "metadata": {},
     "output_type": "display_data"
    },
    {
     "data": {
      "application/vnd.jupyter.widget-view+json": {
       "model_id": "",
       "version_major": 2,
       "version_minor": 0
      },
      "text/plain": [
       "Render widgets:   0%|          | 0/1 [00:00<?, ?it/s]"
      ]
     },
     "metadata": {},
     "output_type": "display_data"
    },
    {
     "data": {
      "application/vnd.jupyter.widget-view+json": {
       "model_id": "13d0c70557214aaa9f1c3a928aaa10ba",
       "version_major": 2,
       "version_minor": 0
      },
      "text/plain": [
       "VBox(children=(Tab(children=(Tab(children=(GridBox(children=(VBox(children=(GridspecLayout(children=(HTML(valu…"
      ]
     },
     "metadata": {},
     "output_type": "display_data"
    }
   ],
   "source": [
    "profile = ProfileReport(df_0)\n",
    "profile.to_widgets()"
   ]
  },
  {
   "cell_type": "markdown",
   "metadata": {},
   "source": [
    "#### Регион 1"
   ]
  },
  {
   "cell_type": "code",
   "execution_count": 7,
   "metadata": {},
   "outputs": [
    {
     "data": {
      "application/vnd.jupyter.widget-view+json": {
       "model_id": "e8650efdff374b79a8543fdafd6a6ce4",
       "version_major": 2,
       "version_minor": 0
      },
      "text/plain": [
       "Summarize dataset:   0%|          | 0/5 [00:00<?, ?it/s]"
      ]
     },
     "metadata": {},
     "output_type": "display_data"
    },
    {
     "data": {
      "application/vnd.jupyter.widget-view+json": {
       "model_id": "e5059b0039ff44feb8633b894cb0c19f",
       "version_major": 2,
       "version_minor": 0
      },
      "text/plain": [
       "Generate report structure:   0%|          | 0/1 [00:00<?, ?it/s]"
      ]
     },
     "metadata": {},
     "output_type": "display_data"
    },
    {
     "data": {
      "application/vnd.jupyter.widget-view+json": {
       "model_id": "",
       "version_major": 2,
       "version_minor": 0
      },
      "text/plain": [
       "Render widgets:   0%|          | 0/1 [00:00<?, ?it/s]"
      ]
     },
     "metadata": {},
     "output_type": "display_data"
    },
    {
     "data": {
      "application/vnd.jupyter.widget-view+json": {
       "model_id": "a05a2c2b692c49b0a877ce4bb594dbcf",
       "version_major": 2,
       "version_minor": 0
      },
      "text/plain": [
       "VBox(children=(Tab(children=(Tab(children=(GridBox(children=(VBox(children=(GridspecLayout(children=(HTML(valu…"
      ]
     },
     "metadata": {},
     "output_type": "display_data"
    }
   ],
   "source": [
    "profile = ProfileReport(df_1)\n",
    "profile.to_widgets()"
   ]
  },
  {
   "cell_type": "markdown",
   "metadata": {},
   "source": [
    "#### Регион 2"
   ]
  },
  {
   "cell_type": "code",
   "execution_count": 8,
   "metadata": {},
   "outputs": [
    {
     "data": {
      "application/vnd.jupyter.widget-view+json": {
       "model_id": "d694cdb5463046e08754e2d397d71764",
       "version_major": 2,
       "version_minor": 0
      },
      "text/plain": [
       "Summarize dataset:   0%|          | 0/5 [00:00<?, ?it/s]"
      ]
     },
     "metadata": {},
     "output_type": "display_data"
    },
    {
     "data": {
      "application/vnd.jupyter.widget-view+json": {
       "model_id": "61965444007a40ca858719a642de1e17",
       "version_major": 2,
       "version_minor": 0
      },
      "text/plain": [
       "Generate report structure:   0%|          | 0/1 [00:00<?, ?it/s]"
      ]
     },
     "metadata": {},
     "output_type": "display_data"
    },
    {
     "data": {
      "application/vnd.jupyter.widget-view+json": {
       "model_id": "",
       "version_major": 2,
       "version_minor": 0
      },
      "text/plain": [
       "Render widgets:   0%|          | 0/1 [00:00<?, ?it/s]"
      ]
     },
     "metadata": {},
     "output_type": "display_data"
    },
    {
     "data": {
      "application/vnd.jupyter.widget-view+json": {
       "model_id": "ceaed43d031641e3ad1e956fd3f013a7",
       "version_major": 2,
       "version_minor": 0
      },
      "text/plain": [
       "VBox(children=(Tab(children=(Tab(children=(GridBox(children=(VBox(children=(GridspecLayout(children=(HTML(valu…"
      ]
     },
     "metadata": {},
     "output_type": "display_data"
    }
   ],
   "source": [
    "profile = ProfileReport(df_2)\n",
    "profile.to_widgets()"
   ]
  },
  {
   "cell_type": "markdown",
   "metadata": {},
   "source": [
    "## Обучение и проверка модели"
   ]
  },
  {
   "cell_type": "markdown",
   "metadata": {},
   "source": [
    "### Разобъем данные на обучающую и валидационную"
   ]
  },
  {
   "cell_type": "code",
   "execution_count": 9,
   "metadata": {},
   "outputs": [],
   "source": [
    "target_0 = df_0_wo_id['product']\n",
    "target_1 = df_1_wo_id['product']\n",
    "target_2 = df_2_wo_id['product']\n",
    "\n",
    "features_0 = df_0_wo_id.drop(['product'], axis=1)\n",
    "features_1 = df_1_wo_id.drop(['product'], axis=1)\n",
    "features_2 = df_2_wo_id.drop(['product'], axis=1)\n",
    "\n",
    "features_train_0, features_valid_0, target_train_0, target_valid_0 = train_test_split(\n",
    "    features_0, target_0, test_size=0.25, random_state=12345)\n",
    "\n",
    "features_train_1, features_valid_1, target_train_1, target_valid_1 = train_test_split(\n",
    "    features_1, target_1, test_size=0.25, random_state=12345)\n",
    "\n",
    "features_train_2, features_valid_2, target_train_2, target_valid_2 = train_test_split(\n",
    "    features_2, target_2, test_size=0.25, random_state=12345)"
   ]
  },
  {
   "cell_type": "markdown",
   "metadata": {},
   "source": [
    "### Масштабирование признаков"
   ]
  },
  {
   "cell_type": "markdown",
   "metadata": {},
   "source": [
    "- Распределение всех признаков нормальное или близко к нормальному, без выбросов, поэтому можем провести стандартизацию при помощи ```StandardScaler()```"
   ]
  },
  {
   "cell_type": "code",
   "execution_count": 10,
   "metadata": {},
   "outputs": [],
   "source": [
    "def scaling(features_train,features_valid):\n",
    "\n",
    "    scaler = StandardScaler()\n",
    "    scaler.fit(features_train)\n",
    "    features_train_scaled = scaler.transform(features_train)\n",
    "    features_valid_scaled = scaler.transform(features_valid)\n",
    "    \n",
    "    return features_train_scaled,features_valid_scaled"
   ]
  },
  {
   "cell_type": "code",
   "execution_count": 11,
   "metadata": {},
   "outputs": [],
   "source": [
    "features_train_0,features_valid_0 = scaling(features_train_0,features_valid_0)\n",
    "features_train_1,features_valid_1 = scaling(features_train_1,features_valid_1)\n",
    "features_train_2,features_valid_2 = scaling(features_train_2,features_valid_2)"
   ]
  },
  {
   "cell_type": "markdown",
   "metadata": {},
   "source": [
    "### Обучим модель и сделаем предсказания на валидационной выборке. Сохраним предсказания и правильные ответы на валидационной выборке"
   ]
  },
  {
   "cell_type": "code",
   "execution_count": 12,
   "metadata": {},
   "outputs": [],
   "source": [
    "def model(features_train,features_valid,target_train,target_valid):\n",
    "    \n",
    "    model = LinearRegression()\n",
    "    model.fit(features_train,target_train)\n",
    "    prediction = pd.Series(model.predict(features_valid),name='prediction')\n",
    "    \n",
    "    #возвращаем DataFrame с предсказаниями модели и целевым валидационным признаком\n",
    "    return prediction.to_frame().join(target_valid.reset_index(drop=True))"
   ]
  },
  {
   "cell_type": "code",
   "execution_count": 13,
   "metadata": {},
   "outputs": [],
   "source": [
    "region_0 = model(features_train_0, features_valid_0, target_train_0, target_valid_0)"
   ]
  },
  {
   "cell_type": "code",
   "execution_count": 14,
   "metadata": {},
   "outputs": [],
   "source": [
    "region_1 = model(features_train_1, features_valid_1, target_train_1, target_valid_1)"
   ]
  },
  {
   "cell_type": "code",
   "execution_count": 15,
   "metadata": {},
   "outputs": [],
   "source": [
    "region_2 = model(features_train_2, features_valid_2, target_train_2, target_valid_2)"
   ]
  },
  {
   "cell_type": "markdown",
   "metadata": {},
   "source": [
    "### Рассчитаем средний запас предсказанного сырья и RMSE модели"
   ]
  },
  {
   "cell_type": "code",
   "execution_count": 16,
   "metadata": {},
   "outputs": [],
   "source": [
    "def propeties(region):\n",
    "    region_0_avg_prediction = region['prediction'].mean()\n",
    "    r2 = r2_score(region['product'],region['prediction'])\n",
    "    mse = mean_squared_error(region['product'],region['prediction'])\n",
    "    rmse = mse ** 0.5\n",
    "    \n",
    "    print('Средний запас предсказанного сырья: ',region_0_avg_prediction)\n",
    "    print('R2 модели: ',r2)\n",
    "    print('RMSE модели: ',rmse)"
   ]
  },
  {
   "cell_type": "code",
   "execution_count": 17,
   "metadata": {},
   "outputs": [
    {
     "name": "stdout",
     "output_type": "stream",
     "text": [
      "Средний запас предсказанного сырья:  92.59256778438035\n",
      "R2 модели:  0.27994321524487786\n",
      "RMSE модели:  37.5794217150813\n"
     ]
    }
   ],
   "source": [
    "propeties(region_0)"
   ]
  },
  {
   "cell_type": "code",
   "execution_count": 18,
   "metadata": {},
   "outputs": [
    {
     "name": "stdout",
     "output_type": "stream",
     "text": [
      "Средний запас предсказанного сырья:  68.728546895446\n",
      "R2 модели:  0.9996233978805127\n",
      "RMSE модели:  0.893099286775617\n"
     ]
    }
   ],
   "source": [
    "propeties(region_1)"
   ]
  },
  {
   "cell_type": "code",
   "execution_count": 19,
   "metadata": {
    "scrolled": true
   },
   "outputs": [
    {
     "name": "stdout",
     "output_type": "stream",
     "text": [
      "Средний запас предсказанного сырья:  94.96504596800489\n",
      "R2 модели:  0.20524758386040443\n",
      "RMSE модели:  40.02970873393434\n"
     ]
    }
   ],
   "source": [
    "propeties(region_2)"
   ]
  },
  {
   "cell_type": "markdown",
   "metadata": {},
   "source": [
    "### Анализ результата"
   ]
  },
  {
   "cell_type": "markdown",
   "metadata": {},
   "source": [
    "- Наибольший ср запас сырья в регионе 2 (но и качество модели здесь самое низкой)\n",
    "- Чуть меньше ср запас сырья в регионе 0, и качество модели чуть лучше\n",
    "- ср запас 1 региона на 30% ниже запаса остальных регионов, но качество модели здесь колоссальное\n",
    "- RMSE модели 1 региона очень низкий (на фоне остальных регионов), что говорит о высокой точности предсказаний (это так же подтверждает и показатель R2 равный 0.999)"
   ]
  },
  {
   "cell_type": "markdown",
   "metadata": {},
   "source": [
    "## Подготовка к расчёту прибыли"
   ]
  },
  {
   "cell_type": "markdown",
   "metadata": {},
   "source": [
    "Условия:\n",
    "- При разведке региона исследуют 500 точек, из которых с помощью машинного обучения выбирают 200 лучших для разработки.\n",
    "- Бюджет на разработку скважин в регионе — 10 млрд рублей.\n",
    "- При нынешних ценах один баррель сырья приносит 450 рублей дохода. Доход с каждой единицы продукта составляет 450 тыс. рублей, поскольку объём указан в тысячах баррелей.\n",
    "- После оценки рисков нужно оставить лишь те регионы, в которых вероятность убытков меньше 2.5%. Среди них выбирают регион с наибольшей средней прибылью."
   ]
  },
  {
   "cell_type": "markdown",
   "metadata": {},
   "source": [
    "### Все ключевые значения для расчётов"
   ]
  },
  {
   "cell_type": "code",
   "execution_count": 20,
   "metadata": {},
   "outputs": [],
   "source": [
    "COST_PRICE= 10000000000 # общий бюджет на разработку скважин в регионе"
   ]
  },
  {
   "cell_type": "code",
   "execution_count": 21,
   "metadata": {},
   "outputs": [],
   "source": [
    "THOUSAND_BAR_COST= 450000 # доход 1000 баррелей"
   ]
  },
  {
   "cell_type": "code",
   "execution_count": 22,
   "metadata": {},
   "outputs": [],
   "source": [
    "BOREHOLE_COUNT= 200 # кол-во лучших отобранных скважен для разработки"
   ]
  },
  {
   "cell_type": "code",
   "execution_count": 23,
   "metadata": {},
   "outputs": [],
   "source": [
    "ONE_BOREHOLE_BUDGET = COST_PRICE / BOREHOLE_COUNT # бюджет разработки одной скважины"
   ]
  },
  {
   "cell_type": "markdown",
   "metadata": {},
   "source": [
    "### Расчет"
   ]
  },
  {
   "cell_type": "code",
   "execution_count": 24,
   "metadata": {
    "scrolled": true
   },
   "outputs": [
    {
     "name": "stdout",
     "output_type": "stream",
     "text": [
      "Достаточный объём сырья для безубыточной разработки новой скважины:  111.1 тыс. баррелей\n"
     ]
    }
   ],
   "source": [
    "MIN_VOLUME = ONE_BOREHOLE_BUDGET / THOUSAND_BAR_COST\n",
    "print('Достаточный объём сырья для безубыточной разработки новой скважины: ', round(MIN_VOLUME,1), 'тыс. баррелей')"
   ]
  },
  {
   "cell_type": "markdown",
   "metadata": {},
   "source": [
    "- Ни один из регионов не дотягивает до безубыточного рубежа, но ближе всех регион 1 с показателем 94,96 тыс. баррелей.\n",
    "- Но, так как мы будем брать 200 лучших по предсказаниям скважин в регионе, то их средняя вероятнее всего будет выше безубыточной"
   ]
  },
  {
   "cell_type": "markdown",
   "metadata": {},
   "source": [
    "## Расчёт прибыли лучших скважин"
   ]
  },
  {
   "cell_type": "code",
   "execution_count": 25,
   "metadata": {},
   "outputs": [],
   "source": [
    "def calculation(region,borehole_count=200):\n",
    "    \n",
    "    region_top_predicted_volume = sum(region.sort_values(by='prediction' ,ascending=False)['product'][:borehole_count])\n",
    "    sum_income = region_top_predicted_volume * THOUSAND_BAR_COST\n",
    "    profit = sum_income - COST_PRICE\n",
    "\n",
    "    print('Прибыль от', borehole_count,'лучших скважин:', round(profit,2), 'руб','(',round(profit*10/COST_PRICE,3),'млрд. руб)')"
   ]
  },
  {
   "cell_type": "markdown",
   "metadata": {},
   "source": [
    "Регион 0"
   ]
  },
  {
   "cell_type": "code",
   "execution_count": 26,
   "metadata": {},
   "outputs": [
    {
     "name": "stdout",
     "output_type": "stream",
     "text": [
      "Прибыль от 200 лучших скважин: 3320826043.14 руб ( 3.321 млрд. руб)\n"
     ]
    }
   ],
   "source": [
    "calculation(region_0,borehole_count=BOREHOLE_COUNT)"
   ]
  },
  {
   "cell_type": "markdown",
   "metadata": {},
   "source": [
    "Регион 1"
   ]
  },
  {
   "cell_type": "code",
   "execution_count": 27,
   "metadata": {},
   "outputs": [
    {
     "name": "stdout",
     "output_type": "stream",
     "text": [
      "Прибыль от 200 лучших скважин: 2415086696.68 руб ( 2.415 млрд. руб)\n"
     ]
    }
   ],
   "source": [
    "calculation(region_1,borehole_count=BOREHOLE_COUNT)"
   ]
  },
  {
   "cell_type": "markdown",
   "metadata": {},
   "source": [
    "Регион 2"
   ]
  },
  {
   "cell_type": "code",
   "execution_count": 28,
   "metadata": {},
   "outputs": [
    {
     "name": "stdout",
     "output_type": "stream",
     "text": [
      "Прибыль от 200 лучших скважин: 2710349963.6 руб ( 2.71 млрд. руб)\n"
     ]
    }
   ],
   "source": [
    "calculation(region_2,borehole_count=BOREHOLE_COUNT)"
   ]
  },
  {
   "cell_type": "markdown",
   "metadata": {},
   "source": [
    "## Расчет рисков"
   ]
  },
  {
   "cell_type": "markdown",
   "metadata": {},
   "source": [
    "- [x] При помощи техники Bootstrap посчитаем среднюю прибыль на 1000 выборок по 500 скважин, из которых мы каждый раз будем выбирать 200 лучших скважин.\n",
    "- [x] Выделим 95%-й доверительный интервал.\n",
    "- [x] И посчитаем вероятность убытка, как отношение кол-ва случаев с отрицательной прибылью ко всем случаям"
   ]
  },
  {
   "cell_type": "code",
   "execution_count": 33,
   "metadata": {},
   "outputs": [],
   "source": [
    "def stat(region):\n",
    "\n",
    "    state = np.random.RandomState(12345)\n",
    "\n",
    "    values = []\n",
    "\n",
    "    for i in range(1000):\n",
    "        subsample = region.sample(500, replace=True, random_state=state)\n",
    "        subsample_best_200 = subsample.sort_values(by='prediction', ascending=False)[:200]\n",
    "        profit = (subsample_best_200['product'] - MIN_VOLUME) * THOUSAND_BAR_COST\n",
    "        values.append(profit.sum())\n",
    "\n",
    "    values = pd.Series(values)\n",
    "\n",
    "    lower = values.quantile(0.025)\n",
    "    upper = values.quantile(0.975)\n",
    "\n",
    "    negative_probability = (values < 0).mean() * 100\n",
    "\n",
    "    print('Средняя прибыль: ',round(values.mean(),2),'руб')\n",
    "    print('95%-й доверительный интервал от:',round(lower,2),'руб до',round(upper,2),'руб')\n",
    "    print('Вероятность убытка:',negative_probability,'%')"
   ]
  },
  {
   "cell_type": "markdown",
   "metadata": {},
   "source": [
    "Регион 0"
   ]
  },
  {
   "cell_type": "code",
   "execution_count": 34,
   "metadata": {},
   "outputs": [
    {
     "name": "stdout",
     "output_type": "stream",
     "text": [
      "Средняя прибыль:  396164984.8 руб\n",
      "95%-й доверительный интервал от: -111215545.89 руб до 909766941.55 руб\n",
      "Вероятность убытка: 6.9 %\n"
     ]
    }
   ],
   "source": [
    "stat(region_0)"
   ]
  },
  {
   "cell_type": "markdown",
   "metadata": {},
   "source": [
    "Регион 1"
   ]
  },
  {
   "cell_type": "code",
   "execution_count": 35,
   "metadata": {
    "scrolled": true
   },
   "outputs": [
    {
     "name": "stdout",
     "output_type": "stream",
     "text": [
      "Средняя прибыль:  456045105.79 руб\n",
      "95%-й доверительный интервал от: 33820509.4 руб до 852289453.87 руб\n",
      "Вероятность убытка: 1.5 %\n"
     ]
    }
   ],
   "source": [
    "stat(region_1)"
   ]
  },
  {
   "cell_type": "markdown",
   "metadata": {},
   "source": [
    "Регион 2"
   ]
  },
  {
   "cell_type": "code",
   "execution_count": 36,
   "metadata": {
    "scrolled": true
   },
   "outputs": [
    {
     "name": "stdout",
     "output_type": "stream",
     "text": [
      "Средняя прибыль:  404403866.57 руб\n",
      "95%-й доверительный интервал от: -163350413.4 руб до 950359574.92 руб\n",
      "Вероятность убытка: 7.6 %\n"
     ]
    }
   ],
   "source": [
    "stat(region_2)"
   ]
  },
  {
   "cell_type": "markdown",
   "metadata": {},
   "source": [
    "> Так как целевая вероятность риска в данном проекте 2,5%, то единственный регион, который укладывается в норму - **регион 1**"
   ]
  },
  {
   "cell_type": "markdown",
   "metadata": {},
   "source": [
    ">Предлагаю для разработки новых скважин выбрать **регион 1**, как наилучший по соотношению прибыль/риск."
   ]
  },
  {
   "cell_type": "code",
   "execution_count": null,
   "metadata": {},
   "outputs": [],
   "source": []
  }
 ],
 "metadata": {
  "ExecuteTimeLog": [
   {
    "duration": 581,
    "start_time": "2023-04-22T09:20:21.372Z"
   },
   {
    "duration": 2,
    "start_time": "2023-04-22T09:20:37.649Z"
   },
   {
    "duration": 1371,
    "start_time": "2023-04-22T09:21:47.707Z"
   },
   {
    "duration": 40,
    "start_time": "2023-04-22T09:22:06.021Z"
   },
   {
    "duration": 65,
    "start_time": "2023-04-22T09:22:23.011Z"
   },
   {
    "duration": 10,
    "start_time": "2023-04-22T09:22:33.346Z"
   },
   {
    "duration": 26,
    "start_time": "2023-04-22T09:23:46.879Z"
   },
   {
    "duration": 90,
    "start_time": "2023-04-22T09:23:46.908Z"
   },
   {
    "duration": 17,
    "start_time": "2023-04-22T09:23:47.000Z"
   },
   {
    "duration": 59,
    "start_time": "2023-04-22T09:23:47.019Z"
   },
   {
    "duration": 78,
    "start_time": "2023-04-22T09:23:47.081Z"
   },
   {
    "duration": 24,
    "start_time": "2023-04-22T09:23:47.161Z"
   },
   {
    "duration": 17,
    "start_time": "2023-04-22T09:24:12.232Z"
   },
   {
    "duration": 34,
    "start_time": "2023-04-22T09:24:51.314Z"
   },
   {
    "duration": 28,
    "start_time": "2023-04-22T09:25:07.710Z"
   },
   {
    "duration": 1627,
    "start_time": "2023-04-22T09:25:50.514Z"
   },
   {
    "duration": 598,
    "start_time": "2023-04-22T09:25:56.769Z"
   },
   {
    "duration": 756,
    "start_time": "2023-04-22T09:26:20.757Z"
   },
   {
    "duration": 115,
    "start_time": "2023-04-22T09:27:48.226Z"
   },
   {
    "duration": 22242,
    "start_time": "2023-04-22T09:28:11.626Z"
   },
   {
    "duration": 1938,
    "start_time": "2023-04-22T09:28:41.677Z"
   },
   {
    "duration": 32188,
    "start_time": "2023-04-22T09:29:07.747Z"
   },
   {
    "duration": 32100,
    "start_time": "2023-04-22T09:31:22.648Z"
   },
   {
    "duration": 32947,
    "start_time": "2023-04-22T09:31:54.755Z"
   },
   {
    "duration": 12,
    "start_time": "2023-04-22T09:39:26.049Z"
   },
   {
    "duration": 1154,
    "start_time": "2023-04-22T09:39:26.093Z"
   },
   {
    "duration": 44704,
    "start_time": "2023-04-22T09:39:27.249Z"
   },
   {
    "duration": 32468,
    "start_time": "2023-04-22T09:40:11.960Z"
   },
   {
    "duration": 33224,
    "start_time": "2023-04-22T09:40:44.436Z"
   },
   {
    "duration": 22,
    "start_time": "2023-04-22T09:45:33.416Z"
   },
   {
    "duration": 23,
    "start_time": "2023-04-22T09:45:39.069Z"
   },
   {
    "duration": 18,
    "start_time": "2023-04-22T09:45:41.447Z"
   },
   {
    "duration": 5,
    "start_time": "2023-04-22T09:47:16.421Z"
   },
   {
    "duration": 5,
    "start_time": "2023-04-22T09:47:20.019Z"
   },
   {
    "duration": 7,
    "start_time": "2023-04-22T09:47:22.683Z"
   },
   {
    "duration": 296,
    "start_time": "2023-04-22T10:02:00.852Z"
   },
   {
    "duration": 157,
    "start_time": "2023-04-22T10:03:43.624Z"
   },
   {
    "duration": 10,
    "start_time": "2023-04-22T10:06:39.307Z"
   },
   {
    "duration": 11,
    "start_time": "2023-04-22T10:06:54.460Z"
   },
   {
    "duration": 25,
    "start_time": "2023-04-22T10:07:31.332Z"
   },
   {
    "duration": 15,
    "start_time": "2023-04-22T10:07:43.113Z"
   },
   {
    "duration": 475,
    "start_time": "2023-04-22T10:09:41.164Z"
   },
   {
    "duration": 24,
    "start_time": "2023-04-22T10:10:28.915Z"
   },
   {
    "duration": 33,
    "start_time": "2023-04-22T10:10:55.747Z"
   },
   {
    "duration": 29,
    "start_time": "2023-04-22T10:11:11.848Z"
   },
   {
    "duration": 14,
    "start_time": "2023-04-22T10:11:22.154Z"
   },
   {
    "duration": 63,
    "start_time": "2023-04-22T10:11:36.346Z"
   },
   {
    "duration": 61,
    "start_time": "2023-04-22T10:12:10.076Z"
   },
   {
    "duration": 60,
    "start_time": "2023-04-22T10:12:14.860Z"
   },
   {
    "duration": 31,
    "start_time": "2023-04-22T10:19:52.271Z"
   },
   {
    "duration": 35,
    "start_time": "2023-04-22T10:32:07.577Z"
   },
   {
    "duration": 3345,
    "start_time": "2023-04-22T10:39:16.318Z"
   },
   {
    "duration": 29,
    "start_time": "2023-04-22T10:43:50.119Z"
   },
   {
    "duration": 16,
    "start_time": "2023-04-22T10:46:51.582Z"
   },
   {
    "duration": 14,
    "start_time": "2023-04-22T10:47:04.516Z"
   },
   {
    "duration": 61,
    "start_time": "2023-04-22T10:49:04.034Z"
   },
   {
    "duration": 25,
    "start_time": "2023-04-22T10:51:56.931Z"
   },
   {
    "duration": 5,
    "start_time": "2023-04-22T10:56:20.910Z"
   },
   {
    "duration": 199,
    "start_time": "2023-04-22T10:57:15.906Z"
   },
   {
    "duration": 37,
    "start_time": "2023-04-22T10:57:22.163Z"
   },
   {
    "duration": 5,
    "start_time": "2023-04-22T10:58:24.655Z"
   },
   {
    "duration": 23,
    "start_time": "2023-04-22T10:58:54.957Z"
   },
   {
    "duration": 5,
    "start_time": "2023-04-22T11:00:40.088Z"
   },
   {
    "duration": 46,
    "start_time": "2023-04-22T11:08:12.660Z"
   },
   {
    "duration": 11,
    "start_time": "2023-04-22T11:12:18.825Z"
   },
   {
    "duration": 21,
    "start_time": "2023-04-22T11:12:56.557Z"
   },
   {
    "duration": 23,
    "start_time": "2023-04-22T11:13:08.716Z"
   },
   {
    "duration": 59,
    "start_time": "2023-04-22T11:13:17.529Z"
   },
   {
    "duration": 4,
    "start_time": "2023-04-22T11:28:22.674Z"
   },
   {
    "duration": 101,
    "start_time": "2023-04-22T11:28:34.307Z"
   },
   {
    "duration": 15,
    "start_time": "2023-04-22T11:28:40.510Z"
   },
   {
    "duration": 6,
    "start_time": "2023-04-22T11:28:55.775Z"
   },
   {
    "duration": 4,
    "start_time": "2023-04-22T11:29:28.659Z"
   },
   {
    "duration": 106,
    "start_time": "2023-04-22T11:29:30.483Z"
   },
   {
    "duration": 17,
    "start_time": "2023-04-22T11:29:33.900Z"
   },
   {
    "duration": 6,
    "start_time": "2023-04-22T11:29:42.604Z"
   },
   {
    "duration": 14,
    "start_time": "2023-04-22T11:29:58.601Z"
   },
   {
    "duration": 5,
    "start_time": "2023-04-22T11:31:04.447Z"
   },
   {
    "duration": 19,
    "start_time": "2023-04-22T11:31:05.362Z"
   },
   {
    "duration": 20,
    "start_time": "2023-04-22T11:31:06.589Z"
   },
   {
    "duration": 9,
    "start_time": "2023-04-22T11:32:01.272Z"
   },
   {
    "duration": 5,
    "start_time": "2023-04-22T11:33:31.709Z"
   },
   {
    "duration": 6,
    "start_time": "2023-04-22T11:34:45.607Z"
   },
   {
    "duration": 36,
    "start_time": "2023-04-22T11:34:46.675Z"
   },
   {
    "duration": 7,
    "start_time": "2023-04-22T11:34:51.882Z"
   },
   {
    "duration": 8,
    "start_time": "2023-04-22T11:35:04.104Z"
   },
   {
    "duration": 9,
    "start_time": "2023-04-22T11:35:19.796Z"
   },
   {
    "duration": 57,
    "start_time": "2023-04-22T11:35:20.677Z"
   },
   {
    "duration": 9,
    "start_time": "2023-04-22T11:35:21.393Z"
   },
   {
    "duration": 24,
    "start_time": "2023-04-22T11:35:44.834Z"
   },
   {
    "duration": 19,
    "start_time": "2023-04-22T11:35:45.181Z"
   },
   {
    "duration": 20,
    "start_time": "2023-04-22T11:35:52.186Z"
   },
   {
    "duration": 9,
    "start_time": "2023-04-22T11:35:56.576Z"
   },
   {
    "duration": 5900,
    "start_time": "2023-04-22T11:39:14.831Z"
   },
   {
    "duration": 1082,
    "start_time": "2023-04-22T11:39:20.734Z"
   },
   {
    "duration": 13,
    "start_time": "2023-04-22T11:39:21.818Z"
   },
   {
    "duration": 34240,
    "start_time": "2023-04-22T11:39:21.833Z"
   },
   {
    "duration": 27981,
    "start_time": "2023-04-22T11:39:56.075Z"
   },
   {
    "duration": 29010,
    "start_time": "2023-04-22T11:40:24.059Z"
   },
   {
    "duration": 36,
    "start_time": "2023-04-22T11:40:53.071Z"
   },
   {
    "duration": 49,
    "start_time": "2023-04-22T11:40:53.110Z"
   },
   {
    "duration": 4,
    "start_time": "2023-04-22T11:40:53.161Z"
   },
   {
    "duration": 34,
    "start_time": "2023-04-22T11:40:53.168Z"
   },
   {
    "duration": 206,
    "start_time": "2023-04-22T11:40:53.204Z"
   },
   {
    "duration": 200,
    "start_time": "2023-04-22T11:40:53.412Z"
   },
   {
    "duration": 85,
    "start_time": "2023-04-22T11:40:53.614Z"
   },
   {
    "duration": 17,
    "start_time": "2023-04-22T11:41:31.882Z"
   },
   {
    "duration": 5,
    "start_time": "2023-04-22T11:42:31.172Z"
   },
   {
    "duration": 6,
    "start_time": "2023-04-22T11:42:36.713Z"
   },
   {
    "duration": 5,
    "start_time": "2023-04-22T11:45:43.047Z"
   },
   {
    "duration": 6,
    "start_time": "2023-04-22T11:45:55.619Z"
   },
   {
    "duration": 8,
    "start_time": "2023-04-22T11:46:08.500Z"
   },
   {
    "duration": 6,
    "start_time": "2023-04-22T11:46:10.312Z"
   },
   {
    "duration": 5,
    "start_time": "2023-04-22T11:48:12.112Z"
   },
   {
    "duration": 32,
    "start_time": "2023-04-22T11:48:12.390Z"
   },
   {
    "duration": 16,
    "start_time": "2023-04-22T11:48:12.650Z"
   },
   {
    "duration": 16,
    "start_time": "2023-04-22T11:48:12.920Z"
   },
   {
    "duration": 4,
    "start_time": "2023-04-22T11:51:45.605Z"
   },
   {
    "duration": 7,
    "start_time": "2023-04-22T11:51:46.205Z"
   },
   {
    "duration": 7,
    "start_time": "2023-04-22T11:51:47.015Z"
   },
   {
    "duration": 8,
    "start_time": "2023-04-22T11:51:47.275Z"
   },
   {
    "duration": 187,
    "start_time": "2023-04-22T11:58:31.624Z"
   },
   {
    "duration": 6,
    "start_time": "2023-04-22T11:58:57.368Z"
   },
   {
    "duration": 18,
    "start_time": "2023-04-22T12:06:00.586Z"
   },
   {
    "duration": 199,
    "start_time": "2023-04-22T12:07:34.572Z"
   },
   {
    "duration": 14,
    "start_time": "2023-04-22T12:07:38.642Z"
   },
   {
    "duration": 18,
    "start_time": "2023-04-22T12:07:54.104Z"
   },
   {
    "duration": 25,
    "start_time": "2023-04-22T12:08:12.483Z"
   },
   {
    "duration": 14,
    "start_time": "2023-04-22T12:08:29.156Z"
   },
   {
    "duration": 10,
    "start_time": "2023-04-22T12:08:48.158Z"
   },
   {
    "duration": 9,
    "start_time": "2023-04-22T12:08:53.543Z"
   },
   {
    "duration": 7,
    "start_time": "2023-04-22T12:09:31.278Z"
   },
   {
    "duration": 8,
    "start_time": "2023-04-22T12:10:03.907Z"
   },
   {
    "duration": 6,
    "start_time": "2023-04-22T12:10:04.120Z"
   },
   {
    "duration": 8,
    "start_time": "2023-04-22T12:10:23.573Z"
   },
   {
    "duration": 6,
    "start_time": "2023-04-22T12:10:23.838Z"
   },
   {
    "duration": 36,
    "start_time": "2023-04-22T12:13:27.878Z"
   },
   {
    "duration": 10,
    "start_time": "2023-04-22T12:13:55.906Z"
   },
   {
    "duration": 13,
    "start_time": "2023-04-22T12:14:23.088Z"
   },
   {
    "duration": 11,
    "start_time": "2023-04-22T12:14:38.213Z"
   },
   {
    "duration": 7,
    "start_time": "2023-04-22T12:16:17.937Z"
   },
   {
    "duration": 14,
    "start_time": "2023-04-22T12:16:37.987Z"
   },
   {
    "duration": 14,
    "start_time": "2023-04-22T12:16:40.117Z"
   },
   {
    "duration": 6,
    "start_time": "2023-04-22T12:19:25.566Z"
   },
   {
    "duration": 9,
    "start_time": "2023-04-22T12:20:57.715Z"
   },
   {
    "duration": 10,
    "start_time": "2023-04-22T12:21:21.880Z"
   },
   {
    "duration": 11,
    "start_time": "2023-04-22T12:21:44.079Z"
   },
   {
    "duration": 5,
    "start_time": "2023-04-22T12:22:37.815Z"
   },
   {
    "duration": 5,
    "start_time": "2023-04-22T12:23:20.548Z"
   },
   {
    "duration": 4,
    "start_time": "2023-04-22T12:25:46.035Z"
   },
   {
    "duration": 4,
    "start_time": "2023-04-22T12:25:49.177Z"
   },
   {
    "duration": 9,
    "start_time": "2023-04-22T12:26:32.218Z"
   },
   {
    "duration": 8,
    "start_time": "2023-04-22T12:26:37.054Z"
   },
   {
    "duration": 13,
    "start_time": "2023-04-22T12:26:41.112Z"
   },
   {
    "duration": 8,
    "start_time": "2023-04-22T12:27:11.241Z"
   },
   {
    "duration": 9,
    "start_time": "2023-04-22T12:27:11.517Z"
   },
   {
    "duration": 9,
    "start_time": "2023-04-22T12:27:11.846Z"
   },
   {
    "duration": 5,
    "start_time": "2023-04-22T12:28:22.270Z"
   },
   {
    "duration": 11,
    "start_time": "2023-04-22T12:28:45.834Z"
   },
   {
    "duration": 9,
    "start_time": "2023-04-22T12:28:55.020Z"
   },
   {
    "duration": 10,
    "start_time": "2023-04-22T12:29:09.254Z"
   },
   {
    "duration": 11,
    "start_time": "2023-04-22T12:30:00.450Z"
   },
   {
    "duration": 10,
    "start_time": "2023-04-22T12:30:01.114Z"
   },
   {
    "duration": 10,
    "start_time": "2023-04-22T12:30:01.812Z"
   },
   {
    "duration": 7,
    "start_time": "2023-04-22T12:30:02.714Z"
   },
   {
    "duration": 5,
    "start_time": "2023-04-22T12:30:03.947Z"
   },
   {
    "duration": 5,
    "start_time": "2023-04-22T12:30:11.415Z"
   },
   {
    "duration": 9,
    "start_time": "2023-04-22T12:35:12.236Z"
   },
   {
    "duration": 6,
    "start_time": "2023-04-22T12:47:30.225Z"
   },
   {
    "duration": 18,
    "start_time": "2023-04-22T12:47:58.175Z"
   },
   {
    "duration": 11,
    "start_time": "2023-04-22T12:48:04.514Z"
   },
   {
    "duration": 8,
    "start_time": "2023-04-22T12:48:17.550Z"
   },
   {
    "duration": 12,
    "start_time": "2023-04-22T12:49:25.735Z"
   },
   {
    "duration": 3,
    "start_time": "2023-04-22T12:49:57.478Z"
   },
   {
    "duration": 16,
    "start_time": "2023-04-22T12:50:10.544Z"
   },
   {
    "duration": 14,
    "start_time": "2023-04-22T12:50:33.918Z"
   },
   {
    "duration": 8,
    "start_time": "2023-04-22T12:51:17.088Z"
   },
   {
    "duration": 8,
    "start_time": "2023-04-22T12:51:36.071Z"
   },
   {
    "duration": 8,
    "start_time": "2023-04-22T12:51:37.157Z"
   },
   {
    "duration": 10,
    "start_time": "2023-04-22T12:51:37.387Z"
   },
   {
    "duration": 11,
    "start_time": "2023-04-22T12:51:53.219Z"
   },
   {
    "duration": 11,
    "start_time": "2023-04-22T12:51:53.522Z"
   },
   {
    "duration": 11,
    "start_time": "2023-04-22T12:51:53.809Z"
   },
   {
    "duration": 13,
    "start_time": "2023-04-22T12:51:58.886Z"
   },
   {
    "duration": 11,
    "start_time": "2023-04-22T12:51:59.616Z"
   },
   {
    "duration": 9,
    "start_time": "2023-04-22T12:52:00.417Z"
   },
   {
    "duration": 18,
    "start_time": "2023-04-22T12:52:00.715Z"
   },
   {
    "duration": 5,
    "start_time": "2023-04-22T12:53:20.542Z"
   },
   {
    "duration": 9,
    "start_time": "2023-04-22T12:53:20.958Z"
   },
   {
    "duration": 6,
    "start_time": "2023-04-22T12:53:40.744Z"
   },
   {
    "duration": 10,
    "start_time": "2023-04-22T12:53:41.425Z"
   },
   {
    "duration": 8,
    "start_time": "2023-04-22T12:53:43.649Z"
   },
   {
    "duration": 9,
    "start_time": "2023-04-22T12:53:44.452Z"
   },
   {
    "duration": 3,
    "start_time": "2023-04-22T13:01:19.153Z"
   },
   {
    "duration": 3,
    "start_time": "2023-04-22T13:01:19.382Z"
   },
   {
    "duration": 5,
    "start_time": "2023-04-22T13:01:25.474Z"
   },
   {
    "duration": 17,
    "start_time": "2023-04-22T13:01:36.497Z"
   },
   {
    "duration": 8,
    "start_time": "2023-04-22T13:01:37.316Z"
   },
   {
    "duration": 9,
    "start_time": "2023-04-22T13:01:43.834Z"
   },
   {
    "duration": 9,
    "start_time": "2023-04-22T13:01:46.231Z"
   },
   {
    "duration": 4,
    "start_time": "2023-04-22T13:02:13.114Z"
   },
   {
    "duration": 8,
    "start_time": "2023-04-22T13:02:14.164Z"
   },
   {
    "duration": 5,
    "start_time": "2023-04-22T13:02:25.110Z"
   },
   {
    "duration": 10,
    "start_time": "2023-04-22T13:02:25.465Z"
   },
   {
    "duration": 8,
    "start_time": "2023-04-22T13:02:26.322Z"
   },
   {
    "duration": 10,
    "start_time": "2023-04-22T13:02:26.810Z"
   },
   {
    "duration": 5,
    "start_time": "2023-04-22T13:07:27.490Z"
   },
   {
    "duration": 4,
    "start_time": "2023-04-22T13:07:46.230Z"
   },
   {
    "duration": 9,
    "start_time": "2023-04-22T13:07:51.028Z"
   },
   {
    "duration": 14,
    "start_time": "2023-04-22T13:07:52.909Z"
   },
   {
    "duration": 8,
    "start_time": "2023-04-22T13:07:53.528Z"
   },
   {
    "duration": 11,
    "start_time": "2023-04-22T13:08:03.823Z"
   },
   {
    "duration": 10,
    "start_time": "2023-04-22T13:08:04.608Z"
   },
   {
    "duration": 7,
    "start_time": "2023-04-22T13:08:05.365Z"
   },
   {
    "duration": 13,
    "start_time": "2023-04-22T13:16:13.607Z"
   },
   {
    "duration": 10,
    "start_time": "2023-04-22T13:16:29.637Z"
   },
   {
    "duration": 9,
    "start_time": "2023-04-22T13:16:52.438Z"
   },
   {
    "duration": 9,
    "start_time": "2023-04-22T13:17:24.076Z"
   },
   {
    "duration": 9,
    "start_time": "2023-04-22T13:17:40.824Z"
   },
   {
    "duration": 8,
    "start_time": "2023-04-22T13:17:44.708Z"
   },
   {
    "duration": 11,
    "start_time": "2023-04-22T13:17:54.998Z"
   },
   {
    "duration": 8,
    "start_time": "2023-04-22T13:18:37.814Z"
   },
   {
    "duration": 12,
    "start_time": "2023-04-22T13:18:45.554Z"
   },
   {
    "duration": 8,
    "start_time": "2023-04-22T13:18:52.344Z"
   },
   {
    "duration": 18,
    "start_time": "2023-04-22T13:18:56.586Z"
   },
   {
    "duration": 18,
    "start_time": "2023-04-22T13:23:41.648Z"
   },
   {
    "duration": 4,
    "start_time": "2023-04-22T13:23:55.371Z"
   },
   {
    "duration": 16031,
    "start_time": "2023-04-22T13:24:08.210Z"
   },
   {
    "duration": 1534,
    "start_time": "2023-04-22T13:24:26.981Z"
   },
   {
    "duration": 1585,
    "start_time": "2023-04-22T13:25:18.786Z"
   },
   {
    "duration": 1517,
    "start_time": "2023-04-22T13:25:23.204Z"
   },
   {
    "duration": 1505,
    "start_time": "2023-04-22T13:25:27.077Z"
   },
   {
    "duration": 1653,
    "start_time": "2023-04-22T13:25:30.322Z"
   },
   {
    "duration": 1661,
    "start_time": "2023-04-22T13:25:39.643Z"
   },
   {
    "duration": 7,
    "start_time": "2023-04-22T13:28:00.454Z"
   },
   {
    "duration": 1668,
    "start_time": "2023-04-22T13:28:19.077Z"
   },
   {
    "duration": 1559,
    "start_time": "2023-04-22T13:30:21.675Z"
   },
   {
    "duration": 1537,
    "start_time": "2023-04-22T13:30:33.742Z"
   },
   {
    "duration": 1545,
    "start_time": "2023-04-22T13:30:49.040Z"
   },
   {
    "duration": 1509,
    "start_time": "2023-04-22T13:30:58.837Z"
   },
   {
    "duration": 1546,
    "start_time": "2023-04-22T13:31:27.179Z"
   },
   {
    "duration": 4724,
    "start_time": "2023-04-22T13:32:48.616Z"
   },
   {
    "duration": 3126,
    "start_time": "2023-04-22T13:33:24.196Z"
   },
   {
    "duration": 18,
    "start_time": "2023-04-22T13:33:33.012Z"
   },
   {
    "duration": 51,
    "start_time": "2023-04-22T13:33:36.181Z"
   },
   {
    "duration": 1889,
    "start_time": "2023-04-22T13:33:38.513Z"
   },
   {
    "duration": 1577,
    "start_time": "2023-04-22T13:34:02.670Z"
   },
   {
    "duration": 766,
    "start_time": "2023-04-22T13:36:58.334Z"
   },
   {
    "duration": 743,
    "start_time": "2023-04-22T13:37:05.933Z"
   },
   {
    "duration": 733,
    "start_time": "2023-04-22T13:37:12.051Z"
   },
   {
    "duration": 745,
    "start_time": "2023-04-22T13:40:35.082Z"
   },
   {
    "duration": 757,
    "start_time": "2023-04-22T13:40:56.210Z"
   },
   {
    "duration": 799,
    "start_time": "2023-04-22T13:41:21.925Z"
   },
   {
    "duration": 799,
    "start_time": "2023-04-22T13:41:30.807Z"
   },
   {
    "duration": 757,
    "start_time": "2023-04-22T13:42:46.777Z"
   },
   {
    "duration": 13,
    "start_time": "2023-04-22T13:43:07.160Z"
   },
   {
    "duration": 9,
    "start_time": "2023-04-22T13:43:11.931Z"
   },
   {
    "duration": 14,
    "start_time": "2023-04-22T13:43:22.249Z"
   },
   {
    "duration": 7,
    "start_time": "2023-04-22T13:43:27.424Z"
   },
   {
    "duration": 7,
    "start_time": "2023-04-22T13:43:35.471Z"
   },
   {
    "duration": 15,
    "start_time": "2023-04-22T13:43:45.008Z"
   },
   {
    "duration": 4,
    "start_time": "2023-04-22T13:43:51.562Z"
   },
   {
    "duration": 13,
    "start_time": "2023-04-22T13:44:04.003Z"
   },
   {
    "duration": 6,
    "start_time": "2023-04-22T13:44:12.809Z"
   },
   {
    "duration": 6,
    "start_time": "2023-04-22T13:44:17.367Z"
   },
   {
    "duration": 16,
    "start_time": "2023-04-22T13:44:43.440Z"
   },
   {
    "duration": 19,
    "start_time": "2023-04-22T13:44:54.204Z"
   },
   {
    "duration": 5,
    "start_time": "2023-04-22T13:45:07.619Z"
   },
   {
    "duration": 5,
    "start_time": "2023-04-22T13:45:21.545Z"
   },
   {
    "duration": 14,
    "start_time": "2023-04-22T13:45:29.704Z"
   },
   {
    "duration": 10,
    "start_time": "2023-04-22T13:45:42.910Z"
   },
   {
    "duration": 15,
    "start_time": "2023-04-22T13:45:56.426Z"
   },
   {
    "duration": 11,
    "start_time": "2023-04-22T13:46:00.599Z"
   },
   {
    "duration": 9,
    "start_time": "2023-04-22T13:46:04.586Z"
   },
   {
    "duration": 7,
    "start_time": "2023-04-22T13:46:22.987Z"
   },
   {
    "duration": 4,
    "start_time": "2023-04-22T13:46:26.448Z"
   },
   {
    "duration": 16,
    "start_time": "2023-04-22T13:46:27.684Z"
   },
   {
    "duration": 5,
    "start_time": "2023-04-22T13:46:32.531Z"
   },
   {
    "duration": 773,
    "start_time": "2023-04-22T13:47:46.089Z"
   },
   {
    "duration": 781,
    "start_time": "2023-04-22T13:48:01.158Z"
   },
   {
    "duration": 762,
    "start_time": "2023-04-22T13:48:05.184Z"
   },
   {
    "duration": 736,
    "start_time": "2023-04-22T13:48:23.932Z"
   },
   {
    "duration": 1206,
    "start_time": "2023-04-22T13:48:43.275Z"
   },
   {
    "duration": 733,
    "start_time": "2023-04-22T13:48:49.426Z"
   },
   {
    "duration": 743,
    "start_time": "2023-04-22T13:48:52.784Z"
   },
   {
    "duration": 727,
    "start_time": "2023-04-22T13:48:56.614Z"
   },
   {
    "duration": 826,
    "start_time": "2023-04-22T13:49:00.937Z"
   },
   {
    "duration": 5,
    "start_time": "2023-04-22T13:49:30.274Z"
   },
   {
    "duration": 10,
    "start_time": "2023-04-22T13:49:30.869Z"
   },
   {
    "duration": 8,
    "start_time": "2023-04-22T13:49:31.476Z"
   },
   {
    "duration": 7,
    "start_time": "2023-04-22T13:49:32.046Z"
   },
   {
    "duration": 3895,
    "start_time": "2023-04-22T13:50:06.966Z"
   },
   {
    "duration": 831,
    "start_time": "2023-04-22T13:50:24.063Z"
   },
   {
    "duration": 28,
    "start_time": "2023-04-22T13:50:40.247Z"
   },
   {
    "duration": 807,
    "start_time": "2023-04-22T13:51:06.190Z"
   },
   {
    "duration": 862,
    "start_time": "2023-04-22T13:52:05.783Z"
   },
   {
    "duration": 207,
    "start_time": "2023-04-22T13:54:29.229Z"
   },
   {
    "duration": 230,
    "start_time": "2023-04-22T13:54:36.520Z"
   },
   {
    "duration": 212,
    "start_time": "2023-04-22T13:54:54.215Z"
   },
   {
    "duration": 269,
    "start_time": "2023-04-22T13:55:38.739Z"
   },
   {
    "duration": 216,
    "start_time": "2023-04-22T13:55:46.259Z"
   },
   {
    "duration": 231,
    "start_time": "2023-04-22T13:56:58.329Z"
   },
   {
    "duration": 214,
    "start_time": "2023-04-22T13:57:22.245Z"
   },
   {
    "duration": 222,
    "start_time": "2023-04-22T13:57:26.448Z"
   },
   {
    "duration": 55,
    "start_time": "2023-04-22T13:59:59.705Z"
   },
   {
    "duration": 529,
    "start_time": "2023-04-22T14:00:03.216Z"
   },
   {
    "duration": 543,
    "start_time": "2023-04-22T14:00:16.433Z"
   },
   {
    "duration": 618,
    "start_time": "2023-04-22T14:00:20.524Z"
   },
   {
    "duration": 526,
    "start_time": "2023-04-22T14:00:26.979Z"
   },
   {
    "duration": 516,
    "start_time": "2023-04-22T14:01:44.717Z"
   },
   {
    "duration": 515,
    "start_time": "2023-04-22T14:01:52.313Z"
   },
   {
    "duration": 539,
    "start_time": "2023-04-22T14:02:23.533Z"
   },
   {
    "duration": 512,
    "start_time": "2023-04-22T14:02:32.262Z"
   },
   {
    "duration": 512,
    "start_time": "2023-04-22T14:02:37.479Z"
   },
   {
    "duration": 506,
    "start_time": "2023-04-22T14:03:29.379Z"
   },
   {
    "duration": 499,
    "start_time": "2023-04-22T14:04:09.820Z"
   },
   {
    "duration": 630,
    "start_time": "2023-04-22T14:07:20.317Z"
   },
   {
    "duration": 4,
    "start_time": "2023-04-22T14:07:22.157Z"
   },
   {
    "duration": 89,
    "start_time": "2023-04-22T14:07:31.567Z"
   },
   {
    "duration": 552,
    "start_time": "2023-04-22T14:07:40.524Z"
   },
   {
    "duration": 609,
    "start_time": "2023-04-22T14:08:40.953Z"
   },
   {
    "duration": 559,
    "start_time": "2023-04-22T14:09:13.676Z"
   },
   {
    "duration": 13,
    "start_time": "2023-04-22T14:10:48.717Z"
   },
   {
    "duration": 18,
    "start_time": "2023-04-22T14:10:52.938Z"
   },
   {
    "duration": 13,
    "start_time": "2023-04-22T14:10:57.326Z"
   },
   {
    "duration": 10,
    "start_time": "2023-04-22T14:11:08.754Z"
   },
   {
    "duration": 9,
    "start_time": "2023-04-22T14:11:13.143Z"
   },
   {
    "duration": 11,
    "start_time": "2023-04-22T14:11:15.858Z"
   },
   {
    "duration": 498,
    "start_time": "2023-04-22T14:12:09.454Z"
   },
   {
    "duration": 483,
    "start_time": "2023-04-22T14:12:12.697Z"
   },
   {
    "duration": 500,
    "start_time": "2023-04-22T14:12:18.236Z"
   },
   {
    "duration": 516,
    "start_time": "2023-04-22T14:12:22.624Z"
   },
   {
    "duration": 487,
    "start_time": "2023-04-22T14:12:35.719Z"
   },
   {
    "duration": 495,
    "start_time": "2023-04-22T14:13:22.699Z"
   },
   {
    "duration": 491,
    "start_time": "2023-04-22T14:13:42.246Z"
   },
   {
    "duration": 6,
    "start_time": "2023-04-22T14:13:53.708Z"
   },
   {
    "duration": 564,
    "start_time": "2023-04-22T14:14:10.712Z"
   },
   {
    "duration": 523,
    "start_time": "2023-04-22T14:14:11.278Z"
   },
   {
    "duration": 503,
    "start_time": "2023-04-22T14:14:11.805Z"
   },
   {
    "duration": 6,
    "start_time": "2023-04-22T14:14:41.658Z"
   },
   {
    "duration": 477,
    "start_time": "2023-04-22T14:14:42.103Z"
   },
   {
    "duration": 479,
    "start_time": "2023-04-22T14:14:42.779Z"
   },
   {
    "duration": 488,
    "start_time": "2023-04-22T14:14:43.267Z"
   },
   {
    "duration": 5,
    "start_time": "2023-04-22T14:14:48.255Z"
   },
   {
    "duration": 6,
    "start_time": "2023-04-22T14:22:31.425Z"
   },
   {
    "duration": 793,
    "start_time": "2023-04-22T14:22:33.157Z"
   },
   {
    "duration": 829,
    "start_time": "2023-04-22T14:22:38.226Z"
   },
   {
    "duration": 910,
    "start_time": "2023-04-22T14:22:40.460Z"
   },
   {
    "duration": 6,
    "start_time": "2023-04-22T14:22:52.020Z"
   },
   {
    "duration": 509,
    "start_time": "2023-04-22T14:22:52.808Z"
   },
   {
    "duration": 538,
    "start_time": "2023-04-22T14:22:54.534Z"
   },
   {
    "duration": 495,
    "start_time": "2023-04-22T14:22:57.250Z"
   },
   {
    "duration": 60,
    "start_time": "2023-04-23T09:15:20.456Z"
   },
   {
    "duration": 409,
    "start_time": "2023-04-23T09:17:09.596Z"
   },
   {
    "duration": 0,
    "start_time": "2023-04-23T09:17:10.008Z"
   },
   {
    "duration": 0,
    "start_time": "2023-04-23T09:17:10.009Z"
   },
   {
    "duration": 0,
    "start_time": "2023-04-23T09:17:10.010Z"
   },
   {
    "duration": 0,
    "start_time": "2023-04-23T09:17:10.011Z"
   },
   {
    "duration": 0,
    "start_time": "2023-04-23T09:17:10.012Z"
   },
   {
    "duration": 0,
    "start_time": "2023-04-23T09:17:10.013Z"
   },
   {
    "duration": 0,
    "start_time": "2023-04-23T09:17:10.014Z"
   },
   {
    "duration": 0,
    "start_time": "2023-04-23T09:17:10.015Z"
   },
   {
    "duration": 0,
    "start_time": "2023-04-23T09:17:10.016Z"
   },
   {
    "duration": 0,
    "start_time": "2023-04-23T09:17:10.018Z"
   },
   {
    "duration": 0,
    "start_time": "2023-04-23T09:17:10.018Z"
   },
   {
    "duration": 0,
    "start_time": "2023-04-23T09:17:10.019Z"
   },
   {
    "duration": 0,
    "start_time": "2023-04-23T09:17:10.021Z"
   },
   {
    "duration": 0,
    "start_time": "2023-04-23T09:17:10.022Z"
   },
   {
    "duration": 0,
    "start_time": "2023-04-23T09:17:10.023Z"
   },
   {
    "duration": 0,
    "start_time": "2023-04-23T09:17:10.024Z"
   },
   {
    "duration": 0,
    "start_time": "2023-04-23T09:17:10.025Z"
   },
   {
    "duration": 0,
    "start_time": "2023-04-23T09:17:10.026Z"
   },
   {
    "duration": 0,
    "start_time": "2023-04-23T09:17:10.027Z"
   },
   {
    "duration": 0,
    "start_time": "2023-04-23T09:17:10.029Z"
   },
   {
    "duration": 0,
    "start_time": "2023-04-23T09:17:10.030Z"
   },
   {
    "duration": 0,
    "start_time": "2023-04-23T09:17:10.031Z"
   },
   {
    "duration": 0,
    "start_time": "2023-04-23T09:17:10.032Z"
   },
   {
    "duration": 0,
    "start_time": "2023-04-23T09:17:10.033Z"
   },
   {
    "duration": 0,
    "start_time": "2023-04-23T09:17:10.072Z"
   },
   {
    "duration": 0,
    "start_time": "2023-04-23T09:17:10.075Z"
   },
   {
    "duration": 0,
    "start_time": "2023-04-23T09:17:10.077Z"
   },
   {
    "duration": 0,
    "start_time": "2023-04-23T09:17:10.078Z"
   },
   {
    "duration": 550,
    "start_time": "2023-04-23T09:17:51.156Z"
   },
   {
    "duration": 0,
    "start_time": "2023-04-23T09:17:51.714Z"
   },
   {
    "duration": 0,
    "start_time": "2023-04-23T09:17:51.717Z"
   },
   {
    "duration": 0,
    "start_time": "2023-04-23T09:17:51.718Z"
   },
   {
    "duration": 1,
    "start_time": "2023-04-23T09:17:51.718Z"
   },
   {
    "duration": 0,
    "start_time": "2023-04-23T09:17:51.719Z"
   },
   {
    "duration": 0,
    "start_time": "2023-04-23T09:17:51.720Z"
   },
   {
    "duration": 0,
    "start_time": "2023-04-23T09:17:51.720Z"
   },
   {
    "duration": 0,
    "start_time": "2023-04-23T09:17:51.721Z"
   },
   {
    "duration": 0,
    "start_time": "2023-04-23T09:17:51.722Z"
   },
   {
    "duration": 0,
    "start_time": "2023-04-23T09:17:51.723Z"
   },
   {
    "duration": 0,
    "start_time": "2023-04-23T09:17:51.724Z"
   },
   {
    "duration": 0,
    "start_time": "2023-04-23T09:17:51.725Z"
   },
   {
    "duration": 0,
    "start_time": "2023-04-23T09:17:51.725Z"
   },
   {
    "duration": 0,
    "start_time": "2023-04-23T09:17:51.726Z"
   },
   {
    "duration": 0,
    "start_time": "2023-04-23T09:17:51.727Z"
   },
   {
    "duration": 0,
    "start_time": "2023-04-23T09:17:51.728Z"
   },
   {
    "duration": 0,
    "start_time": "2023-04-23T09:17:51.728Z"
   },
   {
    "duration": 0,
    "start_time": "2023-04-23T09:17:51.729Z"
   },
   {
    "duration": 0,
    "start_time": "2023-04-23T09:17:51.730Z"
   },
   {
    "duration": 0,
    "start_time": "2023-04-23T09:17:51.731Z"
   },
   {
    "duration": 0,
    "start_time": "2023-04-23T09:17:51.732Z"
   },
   {
    "duration": 0,
    "start_time": "2023-04-23T09:17:51.733Z"
   },
   {
    "duration": 0,
    "start_time": "2023-04-23T09:17:51.735Z"
   },
   {
    "duration": 0,
    "start_time": "2023-04-23T09:17:51.736Z"
   },
   {
    "duration": 0,
    "start_time": "2023-04-23T09:17:51.737Z"
   },
   {
    "duration": 0,
    "start_time": "2023-04-23T09:17:51.738Z"
   },
   {
    "duration": 0,
    "start_time": "2023-04-23T09:17:51.739Z"
   },
   {
    "duration": 0,
    "start_time": "2023-04-23T09:17:51.739Z"
   },
   {
    "duration": 16218,
    "start_time": "2023-04-23T09:18:22.061Z"
   },
   {
    "duration": 4606,
    "start_time": "2023-04-23T09:18:58.801Z"
   },
   {
    "duration": 862,
    "start_time": "2023-04-23T09:19:03.409Z"
   },
   {
    "duration": 15,
    "start_time": "2023-04-23T09:19:04.273Z"
   },
   {
    "duration": 23919,
    "start_time": "2023-04-23T09:19:04.290Z"
   },
   {
    "duration": 21410,
    "start_time": "2023-04-23T09:19:28.211Z"
   },
   {
    "duration": 23175,
    "start_time": "2023-04-23T09:19:49.622Z"
   },
   {
    "duration": 27,
    "start_time": "2023-04-23T09:20:12.799Z"
   },
   {
    "duration": 30,
    "start_time": "2023-04-23T09:20:12.828Z"
   },
   {
    "duration": 4,
    "start_time": "2023-04-23T09:20:12.871Z"
   },
   {
    "duration": 221,
    "start_time": "2023-04-23T09:20:12.876Z"
   },
   {
    "duration": 68,
    "start_time": "2023-04-23T09:20:13.107Z"
   },
   {
    "duration": 106,
    "start_time": "2023-04-23T09:20:13.178Z"
   },
   {
    "duration": 110,
    "start_time": "2023-04-23T09:20:13.287Z"
   },
   {
    "duration": 9,
    "start_time": "2023-04-23T09:20:13.401Z"
   },
   {
    "duration": 8,
    "start_time": "2023-04-23T09:20:13.411Z"
   },
   {
    "duration": 15,
    "start_time": "2023-04-23T09:20:13.420Z"
   },
   {
    "duration": 6,
    "start_time": "2023-04-23T09:20:13.437Z"
   },
   {
    "duration": 4,
    "start_time": "2023-04-23T09:20:13.446Z"
   },
   {
    "duration": 10,
    "start_time": "2023-04-23T09:20:13.452Z"
   },
   {
    "duration": 8,
    "start_time": "2023-04-23T09:20:13.464Z"
   },
   {
    "duration": 34,
    "start_time": "2023-04-23T09:20:13.473Z"
   },
   {
    "duration": 28,
    "start_time": "2023-04-23T09:20:13.508Z"
   },
   {
    "duration": 188,
    "start_time": "2023-04-23T09:20:13.538Z"
   },
   {
    "duration": 0,
    "start_time": "2023-04-23T09:20:13.727Z"
   },
   {
    "duration": 0,
    "start_time": "2023-04-23T09:20:13.728Z"
   },
   {
    "duration": 0,
    "start_time": "2023-04-23T09:20:13.729Z"
   },
   {
    "duration": 0,
    "start_time": "2023-04-23T09:20:13.730Z"
   },
   {
    "duration": 0,
    "start_time": "2023-04-23T09:20:13.731Z"
   },
   {
    "duration": 0,
    "start_time": "2023-04-23T09:20:13.733Z"
   },
   {
    "duration": 40,
    "start_time": "2023-04-23T09:20:40.673Z"
   },
   {
    "duration": 3,
    "start_time": "2023-04-23T09:21:07.465Z"
   },
   {
    "duration": 19,
    "start_time": "2023-04-23T09:21:08.888Z"
   },
   {
    "duration": 4,
    "start_time": "2023-04-23T09:21:22.197Z"
   },
   {
    "duration": 13,
    "start_time": "2023-04-23T09:21:23.430Z"
   },
   {
    "duration": 20,
    "start_time": "2023-04-23T09:21:24.662Z"
   },
   {
    "duration": 7,
    "start_time": "2023-04-23T09:21:25.297Z"
   },
   {
    "duration": 9,
    "start_time": "2023-04-23T09:21:54.295Z"
   },
   {
    "duration": 368,
    "start_time": "2023-04-23T09:21:55.836Z"
   },
   {
    "duration": 339,
    "start_time": "2023-04-23T09:21:58.427Z"
   },
   {
    "duration": 407,
    "start_time": "2023-04-23T09:21:59.661Z"
   },
   {
    "duration": 6,
    "start_time": "2023-04-23T09:22:29.687Z"
   },
   {
    "duration": 331,
    "start_time": "2023-04-23T09:22:31.384Z"
   },
   {
    "duration": 314,
    "start_time": "2023-04-23T09:22:34.013Z"
   },
   {
    "duration": 383,
    "start_time": "2023-04-23T09:22:36.043Z"
   },
   {
    "duration": 4,
    "start_time": "2023-04-23T09:27:04.025Z"
   },
   {
    "duration": 8,
    "start_time": "2023-04-23T09:27:06.728Z"
   },
   {
    "duration": 7,
    "start_time": "2023-04-23T09:27:08.270Z"
   },
   {
    "duration": 7,
    "start_time": "2023-04-23T09:27:09.507Z"
   },
   {
    "duration": 120,
    "start_time": "2023-04-23T09:29:38.789Z"
   },
   {
    "duration": 4,
    "start_time": "2023-04-23T09:30:41.563Z"
   },
   {
    "duration": 3,
    "start_time": "2023-04-23T09:35:30.221Z"
   },
   {
    "duration": 23,
    "start_time": "2023-04-23T09:36:21.212Z"
   },
   {
    "duration": 3,
    "start_time": "2023-04-23T09:36:24.931Z"
   },
   {
    "duration": 27,
    "start_time": "2023-04-23T09:36:25.561Z"
   },
   {
    "duration": 10,
    "start_time": "2023-04-23T09:36:27.516Z"
   },
   {
    "duration": 10,
    "start_time": "2023-04-23T09:36:28.798Z"
   },
   {
    "duration": 13,
    "start_time": "2023-04-23T09:36:36.069Z"
   },
   {
    "duration": 6,
    "start_time": "2023-04-23T09:36:38.469Z"
   },
   {
    "duration": 10,
    "start_time": "2023-04-23T09:36:40.485Z"
   },
   {
    "duration": 8,
    "start_time": "2023-04-23T09:36:42.388Z"
   },
   {
    "duration": 23,
    "start_time": "2023-04-23T09:36:59.523Z"
   },
   {
    "duration": 4,
    "start_time": "2023-04-23T09:37:00.863Z"
   },
   {
    "duration": 3,
    "start_time": "2023-04-23T09:37:48.435Z"
   },
   {
    "duration": 24,
    "start_time": "2023-04-23T09:37:50.311Z"
   },
   {
    "duration": 4,
    "start_time": "2023-04-23T09:37:53.238Z"
   },
   {
    "duration": 22,
    "start_time": "2023-04-23T09:37:53.863Z"
   },
   {
    "duration": 34,
    "start_time": "2023-04-23T09:37:54.059Z"
   },
   {
    "duration": 10,
    "start_time": "2023-04-23T09:37:54.438Z"
   },
   {
    "duration": 3,
    "start_time": "2023-04-23T09:37:57.737Z"
   },
   {
    "duration": 6,
    "start_time": "2023-04-23T09:37:58.217Z"
   },
   {
    "duration": 11,
    "start_time": "2023-04-23T09:38:00.270Z"
   },
   {
    "duration": 5,
    "start_time": "2023-04-23T09:38:01.619Z"
   },
   {
    "duration": 4,
    "start_time": "2023-04-23T09:40:08.384Z"
   },
   {
    "duration": 8,
    "start_time": "2023-04-23T09:40:09.942Z"
   },
   {
    "duration": 8,
    "start_time": "2023-04-23T09:40:10.661Z"
   },
   {
    "duration": 9,
    "start_time": "2023-04-23T09:40:11.282Z"
   },
   {
    "duration": 5,
    "start_time": "2023-04-23T09:40:18.842Z"
   },
   {
    "duration": 6,
    "start_time": "2023-04-23T09:41:52.945Z"
   },
   {
    "duration": 325,
    "start_time": "2023-04-23T09:41:57.120Z"
   },
   {
    "duration": 352,
    "start_time": "2023-04-23T09:42:00.310Z"
   },
   {
    "duration": 3,
    "start_time": "2023-04-23T09:48:47.321Z"
   },
   {
    "duration": 3,
    "start_time": "2023-04-23T09:48:47.565Z"
   },
   {
    "duration": 3,
    "start_time": "2023-04-23T09:48:48.122Z"
   },
   {
    "duration": 3,
    "start_time": "2023-04-23T09:48:50.206Z"
   },
   {
    "duration": 9,
    "start_time": "2023-04-23T09:48:52.976Z"
   },
   {
    "duration": 8,
    "start_time": "2023-04-23T09:48:54.096Z"
   },
   {
    "duration": 8,
    "start_time": "2023-04-23T09:48:54.946Z"
   },
   {
    "duration": 5,
    "start_time": "2023-04-23T09:48:59.830Z"
   },
   {
    "duration": 325,
    "start_time": "2023-04-23T09:49:02.861Z"
   },
   {
    "duration": 346,
    "start_time": "2023-04-23T09:49:04.433Z"
   },
   {
    "duration": 312,
    "start_time": "2023-04-23T09:49:05.755Z"
   },
   {
    "duration": 8,
    "start_time": "2023-04-23T09:49:26.819Z"
   },
   {
    "duration": 326,
    "start_time": "2023-04-23T09:49:29.317Z"
   },
   {
    "duration": 1796,
    "start_time": "2023-04-23T09:49:46.417Z"
   },
   {
    "duration": 405,
    "start_time": "2023-04-23T09:49:48.215Z"
   },
   {
    "duration": 12,
    "start_time": "2023-04-23T09:49:48.623Z"
   },
   {
    "duration": 21776,
    "start_time": "2023-04-23T09:49:48.638Z"
   },
   {
    "duration": 20728,
    "start_time": "2023-04-23T09:50:10.416Z"
   },
   {
    "duration": 20701,
    "start_time": "2023-04-23T09:50:31.145Z"
   },
   {
    "duration": 48,
    "start_time": "2023-04-23T09:50:51.847Z"
   },
   {
    "duration": 24,
    "start_time": "2023-04-23T09:50:51.897Z"
   },
   {
    "duration": 48,
    "start_time": "2023-04-23T09:50:51.923Z"
   },
   {
    "duration": 6,
    "start_time": "2023-04-23T09:50:51.988Z"
   },
   {
    "duration": 81,
    "start_time": "2023-04-23T09:50:51.996Z"
   },
   {
    "duration": 117,
    "start_time": "2023-04-23T09:50:52.080Z"
   },
   {
    "duration": 87,
    "start_time": "2023-04-23T09:50:52.208Z"
   },
   {
    "duration": 206,
    "start_time": "2023-04-23T09:50:52.297Z"
   },
   {
    "duration": 26,
    "start_time": "2023-04-23T09:50:52.504Z"
   },
   {
    "duration": 20,
    "start_time": "2023-04-23T09:50:52.532Z"
   },
   {
    "duration": 11,
    "start_time": "2023-04-23T09:50:52.553Z"
   },
   {
    "duration": 3,
    "start_time": "2023-04-23T09:50:52.566Z"
   },
   {
    "duration": 22,
    "start_time": "2023-04-23T09:50:52.572Z"
   },
   {
    "duration": 5,
    "start_time": "2023-04-23T09:50:52.596Z"
   },
   {
    "duration": 16,
    "start_time": "2023-04-23T09:50:52.603Z"
   },
   {
    "duration": 10,
    "start_time": "2023-04-23T09:50:52.620Z"
   },
   {
    "duration": 8,
    "start_time": "2023-04-23T09:50:52.632Z"
   },
   {
    "duration": 11,
    "start_time": "2023-04-23T09:50:52.642Z"
   },
   {
    "duration": 7,
    "start_time": "2023-04-23T09:50:52.655Z"
   },
   {
    "duration": 17,
    "start_time": "2023-04-23T09:50:52.664Z"
   },
   {
    "duration": 7,
    "start_time": "2023-04-23T09:50:52.686Z"
   },
   {
    "duration": 370,
    "start_time": "2023-04-23T09:50:52.696Z"
   },
   {
    "duration": 375,
    "start_time": "2023-04-23T09:50:53.068Z"
   },
   {
    "duration": 346,
    "start_time": "2023-04-23T09:50:53.444Z"
   },
   {
    "duration": 6,
    "start_time": "2023-04-23T09:52:16.036Z"
   },
   {
    "duration": 353,
    "start_time": "2023-04-23T09:52:18.973Z"
   },
   {
    "duration": 350,
    "start_time": "2023-04-23T09:52:20.633Z"
   },
   {
    "duration": 392,
    "start_time": "2023-04-23T09:52:22.048Z"
   },
   {
    "duration": 5,
    "start_time": "2023-04-23T09:52:28.045Z"
   },
   {
    "duration": 346,
    "start_time": "2023-04-23T09:52:29.823Z"
   },
   {
    "duration": 317,
    "start_time": "2023-04-23T09:52:33.955Z"
   },
   {
    "duration": 314,
    "start_time": "2023-04-23T09:52:35.218Z"
   },
   {
    "duration": 9,
    "start_time": "2023-04-23T09:53:21.141Z"
   },
   {
    "duration": 351,
    "start_time": "2023-04-23T09:53:22.163Z"
   },
   {
    "duration": 364,
    "start_time": "2023-04-23T09:53:22.739Z"
   },
   {
    "duration": 340,
    "start_time": "2023-04-23T09:53:23.267Z"
   },
   {
    "duration": 11,
    "start_time": "2023-04-23T16:16:15.680Z"
   },
   {
    "duration": 50,
    "start_time": "2023-04-23T16:16:21.165Z"
   },
   {
    "duration": 442,
    "start_time": "2023-04-23T16:16:30.021Z"
   },
   {
    "duration": 0,
    "start_time": "2023-04-23T16:16:30.466Z"
   },
   {
    "duration": 0,
    "start_time": "2023-04-23T16:16:30.467Z"
   },
   {
    "duration": 0,
    "start_time": "2023-04-23T16:16:30.468Z"
   },
   {
    "duration": 0,
    "start_time": "2023-04-23T16:16:30.469Z"
   },
   {
    "duration": 0,
    "start_time": "2023-04-23T16:16:30.470Z"
   },
   {
    "duration": 0,
    "start_time": "2023-04-23T16:16:30.471Z"
   },
   {
    "duration": 0,
    "start_time": "2023-04-23T16:16:30.473Z"
   },
   {
    "duration": 0,
    "start_time": "2023-04-23T16:16:30.486Z"
   },
   {
    "duration": 0,
    "start_time": "2023-04-23T16:16:30.488Z"
   },
   {
    "duration": 0,
    "start_time": "2023-04-23T16:16:30.489Z"
   },
   {
    "duration": 0,
    "start_time": "2023-04-23T16:16:30.491Z"
   },
   {
    "duration": 0,
    "start_time": "2023-04-23T16:16:30.492Z"
   },
   {
    "duration": 0,
    "start_time": "2023-04-23T16:16:30.494Z"
   },
   {
    "duration": 0,
    "start_time": "2023-04-23T16:16:30.496Z"
   },
   {
    "duration": 1,
    "start_time": "2023-04-23T16:16:30.497Z"
   },
   {
    "duration": 0,
    "start_time": "2023-04-23T16:16:30.499Z"
   },
   {
    "duration": 0,
    "start_time": "2023-04-23T16:16:30.501Z"
   },
   {
    "duration": 0,
    "start_time": "2023-04-23T16:16:30.503Z"
   },
   {
    "duration": 0,
    "start_time": "2023-04-23T16:16:30.505Z"
   },
   {
    "duration": 0,
    "start_time": "2023-04-23T16:16:30.506Z"
   },
   {
    "duration": 0,
    "start_time": "2023-04-23T16:16:30.508Z"
   },
   {
    "duration": 0,
    "start_time": "2023-04-23T16:16:30.509Z"
   },
   {
    "duration": 0,
    "start_time": "2023-04-23T16:16:30.512Z"
   },
   {
    "duration": 0,
    "start_time": "2023-04-23T16:16:30.512Z"
   },
   {
    "duration": 0,
    "start_time": "2023-04-23T16:16:30.514Z"
   },
   {
    "duration": 0,
    "start_time": "2023-04-23T16:16:30.515Z"
   },
   {
    "duration": 0,
    "start_time": "2023-04-23T16:16:30.516Z"
   },
   {
    "duration": 0,
    "start_time": "2023-04-23T16:16:30.517Z"
   },
   {
    "duration": 0,
    "start_time": "2023-04-23T16:16:30.518Z"
   },
   {
    "duration": 424,
    "start_time": "2023-04-23T16:16:39.429Z"
   },
   {
    "duration": 0,
    "start_time": "2023-04-23T16:16:39.855Z"
   },
   {
    "duration": 0,
    "start_time": "2023-04-23T16:16:39.857Z"
   },
   {
    "duration": 0,
    "start_time": "2023-04-23T16:16:39.858Z"
   },
   {
    "duration": 0,
    "start_time": "2023-04-23T16:16:39.859Z"
   },
   {
    "duration": 0,
    "start_time": "2023-04-23T16:16:39.860Z"
   },
   {
    "duration": 0,
    "start_time": "2023-04-23T16:16:39.861Z"
   },
   {
    "duration": 0,
    "start_time": "2023-04-23T16:16:39.862Z"
   },
   {
    "duration": 0,
    "start_time": "2023-04-23T16:16:39.863Z"
   },
   {
    "duration": 0,
    "start_time": "2023-04-23T16:16:39.864Z"
   },
   {
    "duration": 0,
    "start_time": "2023-04-23T16:16:39.865Z"
   },
   {
    "duration": 0,
    "start_time": "2023-04-23T16:16:39.866Z"
   },
   {
    "duration": 0,
    "start_time": "2023-04-23T16:16:39.867Z"
   },
   {
    "duration": 0,
    "start_time": "2023-04-23T16:16:39.885Z"
   },
   {
    "duration": 0,
    "start_time": "2023-04-23T16:16:39.887Z"
   },
   {
    "duration": 0,
    "start_time": "2023-04-23T16:16:39.888Z"
   },
   {
    "duration": 0,
    "start_time": "2023-04-23T16:16:39.888Z"
   },
   {
    "duration": 0,
    "start_time": "2023-04-23T16:16:39.889Z"
   },
   {
    "duration": 0,
    "start_time": "2023-04-23T16:16:39.891Z"
   },
   {
    "duration": 0,
    "start_time": "2023-04-23T16:16:39.892Z"
   },
   {
    "duration": 0,
    "start_time": "2023-04-23T16:16:39.893Z"
   },
   {
    "duration": 0,
    "start_time": "2023-04-23T16:16:39.894Z"
   },
   {
    "duration": 0,
    "start_time": "2023-04-23T16:16:39.895Z"
   },
   {
    "duration": 0,
    "start_time": "2023-04-23T16:16:39.896Z"
   },
   {
    "duration": 0,
    "start_time": "2023-04-23T16:16:39.897Z"
   },
   {
    "duration": 0,
    "start_time": "2023-04-23T16:16:39.898Z"
   },
   {
    "duration": 0,
    "start_time": "2023-04-23T16:16:39.899Z"
   },
   {
    "duration": 0,
    "start_time": "2023-04-23T16:16:39.900Z"
   },
   {
    "duration": 0,
    "start_time": "2023-04-23T16:16:39.901Z"
   },
   {
    "duration": 0,
    "start_time": "2023-04-23T16:16:39.902Z"
   },
   {
    "duration": 445,
    "start_time": "2023-04-23T16:17:59.334Z"
   },
   {
    "duration": 0,
    "start_time": "2023-04-23T16:17:59.782Z"
   },
   {
    "duration": 0,
    "start_time": "2023-04-23T16:17:59.785Z"
   },
   {
    "duration": 0,
    "start_time": "2023-04-23T16:17:59.786Z"
   },
   {
    "duration": 0,
    "start_time": "2023-04-23T16:17:59.787Z"
   },
   {
    "duration": 0,
    "start_time": "2023-04-23T16:17:59.789Z"
   },
   {
    "duration": 0,
    "start_time": "2023-04-23T16:17:59.790Z"
   },
   {
    "duration": 0,
    "start_time": "2023-04-23T16:17:59.791Z"
   },
   {
    "duration": 0,
    "start_time": "2023-04-23T16:17:59.792Z"
   },
   {
    "duration": 0,
    "start_time": "2023-04-23T16:17:59.793Z"
   },
   {
    "duration": 0,
    "start_time": "2023-04-23T16:17:59.794Z"
   },
   {
    "duration": 0,
    "start_time": "2023-04-23T16:17:59.795Z"
   },
   {
    "duration": 0,
    "start_time": "2023-04-23T16:17:59.796Z"
   },
   {
    "duration": 0,
    "start_time": "2023-04-23T16:17:59.798Z"
   },
   {
    "duration": 0,
    "start_time": "2023-04-23T16:17:59.799Z"
   },
   {
    "duration": 0,
    "start_time": "2023-04-23T16:17:59.800Z"
   },
   {
    "duration": 0,
    "start_time": "2023-04-23T16:17:59.801Z"
   },
   {
    "duration": 0,
    "start_time": "2023-04-23T16:17:59.802Z"
   },
   {
    "duration": 0,
    "start_time": "2023-04-23T16:17:59.802Z"
   },
   {
    "duration": 0,
    "start_time": "2023-04-23T16:17:59.804Z"
   },
   {
    "duration": 0,
    "start_time": "2023-04-23T16:17:59.805Z"
   },
   {
    "duration": 0,
    "start_time": "2023-04-23T16:17:59.806Z"
   },
   {
    "duration": 0,
    "start_time": "2023-04-23T16:17:59.807Z"
   },
   {
    "duration": 0,
    "start_time": "2023-04-23T16:17:59.808Z"
   },
   {
    "duration": 0,
    "start_time": "2023-04-23T16:17:59.810Z"
   },
   {
    "duration": 0,
    "start_time": "2023-04-23T16:17:59.810Z"
   },
   {
    "duration": 1,
    "start_time": "2023-04-23T16:17:59.811Z"
   },
   {
    "duration": 0,
    "start_time": "2023-04-23T16:17:59.812Z"
   },
   {
    "duration": 0,
    "start_time": "2023-04-23T16:17:59.813Z"
   },
   {
    "duration": 0,
    "start_time": "2023-04-23T16:17:59.814Z"
   },
   {
    "duration": 3903,
    "start_time": "2023-04-23T16:18:13.781Z"
   },
   {
    "duration": 1922,
    "start_time": "2023-04-23T16:18:19.550Z"
   },
   {
    "duration": 4,
    "start_time": "2023-04-23T16:18:24.169Z"
   },
   {
    "duration": 1527,
    "start_time": "2023-04-23T16:18:24.176Z"
   },
   {
    "duration": 13,
    "start_time": "2023-04-23T16:18:25.705Z"
   },
   {
    "duration": 24304,
    "start_time": "2023-04-23T16:18:25.720Z"
   },
   {
    "duration": 22693,
    "start_time": "2023-04-23T16:18:50.025Z"
   },
   {
    "duration": 23105,
    "start_time": "2023-04-23T16:19:12.720Z"
   },
   {
    "duration": 89,
    "start_time": "2023-04-23T16:19:35.826Z"
   },
   {
    "duration": 3,
    "start_time": "2023-04-23T16:19:35.917Z"
   },
   {
    "duration": 84,
    "start_time": "2023-04-23T16:19:35.921Z"
   },
   {
    "duration": 4,
    "start_time": "2023-04-23T16:19:36.007Z"
   },
   {
    "duration": 176,
    "start_time": "2023-04-23T16:19:36.013Z"
   },
   {
    "duration": 98,
    "start_time": "2023-04-23T16:19:36.195Z"
   },
   {
    "duration": 99,
    "start_time": "2023-04-23T16:19:36.296Z"
   },
   {
    "duration": 89,
    "start_time": "2023-04-23T16:19:36.399Z"
   },
   {
    "duration": 94,
    "start_time": "2023-04-23T16:19:36.492Z"
   },
   {
    "duration": 7,
    "start_time": "2023-04-23T16:19:36.588Z"
   },
   {
    "duration": 6,
    "start_time": "2023-04-23T16:19:36.596Z"
   },
   {
    "duration": 3,
    "start_time": "2023-04-23T16:19:36.603Z"
   },
   {
    "duration": 4,
    "start_time": "2023-04-23T16:19:36.607Z"
   },
   {
    "duration": 5,
    "start_time": "2023-04-23T16:19:36.613Z"
   },
   {
    "duration": 7,
    "start_time": "2023-04-23T16:19:36.619Z"
   },
   {
    "duration": 16,
    "start_time": "2023-04-23T16:19:36.628Z"
   },
   {
    "duration": 40,
    "start_time": "2023-04-23T16:19:36.645Z"
   },
   {
    "duration": 8,
    "start_time": "2023-04-23T16:19:36.687Z"
   },
   {
    "duration": 8,
    "start_time": "2023-04-23T16:19:36.697Z"
   },
   {
    "duration": 9,
    "start_time": "2023-04-23T16:19:36.707Z"
   },
   {
    "duration": 6,
    "start_time": "2023-04-23T16:19:36.718Z"
   },
   {
    "duration": 488,
    "start_time": "2023-04-23T16:19:36.727Z"
   },
   {
    "duration": 450,
    "start_time": "2023-04-23T16:19:37.217Z"
   },
   {
    "duration": 461,
    "start_time": "2023-04-23T16:19:37.669Z"
   },
   {
    "duration": 5,
    "start_time": "2023-04-23T16:22:54.740Z"
   },
   {
    "duration": 1754,
    "start_time": "2023-04-23T16:22:59.062Z"
   },
   {
    "duration": 8,
    "start_time": "2023-04-23T16:23:20.549Z"
   },
   {
    "duration": 1637,
    "start_time": "2023-04-23T16:23:23.120Z"
   },
   {
    "duration": 1640,
    "start_time": "2023-04-23T16:24:47.014Z"
   },
   {
    "duration": 3471,
    "start_time": "2023-04-23T16:25:08.630Z"
   },
   {
    "duration": 2369,
    "start_time": "2023-04-23T16:26:21.727Z"
   },
   {
    "duration": 2262,
    "start_time": "2023-04-23T16:27:08.378Z"
   },
   {
    "duration": 1093,
    "start_time": "2023-04-23T16:27:25.254Z"
   },
   {
    "duration": 1067,
    "start_time": "2023-04-23T16:27:34.718Z"
   },
   {
    "duration": 1062,
    "start_time": "2023-04-23T16:27:41.373Z"
   },
   {
    "duration": 1061,
    "start_time": "2023-04-23T16:28:42.266Z"
   },
   {
    "duration": 1087,
    "start_time": "2023-04-23T16:28:47.146Z"
   },
   {
    "duration": 5,
    "start_time": "2023-04-23T16:29:10.539Z"
   },
   {
    "duration": 1067,
    "start_time": "2023-04-23T16:29:16.626Z"
   },
   {
    "duration": 1076,
    "start_time": "2023-04-23T16:29:19.526Z"
   },
   {
    "duration": 1082,
    "start_time": "2023-04-23T16:29:21.471Z"
   },
   {
    "duration": 5,
    "start_time": "2023-04-23T16:34:46.928Z"
   },
   {
    "duration": 1106,
    "start_time": "2023-04-23T16:34:49.038Z"
   },
   {
    "duration": 1107,
    "start_time": "2023-04-23T16:34:50.147Z"
   },
   {
    "duration": 1107,
    "start_time": "2023-04-23T16:34:51.256Z"
   },
   {
    "duration": 452,
    "start_time": "2023-04-23T18:42:59.273Z"
   },
   {
    "duration": 0,
    "start_time": "2023-04-23T18:42:59.727Z"
   },
   {
    "duration": 0,
    "start_time": "2023-04-23T18:42:59.729Z"
   },
   {
    "duration": 0,
    "start_time": "2023-04-23T18:42:59.730Z"
   },
   {
    "duration": 0,
    "start_time": "2023-04-23T18:42:59.731Z"
   },
   {
    "duration": 0,
    "start_time": "2023-04-23T18:42:59.732Z"
   },
   {
    "duration": 0,
    "start_time": "2023-04-23T18:42:59.733Z"
   },
   {
    "duration": 0,
    "start_time": "2023-04-23T18:42:59.734Z"
   },
   {
    "duration": 0,
    "start_time": "2023-04-23T18:42:59.735Z"
   },
   {
    "duration": 0,
    "start_time": "2023-04-23T18:42:59.736Z"
   },
   {
    "duration": 0,
    "start_time": "2023-04-23T18:42:59.737Z"
   },
   {
    "duration": 0,
    "start_time": "2023-04-23T18:42:59.738Z"
   },
   {
    "duration": 0,
    "start_time": "2023-04-23T18:42:59.739Z"
   },
   {
    "duration": 0,
    "start_time": "2023-04-23T18:42:59.740Z"
   },
   {
    "duration": 0,
    "start_time": "2023-04-23T18:42:59.742Z"
   },
   {
    "duration": 0,
    "start_time": "2023-04-23T18:42:59.742Z"
   },
   {
    "duration": 0,
    "start_time": "2023-04-23T18:42:59.743Z"
   },
   {
    "duration": 0,
    "start_time": "2023-04-23T18:42:59.744Z"
   },
   {
    "duration": 0,
    "start_time": "2023-04-23T18:42:59.745Z"
   },
   {
    "duration": 0,
    "start_time": "2023-04-23T18:42:59.746Z"
   },
   {
    "duration": 0,
    "start_time": "2023-04-23T18:42:59.747Z"
   },
   {
    "duration": 0,
    "start_time": "2023-04-23T18:42:59.748Z"
   },
   {
    "duration": 0,
    "start_time": "2023-04-23T18:42:59.749Z"
   },
   {
    "duration": 0,
    "start_time": "2023-04-23T18:42:59.750Z"
   },
   {
    "duration": 0,
    "start_time": "2023-04-23T18:42:59.751Z"
   },
   {
    "duration": 0,
    "start_time": "2023-04-23T18:42:59.752Z"
   },
   {
    "duration": 0,
    "start_time": "2023-04-23T18:42:59.752Z"
   },
   {
    "duration": 0,
    "start_time": "2023-04-23T18:42:59.754Z"
   },
   {
    "duration": 0,
    "start_time": "2023-04-23T18:42:59.794Z"
   },
   {
    "duration": 0,
    "start_time": "2023-04-23T18:42:59.795Z"
   },
   {
    "duration": 13359,
    "start_time": "2023-04-23T18:43:24.044Z"
   },
   {
    "duration": 1729,
    "start_time": "2023-04-23T18:43:37.406Z"
   },
   {
    "duration": 1531,
    "start_time": "2023-04-23T18:43:39.137Z"
   },
   {
    "duration": 13,
    "start_time": "2023-04-23T18:43:40.669Z"
   },
   {
    "duration": 20341,
    "start_time": "2023-04-23T18:43:40.683Z"
   },
   {
    "duration": 19899,
    "start_time": "2023-04-23T18:44:01.026Z"
   },
   {
    "duration": 20217,
    "start_time": "2023-04-23T18:44:20.926Z"
   },
   {
    "duration": 30,
    "start_time": "2023-04-23T18:44:41.145Z"
   },
   {
    "duration": 3,
    "start_time": "2023-04-23T18:44:41.177Z"
   },
   {
    "duration": 29,
    "start_time": "2023-04-23T18:44:41.195Z"
   },
   {
    "duration": 3,
    "start_time": "2023-04-23T18:44:41.226Z"
   },
   {
    "duration": 167,
    "start_time": "2023-04-23T18:44:41.230Z"
   },
   {
    "duration": 14,
    "start_time": "2023-04-23T18:44:41.399Z"
   },
   {
    "duration": 178,
    "start_time": "2023-04-23T18:44:41.417Z"
   },
   {
    "duration": 4,
    "start_time": "2023-04-23T18:44:41.599Z"
   },
   {
    "duration": 90,
    "start_time": "2023-04-23T18:44:41.605Z"
   },
   {
    "duration": 6,
    "start_time": "2023-04-23T18:44:41.697Z"
   },
   {
    "duration": 5,
    "start_time": "2023-04-23T18:44:41.704Z"
   },
   {
    "duration": 5,
    "start_time": "2023-04-23T18:44:41.711Z"
   },
   {
    "duration": 10,
    "start_time": "2023-04-23T18:44:41.717Z"
   },
   {
    "duration": 23,
    "start_time": "2023-04-23T18:44:41.728Z"
   },
   {
    "duration": 7,
    "start_time": "2023-04-23T18:44:41.753Z"
   },
   {
    "duration": 4,
    "start_time": "2023-04-23T18:44:41.762Z"
   },
   {
    "duration": 4,
    "start_time": "2023-04-23T18:44:41.768Z"
   },
   {
    "duration": 11,
    "start_time": "2023-04-23T18:44:41.773Z"
   },
   {
    "duration": 14,
    "start_time": "2023-04-23T18:44:41.785Z"
   },
   {
    "duration": 6,
    "start_time": "2023-04-23T18:44:41.801Z"
   },
   {
    "duration": 5,
    "start_time": "2023-04-23T18:44:41.810Z"
   },
   {
    "duration": 987,
    "start_time": "2023-04-23T18:44:41.816Z"
   },
   {
    "duration": 934,
    "start_time": "2023-04-23T18:44:42.805Z"
   },
   {
    "duration": 980,
    "start_time": "2023-04-23T18:44:43.741Z"
   },
   {
    "duration": 5,
    "start_time": "2023-04-23T18:45:28.485Z"
   },
   {
    "duration": 962,
    "start_time": "2023-04-23T18:45:34.424Z"
   },
   {
    "duration": 1015,
    "start_time": "2023-04-23T18:45:36.777Z"
   },
   {
    "duration": 949,
    "start_time": "2023-04-23T18:45:39.240Z"
   }
  ],
  "kernelspec": {
   "display_name": "Python 3 (ipykernel)",
   "language": "python",
   "name": "python3"
  },
  "language_info": {
   "codemirror_mode": {
    "name": "ipython",
    "version": 3
   },
   "file_extension": ".py",
   "mimetype": "text/x-python",
   "name": "python",
   "nbconvert_exporter": "python",
   "pygments_lexer": "ipython3",
   "version": "3.11.3"
  },
  "toc": {
   "base_numbering": 1,
   "nav_menu": {},
   "number_sections": true,
   "sideBar": true,
   "skip_h1_title": true,
   "title_cell": "Table of Contents",
   "title_sidebar": "Contents",
   "toc_cell": false,
   "toc_position": {},
   "toc_section_display": true,
   "toc_window_display": false
  }
 },
 "nbformat": 4,
 "nbformat_minor": 2
}
