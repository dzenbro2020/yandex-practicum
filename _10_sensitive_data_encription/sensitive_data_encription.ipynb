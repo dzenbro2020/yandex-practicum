{
 "cells": [
  {
   "cell_type": "markdown",
   "metadata": {
    "toc": true
   },
   "source": [
    "<h1>Содержание<span class=\"tocSkip\"></span></h1>\n",
    "<div class=\"toc\"><ul class=\"toc-item\"><li><span><a href=\"#Загрузка-данных\" data-toc-modified-id=\"Загрузка-данных-1\"><span class=\"toc-item-num\">1&nbsp;&nbsp;</span>Загрузка данных</a></span></li><li><span><a href=\"#Умножение-матриц\" data-toc-modified-id=\"Умножение-матриц-2\"><span class=\"toc-item-num\">2&nbsp;&nbsp;</span>Умножение матриц</a></span></li><li><span><a href=\"#Алгоритм-преобразования\" data-toc-modified-id=\"Алгоритм-преобразования-3\"><span class=\"toc-item-num\">3&nbsp;&nbsp;</span>Алгоритм преобразования</a></span></li><li><span><a href=\"#Проверка-алгоритма\" data-toc-modified-id=\"Проверка-алгоритма-4\"><span class=\"toc-item-num\">4&nbsp;&nbsp;</span>Проверка алгоритма</a></span></li><li><span><a href=\"#Чек-лист-проверки\" data-toc-modified-id=\"Чек-лист-проверки-5\"><span class=\"toc-item-num\">5&nbsp;&nbsp;</span>Чек-лист проверки</a></span></li></ul></div>"
   ]
  },
  {
   "cell_type": "markdown",
   "metadata": {},
   "source": [
    "# Защита персональных данных клиентов"
   ]
  },
  {
   "cell_type": "markdown",
   "metadata": {},
   "source": [
    "Вам нужно защитить данные клиентов страховой компании «Хоть потоп». Разработайте такой метод преобразования данных, чтобы по ним было сложно восстановить персональную информацию. Обоснуйте корректность его работы.\n",
    "\n",
    "Нужно защитить данные, чтобы при преобразовании качество моделей машинного обучения не ухудшилось. Подбирать наилучшую модель не требуется."
   ]
  },
  {
   "cell_type": "markdown",
   "metadata": {},
   "source": [
    "## Загрузка данных"
   ]
  },
  {
   "cell_type": "code",
   "execution_count": 1,
   "metadata": {},
   "outputs": [],
   "source": [
    "import pandas as pd\n",
    "import numpy as np\n",
    "\n",
    "from sklearn.linear_model import LinearRegression\n",
    "from sklearn.metrics import r2_score"
   ]
  },
  {
   "cell_type": "code",
   "execution_count": 2,
   "metadata": {},
   "outputs": [],
   "source": [
    "df = pd.read_csv('/datasets/insurance.csv')"
   ]
  },
  {
   "cell_type": "code",
   "execution_count": 3,
   "metadata": {},
   "outputs": [
    {
     "data": {
      "text/html": [
       "<div>\n",
       "<style scoped>\n",
       "    .dataframe tbody tr th:only-of-type {\n",
       "        vertical-align: middle;\n",
       "    }\n",
       "\n",
       "    .dataframe tbody tr th {\n",
       "        vertical-align: top;\n",
       "    }\n",
       "\n",
       "    .dataframe thead th {\n",
       "        text-align: right;\n",
       "    }\n",
       "</style>\n",
       "<table border=\"1\" class=\"dataframe\">\n",
       "  <thead>\n",
       "    <tr style=\"text-align: right;\">\n",
       "      <th></th>\n",
       "      <th>Пол</th>\n",
       "      <th>Возраст</th>\n",
       "      <th>Зарплата</th>\n",
       "      <th>Члены семьи</th>\n",
       "    </tr>\n",
       "  </thead>\n",
       "  <tbody>\n",
       "    <tr>\n",
       "      <th>0</th>\n",
       "      <td>1</td>\n",
       "      <td>41.0</td>\n",
       "      <td>49600.0</td>\n",
       "      <td>1</td>\n",
       "    </tr>\n",
       "    <tr>\n",
       "      <th>1</th>\n",
       "      <td>0</td>\n",
       "      <td>46.0</td>\n",
       "      <td>38000.0</td>\n",
       "      <td>1</td>\n",
       "    </tr>\n",
       "    <tr>\n",
       "      <th>2</th>\n",
       "      <td>0</td>\n",
       "      <td>29.0</td>\n",
       "      <td>21000.0</td>\n",
       "      <td>0</td>\n",
       "    </tr>\n",
       "    <tr>\n",
       "      <th>3</th>\n",
       "      <td>0</td>\n",
       "      <td>21.0</td>\n",
       "      <td>41700.0</td>\n",
       "      <td>2</td>\n",
       "    </tr>\n",
       "    <tr>\n",
       "      <th>4</th>\n",
       "      <td>1</td>\n",
       "      <td>28.0</td>\n",
       "      <td>26100.0</td>\n",
       "      <td>0</td>\n",
       "    </tr>\n",
       "  </tbody>\n",
       "</table>\n",
       "</div>"
      ],
      "text/plain": [
       "   Пол  Возраст  Зарплата  Члены семьи\n",
       "0    1     41.0   49600.0            1\n",
       "1    0     46.0   38000.0            1\n",
       "2    0     29.0   21000.0            0\n",
       "3    0     21.0   41700.0            2\n",
       "4    1     28.0   26100.0            0"
      ]
     },
     "execution_count": 3,
     "metadata": {},
     "output_type": "execute_result"
    }
   ],
   "source": [
    "target = df.iloc[:,-1:]\n",
    "features = df.iloc[:,:4]\n",
    "features.head()"
   ]
  },
  {
   "cell_type": "code",
   "execution_count": 4,
   "metadata": {},
   "outputs": [],
   "source": [
    "key_matrix = np.random.normal(size=(df.shape[1]-1,df.shape[1]-1))"
   ]
  },
  {
   "cell_type": "code",
   "execution_count": 5,
   "metadata": {},
   "outputs": [
    {
     "data": {
      "text/plain": [
       "array([[-1.62067527, -0.8607633 ,  1.59580758, -0.64536447],\n",
       "       [-0.03769814, -0.09216966,  0.27399728, -1.12274309],\n",
       "       [-2.27768546,  1.72090736,  0.38706058,  0.20089411],\n",
       "       [ 1.22953786,  0.07193213,  0.74677453,  0.62143728]])"
      ]
     },
     "execution_count": 5,
     "metadata": {},
     "output_type": "execute_result"
    }
   ],
   "source": [
    "key_matrix"
   ]
  },
  {
   "cell_type": "code",
   "execution_count": 6,
   "metadata": {},
   "outputs": [
    {
     "data": {
      "text/plain": [
       "8.47604120513331"
      ]
     },
     "execution_count": 6,
     "metadata": {},
     "output_type": "execute_result"
    }
   ],
   "source": [
    "np.linalg.det(key_matrix)"
   ]
  },
  {
   "cell_type": "code",
   "execution_count": 7,
   "metadata": {},
   "outputs": [
    {
     "data": {
      "text/html": [
       "<div>\n",
       "<style scoped>\n",
       "    .dataframe tbody tr th:only-of-type {\n",
       "        vertical-align: middle;\n",
       "    }\n",
       "\n",
       "    .dataframe tbody tr th {\n",
       "        vertical-align: top;\n",
       "    }\n",
       "\n",
       "    .dataframe thead th {\n",
       "        text-align: right;\n",
       "    }\n",
       "</style>\n",
       "<table border=\"1\" class=\"dataframe\">\n",
       "  <thead>\n",
       "    <tr style=\"text-align: right;\">\n",
       "      <th></th>\n",
       "      <th>0</th>\n",
       "      <th>1</th>\n",
       "      <th>2</th>\n",
       "      <th>3</th>\n",
       "    </tr>\n",
       "  </thead>\n",
       "  <tbody>\n",
       "    <tr>\n",
       "      <th>0</th>\n",
       "      <td>-112975.135459</td>\n",
       "      <td>85352.437426</td>\n",
       "      <td>19211.781483</td>\n",
       "      <td>9918.291331</td>\n",
       "    </tr>\n",
       "    <tr>\n",
       "      <th>1</th>\n",
       "      <td>-86552.551966</td>\n",
       "      <td>65390.311928</td>\n",
       "      <td>14721.652876</td>\n",
       "      <td>7582.951335</td>\n",
       "    </tr>\n",
       "    <tr>\n",
       "      <th>2</th>\n",
       "      <td>-47832.487856</td>\n",
       "      <td>36136.381707</td>\n",
       "      <td>8136.218204</td>\n",
       "      <td>4186.216705</td>\n",
       "    </tr>\n",
       "    <tr>\n",
       "      <th>3</th>\n",
       "      <td>-94977.816167</td>\n",
       "      <td>71760.045346</td>\n",
       "      <td>16147.673883</td>\n",
       "      <td>8354.949547</td>\n",
       "    </tr>\n",
       "    <tr>\n",
       "      <th>4</th>\n",
       "      <td>-59450.266667</td>\n",
       "      <td>44912.240665</td>\n",
       "      <td>10111.548998</td>\n",
       "      <td>5211.254031</td>\n",
       "    </tr>\n",
       "  </tbody>\n",
       "</table>\n",
       "</div>"
      ],
      "text/plain": [
       "               0             1             2            3\n",
       "0 -112975.135459  85352.437426  19211.781483  9918.291331\n",
       "1  -86552.551966  65390.311928  14721.652876  7582.951335\n",
       "2  -47832.487856  36136.381707   8136.218204  4186.216705\n",
       "3  -94977.816167  71760.045346  16147.673883  8354.949547\n",
       "4  -59450.266667  44912.240665  10111.548998  5211.254031"
      ]
     },
     "execution_count": 7,
     "metadata": {},
     "output_type": "execute_result"
    }
   ],
   "source": [
    "pd.DataFrame(features.values @ key_matrix).head()"
   ]
  },
  {
   "cell_type": "code",
   "execution_count": 8,
   "metadata": {},
   "outputs": [
    {
     "data": {
      "text/html": [
       "<div>\n",
       "<style scoped>\n",
       "    .dataframe tbody tr th:only-of-type {\n",
       "        vertical-align: middle;\n",
       "    }\n",
       "\n",
       "    .dataframe tbody tr th {\n",
       "        vertical-align: top;\n",
       "    }\n",
       "\n",
       "    .dataframe thead th {\n",
       "        text-align: right;\n",
       "    }\n",
       "</style>\n",
       "<table border=\"1\" class=\"dataframe\">\n",
       "  <thead>\n",
       "    <tr style=\"text-align: right;\">\n",
       "      <th></th>\n",
       "      <th>0</th>\n",
       "      <th>1</th>\n",
       "      <th>2</th>\n",
       "      <th>3</th>\n",
       "    </tr>\n",
       "  </thead>\n",
       "  <tbody>\n",
       "    <tr>\n",
       "      <th>0</th>\n",
       "      <td>1.000000e+00</td>\n",
       "      <td>41.0</td>\n",
       "      <td>49600.0</td>\n",
       "      <td>1.000000e+00</td>\n",
       "    </tr>\n",
       "    <tr>\n",
       "      <th>1</th>\n",
       "      <td>-1.571342e-12</td>\n",
       "      <td>46.0</td>\n",
       "      <td>38000.0</td>\n",
       "      <td>1.000000e+00</td>\n",
       "    </tr>\n",
       "    <tr>\n",
       "      <th>2</th>\n",
       "      <td>-8.982294e-13</td>\n",
       "      <td>29.0</td>\n",
       "      <td>21000.0</td>\n",
       "      <td>3.069785e-13</td>\n",
       "    </tr>\n",
       "    <tr>\n",
       "      <th>3</th>\n",
       "      <td>1.220854e-12</td>\n",
       "      <td>21.0</td>\n",
       "      <td>41700.0</td>\n",
       "      <td>2.000000e+00</td>\n",
       "    </tr>\n",
       "    <tr>\n",
       "      <th>4</th>\n",
       "      <td>1.000000e+00</td>\n",
       "      <td>28.0</td>\n",
       "      <td>26100.0</td>\n",
       "      <td>-3.451070e-13</td>\n",
       "    </tr>\n",
       "  </tbody>\n",
       "</table>\n",
       "</div>"
      ],
      "text/plain": [
       "              0     1        2             3\n",
       "0  1.000000e+00  41.0  49600.0  1.000000e+00\n",
       "1 -1.571342e-12  46.0  38000.0  1.000000e+00\n",
       "2 -8.982294e-13  29.0  21000.0  3.069785e-13\n",
       "3  1.220854e-12  21.0  41700.0  2.000000e+00\n",
       "4  1.000000e+00  28.0  26100.0 -3.451070e-13"
      ]
     },
     "execution_count": 8,
     "metadata": {},
     "output_type": "execute_result"
    }
   ],
   "source": [
    "pd.DataFrame(features.values @ key_matrix @ np.linalg.inv(key_matrix)).head()"
   ]
  },
  {
   "cell_type": "markdown",
   "metadata": {},
   "source": [
    "## Умножение матриц"
   ]
  },
  {
   "cell_type": "markdown",
   "metadata": {},
   "source": [
    "В этом задании вы можете записывать формулы в *Jupyter Notebook.*\n",
    "\n",
    "Чтобы записать формулу внутри текста, окружите её символами доллара \\\\$; если снаружи —  двойными символами \\\\$\\\\$. Эти формулы записываются на языке вёрстки *LaTeX.* \n",
    "\n",
    "Для примера мы записали формулы линейной регрессии. Можете их скопировать и отредактировать, чтобы решить задачу.\n",
    "\n",
    "Работать в *LaTeX* необязательно."
   ]
  },
  {
   "cell_type": "markdown",
   "metadata": {},
   "source": [
    "Обозначения:\n",
    "\n",
    "- $X$ — матрица признаков (нулевой столбец состоит из единиц)\n",
    "\n",
    "- $y$ — вектор целевого признака\n",
    "\n",
    "- $P$ — матрица, на которую умножаются признаки\n",
    "\n",
    "- $w$ — вектор весов линейной регрессии (нулевой элемент равен сдвигу)"
   ]
  },
  {
   "cell_type": "markdown",
   "metadata": {},
   "source": [
    "Предсказания:\n",
    "\n",
    "$$\n",
    "a = Xw\n",
    "$$\n",
    "\n",
    "Задача обучения:\n",
    "\n",
    "$$\n",
    "w = \\arg\\min_w MSE(Xw, y)\n",
    "$$\n",
    "\n",
    "Формула обучения:\n",
    "\n",
    "$$\n",
    "w = (X^T X)^{-1} X^T y\n",
    "$$"
   ]
  },
  {
   "cell_type": "markdown",
   "metadata": {},
   "source": [
    "**Ответ:**\n",
    "\n",
    "- $X'_{enc} = X' * М_{4x4}^{key}$ (Данные без целевого признака умножаем на ключевую матрицу (обязательно обратимую))\n",
    "- $X' = X'_{enc} * (М_{key})^{-1}$ (Для расшифровки умножаем данные на обратную ключевой матрицу)\n",
    "\n",
    "**Обоснование:**\n",
    "\n",
    "- Подобный способ хорошо шифрует данные (подобрать ключевую матрицу очень сложно)\n",
    "- Умножение матриц не должно сильно повлиять качество обучения модели потому что данные умножаются на одни те же числа из ключевой матрицы"
   ]
  },
  {
   "cell_type": "markdown",
   "metadata": {},
   "source": [
    "## Алгоритм преобразования"
   ]
  },
  {
   "cell_type": "markdown",
   "metadata": {},
   "source": [
    "**Алгоритм**\n",
    "\n",
    "- [x] Выделяем из датафрейма `features`\n",
    "- [x] Создаем рандомную квадратную матрицу `key martix` размером = `кол-во столбцов в датафрейме - 1` (\"-1\" потому что данные без целевого признака)\n",
    "- [x] Убеждаемся, что `key martix` является обратимой при помощи `np.linalg.det()`\n",
    "- [x] Шифруем данные = `features.values` @ `key martix`\n",
    "- [x] Для обратного преобразования зашифрованных данных - `шифрованные данные` @ `np.linalg.inv(key_matrix)` (обратную ключевую матрицу)"
   ]
  },
  {
   "cell_type": "markdown",
   "metadata": {},
   "source": [
    "**Обоснование**\n",
    "\n",
    "- Подобный способ хорошо шифрует данные (подобрать ключевую матрицу очень сложно)\n",
    "- Умножение матриц не должно сильно повлиять качество обучения модели потому что данные умножаются на одни те же числа из ключевой матрицы"
   ]
  },
  {
   "cell_type": "markdown",
   "metadata": {},
   "source": [
    "Если: Матрица признаков - X Обратимая матрица - P Вектор целевого признака - y Вектор весов целевого признака - w\n",
    "\n",
    "Предсказания в линейной регрессии:\n",
    "\n",
    "$$a = X w$$\n",
    "\n",
    "Формула вектора весов линейной регрессии:\n",
    "\n",
    "$$w = (X^TX)^{-1}X^Ty$$\n",
    "\n",
    "Преобразуем выражение для $w'$ - с зашифрованными признаками:\n",
    "\n",
    "$$    w' = (Y^TY)^{-1} Y^Ty$$\n",
    "$$    w'= ((XP)^T(XP))^{-1} (XP)^Ty$$\n",
    "$$    w'= P^{-1}((XP)^{T}X)^{-1} (XP)^Ty$$\n",
    "$$    w'= P^{-1}((XP)^{T}X)^{-1} P^TX^Ty$$\n",
    "$$    w'= P^{-1}(P^TX^TX)^{-1} P^TX^Ty$$\n",
    "$$   w'= P^{-1}(X^TX)^{-1}(P^T)^{-1} P^TX^Ty$$\n",
    "\n",
    "Так как $(P^{T})^{-1} P^T = E$, а при умножениия матрицы на единичную, мтарица остается неизменной, можем просто убрать эту часть из уравнения.\n",
    "\n",
    "Получится:\n",
    "\n",
    "$$   w'= P^{-1}(X^TX)^{-1}X^Ty$$\n",
    "\n",
    "Тогда заменим $(X^TX)^{-1}X^Ty$ на $w$:\n",
    "\n",
    "$$w'= P^{-1}w$$\n",
    "\n",
    "Подставим для $X'$ и $w'$ в формулу для расчета $a'$ - предсказания по зашифрованным признакам:\n",
    "\n",
    "$$a'=X'w' = XPP^{-1}w = Xw = a$$\n",
    "\n",
    "Выражения тождественны. Векторы предсказаний совпали."
   ]
  },
  {
   "cell_type": "markdown",
   "metadata": {},
   "source": [
    "## Проверка алгоритма"
   ]
  },
  {
   "cell_type": "markdown",
   "metadata": {},
   "source": [
    "Создадим фукнцию для шибрования данных, на выходе из которой будем получать `target` и заширфованные `features`"
   ]
  },
  {
   "cell_type": "code",
   "execution_count": 9,
   "metadata": {},
   "outputs": [],
   "source": [
    "features = df.iloc[:,:4]\n",
    "\n",
    "det = 0\n",
    "\n",
    "# Создаем рандомную матрицу\n",
    "# Проверяем обратимая она или нет (если обратимая - det <> 0)\n",
    "while det == 0:\n",
    "    key_matrix = np.random.normal(size=(df.shape[1]-1,df.shape[1]-1))\n",
    "    det = np.linalg.det(key_matrix)\n",
    "\n",
    "features_enc = pd.DataFrame(features.values @ key_matrix, columns=features.columns)"
   ]
  },
  {
   "cell_type": "markdown",
   "metadata": {},
   "source": [
    "Незашифрованные данные"
   ]
  },
  {
   "cell_type": "code",
   "execution_count": 10,
   "metadata": {},
   "outputs": [
    {
     "data": {
      "text/html": [
       "<div>\n",
       "<style scoped>\n",
       "    .dataframe tbody tr th:only-of-type {\n",
       "        vertical-align: middle;\n",
       "    }\n",
       "\n",
       "    .dataframe tbody tr th {\n",
       "        vertical-align: top;\n",
       "    }\n",
       "\n",
       "    .dataframe thead th {\n",
       "        text-align: right;\n",
       "    }\n",
       "</style>\n",
       "<table border=\"1\" class=\"dataframe\">\n",
       "  <thead>\n",
       "    <tr style=\"text-align: right;\">\n",
       "      <th></th>\n",
       "      <th>Пол</th>\n",
       "      <th>Возраст</th>\n",
       "      <th>Зарплата</th>\n",
       "      <th>Члены семьи</th>\n",
       "    </tr>\n",
       "  </thead>\n",
       "  <tbody>\n",
       "    <tr>\n",
       "      <th>0</th>\n",
       "      <td>1</td>\n",
       "      <td>41.0</td>\n",
       "      <td>49600.0</td>\n",
       "      <td>1</td>\n",
       "    </tr>\n",
       "    <tr>\n",
       "      <th>1</th>\n",
       "      <td>0</td>\n",
       "      <td>46.0</td>\n",
       "      <td>38000.0</td>\n",
       "      <td>1</td>\n",
       "    </tr>\n",
       "    <tr>\n",
       "      <th>2</th>\n",
       "      <td>0</td>\n",
       "      <td>29.0</td>\n",
       "      <td>21000.0</td>\n",
       "      <td>0</td>\n",
       "    </tr>\n",
       "    <tr>\n",
       "      <th>3</th>\n",
       "      <td>0</td>\n",
       "      <td>21.0</td>\n",
       "      <td>41700.0</td>\n",
       "      <td>2</td>\n",
       "    </tr>\n",
       "    <tr>\n",
       "      <th>4</th>\n",
       "      <td>1</td>\n",
       "      <td>28.0</td>\n",
       "      <td>26100.0</td>\n",
       "      <td>0</td>\n",
       "    </tr>\n",
       "  </tbody>\n",
       "</table>\n",
       "</div>"
      ],
      "text/plain": [
       "   Пол  Возраст  Зарплата  Члены семьи\n",
       "0    1     41.0   49600.0            1\n",
       "1    0     46.0   38000.0            1\n",
       "2    0     29.0   21000.0            0\n",
       "3    0     21.0   41700.0            2\n",
       "4    1     28.0   26100.0            0"
      ]
     },
     "execution_count": 10,
     "metadata": {},
     "output_type": "execute_result"
    }
   ],
   "source": [
    "features.head()"
   ]
  },
  {
   "cell_type": "markdown",
   "metadata": {},
   "source": [
    "Зашифрованные данные"
   ]
  },
  {
   "cell_type": "code",
   "execution_count": 11,
   "metadata": {},
   "outputs": [
    {
     "data": {
      "text/html": [
       "<div>\n",
       "<style scoped>\n",
       "    .dataframe tbody tr th:only-of-type {\n",
       "        vertical-align: middle;\n",
       "    }\n",
       "\n",
       "    .dataframe tbody tr th {\n",
       "        vertical-align: top;\n",
       "    }\n",
       "\n",
       "    .dataframe thead th {\n",
       "        text-align: right;\n",
       "    }\n",
       "</style>\n",
       "<table border=\"1\" class=\"dataframe\">\n",
       "  <thead>\n",
       "    <tr style=\"text-align: right;\">\n",
       "      <th></th>\n",
       "      <th>Пол</th>\n",
       "      <th>Возраст</th>\n",
       "      <th>Зарплата</th>\n",
       "      <th>Члены семьи</th>\n",
       "    </tr>\n",
       "  </thead>\n",
       "  <tbody>\n",
       "    <tr>\n",
       "      <th>0</th>\n",
       "      <td>-54442.997129</td>\n",
       "      <td>-19729.050430</td>\n",
       "      <td>-23669.630942</td>\n",
       "      <td>38601.363812</td>\n",
       "    </tr>\n",
       "    <tr>\n",
       "      <th>1</th>\n",
       "      <td>-41732.656104</td>\n",
       "      <td>-15133.029910</td>\n",
       "      <td>-18154.133574</td>\n",
       "      <td>29570.193040</td>\n",
       "    </tr>\n",
       "    <tr>\n",
       "      <th>2</th>\n",
       "      <td>-23068.184540</td>\n",
       "      <td>-8366.587981</td>\n",
       "      <td>-10036.666312</td>\n",
       "      <td>16340.661568</td>\n",
       "    </tr>\n",
       "    <tr>\n",
       "      <th>3</th>\n",
       "      <td>-45751.843266</td>\n",
       "      <td>-16571.808679</td>\n",
       "      <td>-19882.058139</td>\n",
       "      <td>32455.188053</td>\n",
       "    </tr>\n",
       "    <tr>\n",
       "      <th>4</th>\n",
       "      <td>-28657.828815</td>\n",
       "      <td>-10388.776569</td>\n",
       "      <td>-12463.688632</td>\n",
       "      <td>20311.510723</td>\n",
       "    </tr>\n",
       "  </tbody>\n",
       "</table>\n",
       "</div>"
      ],
      "text/plain": [
       "            Пол       Возраст      Зарплата   Члены семьи\n",
       "0 -54442.997129 -19729.050430 -23669.630942  38601.363812\n",
       "1 -41732.656104 -15133.029910 -18154.133574  29570.193040\n",
       "2 -23068.184540  -8366.587981 -10036.666312  16340.661568\n",
       "3 -45751.843266 -16571.808679 -19882.058139  32455.188053\n",
       "4 -28657.828815 -10388.776569 -12463.688632  20311.510723"
      ]
     },
     "execution_count": 11,
     "metadata": {},
     "output_type": "execute_result"
    }
   ],
   "source": [
    "features_enc.head()"
   ]
  },
  {
   "cell_type": "markdown",
   "metadata": {},
   "source": [
    "Расшифрованные данные"
   ]
  },
  {
   "cell_type": "code",
   "execution_count": 12,
   "metadata": {
    "scrolled": true
   },
   "outputs": [
    {
     "data": {
      "text/html": [
       "<div>\n",
       "<style scoped>\n",
       "    .dataframe tbody tr th:only-of-type {\n",
       "        vertical-align: middle;\n",
       "    }\n",
       "\n",
       "    .dataframe tbody tr th {\n",
       "        vertical-align: top;\n",
       "    }\n",
       "\n",
       "    .dataframe thead th {\n",
       "        text-align: right;\n",
       "    }\n",
       "</style>\n",
       "<table border=\"1\" class=\"dataframe\">\n",
       "  <thead>\n",
       "    <tr style=\"text-align: right;\">\n",
       "      <th></th>\n",
       "      <th>0</th>\n",
       "      <th>1</th>\n",
       "      <th>2</th>\n",
       "      <th>3</th>\n",
       "    </tr>\n",
       "  </thead>\n",
       "  <tbody>\n",
       "    <tr>\n",
       "      <th>0</th>\n",
       "      <td>1.000000e+00</td>\n",
       "      <td>41.0</td>\n",
       "      <td>49600.0</td>\n",
       "      <td>1.000000e+00</td>\n",
       "    </tr>\n",
       "    <tr>\n",
       "      <th>1</th>\n",
       "      <td>-3.055156e-12</td>\n",
       "      <td>46.0</td>\n",
       "      <td>38000.0</td>\n",
       "      <td>1.000000e+00</td>\n",
       "    </tr>\n",
       "    <tr>\n",
       "      <th>2</th>\n",
       "      <td>-7.084626e-12</td>\n",
       "      <td>29.0</td>\n",
       "      <td>21000.0</td>\n",
       "      <td>-2.021661e-12</td>\n",
       "    </tr>\n",
       "    <tr>\n",
       "      <th>3</th>\n",
       "      <td>-3.778042e-12</td>\n",
       "      <td>21.0</td>\n",
       "      <td>41700.0</td>\n",
       "      <td>2.000000e+00</td>\n",
       "    </tr>\n",
       "    <tr>\n",
       "      <th>4</th>\n",
       "      <td>1.000000e+00</td>\n",
       "      <td>28.0</td>\n",
       "      <td>26100.0</td>\n",
       "      <td>-3.843378e-12</td>\n",
       "    </tr>\n",
       "  </tbody>\n",
       "</table>\n",
       "</div>"
      ],
      "text/plain": [
       "              0     1        2             3\n",
       "0  1.000000e+00  41.0  49600.0  1.000000e+00\n",
       "1 -3.055156e-12  46.0  38000.0  1.000000e+00\n",
       "2 -7.084626e-12  29.0  21000.0 -2.021661e-12\n",
       "3 -3.778042e-12  21.0  41700.0  2.000000e+00\n",
       "4  1.000000e+00  28.0  26100.0 -3.843378e-12"
      ]
     },
     "execution_count": 12,
     "metadata": {},
     "output_type": "execute_result"
    }
   ],
   "source": [
    "fetures_decode = features_enc @ np.linalg.inv(key_matrix)\n",
    "fetures_decode.head()"
   ]
  },
  {
   "cell_type": "markdown",
   "metadata": {},
   "source": [
    "Видим, что данные до шифрования и после расшифровки совпадают - алгоритм работает!"
   ]
  },
  {
   "cell_type": "markdown",
   "metadata": {},
   "source": [
    "Пишем функцию шифрования"
   ]
  },
  {
   "cell_type": "code",
   "execution_count": 13,
   "metadata": {},
   "outputs": [],
   "source": [
    "def features_enc(df):\n",
    "    \n",
    "    features = df.iloc[:,:4]\n",
    "    \n",
    "    det = 0\n",
    "    \n",
    "    # Создаем рандомную матрицу\n",
    "    # Проверяем обратимая она или нет (если обратимая - det <> 0)\n",
    "    while det == 0:\n",
    "        key_matrix = np.random.normal(size=(df.shape[1]-1,df.shape[1]-1))\n",
    "        det = np.linalg.det(key_matrix)\n",
    "    \n",
    "    features_enc = pd.DataFrame(features.values @ key_matrix, columns=features.columns)\n",
    "        \n",
    "    return features_enc"
   ]
  },
  {
   "cell_type": "markdown",
   "metadata": {},
   "source": [
    "Разделим данные для обучения модели"
   ]
  },
  {
   "cell_type": "code",
   "execution_count": 14,
   "metadata": {},
   "outputs": [],
   "source": [
    "target = df.iloc[:,-1:]\n",
    "features = df.iloc[:,:4]\n",
    "features_enc = features_enc(df)"
   ]
  },
  {
   "cell_type": "code",
   "execution_count": 15,
   "metadata": {},
   "outputs": [],
   "source": [
    "model = LinearRegression()"
   ]
  },
  {
   "cell_type": "markdown",
   "metadata": {},
   "source": [
    "Обучим модель на незашифрованных признаках"
   ]
  },
  {
   "cell_type": "code",
   "execution_count": 16,
   "metadata": {},
   "outputs": [
    {
     "data": {
      "text/plain": [
       "LinearRegression()"
      ]
     },
     "execution_count": 16,
     "metadata": {},
     "output_type": "execute_result"
    }
   ],
   "source": [
    "model.fit(features,target)"
   ]
  },
  {
   "cell_type": "code",
   "execution_count": 17,
   "metadata": {},
   "outputs": [],
   "source": [
    "predictions = model.predict(features)"
   ]
  },
  {
   "cell_type": "code",
   "execution_count": 18,
   "metadata": {},
   "outputs": [
    {
     "name": "stdout",
     "output_type": "stream",
     "text": [
      "Качество модели (незашифрованные признаки): 0.4249455028666801\n"
     ]
    }
   ],
   "source": [
    "score = r2_score(target,predictions)\n",
    "print('Качество модели (незашифрованные признаки):', score)"
   ]
  },
  {
   "cell_type": "code",
   "execution_count": 19,
   "metadata": {},
   "outputs": [
    {
     "data": {
      "text/plain": [
       "LinearRegression()"
      ]
     },
     "execution_count": 19,
     "metadata": {},
     "output_type": "execute_result"
    }
   ],
   "source": [
    "model.fit(features_enc,target)"
   ]
  },
  {
   "cell_type": "code",
   "execution_count": 20,
   "metadata": {},
   "outputs": [],
   "source": [
    "predictions = model.predict(features_enc)"
   ]
  },
  {
   "cell_type": "code",
   "execution_count": 21,
   "metadata": {},
   "outputs": [
    {
     "name": "stdout",
     "output_type": "stream",
     "text": [
      "Качество модели (зашифрованные признаки): 0.4249455028666692\n"
     ]
    }
   ],
   "source": [
    "score = r2_score(target,predictions)\n",
    "print('Качество модели (зашифрованные признаки):', score)"
   ]
  },
  {
   "cell_type": "markdown",
   "metadata": {},
   "source": [
    "**Выводы**"
   ]
  },
  {
   "cell_type": "markdown",
   "metadata": {},
   "source": [
    "- Метод шифрования данных работает\n",
    "- Шифрование никак не влияет на качество обучаемой модели (значение предсказания $a$ не меняется, если умножать матрицу признаков на обратимую матрицу.)"
   ]
  },
  {
   "cell_type": "code",
   "execution_count": null,
   "metadata": {},
   "outputs": [],
   "source": []
  }
 ],
 "metadata": {
  "ExecuteTimeLog": [
   {
    "duration": 470,
    "start_time": "2023-05-21T09:28:01.357Z"
   },
   {
    "duration": 80,
    "start_time": "2023-05-21T09:28:21.566Z"
   },
   {
    "duration": 17,
    "start_time": "2023-05-21T09:28:27.168Z"
   },
   {
    "duration": 14,
    "start_time": "2023-05-21T09:28:32.191Z"
   },
   {
    "duration": 5,
    "start_time": "2023-05-21T10:25:14.470Z"
   },
   {
    "duration": 137,
    "start_time": "2023-05-21T10:25:36.981Z"
   },
   {
    "duration": 7,
    "start_time": "2023-05-21T10:26:21.955Z"
   },
   {
    "duration": 13,
    "start_time": "2023-05-21T10:26:25.501Z"
   },
   {
    "duration": 15,
    "start_time": "2023-05-21T10:26:29.557Z"
   },
   {
    "duration": 477,
    "start_time": "2023-05-21T10:26:42.457Z"
   },
   {
    "duration": 24,
    "start_time": "2023-05-21T10:26:52.060Z"
   },
   {
    "duration": 16,
    "start_time": "2023-05-21T10:26:59.399Z"
   },
   {
    "duration": 6,
    "start_time": "2023-05-21T10:28:05.254Z"
   },
   {
    "duration": 5,
    "start_time": "2023-05-21T10:28:10.850Z"
   },
   {
    "duration": 5,
    "start_time": "2023-05-21T10:29:13.392Z"
   },
   {
    "duration": 29,
    "start_time": "2023-05-21T10:29:17.766Z"
   },
   {
    "duration": 15,
    "start_time": "2023-05-21T10:29:24.088Z"
   },
   {
    "duration": 4,
    "start_time": "2023-05-21T10:29:32.161Z"
   },
   {
    "duration": 15,
    "start_time": "2023-05-21T10:29:56.511Z"
   },
   {
    "duration": 20,
    "start_time": "2023-05-21T10:30:01.603Z"
   },
   {
    "duration": 23,
    "start_time": "2023-05-21T10:30:10.092Z"
   },
   {
    "duration": 21,
    "start_time": "2023-05-21T10:30:22.908Z"
   },
   {
    "duration": 17,
    "start_time": "2023-05-21T10:30:30.088Z"
   },
   {
    "duration": 6,
    "start_time": "2023-05-21T10:30:47.922Z"
   },
   {
    "duration": 4,
    "start_time": "2023-05-21T10:39:02.397Z"
   },
   {
    "duration": 9,
    "start_time": "2023-05-21T10:39:05.070Z"
   },
   {
    "duration": 47,
    "start_time": "2023-05-21T10:40:47.325Z"
   },
   {
    "duration": 6,
    "start_time": "2023-05-21T10:40:47.676Z"
   },
   {
    "duration": 4,
    "start_time": "2023-05-21T10:40:53.954Z"
   },
   {
    "duration": 6,
    "start_time": "2023-05-21T10:40:54.427Z"
   },
   {
    "duration": 6,
    "start_time": "2023-05-21T10:43:45.665Z"
   },
   {
    "duration": 31,
    "start_time": "2023-05-21T10:44:55.439Z"
   },
   {
    "duration": 10,
    "start_time": "2023-05-21T10:45:02.495Z"
   },
   {
    "duration": 75,
    "start_time": "2023-05-21T10:45:06.458Z"
   },
   {
    "duration": 32,
    "start_time": "2023-05-21T10:45:11.865Z"
   },
   {
    "duration": 59,
    "start_time": "2023-05-21T10:45:32.055Z"
   },
   {
    "duration": 28,
    "start_time": "2023-05-21T10:46:15.906Z"
   },
   {
    "duration": 88,
    "start_time": "2023-05-21T11:14:19.238Z"
   },
   {
    "duration": 8,
    "start_time": "2023-05-21T11:14:26.652Z"
   },
   {
    "duration": 13,
    "start_time": "2023-05-21T11:14:35.374Z"
   },
   {
    "duration": 9,
    "start_time": "2023-05-21T11:14:39.392Z"
   },
   {
    "duration": 10,
    "start_time": "2023-05-21T11:14:41.907Z"
   },
   {
    "duration": 8,
    "start_time": "2023-05-21T11:14:43.843Z"
   },
   {
    "duration": 19,
    "start_time": "2023-05-21T11:19:16.434Z"
   },
   {
    "duration": 16,
    "start_time": "2023-05-21T11:19:51.308Z"
   },
   {
    "duration": 18,
    "start_time": "2023-05-21T11:19:55.107Z"
   },
   {
    "duration": 5,
    "start_time": "2023-05-21T11:20:03.360Z"
   },
   {
    "duration": 5,
    "start_time": "2023-05-21T11:20:48.827Z"
   },
   {
    "duration": 955,
    "start_time": "2023-05-21T11:35:10.596Z"
   },
   {
    "duration": 10,
    "start_time": "2023-05-21T11:35:35.435Z"
   },
   {
    "duration": 8,
    "start_time": "2023-05-21T11:35:37.135Z"
   },
   {
    "duration": 3,
    "start_time": "2023-05-21T11:35:38.845Z"
   },
   {
    "duration": 16,
    "start_time": "2023-05-21T11:37:03.656Z"
   },
   {
    "duration": 11,
    "start_time": "2023-05-21T11:39:08.696Z"
   },
   {
    "duration": 4,
    "start_time": "2023-05-21T11:39:31.612Z"
   },
   {
    "duration": 8,
    "start_time": "2023-05-21T11:39:48.558Z"
   },
   {
    "duration": 23,
    "start_time": "2023-05-21T11:40:15.366Z"
   },
   {
    "duration": 17,
    "start_time": "2023-05-21T11:40:21.572Z"
   },
   {
    "duration": 6,
    "start_time": "2023-05-21T11:40:42.626Z"
   },
   {
    "duration": 15,
    "start_time": "2023-05-21T11:40:43.393Z"
   },
   {
    "duration": 4,
    "start_time": "2023-05-21T11:40:44.995Z"
   },
   {
    "duration": 19,
    "start_time": "2023-05-21T11:40:45.365Z"
   },
   {
    "duration": 14,
    "start_time": "2023-05-21T11:40:46.547Z"
   },
   {
    "duration": 7,
    "start_time": "2023-05-21T11:40:46.960Z"
   },
   {
    "duration": 11,
    "start_time": "2023-05-21T11:40:47.840Z"
   },
   {
    "duration": 7,
    "start_time": "2023-05-21T11:40:48.324Z"
   },
   {
    "duration": 13,
    "start_time": "2023-05-21T11:41:26.242Z"
   },
   {
    "duration": 15,
    "start_time": "2023-05-21T11:41:26.828Z"
   },
   {
    "duration": 8,
    "start_time": "2023-05-21T11:41:27.252Z"
   },
   {
    "duration": 9,
    "start_time": "2023-05-21T11:41:38.533Z"
   },
   {
    "duration": 10,
    "start_time": "2023-05-21T11:41:50.947Z"
   },
   {
    "duration": 95,
    "start_time": "2023-05-21T11:41:58.861Z"
   },
   {
    "duration": 11,
    "start_time": "2023-05-21T11:42:09.029Z"
   },
   {
    "duration": 17,
    "start_time": "2023-05-21T11:42:09.448Z"
   },
   {
    "duration": 16,
    "start_time": "2023-05-21T11:42:12.830Z"
   },
   {
    "duration": 1494,
    "start_time": "2023-05-21T11:42:30.513Z"
   },
   {
    "duration": 77,
    "start_time": "2023-05-21T11:42:32.010Z"
   },
   {
    "duration": 29,
    "start_time": "2023-05-21T11:42:32.089Z"
   },
   {
    "duration": 36,
    "start_time": "2023-05-21T11:42:32.121Z"
   },
   {
    "duration": 58,
    "start_time": "2023-05-21T11:42:32.161Z"
   },
   {
    "duration": 33,
    "start_time": "2023-05-21T11:42:32.221Z"
   },
   {
    "duration": 72,
    "start_time": "2023-05-21T11:42:32.257Z"
   },
   {
    "duration": 93,
    "start_time": "2023-05-21T11:42:32.332Z"
   },
   {
    "duration": 94,
    "start_time": "2023-05-21T11:42:32.428Z"
   },
   {
    "duration": 56,
    "start_time": "2023-05-21T11:42:32.524Z"
   },
   {
    "duration": 43,
    "start_time": "2023-05-21T11:42:32.583Z"
   },
   {
    "duration": 39,
    "start_time": "2023-05-21T11:42:32.628Z"
   },
   {
    "duration": 60,
    "start_time": "2023-05-21T11:42:32.669Z"
   },
   {
    "duration": 176,
    "start_time": "2023-05-21T11:42:32.735Z"
   },
   {
    "duration": 21,
    "start_time": "2023-05-21T11:42:32.913Z"
   },
   {
    "duration": 31,
    "start_time": "2023-05-21T11:42:32.936Z"
   },
   {
    "duration": 262,
    "start_time": "2023-05-21T11:42:32.969Z"
   },
   {
    "duration": 10,
    "start_time": "2023-05-21T11:42:49.206Z"
   },
   {
    "duration": 14,
    "start_time": "2023-05-21T11:43:36.933Z"
   },
   {
    "duration": 110,
    "start_time": "2023-05-21T11:43:38.665Z"
   },
   {
    "duration": 10,
    "start_time": "2023-05-21T11:43:41.740Z"
   },
   {
    "duration": 7,
    "start_time": "2023-05-21T11:44:33.053Z"
   },
   {
    "duration": 7,
    "start_time": "2023-05-21T11:45:05.345Z"
   },
   {
    "duration": 8,
    "start_time": "2023-05-21T11:45:11.300Z"
   },
   {
    "duration": 11,
    "start_time": "2023-05-21T11:45:13.630Z"
   },
   {
    "duration": 10,
    "start_time": "2023-05-21T11:45:14.126Z"
   },
   {
    "duration": 14,
    "start_time": "2023-05-21T11:45:14.526Z"
   },
   {
    "duration": 119,
    "start_time": "2023-05-21T11:47:15.726Z"
   },
   {
    "duration": 17,
    "start_time": "2023-05-21T11:48:07.420Z"
   },
   {
    "duration": 16,
    "start_time": "2023-05-21T11:48:16.209Z"
   },
   {
    "duration": 8,
    "start_time": "2023-05-21T11:48:27.322Z"
   },
   {
    "duration": 12,
    "start_time": "2023-05-21T11:48:54.252Z"
   },
   {
    "duration": 15,
    "start_time": "2023-05-21T11:50:28.641Z"
   },
   {
    "duration": 11,
    "start_time": "2023-05-21T11:51:00.521Z"
   },
   {
    "duration": 1382,
    "start_time": "2023-05-21T11:52:21.142Z"
   },
   {
    "duration": 32,
    "start_time": "2023-05-21T11:52:22.526Z"
   },
   {
    "duration": 44,
    "start_time": "2023-05-21T11:52:22.559Z"
   },
   {
    "duration": 31,
    "start_time": "2023-05-21T11:52:22.609Z"
   },
   {
    "duration": 15,
    "start_time": "2023-05-21T11:52:22.644Z"
   },
   {
    "duration": 54,
    "start_time": "2023-05-21T11:52:22.661Z"
   },
   {
    "duration": 32,
    "start_time": "2023-05-21T11:52:22.718Z"
   },
   {
    "duration": 84,
    "start_time": "2023-05-21T11:52:22.752Z"
   },
   {
    "duration": 173,
    "start_time": "2023-05-21T11:52:22.839Z"
   },
   {
    "duration": 46,
    "start_time": "2023-05-21T11:52:23.015Z"
   },
   {
    "duration": 69,
    "start_time": "2023-05-21T11:52:23.063Z"
   },
   {
    "duration": 46,
    "start_time": "2023-05-21T11:52:23.134Z"
   },
   {
    "duration": 136,
    "start_time": "2023-05-21T11:52:23.182Z"
   },
   {
    "duration": 39,
    "start_time": "2023-05-21T11:52:23.322Z"
   },
   {
    "duration": 79,
    "start_time": "2023-05-21T11:52:23.364Z"
   },
   {
    "duration": 91,
    "start_time": "2023-05-21T11:52:23.445Z"
   },
   {
    "duration": 48,
    "start_time": "2023-05-21T11:52:23.538Z"
   },
   {
    "duration": 138,
    "start_time": "2023-05-21T11:52:23.596Z"
   },
   {
    "duration": 25,
    "start_time": "2023-05-21T11:52:23.736Z"
   },
   {
    "duration": 63,
    "start_time": "2023-05-21T11:52:23.764Z"
   },
   {
    "duration": 146,
    "start_time": "2023-05-21T11:52:23.832Z"
   },
   {
    "duration": 1248,
    "start_time": "2023-05-21T13:44:38.109Z"
   },
   {
    "duration": 27,
    "start_time": "2023-05-21T13:44:39.359Z"
   },
   {
    "duration": 17,
    "start_time": "2023-05-21T13:44:39.388Z"
   },
   {
    "duration": 2,
    "start_time": "2023-05-21T13:44:39.408Z"
   },
   {
    "duration": 9,
    "start_time": "2023-05-21T13:44:39.412Z"
   },
   {
    "duration": 8,
    "start_time": "2023-05-21T13:44:39.422Z"
   },
   {
    "duration": 15,
    "start_time": "2023-05-21T13:44:39.431Z"
   },
   {
    "duration": 51,
    "start_time": "2023-05-21T13:44:39.447Z"
   },
   {
    "duration": 10,
    "start_time": "2023-05-21T13:44:39.500Z"
   },
   {
    "duration": 88,
    "start_time": "2023-05-21T13:44:39.512Z"
   },
   {
    "duration": 15,
    "start_time": "2023-05-21T13:44:39.602Z"
   },
   {
    "duration": 24,
    "start_time": "2023-05-21T13:44:39.618Z"
   },
   {
    "duration": 56,
    "start_time": "2023-05-21T13:44:39.645Z"
   },
   {
    "duration": 11,
    "start_time": "2023-05-21T13:44:39.703Z"
   },
   {
    "duration": 6,
    "start_time": "2023-05-21T13:44:39.715Z"
   },
   {
    "duration": 8,
    "start_time": "2023-05-21T13:44:39.795Z"
   },
   {
    "duration": 9,
    "start_time": "2023-05-21T13:44:39.805Z"
   },
   {
    "duration": 181,
    "start_time": "2023-05-21T13:44:39.818Z"
   },
   {
    "duration": 13,
    "start_time": "2023-05-21T13:44:40.000Z"
   },
   {
    "duration": 15,
    "start_time": "2023-05-21T13:44:40.015Z"
   },
   {
    "duration": 166,
    "start_time": "2023-05-21T13:44:40.032Z"
   },
   {
    "duration": 1075,
    "start_time": "2023-05-21T20:07:00.799Z"
   },
   {
    "duration": 87,
    "start_time": "2023-05-21T20:07:01.876Z"
   },
   {
    "duration": 20,
    "start_time": "2023-05-21T20:07:01.965Z"
   },
   {
    "duration": 26,
    "start_time": "2023-05-21T20:07:01.988Z"
   },
   {
    "duration": 14,
    "start_time": "2023-05-21T20:07:02.016Z"
   },
   {
    "duration": 31,
    "start_time": "2023-05-21T20:07:02.032Z"
   },
   {
    "duration": 36,
    "start_time": "2023-05-21T20:07:02.065Z"
   },
   {
    "duration": 21,
    "start_time": "2023-05-21T20:07:02.102Z"
   },
   {
    "duration": 56,
    "start_time": "2023-05-21T20:07:02.125Z"
   },
   {
    "duration": 10,
    "start_time": "2023-05-21T20:07:02.184Z"
   },
   {
    "duration": 88,
    "start_time": "2023-05-21T20:07:02.196Z"
   },
   {
    "duration": 11,
    "start_time": "2023-05-21T20:07:02.287Z"
   },
   {
    "duration": 81,
    "start_time": "2023-05-21T20:07:02.300Z"
   },
   {
    "duration": 7,
    "start_time": "2023-05-21T20:07:02.383Z"
   },
   {
    "duration": 87,
    "start_time": "2023-05-21T20:07:02.391Z"
   },
   {
    "duration": 9,
    "start_time": "2023-05-21T20:07:02.480Z"
   },
   {
    "duration": 12,
    "start_time": "2023-05-21T20:07:02.490Z"
   },
   {
    "duration": 79,
    "start_time": "2023-05-21T20:07:02.504Z"
   },
   {
    "duration": 19,
    "start_time": "2023-05-21T20:07:02.677Z"
   },
   {
    "duration": 11,
    "start_time": "2023-05-21T20:07:02.698Z"
   },
   {
    "duration": 69,
    "start_time": "2023-05-21T20:07:02.712Z"
   },
   {
    "duration": 97,
    "start_time": "2023-05-21T20:07:19.696Z"
   },
   {
    "duration": 3,
    "start_time": "2023-05-21T20:07:20.030Z"
   },
   {
    "duration": 1119,
    "start_time": "2023-05-21T20:07:51.549Z"
   },
   {
    "duration": 28,
    "start_time": "2023-05-21T20:07:52.670Z"
   },
   {
    "duration": 20,
    "start_time": "2023-05-21T20:07:52.700Z"
   },
   {
    "duration": 3,
    "start_time": "2023-05-21T20:07:52.721Z"
   },
   {
    "duration": 13,
    "start_time": "2023-05-21T20:07:52.726Z"
   },
   {
    "duration": 22,
    "start_time": "2023-05-21T20:07:52.741Z"
   },
   {
    "duration": 36,
    "start_time": "2023-05-21T20:07:52.765Z"
   },
   {
    "duration": 13,
    "start_time": "2023-05-21T20:07:52.803Z"
   },
   {
    "duration": 61,
    "start_time": "2023-05-21T20:07:52.818Z"
   },
   {
    "duration": 12,
    "start_time": "2023-05-21T20:07:52.881Z"
   },
   {
    "duration": 89,
    "start_time": "2023-05-21T20:07:52.895Z"
   },
   {
    "duration": 19,
    "start_time": "2023-05-21T20:07:52.986Z"
   },
   {
    "duration": 71,
    "start_time": "2023-05-21T20:07:53.007Z"
   },
   {
    "duration": 9,
    "start_time": "2023-05-21T20:07:53.081Z"
   },
   {
    "duration": 86,
    "start_time": "2023-05-21T20:07:53.092Z"
   },
   {
    "duration": 9,
    "start_time": "2023-05-21T20:07:53.180Z"
   },
   {
    "duration": 10,
    "start_time": "2023-05-21T20:07:53.191Z"
   },
   {
    "duration": 81,
    "start_time": "2023-05-21T20:07:53.202Z"
   },
   {
    "duration": 99,
    "start_time": "2023-05-21T20:07:53.285Z"
   },
   {
    "duration": 7,
    "start_time": "2023-05-21T20:07:53.386Z"
   },
   {
    "duration": 83,
    "start_time": "2023-05-21T20:07:53.395Z"
   },
   {
    "duration": 9,
    "start_time": "2023-05-21T20:10:12.489Z"
   },
   {
    "duration": 10,
    "start_time": "2023-05-21T20:10:21.238Z"
   },
   {
    "duration": 10,
    "start_time": "2023-05-21T20:10:30.622Z"
   },
   {
    "duration": 909,
    "start_time": "2023-05-22T07:15:57.199Z"
   },
   {
    "duration": 27,
    "start_time": "2023-05-22T07:15:58.112Z"
   },
   {
    "duration": 15,
    "start_time": "2023-05-22T07:15:58.140Z"
   },
   {
    "duration": 4,
    "start_time": "2023-05-22T07:15:58.156Z"
   },
   {
    "duration": 7,
    "start_time": "2023-05-22T07:15:58.162Z"
   },
   {
    "duration": 7,
    "start_time": "2023-05-22T07:15:58.170Z"
   },
   {
    "duration": 11,
    "start_time": "2023-05-22T07:15:58.178Z"
   },
   {
    "duration": 28,
    "start_time": "2023-05-22T07:15:58.190Z"
   },
   {
    "duration": 81,
    "start_time": "2023-05-22T07:15:58.220Z"
   },
   {
    "duration": 94,
    "start_time": "2023-05-22T07:15:58.303Z"
   },
   {
    "duration": 21,
    "start_time": "2023-05-22T07:15:58.399Z"
   },
   {
    "duration": 16,
    "start_time": "2023-05-22T07:15:58.422Z"
   },
   {
    "duration": 70,
    "start_time": "2023-05-22T07:15:58.440Z"
   },
   {
    "duration": 82,
    "start_time": "2023-05-22T07:15:58.515Z"
   },
   {
    "duration": 10,
    "start_time": "2023-05-22T07:15:58.599Z"
   },
   {
    "duration": 20,
    "start_time": "2023-05-22T07:15:58.611Z"
   },
   {
    "duration": 6,
    "start_time": "2023-05-22T07:15:58.632Z"
   },
   {
    "duration": 155,
    "start_time": "2023-05-22T07:15:58.640Z"
   },
   {
    "duration": 21,
    "start_time": "2023-05-22T07:15:58.797Z"
   },
   {
    "duration": 16,
    "start_time": "2023-05-22T07:15:58.820Z"
   },
   {
    "duration": 176,
    "start_time": "2023-05-22T07:15:58.839Z"
   },
   {
    "duration": 1200,
    "start_time": "2023-05-22T14:26:11.575Z"
   },
   {
    "duration": 102,
    "start_time": "2023-05-22T14:26:12.780Z"
   },
   {
    "duration": 19,
    "start_time": "2023-05-22T14:26:12.885Z"
   },
   {
    "duration": 4,
    "start_time": "2023-05-22T14:26:12.906Z"
   },
   {
    "duration": 6,
    "start_time": "2023-05-22T14:26:12.913Z"
   },
   {
    "duration": 7,
    "start_time": "2023-05-22T14:26:12.920Z"
   },
   {
    "duration": 24,
    "start_time": "2023-05-22T14:26:12.929Z"
   },
   {
    "duration": 35,
    "start_time": "2023-05-22T14:26:12.954Z"
   },
   {
    "duration": 8,
    "start_time": "2023-05-22T14:26:12.992Z"
   },
   {
    "duration": 13,
    "start_time": "2023-05-22T14:26:13.058Z"
   },
   {
    "duration": 27,
    "start_time": "2023-05-22T14:26:13.076Z"
   },
   {
    "duration": 32,
    "start_time": "2023-05-22T14:26:13.158Z"
   },
   {
    "duration": 63,
    "start_time": "2023-05-22T14:26:13.196Z"
   },
   {
    "duration": 14,
    "start_time": "2023-05-22T14:26:13.269Z"
   },
   {
    "duration": 5,
    "start_time": "2023-05-22T14:26:13.291Z"
   },
   {
    "duration": 72,
    "start_time": "2023-05-22T14:26:13.299Z"
   },
   {
    "duration": 8,
    "start_time": "2023-05-22T14:26:13.377Z"
   },
   {
    "duration": 72,
    "start_time": "2023-05-22T14:26:13.386Z"
   },
   {
    "duration": 105,
    "start_time": "2023-05-22T14:26:13.460Z"
   },
   {
    "duration": 13,
    "start_time": "2023-05-22T14:26:13.568Z"
   },
   {
    "duration": 75,
    "start_time": "2023-05-22T14:26:13.586Z"
   },
   {
    "duration": 9,
    "start_time": "2023-05-22T19:14:36.835Z"
   },
   {
    "duration": 9,
    "start_time": "2023-05-22T19:15:15.429Z"
   },
   {
    "duration": 57,
    "start_time": "2023-05-23T15:08:48.569Z"
   },
   {
    "duration": 1200,
    "start_time": "2023-05-23T15:08:54.940Z"
   },
   {
    "duration": 102,
    "start_time": "2023-05-23T15:08:56.144Z"
   },
   {
    "duration": 20,
    "start_time": "2023-05-23T15:08:56.249Z"
   },
   {
    "duration": 4,
    "start_time": "2023-05-23T15:08:56.270Z"
   },
   {
    "duration": 10,
    "start_time": "2023-05-23T15:08:56.276Z"
   },
   {
    "duration": 10,
    "start_time": "2023-05-23T15:08:56.288Z"
   },
   {
    "duration": 18,
    "start_time": "2023-05-23T15:08:56.299Z"
   },
   {
    "duration": 54,
    "start_time": "2023-05-23T15:08:56.319Z"
   },
   {
    "duration": 8,
    "start_time": "2023-05-23T15:08:56.375Z"
   },
   {
    "duration": 95,
    "start_time": "2023-05-23T15:08:56.385Z"
   },
   {
    "duration": 13,
    "start_time": "2023-05-23T15:08:56.483Z"
   },
   {
    "duration": 17,
    "start_time": "2023-05-23T15:08:56.498Z"
   },
   {
    "duration": 7,
    "start_time": "2023-05-23T15:08:56.571Z"
   },
   {
    "duration": 92,
    "start_time": "2023-05-23T15:08:56.582Z"
   },
   {
    "duration": 13,
    "start_time": "2023-05-23T15:08:56.677Z"
   },
   {
    "duration": 80,
    "start_time": "2023-05-23T15:08:56.692Z"
   },
   {
    "duration": 6,
    "start_time": "2023-05-23T15:08:56.775Z"
   },
   {
    "duration": 95,
    "start_time": "2023-05-23T15:08:56.783Z"
   },
   {
    "duration": 10,
    "start_time": "2023-05-23T15:08:56.879Z"
   },
   {
    "duration": 102,
    "start_time": "2023-05-23T15:08:56.972Z"
   },
   {
    "duration": 20,
    "start_time": "2023-05-23T15:08:57.076Z"
   },
   {
    "duration": 7,
    "start_time": "2023-05-23T15:08:57.098Z"
   },
   {
    "duration": 70,
    "start_time": "2023-05-23T15:08:57.107Z"
   },
   {
    "duration": 10,
    "start_time": "2023-05-23T15:09:10.647Z"
   },
   {
    "duration": 11,
    "start_time": "2023-05-23T15:09:14.304Z"
   },
   {
    "duration": 1274,
    "start_time": "2023-05-24T08:53:25.022Z"
   },
   {
    "duration": 35,
    "start_time": "2023-05-24T08:53:26.297Z"
   },
   {
    "duration": 14,
    "start_time": "2023-05-24T08:53:26.333Z"
   },
   {
    "duration": 5,
    "start_time": "2023-05-24T08:53:26.348Z"
   },
   {
    "duration": 17,
    "start_time": "2023-05-24T08:53:26.354Z"
   },
   {
    "duration": 9,
    "start_time": "2023-05-24T08:53:26.372Z"
   },
   {
    "duration": 9,
    "start_time": "2023-05-24T08:53:26.383Z"
   },
   {
    "duration": 21,
    "start_time": "2023-05-24T08:53:26.393Z"
   },
   {
    "duration": 5,
    "start_time": "2023-05-24T08:53:26.415Z"
   },
   {
    "duration": 85,
    "start_time": "2023-05-24T08:53:26.422Z"
   },
   {
    "duration": 9,
    "start_time": "2023-05-24T08:53:26.509Z"
   },
   {
    "duration": 93,
    "start_time": "2023-05-24T08:53:26.520Z"
   },
   {
    "duration": 4,
    "start_time": "2023-05-24T08:53:26.615Z"
   },
   {
    "duration": 89,
    "start_time": "2023-05-24T08:53:26.622Z"
   },
   {
    "duration": 6,
    "start_time": "2023-05-24T08:53:26.713Z"
   },
   {
    "duration": 13,
    "start_time": "2023-05-24T08:53:26.720Z"
   },
   {
    "duration": 4,
    "start_time": "2023-05-24T08:53:26.734Z"
   },
   {
    "duration": 71,
    "start_time": "2023-05-24T08:53:26.739Z"
   },
   {
    "duration": 102,
    "start_time": "2023-05-24T08:53:26.812Z"
   },
   {
    "duration": 5,
    "start_time": "2023-05-24T08:53:26.916Z"
   },
   {
    "duration": 92,
    "start_time": "2023-05-24T08:53:26.922Z"
   },
   {
    "duration": 1329,
    "start_time": "2023-05-25T10:58:09.531Z"
   },
   {
    "duration": 39,
    "start_time": "2023-05-25T10:58:10.862Z"
   },
   {
    "duration": 14,
    "start_time": "2023-05-25T10:58:10.902Z"
   },
   {
    "duration": 6,
    "start_time": "2023-05-25T10:58:10.918Z"
   },
   {
    "duration": 9,
    "start_time": "2023-05-25T10:58:10.925Z"
   },
   {
    "duration": 9,
    "start_time": "2023-05-25T10:58:10.935Z"
   },
   {
    "duration": 22,
    "start_time": "2023-05-25T10:58:10.945Z"
   },
   {
    "duration": 24,
    "start_time": "2023-05-25T10:58:10.969Z"
   },
   {
    "duration": 8,
    "start_time": "2023-05-25T10:58:10.995Z"
   },
   {
    "duration": 102,
    "start_time": "2023-05-25T10:58:11.084Z"
   },
   {
    "duration": 7,
    "start_time": "2023-05-25T10:58:11.188Z"
   },
   {
    "duration": 14,
    "start_time": "2023-05-25T10:58:11.197Z"
   },
   {
    "duration": 80,
    "start_time": "2023-05-25T10:58:11.213Z"
   },
   {
    "duration": 88,
    "start_time": "2023-05-25T10:58:11.297Z"
   },
   {
    "duration": 3,
    "start_time": "2023-05-25T10:58:11.387Z"
   },
   {
    "duration": 14,
    "start_time": "2023-05-25T10:58:11.392Z"
   },
   {
    "duration": 76,
    "start_time": "2023-05-25T10:58:11.408Z"
   },
   {
    "duration": 102,
    "start_time": "2023-05-25T10:58:11.488Z"
   },
   {
    "duration": 8,
    "start_time": "2023-05-25T10:58:11.592Z"
   },
   {
    "duration": 12,
    "start_time": "2023-05-25T10:58:11.602Z"
   },
   {
    "duration": 73,
    "start_time": "2023-05-25T10:58:11.616Z"
   },
   {
    "duration": 85,
    "start_time": "2023-05-26T14:40:47.160Z"
   },
   {
    "duration": 90,
    "start_time": "2023-05-26T15:23:09.060Z"
   },
   {
    "duration": 40,
    "start_time": "2023-05-26T15:37:40.123Z"
   },
   {
    "duration": 1102,
    "start_time": "2023-05-26T15:38:33.004Z"
   },
   {
    "duration": 90,
    "start_time": "2023-05-26T15:38:34.109Z"
   },
   {
    "duration": 17,
    "start_time": "2023-05-26T15:38:34.200Z"
   },
   {
    "duration": 3,
    "start_time": "2023-05-26T15:38:34.220Z"
   },
   {
    "duration": 6,
    "start_time": "2023-05-26T15:38:34.224Z"
   },
   {
    "duration": 12,
    "start_time": "2023-05-26T15:38:34.231Z"
   },
   {
    "duration": 15,
    "start_time": "2023-05-26T15:38:34.245Z"
   },
   {
    "duration": 32,
    "start_time": "2023-05-26T15:38:34.262Z"
   },
   {
    "duration": 63,
    "start_time": "2023-05-26T15:38:34.297Z"
   },
   {
    "duration": 99,
    "start_time": "2023-05-26T15:38:34.363Z"
   },
   {
    "duration": 11,
    "start_time": "2023-05-26T15:38:34.464Z"
   },
   {
    "duration": 19,
    "start_time": "2023-05-26T15:38:34.476Z"
   },
   {
    "duration": 62,
    "start_time": "2023-05-26T15:38:34.497Z"
   },
   {
    "duration": 6,
    "start_time": "2023-05-26T15:38:34.560Z"
   },
   {
    "duration": 89,
    "start_time": "2023-05-26T15:38:34.568Z"
   },
   {
    "duration": 19,
    "start_time": "2023-05-26T15:38:34.659Z"
   },
   {
    "duration": 14,
    "start_time": "2023-05-26T15:38:34.679Z"
   },
   {
    "duration": 71,
    "start_time": "2023-05-26T15:38:34.694Z"
   },
   {
    "duration": 104,
    "start_time": "2023-05-26T15:38:34.767Z"
   },
   {
    "duration": 5,
    "start_time": "2023-05-26T15:38:34.873Z"
   },
   {
    "duration": 78,
    "start_time": "2023-05-26T15:38:34.880Z"
   },
   {
    "duration": 1846,
    "start_time": "2023-05-27T10:33:25.011Z"
   },
   {
    "duration": 58,
    "start_time": "2023-05-27T10:33:26.863Z"
   },
   {
    "duration": 34,
    "start_time": "2023-05-27T10:33:26.924Z"
   },
   {
    "duration": 59,
    "start_time": "2023-05-27T10:33:26.966Z"
   },
   {
    "duration": 49,
    "start_time": "2023-05-27T10:33:27.028Z"
   },
   {
    "duration": 48,
    "start_time": "2023-05-27T10:33:27.082Z"
   },
   {
    "duration": 43,
    "start_time": "2023-05-27T10:33:27.131Z"
   },
   {
    "duration": 50,
    "start_time": "2023-05-27T10:33:27.183Z"
   },
   {
    "duration": 162,
    "start_time": "2023-05-27T10:33:27.236Z"
   },
   {
    "duration": 33,
    "start_time": "2023-05-27T10:33:27.400Z"
   },
   {
    "duration": 87,
    "start_time": "2023-05-27T10:33:27.435Z"
   },
   {
    "duration": 72,
    "start_time": "2023-05-27T10:33:27.524Z"
   },
   {
    "duration": 12,
    "start_time": "2023-05-27T10:33:27.599Z"
   },
   {
    "duration": 117,
    "start_time": "2023-05-27T10:33:27.615Z"
   },
   {
    "duration": 31,
    "start_time": "2023-05-27T10:33:27.734Z"
   },
   {
    "duration": 64,
    "start_time": "2023-05-27T10:33:27.768Z"
   },
   {
    "duration": 59,
    "start_time": "2023-05-27T10:33:27.834Z"
   },
   {
    "duration": 105,
    "start_time": "2023-05-27T10:33:27.917Z"
   },
   {
    "duration": 33,
    "start_time": "2023-05-27T10:33:28.024Z"
   },
   {
    "duration": 66,
    "start_time": "2023-05-27T10:33:28.059Z"
   },
   {
    "duration": 77,
    "start_time": "2023-05-27T10:33:28.128Z"
   }
  ],
  "kernelspec": {
   "display_name": "Python 3 (ipykernel)",
   "language": "python",
   "name": "python3"
  },
  "language_info": {
   "codemirror_mode": {
    "name": "ipython",
    "version": 3
   },
   "file_extension": ".py",
   "mimetype": "text/x-python",
   "name": "python",
   "nbconvert_exporter": "python",
   "pygments_lexer": "ipython3",
   "version": "3.11.3"
  },
  "toc": {
   "base_numbering": 1,
   "nav_menu": {},
   "number_sections": true,
   "sideBar": true,
   "skip_h1_title": true,
   "title_cell": "Содержание",
   "title_sidebar": "Contents",
   "toc_cell": true,
   "toc_position": {},
   "toc_section_display": true,
   "toc_window_display": false
  }
 },
 "nbformat": 4,
 "nbformat_minor": 2
}
