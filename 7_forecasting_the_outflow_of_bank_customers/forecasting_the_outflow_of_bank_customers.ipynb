{
 "cells": [
  {
   "cell_type": "markdown",
   "metadata": {
    "toc": true
   },
   "source": [
    "<h1>Содержание<span class=\"tocSkip\"></span></h1>\n",
    "<div class=\"toc\"><ul class=\"toc-item\"><li><span><a href=\"#Подготовка-данных\" data-toc-modified-id=\"Подготовка-данных-1\"><span class=\"toc-item-num\">1&nbsp;&nbsp;</span>Подготовка данных</a></span><ul class=\"toc-item\"><li><span><a href=\"#Импортируем-необходимые-библиотеки\" data-toc-modified-id=\"Импортируем-необходимые-библиотеки-1.1\"><span class=\"toc-item-num\">1.1&nbsp;&nbsp;</span>Импортируем необходимые библиотеки</a></span></li><li><span><a href=\"#Загружаем-и-изучаем-данные\" data-toc-modified-id=\"Загружаем-и-изучаем-данные-1.2\"><span class=\"toc-item-num\">1.2&nbsp;&nbsp;</span>Загружаем и изучаем данные</a></span></li><li><span><a href=\"#Заполняем-пропуски\" data-toc-modified-id=\"Заполняем-пропуски-1.3\"><span class=\"toc-item-num\">1.3&nbsp;&nbsp;</span>Заполняем пропуски</a></span></li></ul></li><li><span><a href=\"#Исследование-задачи\" data-toc-modified-id=\"Исследование-задачи-2\"><span class=\"toc-item-num\">2&nbsp;&nbsp;</span>Исследование задачи</a></span><ul class=\"toc-item\"><li><span><a href=\"#Проверка-генеральной-сосовкупности-на-дисбаланс-классов\" data-toc-modified-id=\"Проверка-генеральной-сосовкупности-на-дисбаланс-классов-2.1\"><span class=\"toc-item-num\">2.1&nbsp;&nbsp;</span>Проверка генеральной сосовкупности на дисбаланс классов</a></span></li><li><span><a href=\"#Подготовка-признаков-и-выборок-для-обучения-моделей\" data-toc-modified-id=\"Подготовка-признаков-и-выборок-для-обучения-моделей-2.2\"><span class=\"toc-item-num\">2.2&nbsp;&nbsp;</span>Подготовка признаков и выборок для обучения моделей</a></span></li><li><span><a href=\"#Обучим-разные-типы-моделей-без-учета-дисбаланса-классов\" data-toc-modified-id=\"Обучим-разные-типы-моделей-без-учета-дисбаланса-классов-2.3\"><span class=\"toc-item-num\">2.3&nbsp;&nbsp;</span>Обучим разные типы моделей без учета дисбаланса классов</a></span><ul class=\"toc-item\"><li><span><a href=\"#Логистическая-регрессия\" data-toc-modified-id=\"Логистическая-регрессия-2.3.1\"><span class=\"toc-item-num\">2.3.1&nbsp;&nbsp;</span>Логистическая регрессия</a></span></li><li><span><a href=\"#Дерево-решений\" data-toc-modified-id=\"Дерево-решений-2.3.2\"><span class=\"toc-item-num\">2.3.2&nbsp;&nbsp;</span>Дерево решений</a></span></li><li><span><a href=\"#Случайный-лес\" data-toc-modified-id=\"Случайный-лес-2.3.3\"><span class=\"toc-item-num\">2.3.3&nbsp;&nbsp;</span>Случайный лес</a></span></li></ul></li></ul></li><li><span><a href=\"#Борьба-с-дисбалансом\" data-toc-modified-id=\"Борьба-с-дисбалансом-3\"><span class=\"toc-item-num\">3&nbsp;&nbsp;</span>Борьба с дисбалансом</a></span><ul class=\"toc-item\"><li><span><a href=\"#Изменение-весов-класса\" data-toc-modified-id=\"Изменение-весов-класса-3.1\"><span class=\"toc-item-num\">3.1&nbsp;&nbsp;</span>Изменение весов класса</a></span></li><li><span><a href=\"#Увеличение-выборки-(upsampling)\" data-toc-modified-id=\"Увеличение-выборки-(upsampling)-3.2\"><span class=\"toc-item-num\">3.2&nbsp;&nbsp;</span>Увеличение выборки (upsampling)</a></span></li><li><span><a href=\"#Уменьшение-выборки-(downsampling)\" data-toc-modified-id=\"Уменьшение-выборки-(downsampling)-3.3\"><span class=\"toc-item-num\">3.3&nbsp;&nbsp;</span>Уменьшение выборки (downsampling)</a></span></li></ul></li><li><span><a href=\"#Тестирование-модели\" data-toc-modified-id=\"Тестирование-модели-4\"><span class=\"toc-item-num\">4&nbsp;&nbsp;</span>Тестирование модели</a></span></li><li><span><a href=\"#Чек-лист-готовности-проекта\" data-toc-modified-id=\"Чек-лист-готовности-проекта-5\"><span class=\"toc-item-num\">5&nbsp;&nbsp;</span>Чек-лист готовности проекта</a></span></li></ul></div>"
   ]
  },
  {
   "cell_type": "markdown",
   "metadata": {},
   "source": [
    "# Отток клиентов"
   ]
  },
  {
   "cell_type": "markdown",
   "metadata": {},
   "source": [
    "Из «Бета-Банка» стали уходить клиенты. Каждый месяц. Немного, но заметно. Банковские маркетологи посчитали: сохранять текущих клиентов дешевле, чем привлекать новых.\n",
    "\n",
    "Нужно спрогнозировать, уйдёт клиент из банка в ближайшее время или нет. Вам предоставлены исторические данные о поведении клиентов и расторжении договоров с банком. \n",
    "\n",
    "Постройте модель с предельно большим значением *F1*-меры. Чтобы сдать проект успешно, нужно довести метрику до 0.59. Проверьте *F1*-меру на тестовой выборке самостоятельно.\n",
    "\n",
    "Дополнительно измеряйте *AUC-ROC*, сравнивайте её значение с *F1*-мерой.\n",
    "\n",
    "Источник данных: [https://www.kaggle.com/barelydedicated/bank-customer-churn-modeling](https://www.kaggle.com/barelydedicated/bank-customer-churn-modeling)"
   ]
  },
  {
   "cell_type": "markdown",
   "metadata": {},
   "source": [
    "## Подготовка данных"
   ]
  },
  {
   "cell_type": "markdown",
   "metadata": {},
   "source": [
    "### Импортируем необходимые библиотеки"
   ]
  },
  {
   "cell_type": "code",
   "execution_count": 82,
   "metadata": {},
   "outputs": [],
   "source": [
    "import pandas as pd\n",
    "import numpy as np\n",
    "import matplotlib.pyplot as plt\n",
    "from ydata_profiling import ProfileReport\n",
    "from tqdm import tqdm\n",
    "\n",
    "from sklearn.model_selection import train_test_split\n",
    "from sklearn.linear_model import LogisticRegression\n",
    "from sklearn.tree import DecisionTreeClassifier\n",
    "from sklearn.ensemble import RandomForestClassifier\n",
    "from sklearn.metrics import f1_score\n",
    "from sklearn.metrics import roc_auc_score\n",
    "from sklearn.metrics import roc_curve\n",
    "from sklearn.utils import shuffle\n",
    "from sklearn.metrics import precision_score, recall_score\n",
    "from sklearn.preprocessing import StandardScaler"
   ]
  },
  {
   "cell_type": "markdown",
   "metadata": {},
   "source": [
    "### Загружаем и изучаем данные"
   ]
  },
  {
   "cell_type": "code",
   "execution_count": 53,
   "metadata": {},
   "outputs": [],
   "source": [
    "data = pd.read_csv('/datasets/Churn.csv')"
   ]
  },
  {
   "cell_type": "code",
   "execution_count": 54,
   "metadata": {},
   "outputs": [
    {
     "data": {
      "text/html": [
       "<div>\n",
       "<style scoped>\n",
       "    .dataframe tbody tr th:only-of-type {\n",
       "        vertical-align: middle;\n",
       "    }\n",
       "\n",
       "    .dataframe tbody tr th {\n",
       "        vertical-align: top;\n",
       "    }\n",
       "\n",
       "    .dataframe thead th {\n",
       "        text-align: right;\n",
       "    }\n",
       "</style>\n",
       "<table border=\"1\" class=\"dataframe\">\n",
       "  <thead>\n",
       "    <tr style=\"text-align: right;\">\n",
       "      <th></th>\n",
       "      <th>RowNumber</th>\n",
       "      <th>CustomerId</th>\n",
       "      <th>Surname</th>\n",
       "      <th>CreditScore</th>\n",
       "      <th>Geography</th>\n",
       "      <th>Gender</th>\n",
       "      <th>Age</th>\n",
       "      <th>Tenure</th>\n",
       "      <th>Balance</th>\n",
       "      <th>NumOfProducts</th>\n",
       "      <th>HasCrCard</th>\n",
       "      <th>IsActiveMember</th>\n",
       "      <th>EstimatedSalary</th>\n",
       "      <th>Exited</th>\n",
       "    </tr>\n",
       "  </thead>\n",
       "  <tbody>\n",
       "    <tr>\n",
       "      <th>0</th>\n",
       "      <td>1</td>\n",
       "      <td>15634602</td>\n",
       "      <td>Hargrave</td>\n",
       "      <td>619</td>\n",
       "      <td>France</td>\n",
       "      <td>Female</td>\n",
       "      <td>42</td>\n",
       "      <td>2.0</td>\n",
       "      <td>0.00</td>\n",
       "      <td>1</td>\n",
       "      <td>1</td>\n",
       "      <td>1</td>\n",
       "      <td>101348.88</td>\n",
       "      <td>1</td>\n",
       "    </tr>\n",
       "    <tr>\n",
       "      <th>1</th>\n",
       "      <td>2</td>\n",
       "      <td>15647311</td>\n",
       "      <td>Hill</td>\n",
       "      <td>608</td>\n",
       "      <td>Spain</td>\n",
       "      <td>Female</td>\n",
       "      <td>41</td>\n",
       "      <td>1.0</td>\n",
       "      <td>83807.86</td>\n",
       "      <td>1</td>\n",
       "      <td>0</td>\n",
       "      <td>1</td>\n",
       "      <td>112542.58</td>\n",
       "      <td>0</td>\n",
       "    </tr>\n",
       "    <tr>\n",
       "      <th>2</th>\n",
       "      <td>3</td>\n",
       "      <td>15619304</td>\n",
       "      <td>Onio</td>\n",
       "      <td>502</td>\n",
       "      <td>France</td>\n",
       "      <td>Female</td>\n",
       "      <td>42</td>\n",
       "      <td>8.0</td>\n",
       "      <td>159660.80</td>\n",
       "      <td>3</td>\n",
       "      <td>1</td>\n",
       "      <td>0</td>\n",
       "      <td>113931.57</td>\n",
       "      <td>1</td>\n",
       "    </tr>\n",
       "    <tr>\n",
       "      <th>3</th>\n",
       "      <td>4</td>\n",
       "      <td>15701354</td>\n",
       "      <td>Boni</td>\n",
       "      <td>699</td>\n",
       "      <td>France</td>\n",
       "      <td>Female</td>\n",
       "      <td>39</td>\n",
       "      <td>1.0</td>\n",
       "      <td>0.00</td>\n",
       "      <td>2</td>\n",
       "      <td>0</td>\n",
       "      <td>0</td>\n",
       "      <td>93826.63</td>\n",
       "      <td>0</td>\n",
       "    </tr>\n",
       "    <tr>\n",
       "      <th>4</th>\n",
       "      <td>5</td>\n",
       "      <td>15737888</td>\n",
       "      <td>Mitchell</td>\n",
       "      <td>850</td>\n",
       "      <td>Spain</td>\n",
       "      <td>Female</td>\n",
       "      <td>43</td>\n",
       "      <td>2.0</td>\n",
       "      <td>125510.82</td>\n",
       "      <td>1</td>\n",
       "      <td>1</td>\n",
       "      <td>1</td>\n",
       "      <td>79084.10</td>\n",
       "      <td>0</td>\n",
       "    </tr>\n",
       "  </tbody>\n",
       "</table>\n",
       "</div>"
      ],
      "text/plain": [
       "   RowNumber  CustomerId   Surname  CreditScore Geography  Gender  Age  \\\n",
       "0          1    15634602  Hargrave          619    France  Female   42   \n",
       "1          2    15647311      Hill          608     Spain  Female   41   \n",
       "2          3    15619304      Onio          502    France  Female   42   \n",
       "3          4    15701354      Boni          699    France  Female   39   \n",
       "4          5    15737888  Mitchell          850     Spain  Female   43   \n",
       "\n",
       "   Tenure    Balance  NumOfProducts  HasCrCard  IsActiveMember  \\\n",
       "0     2.0       0.00              1          1               1   \n",
       "1     1.0   83807.86              1          0               1   \n",
       "2     8.0  159660.80              3          1               0   \n",
       "3     1.0       0.00              2          0               0   \n",
       "4     2.0  125510.82              1          1               1   \n",
       "\n",
       "   EstimatedSalary  Exited  \n",
       "0        101348.88       1  \n",
       "1        112542.58       0  \n",
       "2        113931.57       1  \n",
       "3         93826.63       0  \n",
       "4         79084.10       0  "
      ]
     },
     "execution_count": 54,
     "metadata": {},
     "output_type": "execute_result"
    }
   ],
   "source": [
    "data.head()"
   ]
  },
  {
   "cell_type": "code",
   "execution_count": 55,
   "metadata": {},
   "outputs": [
    {
     "name": "stdout",
     "output_type": "stream",
     "text": [
      "<class 'pandas.core.frame.DataFrame'>\n",
      "RangeIndex: 10000 entries, 0 to 9999\n",
      "Data columns (total 14 columns):\n",
      " #   Column           Non-Null Count  Dtype  \n",
      "---  ------           --------------  -----  \n",
      " 0   RowNumber        10000 non-null  int64  \n",
      " 1   CustomerId       10000 non-null  int64  \n",
      " 2   Surname          10000 non-null  object \n",
      " 3   CreditScore      10000 non-null  int64  \n",
      " 4   Geography        10000 non-null  object \n",
      " 5   Gender           10000 non-null  object \n",
      " 6   Age              10000 non-null  int64  \n",
      " 7   Tenure           9091 non-null   float64\n",
      " 8   Balance          10000 non-null  float64\n",
      " 9   NumOfProducts    10000 non-null  int64  \n",
      " 10  HasCrCard        10000 non-null  int64  \n",
      " 11  IsActiveMember   10000 non-null  int64  \n",
      " 12  EstimatedSalary  10000 non-null  float64\n",
      " 13  Exited           10000 non-null  int64  \n",
      "dtypes: float64(3), int64(8), object(3)\n",
      "memory usage: 1.1+ MB\n"
     ]
    }
   ],
   "source": [
    "data.info()"
   ]
  },
  {
   "cell_type": "markdown",
   "metadata": {},
   "source": [
    "В поле **Tenure** есть пропуски, их необходимо обработать."
   ]
  },
  {
   "cell_type": "code",
   "execution_count": 56,
   "metadata": {},
   "outputs": [
    {
     "data": {
      "text/html": [
       "<div>\n",
       "<style scoped>\n",
       "    .dataframe tbody tr th:only-of-type {\n",
       "        vertical-align: middle;\n",
       "    }\n",
       "\n",
       "    .dataframe tbody tr th {\n",
       "        vertical-align: top;\n",
       "    }\n",
       "\n",
       "    .dataframe thead th {\n",
       "        text-align: right;\n",
       "    }\n",
       "</style>\n",
       "<table border=\"1\" class=\"dataframe\">\n",
       "  <thead>\n",
       "    <tr style=\"text-align: right;\">\n",
       "      <th></th>\n",
       "      <th>RowNumber</th>\n",
       "      <th>CustomerId</th>\n",
       "      <th>CreditScore</th>\n",
       "      <th>Age</th>\n",
       "      <th>Tenure</th>\n",
       "      <th>Balance</th>\n",
       "      <th>NumOfProducts</th>\n",
       "      <th>HasCrCard</th>\n",
       "      <th>IsActiveMember</th>\n",
       "      <th>EstimatedSalary</th>\n",
       "      <th>Exited</th>\n",
       "    </tr>\n",
       "  </thead>\n",
       "  <tbody>\n",
       "    <tr>\n",
       "      <th>count</th>\n",
       "      <td>10000.00000</td>\n",
       "      <td>1.000000e+04</td>\n",
       "      <td>10000.000000</td>\n",
       "      <td>10000.000000</td>\n",
       "      <td>9091.000000</td>\n",
       "      <td>10000.000000</td>\n",
       "      <td>10000.000000</td>\n",
       "      <td>10000.00000</td>\n",
       "      <td>10000.000000</td>\n",
       "      <td>10000.000000</td>\n",
       "      <td>10000.000000</td>\n",
       "    </tr>\n",
       "    <tr>\n",
       "      <th>mean</th>\n",
       "      <td>5000.50000</td>\n",
       "      <td>1.569094e+07</td>\n",
       "      <td>650.528800</td>\n",
       "      <td>38.921800</td>\n",
       "      <td>4.997690</td>\n",
       "      <td>76485.889288</td>\n",
       "      <td>1.530200</td>\n",
       "      <td>0.70550</td>\n",
       "      <td>0.515100</td>\n",
       "      <td>100090.239881</td>\n",
       "      <td>0.203700</td>\n",
       "    </tr>\n",
       "    <tr>\n",
       "      <th>std</th>\n",
       "      <td>2886.89568</td>\n",
       "      <td>7.193619e+04</td>\n",
       "      <td>96.653299</td>\n",
       "      <td>10.487806</td>\n",
       "      <td>2.894723</td>\n",
       "      <td>62397.405202</td>\n",
       "      <td>0.581654</td>\n",
       "      <td>0.45584</td>\n",
       "      <td>0.499797</td>\n",
       "      <td>57510.492818</td>\n",
       "      <td>0.402769</td>\n",
       "    </tr>\n",
       "    <tr>\n",
       "      <th>min</th>\n",
       "      <td>1.00000</td>\n",
       "      <td>1.556570e+07</td>\n",
       "      <td>350.000000</td>\n",
       "      <td>18.000000</td>\n",
       "      <td>0.000000</td>\n",
       "      <td>0.000000</td>\n",
       "      <td>1.000000</td>\n",
       "      <td>0.00000</td>\n",
       "      <td>0.000000</td>\n",
       "      <td>11.580000</td>\n",
       "      <td>0.000000</td>\n",
       "    </tr>\n",
       "    <tr>\n",
       "      <th>25%</th>\n",
       "      <td>2500.75000</td>\n",
       "      <td>1.562853e+07</td>\n",
       "      <td>584.000000</td>\n",
       "      <td>32.000000</td>\n",
       "      <td>2.000000</td>\n",
       "      <td>0.000000</td>\n",
       "      <td>1.000000</td>\n",
       "      <td>0.00000</td>\n",
       "      <td>0.000000</td>\n",
       "      <td>51002.110000</td>\n",
       "      <td>0.000000</td>\n",
       "    </tr>\n",
       "    <tr>\n",
       "      <th>50%</th>\n",
       "      <td>5000.50000</td>\n",
       "      <td>1.569074e+07</td>\n",
       "      <td>652.000000</td>\n",
       "      <td>37.000000</td>\n",
       "      <td>5.000000</td>\n",
       "      <td>97198.540000</td>\n",
       "      <td>1.000000</td>\n",
       "      <td>1.00000</td>\n",
       "      <td>1.000000</td>\n",
       "      <td>100193.915000</td>\n",
       "      <td>0.000000</td>\n",
       "    </tr>\n",
       "    <tr>\n",
       "      <th>75%</th>\n",
       "      <td>7500.25000</td>\n",
       "      <td>1.575323e+07</td>\n",
       "      <td>718.000000</td>\n",
       "      <td>44.000000</td>\n",
       "      <td>7.000000</td>\n",
       "      <td>127644.240000</td>\n",
       "      <td>2.000000</td>\n",
       "      <td>1.00000</td>\n",
       "      <td>1.000000</td>\n",
       "      <td>149388.247500</td>\n",
       "      <td>0.000000</td>\n",
       "    </tr>\n",
       "    <tr>\n",
       "      <th>max</th>\n",
       "      <td>10000.00000</td>\n",
       "      <td>1.581569e+07</td>\n",
       "      <td>850.000000</td>\n",
       "      <td>92.000000</td>\n",
       "      <td>10.000000</td>\n",
       "      <td>250898.090000</td>\n",
       "      <td>4.000000</td>\n",
       "      <td>1.00000</td>\n",
       "      <td>1.000000</td>\n",
       "      <td>199992.480000</td>\n",
       "      <td>1.000000</td>\n",
       "    </tr>\n",
       "  </tbody>\n",
       "</table>\n",
       "</div>"
      ],
      "text/plain": [
       "         RowNumber    CustomerId   CreditScore           Age       Tenure  \\\n",
       "count  10000.00000  1.000000e+04  10000.000000  10000.000000  9091.000000   \n",
       "mean    5000.50000  1.569094e+07    650.528800     38.921800     4.997690   \n",
       "std     2886.89568  7.193619e+04     96.653299     10.487806     2.894723   \n",
       "min        1.00000  1.556570e+07    350.000000     18.000000     0.000000   \n",
       "25%     2500.75000  1.562853e+07    584.000000     32.000000     2.000000   \n",
       "50%     5000.50000  1.569074e+07    652.000000     37.000000     5.000000   \n",
       "75%     7500.25000  1.575323e+07    718.000000     44.000000     7.000000   \n",
       "max    10000.00000  1.581569e+07    850.000000     92.000000    10.000000   \n",
       "\n",
       "             Balance  NumOfProducts    HasCrCard  IsActiveMember  \\\n",
       "count   10000.000000   10000.000000  10000.00000    10000.000000   \n",
       "mean    76485.889288       1.530200      0.70550        0.515100   \n",
       "std     62397.405202       0.581654      0.45584        0.499797   \n",
       "min         0.000000       1.000000      0.00000        0.000000   \n",
       "25%         0.000000       1.000000      0.00000        0.000000   \n",
       "50%     97198.540000       1.000000      1.00000        1.000000   \n",
       "75%    127644.240000       2.000000      1.00000        1.000000   \n",
       "max    250898.090000       4.000000      1.00000        1.000000   \n",
       "\n",
       "       EstimatedSalary        Exited  \n",
       "count     10000.000000  10000.000000  \n",
       "mean     100090.239881      0.203700  \n",
       "std       57510.492818      0.402769  \n",
       "min          11.580000      0.000000  \n",
       "25%       51002.110000      0.000000  \n",
       "50%      100193.915000      0.000000  \n",
       "75%      149388.247500      0.000000  \n",
       "max      199992.480000      1.000000  "
      ]
     },
     "execution_count": 56,
     "metadata": {},
     "output_type": "execute_result"
    }
   ],
   "source": [
    "data.describe()"
   ]
  },
  {
   "cell_type": "markdown",
   "metadata": {},
   "source": [
    "Среднее значение в поле **Tenure** - 4.99, медиана - 5.0"
   ]
  },
  {
   "cell_type": "code",
   "execution_count": 57,
   "metadata": {},
   "outputs": [
    {
     "data": {
      "text/plain": [
       "1.0     952\n",
       "2.0     950\n",
       "8.0     933\n",
       "3.0     928\n",
       "5.0     927\n",
       "7.0     925\n",
       "4.0     885\n",
       "9.0     882\n",
       "6.0     881\n",
       "10.0    446\n",
       "0.0     382\n",
       "Name: Tenure, dtype: int64"
      ]
     },
     "execution_count": 57,
     "metadata": {},
     "output_type": "execute_result"
    }
   ],
   "source": [
    "data['Tenure'].value_counts()"
   ]
  },
  {
   "cell_type": "code",
   "execution_count": 58,
   "metadata": {},
   "outputs": [
    {
     "data": {
      "application/vnd.jupyter.widget-view+json": {
       "model_id": "ada32b9b8b6c41e58ebfe9a37416a863",
       "version_major": 2,
       "version_minor": 0
      },
      "text/plain": [
       "Summarize dataset:   0%|          | 0/5 [00:00<?, ?it/s]"
      ]
     },
     "metadata": {},
     "output_type": "display_data"
    },
    {
     "data": {
      "application/vnd.jupyter.widget-view+json": {
       "model_id": "23c4f709aaae4d08a068f30bbd8f52c1",
       "version_major": 2,
       "version_minor": 0
      },
      "text/plain": [
       "Generate report structure:   0%|          | 0/1 [00:00<?, ?it/s]"
      ]
     },
     "metadata": {},
     "output_type": "display_data"
    },
    {
     "data": {
      "application/vnd.jupyter.widget-view+json": {
       "model_id": "",
       "version_major": 2,
       "version_minor": 0
      },
      "text/plain": [
       "Render widgets:   0%|          | 0/1 [00:00<?, ?it/s]"
      ]
     },
     "metadata": {},
     "output_type": "display_data"
    },
    {
     "data": {
      "application/vnd.jupyter.widget-view+json": {
       "model_id": "0ab3ab97b7c745d1912128d67299daa3",
       "version_major": 2,
       "version_minor": 0
      },
      "text/plain": [
       "VBox(children=(Tab(children=(Tab(children=(GridBox(children=(VBox(children=(GridspecLayout(children=(HTML(valu…"
      ]
     },
     "metadata": {},
     "output_type": "display_data"
    }
   ],
   "source": [
    "profile = ProfileReport(data)\n",
    "profile.to_widgets()"
   ]
  },
  {
   "cell_type": "markdown",
   "metadata": {},
   "source": [
    "Все значения в поле **Tenure** - с нулевой дробной частью, значит заменим пропуски на медианное значение - 5.0"
   ]
  },
  {
   "cell_type": "markdown",
   "metadata": {},
   "source": [
    "### Заполняем пропуски"
   ]
  },
  {
   "cell_type": "code",
   "execution_count": 59,
   "metadata": {},
   "outputs": [],
   "source": [
    "data['Tenure'] = data['Tenure'].fillna(5.0)"
   ]
  },
  {
   "cell_type": "code",
   "execution_count": 60,
   "metadata": {},
   "outputs": [
    {
     "name": "stdout",
     "output_type": "stream",
     "text": [
      "<class 'pandas.core.frame.DataFrame'>\n",
      "RangeIndex: 10000 entries, 0 to 9999\n",
      "Data columns (total 14 columns):\n",
      " #   Column           Non-Null Count  Dtype  \n",
      "---  ------           --------------  -----  \n",
      " 0   RowNumber        10000 non-null  int64  \n",
      " 1   CustomerId       10000 non-null  int64  \n",
      " 2   Surname          10000 non-null  object \n",
      " 3   CreditScore      10000 non-null  int64  \n",
      " 4   Geography        10000 non-null  object \n",
      " 5   Gender           10000 non-null  object \n",
      " 6   Age              10000 non-null  int64  \n",
      " 7   Tenure           10000 non-null  float64\n",
      " 8   Balance          10000 non-null  float64\n",
      " 9   NumOfProducts    10000 non-null  int64  \n",
      " 10  HasCrCard        10000 non-null  int64  \n",
      " 11  IsActiveMember   10000 non-null  int64  \n",
      " 12  EstimatedSalary  10000 non-null  float64\n",
      " 13  Exited           10000 non-null  int64  \n",
      "dtypes: float64(3), int64(8), object(3)\n",
      "memory usage: 1.1+ MB\n"
     ]
    }
   ],
   "source": [
    "data.info()"
   ]
  },
  {
   "cell_type": "code",
   "execution_count": 61,
   "metadata": {},
   "outputs": [
    {
     "data": {
      "text/html": [
       "<div>\n",
       "<style scoped>\n",
       "    .dataframe tbody tr th:only-of-type {\n",
       "        vertical-align: middle;\n",
       "    }\n",
       "\n",
       "    .dataframe tbody tr th {\n",
       "        vertical-align: top;\n",
       "    }\n",
       "\n",
       "    .dataframe thead th {\n",
       "        text-align: right;\n",
       "    }\n",
       "</style>\n",
       "<table border=\"1\" class=\"dataframe\">\n",
       "  <thead>\n",
       "    <tr style=\"text-align: right;\">\n",
       "      <th></th>\n",
       "      <th>RowNumber</th>\n",
       "      <th>CustomerId</th>\n",
       "      <th>CreditScore</th>\n",
       "      <th>Age</th>\n",
       "      <th>Tenure</th>\n",
       "      <th>Balance</th>\n",
       "      <th>NumOfProducts</th>\n",
       "      <th>HasCrCard</th>\n",
       "      <th>IsActiveMember</th>\n",
       "      <th>EstimatedSalary</th>\n",
       "      <th>Exited</th>\n",
       "    </tr>\n",
       "  </thead>\n",
       "  <tbody>\n",
       "    <tr>\n",
       "      <th>count</th>\n",
       "      <td>10000.00000</td>\n",
       "      <td>1.000000e+04</td>\n",
       "      <td>10000.000000</td>\n",
       "      <td>10000.000000</td>\n",
       "      <td>10000.00000</td>\n",
       "      <td>10000.000000</td>\n",
       "      <td>10000.000000</td>\n",
       "      <td>10000.00000</td>\n",
       "      <td>10000.000000</td>\n",
       "      <td>10000.000000</td>\n",
       "      <td>10000.000000</td>\n",
       "    </tr>\n",
       "    <tr>\n",
       "      <th>mean</th>\n",
       "      <td>5000.50000</td>\n",
       "      <td>1.569094e+07</td>\n",
       "      <td>650.528800</td>\n",
       "      <td>38.921800</td>\n",
       "      <td>4.99790</td>\n",
       "      <td>76485.889288</td>\n",
       "      <td>1.530200</td>\n",
       "      <td>0.70550</td>\n",
       "      <td>0.515100</td>\n",
       "      <td>100090.239881</td>\n",
       "      <td>0.203700</td>\n",
       "    </tr>\n",
       "    <tr>\n",
       "      <th>std</th>\n",
       "      <td>2886.89568</td>\n",
       "      <td>7.193619e+04</td>\n",
       "      <td>96.653299</td>\n",
       "      <td>10.487806</td>\n",
       "      <td>2.76001</td>\n",
       "      <td>62397.405202</td>\n",
       "      <td>0.581654</td>\n",
       "      <td>0.45584</td>\n",
       "      <td>0.499797</td>\n",
       "      <td>57510.492818</td>\n",
       "      <td>0.402769</td>\n",
       "    </tr>\n",
       "    <tr>\n",
       "      <th>min</th>\n",
       "      <td>1.00000</td>\n",
       "      <td>1.556570e+07</td>\n",
       "      <td>350.000000</td>\n",
       "      <td>18.000000</td>\n",
       "      <td>0.00000</td>\n",
       "      <td>0.000000</td>\n",
       "      <td>1.000000</td>\n",
       "      <td>0.00000</td>\n",
       "      <td>0.000000</td>\n",
       "      <td>11.580000</td>\n",
       "      <td>0.000000</td>\n",
       "    </tr>\n",
       "    <tr>\n",
       "      <th>25%</th>\n",
       "      <td>2500.75000</td>\n",
       "      <td>1.562853e+07</td>\n",
       "      <td>584.000000</td>\n",
       "      <td>32.000000</td>\n",
       "      <td>3.00000</td>\n",
       "      <td>0.000000</td>\n",
       "      <td>1.000000</td>\n",
       "      <td>0.00000</td>\n",
       "      <td>0.000000</td>\n",
       "      <td>51002.110000</td>\n",
       "      <td>0.000000</td>\n",
       "    </tr>\n",
       "    <tr>\n",
       "      <th>50%</th>\n",
       "      <td>5000.50000</td>\n",
       "      <td>1.569074e+07</td>\n",
       "      <td>652.000000</td>\n",
       "      <td>37.000000</td>\n",
       "      <td>5.00000</td>\n",
       "      <td>97198.540000</td>\n",
       "      <td>1.000000</td>\n",
       "      <td>1.00000</td>\n",
       "      <td>1.000000</td>\n",
       "      <td>100193.915000</td>\n",
       "      <td>0.000000</td>\n",
       "    </tr>\n",
       "    <tr>\n",
       "      <th>75%</th>\n",
       "      <td>7500.25000</td>\n",
       "      <td>1.575323e+07</td>\n",
       "      <td>718.000000</td>\n",
       "      <td>44.000000</td>\n",
       "      <td>7.00000</td>\n",
       "      <td>127644.240000</td>\n",
       "      <td>2.000000</td>\n",
       "      <td>1.00000</td>\n",
       "      <td>1.000000</td>\n",
       "      <td>149388.247500</td>\n",
       "      <td>0.000000</td>\n",
       "    </tr>\n",
       "    <tr>\n",
       "      <th>max</th>\n",
       "      <td>10000.00000</td>\n",
       "      <td>1.581569e+07</td>\n",
       "      <td>850.000000</td>\n",
       "      <td>92.000000</td>\n",
       "      <td>10.00000</td>\n",
       "      <td>250898.090000</td>\n",
       "      <td>4.000000</td>\n",
       "      <td>1.00000</td>\n",
       "      <td>1.000000</td>\n",
       "      <td>199992.480000</td>\n",
       "      <td>1.000000</td>\n",
       "    </tr>\n",
       "  </tbody>\n",
       "</table>\n",
       "</div>"
      ],
      "text/plain": [
       "         RowNumber    CustomerId   CreditScore           Age       Tenure  \\\n",
       "count  10000.00000  1.000000e+04  10000.000000  10000.000000  10000.00000   \n",
       "mean    5000.50000  1.569094e+07    650.528800     38.921800      4.99790   \n",
       "std     2886.89568  7.193619e+04     96.653299     10.487806      2.76001   \n",
       "min        1.00000  1.556570e+07    350.000000     18.000000      0.00000   \n",
       "25%     2500.75000  1.562853e+07    584.000000     32.000000      3.00000   \n",
       "50%     5000.50000  1.569074e+07    652.000000     37.000000      5.00000   \n",
       "75%     7500.25000  1.575323e+07    718.000000     44.000000      7.00000   \n",
       "max    10000.00000  1.581569e+07    850.000000     92.000000     10.00000   \n",
       "\n",
       "             Balance  NumOfProducts    HasCrCard  IsActiveMember  \\\n",
       "count   10000.000000   10000.000000  10000.00000    10000.000000   \n",
       "mean    76485.889288       1.530200      0.70550        0.515100   \n",
       "std     62397.405202       0.581654      0.45584        0.499797   \n",
       "min         0.000000       1.000000      0.00000        0.000000   \n",
       "25%         0.000000       1.000000      0.00000        0.000000   \n",
       "50%     97198.540000       1.000000      1.00000        1.000000   \n",
       "75%    127644.240000       2.000000      1.00000        1.000000   \n",
       "max    250898.090000       4.000000      1.00000        1.000000   \n",
       "\n",
       "       EstimatedSalary        Exited  \n",
       "count     10000.000000  10000.000000  \n",
       "mean     100090.239881      0.203700  \n",
       "std       57510.492818      0.402769  \n",
       "min          11.580000      0.000000  \n",
       "25%       51002.110000      0.000000  \n",
       "50%      100193.915000      0.000000  \n",
       "75%      149388.247500      0.000000  \n",
       "max      199992.480000      1.000000  "
      ]
     },
     "execution_count": 61,
     "metadata": {},
     "output_type": "execute_result"
    }
   ],
   "source": [
    "data.describe()"
   ]
  },
  {
   "cell_type": "code",
   "execution_count": 62,
   "metadata": {
    "scrolled": true
   },
   "outputs": [
    {
     "data": {
      "text/plain": [
       "5.0     1836\n",
       "1.0      952\n",
       "2.0      950\n",
       "8.0      933\n",
       "3.0      928\n",
       "7.0      925\n",
       "4.0      885\n",
       "9.0      882\n",
       "6.0      881\n",
       "10.0     446\n",
       "0.0      382\n",
       "Name: Tenure, dtype: int64"
      ]
     },
     "execution_count": 62,
     "metadata": {},
     "output_type": "execute_result"
    }
   ],
   "source": [
    "data['Tenure'].value_counts()"
   ]
  },
  {
   "cell_type": "code",
   "execution_count": 63,
   "metadata": {},
   "outputs": [
    {
     "data": {
      "application/vnd.jupyter.widget-view+json": {
       "model_id": "b40f16d696a549dc82ef5c31392fde48",
       "version_major": 2,
       "version_minor": 0
      },
      "text/plain": [
       "Summarize dataset:   0%|          | 0/5 [00:00<?, ?it/s]"
      ]
     },
     "metadata": {},
     "output_type": "display_data"
    },
    {
     "data": {
      "application/vnd.jupyter.widget-view+json": {
       "model_id": "ae1460a8ffd64a4d8de04144e0cdc54e",
       "version_major": 2,
       "version_minor": 0
      },
      "text/plain": [
       "Generate report structure:   0%|          | 0/1 [00:00<?, ?it/s]"
      ]
     },
     "metadata": {},
     "output_type": "display_data"
    },
    {
     "data": {
      "application/vnd.jupyter.widget-view+json": {
       "model_id": "",
       "version_major": 2,
       "version_minor": 0
      },
      "text/plain": [
       "Render widgets:   0%|          | 0/1 [00:00<?, ?it/s]"
      ]
     },
     "metadata": {},
     "output_type": "display_data"
    },
    {
     "data": {
      "application/vnd.jupyter.widget-view+json": {
       "model_id": "4b376144c63b44168796d9dbcab21ea4",
       "version_major": 2,
       "version_minor": 0
      },
      "text/plain": [
       "VBox(children=(Tab(children=(Tab(children=(GridBox(children=(VBox(children=(GridspecLayout(children=(HTML(valu…"
      ]
     },
     "metadata": {},
     "output_type": "display_data"
    }
   ],
   "source": [
    "profile = ProfileReport(data)\n",
    "profile.to_widgets()"
   ]
  },
  {
   "cell_type": "markdown",
   "metadata": {},
   "source": [
    "## Исследование задачи"
   ]
  },
  {
   "cell_type": "markdown",
   "metadata": {},
   "source": [
    "### Проверка генеральной сосовкупности на дисбаланс классов\n",
    "Есть дисбаланс данных.\\\n",
    "Положительных объектов меньше в 4 раза, чем отрицательных."
   ]
  },
  {
   "cell_type": "code",
   "execution_count": 103,
   "metadata": {
    "scrolled": true
   },
   "outputs": [
    {
     "data": {
      "text/plain": [
       "0    7963\n",
       "1    2037\n",
       "Name: Exited, dtype: int64"
      ]
     },
     "execution_count": 103,
     "metadata": {},
     "output_type": "execute_result"
    }
   ],
   "source": [
    "data['Exited'].value_counts()"
   ]
  },
  {
   "cell_type": "markdown",
   "metadata": {},
   "source": [
    "### Подготовка признаков и выборок для обучения моделей\n",
    "Применим технику прямого кодирования **One-Hot Encoding** и разделим данные на обучающую,валидационную и тестовые выборки."
   ]
  },
  {
   "cell_type": "code",
   "execution_count": 65,
   "metadata": {
    "scrolled": false
   },
   "outputs": [],
   "source": [
    "data = data.drop(['RowNumber','CustomerId','Surname'], axis=1)"
   ]
  },
  {
   "cell_type": "code",
   "execution_count": 104,
   "metadata": {},
   "outputs": [
    {
     "data": {
      "text/html": [
       "<div>\n",
       "<style scoped>\n",
       "    .dataframe tbody tr th:only-of-type {\n",
       "        vertical-align: middle;\n",
       "    }\n",
       "\n",
       "    .dataframe tbody tr th {\n",
       "        vertical-align: top;\n",
       "    }\n",
       "\n",
       "    .dataframe thead th {\n",
       "        text-align: right;\n",
       "    }\n",
       "</style>\n",
       "<table border=\"1\" class=\"dataframe\">\n",
       "  <thead>\n",
       "    <tr style=\"text-align: right;\">\n",
       "      <th></th>\n",
       "      <th>CreditScore</th>\n",
       "      <th>Geography</th>\n",
       "      <th>Gender</th>\n",
       "      <th>Age</th>\n",
       "      <th>Tenure</th>\n",
       "      <th>Balance</th>\n",
       "      <th>NumOfProducts</th>\n",
       "      <th>HasCrCard</th>\n",
       "      <th>IsActiveMember</th>\n",
       "      <th>EstimatedSalary</th>\n",
       "      <th>Exited</th>\n",
       "    </tr>\n",
       "  </thead>\n",
       "  <tbody>\n",
       "    <tr>\n",
       "      <th>0</th>\n",
       "      <td>619</td>\n",
       "      <td>France</td>\n",
       "      <td>Female</td>\n",
       "      <td>42</td>\n",
       "      <td>2.0</td>\n",
       "      <td>0.00</td>\n",
       "      <td>1</td>\n",
       "      <td>1</td>\n",
       "      <td>1</td>\n",
       "      <td>101348.88</td>\n",
       "      <td>1</td>\n",
       "    </tr>\n",
       "    <tr>\n",
       "      <th>1</th>\n",
       "      <td>608</td>\n",
       "      <td>Spain</td>\n",
       "      <td>Female</td>\n",
       "      <td>41</td>\n",
       "      <td>1.0</td>\n",
       "      <td>83807.86</td>\n",
       "      <td>1</td>\n",
       "      <td>0</td>\n",
       "      <td>1</td>\n",
       "      <td>112542.58</td>\n",
       "      <td>0</td>\n",
       "    </tr>\n",
       "    <tr>\n",
       "      <th>2</th>\n",
       "      <td>502</td>\n",
       "      <td>France</td>\n",
       "      <td>Female</td>\n",
       "      <td>42</td>\n",
       "      <td>8.0</td>\n",
       "      <td>159660.80</td>\n",
       "      <td>3</td>\n",
       "      <td>1</td>\n",
       "      <td>0</td>\n",
       "      <td>113931.57</td>\n",
       "      <td>1</td>\n",
       "    </tr>\n",
       "    <tr>\n",
       "      <th>3</th>\n",
       "      <td>699</td>\n",
       "      <td>France</td>\n",
       "      <td>Female</td>\n",
       "      <td>39</td>\n",
       "      <td>1.0</td>\n",
       "      <td>0.00</td>\n",
       "      <td>2</td>\n",
       "      <td>0</td>\n",
       "      <td>0</td>\n",
       "      <td>93826.63</td>\n",
       "      <td>0</td>\n",
       "    </tr>\n",
       "    <tr>\n",
       "      <th>4</th>\n",
       "      <td>850</td>\n",
       "      <td>Spain</td>\n",
       "      <td>Female</td>\n",
       "      <td>43</td>\n",
       "      <td>2.0</td>\n",
       "      <td>125510.82</td>\n",
       "      <td>1</td>\n",
       "      <td>1</td>\n",
       "      <td>1</td>\n",
       "      <td>79084.10</td>\n",
       "      <td>0</td>\n",
       "    </tr>\n",
       "  </tbody>\n",
       "</table>\n",
       "</div>"
      ],
      "text/plain": [
       "   CreditScore Geography  Gender  Age  Tenure    Balance  NumOfProducts  \\\n",
       "0          619    France  Female   42     2.0       0.00              1   \n",
       "1          608     Spain  Female   41     1.0   83807.86              1   \n",
       "2          502    France  Female   42     8.0  159660.80              3   \n",
       "3          699    France  Female   39     1.0       0.00              2   \n",
       "4          850     Spain  Female   43     2.0  125510.82              1   \n",
       "\n",
       "   HasCrCard  IsActiveMember  EstimatedSalary  Exited  \n",
       "0          1               1        101348.88       1  \n",
       "1          0               1        112542.58       0  \n",
       "2          1               0        113931.57       1  \n",
       "3          0               0         93826.63       0  \n",
       "4          1               1         79084.10       0  "
      ]
     },
     "execution_count": 104,
     "metadata": {},
     "output_type": "execute_result"
    }
   ],
   "source": [
    "data.head()"
   ]
  },
  {
   "cell_type": "code",
   "execution_count": 105,
   "metadata": {},
   "outputs": [],
   "source": [
    "data_ohe = pd.get_dummies(data,drop_first=True)"
   ]
  },
  {
   "cell_type": "markdown",
   "metadata": {},
   "source": [
    "Делим данные на обучающую, вализационную и тестовые выборки."
   ]
  },
  {
   "cell_type": "code",
   "execution_count": 135,
   "metadata": {},
   "outputs": [],
   "source": [
    "target = data_ohe['Exited']\n",
    "features = data_ohe.drop(['Exited'] , axis=1)\n",
    "\n",
    "features_train_valid, features_test, target_train_valid, target_test = train_test_split(\n",
    "    features, target, test_size=0.2, random_state=12345, stratify=target)\n",
    "\n",
    "features_train, features_valid, target_train, target_valid = train_test_split(\n",
    "    features_train_valid, target_train_valid, test_size=0.25, random_state=12345, stratify=target_train_valid)"
   ]
  },
  {
   "cell_type": "markdown",
   "metadata": {},
   "source": [
    "Масштабируем обучающую и валидационную выборки"
   ]
  },
  {
   "cell_type": "code",
   "execution_count": 149,
   "metadata": {},
   "outputs": [],
   "source": [
    "scaler = StandardScaler()\n",
    "scaler.fit(features_train)\n",
    "\n",
    "features_train_scaled = pd.DataFrame(scaler.transform(features_train),columns=features_train.columns)\n",
    "features_valid_scaled = pd.DataFrame(scaler.transform(features_valid),columns=features_valid.columns)\n",
    "features_test_scaled = pd.DataFrame(scaler.transform(features_test),columns=features_test.columns)"
   ]
  },
  {
   "cell_type": "markdown",
   "metadata": {},
   "source": [
    "### Обучим разные типы моделей без учета дисбаланса классов"
   ]
  },
  {
   "cell_type": "markdown",
   "metadata": {},
   "source": [
    "#### Логистическая регрессия"
   ]
  },
  {
   "cell_type": "code",
   "execution_count": 180,
   "metadata": {},
   "outputs": [
    {
     "name": "stdout",
     "output_type": "stream",
     "text": [
      "F1-мера модели:  0.3214953271028037\n",
      "AUC-ROC модели:  0.7874654315332281\n",
      "CPU times: user 55.1 ms, sys: 88.3 ms, total: 143 ms\n",
      "Wall time: 35 ms\n"
     ]
    }
   ],
   "source": [
    "%%time\n",
    "\n",
    "def LogRegression(features_train,target_train,features_valid,target_valid,weight=None):\n",
    "    model = LogisticRegression(random_state=12345,solver='liblinear',class_weight=weight)\n",
    "    model.fit(features_train,target_train)\n",
    "    predictions = model.predict(features_valid)\n",
    "    probabilities = model.predict_proba(features_valid)\n",
    "    probabilities_one_valid = probabilities[:,1]\n",
    "\n",
    "    print(\"F1-мера модели: \", f1_score(target_valid,predictions))\n",
    "    print(\"AUC-ROC модели: \", roc_auc_score(target_valid,probabilities_one_valid))\n",
    "    \n",
    "LogRegression(features_train_scaled,target_train,features_valid_scaled,target_valid)"
   ]
  },
  {
   "cell_type": "markdown",
   "metadata": {},
   "source": [
    "#### Дерево решений"
   ]
  },
  {
   "cell_type": "code",
   "execution_count": 181,
   "metadata": {},
   "outputs": [
    {
     "name": "stderr",
     "output_type": "stream",
     "text": [
      "100%|██████████| 49/49 [00:01<00:00, 29.38it/s]"
     ]
    },
    {
     "name": "stdout",
     "output_type": "stream",
     "text": [
      "F1-мера лучшей модели:  0.5816618911174785\n",
      "AUC-ROC лучшей модели:  0.8097265215909283\n",
      "Глубина лучшей модели:  8\n"
     ]
    },
    {
     "name": "stderr",
     "output_type": "stream",
     "text": [
      "\n"
     ]
    }
   ],
   "source": [
    "def dtclassifier(features_train,target_train,features_valid,target_valid,max_depth,weight=None):\n",
    "\n",
    "    f1_best = 0\n",
    "    depth_best = 0  \n",
    "\n",
    "    for depth in tqdm(range(1,max_depth,1)):\n",
    "        model = DecisionTreeClassifier(random_state=12345,max_depth=depth,class_weight=weight)\n",
    "        model.fit(features_train,target_train)\n",
    "        predictions = model.predict(features_valid)\n",
    "\n",
    "        probabilities = model.predict_proba(features_valid)\n",
    "        probabilities_one_valid = probabilities[:,1]\n",
    "        \n",
    "        f1 = f1_score(target_valid,predictions)\n",
    "        auc_roc = roc_auc_score(target_valid,probabilities_one_valid)\n",
    "\n",
    "        if f1 > f1_best:\n",
    "            f1_best = f1\n",
    "            auc_roc_best = auc_roc\n",
    "            depth_best = depth\n",
    "\n",
    "    print(\"F1-мера лучшей модели: \", f1_best)\n",
    "    print(\"AUC-ROC лучшей модели: \", auc_roc_best)\n",
    "    print(\"Глубина лучшей модели: \", depth_best)\n",
    "    \n",
    "dtclassifier(features_train_scaled,target_train,features_valid_scaled,target_valid,50)"
   ]
  },
  {
   "cell_type": "markdown",
   "metadata": {},
   "source": [
    "#### Случайный лес"
   ]
  },
  {
   "cell_type": "code",
   "execution_count": 182,
   "metadata": {},
   "outputs": [
    {
     "name": "stderr",
     "output_type": "stream",
     "text": [
      "100%|██████████| 29/29 [01:30<00:00,  3.12s/it]"
     ]
    },
    {
     "name": "stdout",
     "output_type": "stream",
     "text": [
      "F1-мера лучшей модели:  0.5835866261398176\n",
      "AUC-ROC лучшей модели:  0.853698074037057\n",
      "Глубина лучшей модели:  18\n",
      "Количество 'деревьев' лучшей модели:  71\n"
     ]
    },
    {
     "name": "stderr",
     "output_type": "stream",
     "text": [
      "\n"
     ]
    }
   ],
   "source": [
    "def rfclassifier(features_train,target_train,features_valid,target_valid,max_depth,n_est,weight=None):\n",
    "\n",
    "    f1_best = 0\n",
    "    est_best = 0\n",
    "    depth_best = 0\n",
    "    auc_roc_best = 0\n",
    "    \n",
    "    for depth in tqdm(range(1,max_depth,1)):\n",
    "        for est in range(1,n_est,10):\n",
    "            model = RandomForestClassifier(random_state=12345,max_depth=depth, n_estimators=est,class_weight=weight)\n",
    "            model.fit(features_train,target_train)\n",
    "            predictions = model.predict(features_valid)\n",
    "            \n",
    "            probabilities = model.predict_proba(features_valid)\n",
    "            probabilities_one_valid = probabilities[:,1]\n",
    "            \n",
    "            f1 = f1_score(target_valid,predictions)\n",
    "            auc_roc = roc_auc_score(target_valid,probabilities_one_valid)\n",
    "\n",
    "            if f1 > f1_best:\n",
    "                f1_best = f1\n",
    "                auc_roc_best = auc_roc\n",
    "                depth_best = depth\n",
    "                est_best = est\n",
    "\n",
    "    print(\"F1-мера лучшей модели: \", f1_best)\n",
    "    print(\"AUC-ROC лучшей модели: \", auc_roc_best)\n",
    "    print(\"Глубина лучшей модели: \", depth_best)\n",
    "    print(\"Количество 'деревьев' лучшей модели: \", est_best)\n",
    "    \n",
    "rfclassifier(features_train_scaled,target_train,features_valid_scaled,target_valid,30,100)"
   ]
  },
  {
   "cell_type": "markdown",
   "metadata": {},
   "source": [
    "Исходя из результатов видим, что:\n",
    "- хуже всего с задачей справилась модель \"Логистическая регрессия\"\n",
    "- качество моделей \"Дерево решений\"  и \"Случайный лес\" выше и практически одинаковое, но не \"идеальное\"\n",
    "- на низкое качество моделей повлиял дисбаланс классов, положительных объектов в 4 раза меньше отрицательных"
   ]
  },
  {
   "cell_type": "markdown",
   "metadata": {},
   "source": [
    "## Борьба с дисбалансом"
   ]
  },
  {
   "cell_type": "markdown",
   "metadata": {},
   "source": [
    "- Применим разные техники борьбы с дисбалансом\n",
    "- На основе скорректированных данных каждой техники обучим модели, подберем оптимальные гиперпараметры\n",
    "- Выберем наилучшую технику борьбы с дисбалансом и модель с гиперпараметрами"
   ]
  },
  {
   "cell_type": "markdown",
   "metadata": {},
   "source": [
    "Проверим дисбаланс.\\\n",
    "Пропоции дисбаланса классов сохранились."
   ]
  },
  {
   "cell_type": "code",
   "execution_count": 112,
   "metadata": {
    "scrolled": true
   },
   "outputs": [
    {
     "data": {
      "text/plain": [
       "0    4777\n",
       "1    1223\n",
       "Name: Exited, dtype: int64"
      ]
     },
     "execution_count": 112,
     "metadata": {},
     "output_type": "execute_result"
    }
   ],
   "source": [
    "target_train.value_counts()"
   ]
  },
  {
   "cell_type": "markdown",
   "metadata": {},
   "source": [
    "### Изменение весов класса"
   ]
  },
  {
   "cell_type": "markdown",
   "metadata": {},
   "source": [
    "Логистическая регрессия"
   ]
  },
  {
   "cell_type": "code",
   "execution_count": 183,
   "metadata": {},
   "outputs": [
    {
     "name": "stdout",
     "output_type": "stream",
     "text": [
      "F1-мера модели:  0.5113043478260869\n",
      "AUC-ROC модели:  0.7917840799196731\n"
     ]
    }
   ],
   "source": [
    "LogRegression(features_train_scaled,target_train,features_valid_scaled,target_valid,weight='balanced')"
   ]
  },
  {
   "cell_type": "markdown",
   "metadata": {},
   "source": [
    "Дерево решений"
   ]
  },
  {
   "cell_type": "code",
   "execution_count": 184,
   "metadata": {},
   "outputs": [
    {
     "name": "stderr",
     "output_type": "stream",
     "text": [
      "100%|██████████| 49/49 [00:01<00:00, 29.33it/s]"
     ]
    },
    {
     "name": "stdout",
     "output_type": "stream",
     "text": [
      "F1-мера лучшей модели:  0.5747330960854092\n",
      "AUC-ROC лучшей модели:  0.8353337929609115\n",
      "Глубина лучшей модели:  6\n"
     ]
    },
    {
     "name": "stderr",
     "output_type": "stream",
     "text": [
      "\n"
     ]
    }
   ],
   "source": [
    "dtclassifier(features_train_scaled,target_train,features_valid_scaled,target_valid,max_depth=50,weight='balanced')"
   ]
  },
  {
   "cell_type": "markdown",
   "metadata": {},
   "source": [
    "Случайный лес"
   ]
  },
  {
   "cell_type": "code",
   "execution_count": 185,
   "metadata": {
    "scrolled": true
   },
   "outputs": [
    {
     "name": "stderr",
     "output_type": "stream",
     "text": [
      "100%|██████████| 29/29 [01:30<00:00,  3.11s/it]"
     ]
    },
    {
     "name": "stdout",
     "output_type": "stream",
     "text": [
      "F1-мера лучшей модели:  0.6416861826697893\n",
      "AUC-ROC лучшей модели:  0.8656345097023063\n",
      "Глубина лучшей модели:  9\n",
      "Количество 'деревьев' лучшей модели:  51\n"
     ]
    },
    {
     "name": "stderr",
     "output_type": "stream",
     "text": [
      "\n"
     ]
    }
   ],
   "source": [
    "rfclassifier(features_train_scaled,target_train,features_valid_scaled,target_valid,30,100,weight='balanced')"
   ]
  },
  {
   "cell_type": "markdown",
   "metadata": {},
   "source": [
    "Качество всех моделей значительно выросло.\n",
    "Лучший результат у \"Случайного леса\", значение F1-меры = 0.64"
   ]
  },
  {
   "cell_type": "markdown",
   "metadata": {},
   "source": [
    "### Увеличение выборки (upsampling)"
   ]
  },
  {
   "cell_type": "markdown",
   "metadata": {},
   "source": [
    "Увеличим количество положительных объектов."
   ]
  },
  {
   "cell_type": "code",
   "execution_count": 186,
   "metadata": {},
   "outputs": [],
   "source": [
    "def upsample(features, target, repeat):\n",
    "    features_zeros = features[target == 0]\n",
    "    features_ones = features[target == 1]\n",
    "    target_zeros = target[target == 0]\n",
    "    target_ones = target[target == 1]\n",
    "\n",
    "    features_upsampled = pd.concat([features_zeros] + [features_ones] * repeat)\n",
    "    target_upsampled = pd.concat([target_zeros] + [target_ones] * repeat)\n",
    "    \n",
    "    features_upsampled, target_upsampled = shuffle(\n",
    "        features_upsampled, target_upsampled, random_state=12345)\n",
    "    \n",
    "    return features_upsampled, target_upsampled\n",
    "\n",
    "features_upsampled, target_upsampled = upsample(features_train, target_train, 4)\n",
    "\n",
    "#Масштабируем\n",
    "features_upsampled_scaled = pd.DataFrame(scaler.transform(features_upsampled),columns=features_upsampled.columns)"
   ]
  },
  {
   "cell_type": "markdown",
   "metadata": {},
   "source": [
    "Дисбаланса нет."
   ]
  },
  {
   "cell_type": "code",
   "execution_count": 187,
   "metadata": {},
   "outputs": [
    {
     "data": {
      "text/plain": [
       "1    4892\n",
       "0    4777\n",
       "Name: Exited, dtype: int64"
      ]
     },
     "execution_count": 187,
     "metadata": {},
     "output_type": "execute_result"
    }
   ],
   "source": [
    "target_upsampled.value_counts()"
   ]
  },
  {
   "cell_type": "markdown",
   "metadata": {},
   "source": [
    "Обучим все модели на скорректированных данных"
   ]
  },
  {
   "cell_type": "markdown",
   "metadata": {},
   "source": [
    "Логистическая регрессия"
   ]
  },
  {
   "cell_type": "code",
   "execution_count": 188,
   "metadata": {},
   "outputs": [
    {
     "name": "stdout",
     "output_type": "stream",
     "text": [
      "F1-мера модели:  0.5068493150684932\n",
      "AUC-ROC модели:  0.7918550291431647\n",
      "CPU times: user 24 ms, sys: 48 ms, total: 72 ms\n",
      "Wall time: 22.3 ms\n"
     ]
    }
   ],
   "source": [
    "%%time\n",
    "LogRegression(features_upsampled_scaled,target_upsampled,features_valid_scaled,target_valid)"
   ]
  },
  {
   "cell_type": "markdown",
   "metadata": {},
   "source": [
    "Дерево решений"
   ]
  },
  {
   "cell_type": "code",
   "execution_count": 189,
   "metadata": {},
   "outputs": [
    {
     "name": "stderr",
     "output_type": "stream",
     "text": [
      "100%|██████████| 29/29 [00:01<00:00, 27.31it/s]"
     ]
    },
    {
     "name": "stdout",
     "output_type": "stream",
     "text": [
      "F1-мера лучшей модели:  0.576544315129812\n",
      "AUC-ROC лучшей модели:  0.8364173109935821\n",
      "Глубина лучшей модели:  6\n"
     ]
    },
    {
     "name": "stderr",
     "output_type": "stream",
     "text": [
      "\n"
     ]
    }
   ],
   "source": [
    "dtclassifier(features_upsampled_scaled,target_upsampled,features_valid_scaled,target_valid,max_depth=30)"
   ]
  },
  {
   "cell_type": "markdown",
   "metadata": {},
   "source": [
    "Случайный лес"
   ]
  },
  {
   "cell_type": "code",
   "execution_count": 190,
   "metadata": {
    "scrolled": true
   },
   "outputs": [
    {
     "name": "stderr",
     "output_type": "stream",
     "text": [
      "100%|██████████| 29/29 [02:03<00:00,  4.26s/it]"
     ]
    },
    {
     "name": "stdout",
     "output_type": "stream",
     "text": [
      "F1-мера лучшей модели:  0.6348448687350835\n",
      "AUC-ROC лучшей модели:  0.864303440574627\n",
      "Глубина лучшей модели:  12\n",
      "Количество 'деревьев' лучшей модели:  91\n"
     ]
    },
    {
     "name": "stderr",
     "output_type": "stream",
     "text": [
      "\n"
     ]
    }
   ],
   "source": [
    "rfclassifier(features_upsampled_scaled,target_upsampled,features_valid_scaled,target_valid,max_depth=30,n_est=100)    "
   ]
  },
  {
   "cell_type": "markdown",
   "metadata": {},
   "source": [
    "Качество моделей хуже, чем с \"изменением весов\"."
   ]
  },
  {
   "cell_type": "markdown",
   "metadata": {},
   "source": [
    "### Уменьшение выборки (downsampling)"
   ]
  },
  {
   "cell_type": "markdown",
   "metadata": {},
   "source": [
    "Уменьшим количество отрицательных объектов."
   ]
  },
  {
   "cell_type": "code",
   "execution_count": 191,
   "metadata": {},
   "outputs": [],
   "source": [
    "def downsample(features, target, fraction):\n",
    "    features_zeros = features[target == 0]\n",
    "    features_ones = features[target == 1]\n",
    "    target_zeros = target[target == 0]\n",
    "    target_ones = target[target == 1]\n",
    "\n",
    "    features_downsampled = pd.concat(\n",
    "        [features_zeros.sample(frac=fraction, random_state=12345)] + [features_ones])\n",
    "    target_downsampled = pd.concat(\n",
    "        [target_zeros.sample(frac=fraction, random_state=12345)] + [target_ones])\n",
    "    \n",
    "    features_downsampled, target_downsampled = shuffle(\n",
    "        features_downsampled, target_downsampled, random_state=12345)\n",
    "    \n",
    "    return features_downsampled, target_downsampled\n",
    "\n",
    "features_downsampled, target_downsampled = downsample(features_train, target_train, 0.25)\n",
    "\n",
    "#Масштабируем\n",
    "features_downsampled_scaled = pd.DataFrame(scaler.transform(features_downsampled),columns=features_downsampled.columns)"
   ]
  },
  {
   "cell_type": "code",
   "execution_count": 192,
   "metadata": {
    "scrolled": true
   },
   "outputs": [
    {
     "data": {
      "text/plain": [
       "1    1223\n",
       "0    1194\n",
       "Name: Exited, dtype: int64"
      ]
     },
     "execution_count": 192,
     "metadata": {},
     "output_type": "execute_result"
    }
   ],
   "source": [
    "target_downsampled.value_counts()"
   ]
  },
  {
   "cell_type": "markdown",
   "metadata": {},
   "source": [
    "Дисбаланса нет"
   ]
  },
  {
   "cell_type": "markdown",
   "metadata": {},
   "source": [
    "Обучим все модели на скорректированных данных"
   ]
  },
  {
   "cell_type": "markdown",
   "metadata": {},
   "source": [
    "Логистическая регрессия"
   ]
  },
  {
   "cell_type": "code",
   "execution_count": 193,
   "metadata": {},
   "outputs": [
    {
     "name": "stdout",
     "output_type": "stream",
     "text": [
      "F1-мера модели:  0.5042881646655232\n",
      "AUC-ROC модели:  0.791184096268842\n",
      "CPU times: user 17.9 ms, sys: 80 ms, total: 97.9 ms\n",
      "Wall time: 21.1 ms\n"
     ]
    }
   ],
   "source": [
    "%%time\n",
    "LogRegression(features_downsampled_scaled,target_downsampled,features_valid_scaled,target_valid)"
   ]
  },
  {
   "cell_type": "markdown",
   "metadata": {},
   "source": [
    "Дерево решений"
   ]
  },
  {
   "cell_type": "code",
   "execution_count": 194,
   "metadata": {},
   "outputs": [
    {
     "name": "stderr",
     "output_type": "stream",
     "text": [
      "100%|██████████| 29/29 [00:00<00:00, 58.63it/s]"
     ]
    },
    {
     "name": "stdout",
     "output_type": "stream",
     "text": [
      "F1-мера лучшей модели:  0.5933400605449041\n",
      "AUC-ROC лучшей модели:  0.8435207164020724\n",
      "Глубина лучшей модели:  6\n"
     ]
    },
    {
     "name": "stderr",
     "output_type": "stream",
     "text": [
      "\n"
     ]
    }
   ],
   "source": [
    "dtclassifier(features_downsampled_scaled,target_downsampled,features_valid_scaled,target_valid,max_depth=30)"
   ]
  },
  {
   "cell_type": "markdown",
   "metadata": {},
   "source": [
    "Случайный лес"
   ]
  },
  {
   "cell_type": "code",
   "execution_count": 195,
   "metadata": {},
   "outputs": [
    {
     "name": "stderr",
     "output_type": "stream",
     "text": [
      "100%|██████████| 29/29 [00:54<00:00,  1.88s/it]"
     ]
    },
    {
     "name": "stdout",
     "output_type": "stream",
     "text": [
      "F1-мера лучшей модели:  0.6140177690029616\n",
      "AUC-ROC лучшей модели:  0.8628096509452441\n",
      "Глубина лучшей модели:  4\n",
      "Количество 'деревьев' лучшей модели:  21\n"
     ]
    },
    {
     "name": "stderr",
     "output_type": "stream",
     "text": [
      "\n"
     ]
    }
   ],
   "source": [
    "rfclassifier(features_downsampled_scaled,target_downsampled,features_valid_scaled,target_valid,max_depth=30,n_est=100)"
   ]
  },
  {
   "cell_type": "markdown",
   "metadata": {},
   "source": [
    "Качество моделей хуже, чем с \"изменением весов\"."
   ]
  },
  {
   "cell_type": "markdown",
   "metadata": {},
   "source": [
    "**Вывод:**\n",
    "\n",
    "Лучший результат получился у модели \"Случайный лес\" при балансировке класса параметром class_weight='balanced'.\\\n",
    "Значение F1-меры: 0,64"
   ]
  },
  {
   "cell_type": "markdown",
   "metadata": {},
   "source": [
    "## Тестирование модели"
   ]
  },
  {
   "cell_type": "markdown",
   "metadata": {},
   "source": [
    "Возьмем лучшую модель и подадим на вход тестовую выборку с оптимальными гиперпараметрами."
   ]
  },
  {
   "cell_type": "code",
   "execution_count": 205,
   "metadata": {
    "scrolled": false
   },
   "outputs": [
    {
     "name": "stdout",
     "output_type": "stream",
     "text": [
      "F1-мера модели:  0.6169965075669382\n",
      "AUC-ROC модели:  0.8570805011482978\n"
     ]
    }
   ],
   "source": [
    "model = RandomForestClassifier(random_state=12345,max_depth=9, n_estimators=51,class_weight='balanced')\n",
    "model.fit(features_train_scaled,target_train)\n",
    "predictions = model.predict(features_test_scaled)\n",
    "\n",
    "probabilities = model.predict_proba(features_test_scaled)\n",
    "probabilities_one_test = probabilities[:,1]\n",
    "\n",
    "f1 = f1_score(target_test,predictions)\n",
    "auc_roc = roc_auc_score(target_test,probabilities_one_test)\n",
    "\n",
    "print(\"F1-мера модели: \", f1)\n",
    "print(\"AUC-ROC модели: \", auc_roc)\n"
   ]
  },
  {
   "cell_type": "markdown",
   "metadata": {},
   "source": [
    "Качество модели немного хуже, чем на валидационной выборке."
   ]
  },
  {
   "cell_type": "markdown",
   "metadata": {},
   "source": [
    "Так как при подборе оптимального \"количества деревьев\" шаг составляет 10 и верхнее значение всего 100, возможно мы упускаем более оптимальные гиперпараметры.\\\n",
    "Поэтому проведем подбор с глубиной - 9 и ограничением по \"количеству деревьев\" - 1000 с шагом 2."
   ]
  },
  {
   "cell_type": "code",
   "execution_count": 206,
   "metadata": {
    "scrolled": true
   },
   "outputs": [
    {
     "name": "stderr",
     "output_type": "stream",
     "text": [
      "100%|██████████| 480/480 [26:13<00:00,  3.28s/it]"
     ]
    },
    {
     "name": "stdout",
     "output_type": "stream",
     "text": [
      "F1-мера лучшей модели:  0.6459770114942529\n",
      "AUC-ROC лучшей модели:  0.869508954254717\n",
      "Количество 'деревьев' лучшей модели:  148\n"
     ]
    },
    {
     "name": "stderr",
     "output_type": "stream",
     "text": [
      "\n"
     ]
    }
   ],
   "source": [
    "f1_best = 0\n",
    "est_best = 0\n",
    "auc_roc_best = 0\n",
    "\n",
    "for est in tqdm(range(40,1000,2)):\n",
    "    model = RandomForestClassifier(random_state=12345,max_depth=9, n_estimators=est,class_weight='balanced')\n",
    "    model.fit(features_train_scaled,target_train)\n",
    "    predictions = model.predict(features_valid_scaled)\n",
    "    \n",
    "    probabilities = model.predict_proba(features_valid_scaled)\n",
    "    probabilities_one_valid = probabilities[:,1]\n",
    "    \n",
    "    f1 = f1_score(target_valid,predictions)\n",
    "    auc_roc = roc_auc_score(target_valid,probabilities_one_valid)\n",
    "\n",
    "    if f1 > f1_best:\n",
    "        f1_best = f1\n",
    "        auc_roc_best = auc_roc\n",
    "        est_best = est\n",
    "\n",
    "print(\"F1-мера лучшей модели: \", f1_best)\n",
    "print(\"AUC-ROC лучшей модели: \", auc_roc_best)\n",
    "print(\"Количество 'деревьев' лучшей модели: \", est_best)"
   ]
  },
  {
   "cell_type": "code",
   "execution_count": 213,
   "metadata": {},
   "outputs": [
    {
     "name": "stdout",
     "output_type": "stream",
     "text": [
      "F1-мера модели:  0.6247139588100686\n",
      "AUC-ROC модели:  0.8627641508997443\n"
     ]
    }
   ],
   "source": [
    "model = RandomForestClassifier(random_state=12345,max_depth=9, n_estimators=148,class_weight='balanced')\n",
    "model.fit(features_train_scaled,target_train)\n",
    "predictions = model.predict(features_test_scaled)\n",
    "\n",
    "probabilities = model.predict_proba(features_test_scaled)\n",
    "probabilities_one_test = probabilities[:,1]\n",
    "\n",
    "f1 = f1_score(target_test,predictions)\n",
    "auc_roc = roc_auc_score(target_test,probabilities_one_test)\n",
    "\n",
    "print(\"F1-мера модели: \", f1)\n",
    "print(\"AUC-ROC модели: \", auc_roc)"
   ]
  },
  {
   "cell_type": "markdown",
   "metadata": {},
   "source": [
    "Еще немного улучшили модель!"
   ]
  },
  {
   "cell_type": "markdown",
   "metadata": {},
   "source": [
    "Для наглядности построим график ROC-кривой по тестовым данным."
   ]
  },
  {
   "cell_type": "code",
   "execution_count": 215,
   "metadata": {
    "scrolled": false
   },
   "outputs": [
    {
     "data": {
      "image/png": "[encoded data removed]",
      "text/plain": [
       "<Figure size 600x400 with 1 Axes>"
      ]
     },
     "metadata": {},
     "output_type": "display_data"
    }
   ],
   "source": [
    "fpr, tpr, thresholds = roc_curve(target_test, probabilities_one_test)\n",
    "\n",
    "plt.figure()\n",
    "plt.plot(fpr, tpr)\n",
    "plt.plot([0, 1], [0, 1], linestyle='--')\n",
    "plt.ylim([0.0, 1])\n",
    "plt.xlim([0.0, 1])\n",
    "plt.xlabel('False Positive Rate')\n",
    "plt.ylabel('True Positive Rate')\n",
    "plt.title('ROC-кривая')\n",
    "plt.show();"
   ]
  },
  {
   "cell_type": "markdown",
   "metadata": {},
   "source": [
    "Рассмотрим важность признаков в итоговой модели"
   ]
  },
  {
   "cell_type": "code",
   "execution_count": 225,
   "metadata": {
    "scrolled": true
   },
   "outputs": [
    {
     "data": {
      "image/png": "[encoded data removed]",
      "text/plain": [
       "<Figure size 600x400 with 1 Axes>"
      ]
     },
     "metadata": {},
     "output_type": "display_data"
    }
   ],
   "source": [
    "importances = model.feature_importances_\n",
    "\n",
    "indices = np.argsort(importances)\n",
    "\n",
    "fig, ax = plt.subplots()\n",
    "ax.barh(range(len(importances)), importances[indices])\n",
    "ax.set_yticks(range(len(importances)))\n",
    "ax.set_yticklabels(np.array(features_train_scaled.columns)[indices]);"
   ]
  },
  {
   "cell_type": "markdown",
   "metadata": {},
   "source": [
    "**Вывод:**\n",
    "\n",
    "Из всех рассматриваемых моделей, лучшее качество показала модель \"Случайный лес\" с F1-метрикой\\\n",
    "при балансировке классов параметром *class_weight='balanced'*:\n",
    "- 0,65 на валидационных данных (AUC-ROC = 0,87)\n",
    "- 0,62 на тестовых данных (AUC-ROC = 0,86) - присутствует \"легкая\" недообученность\n",
    "\n",
    "Два самых важных признака итоговой модели:\n",
    "- Возраст клиента (Age)\n",
    "- Количество продуктов банка, Используемых клиентом (NumOfProducts)"
   ]
  },
  {
   "cell_type": "code",
   "execution_count": null,
   "metadata": {},
   "outputs": [],
   "source": []
  }
 ],
 "metadata": {
  "ExecuteTimeLog": [
   {
    "duration": 433,
    "start_time": "2023-04-04T15:50:12.577Z"
   },
   {
    "duration": 81,
    "start_time": "2023-04-04T15:50:14.626Z"
   },
   {
    "duration": 49,
    "start_time": "2023-04-04T15:50:20.784Z"
   },
   {
    "duration": 22,
    "start_time": "2023-04-04T15:50:27.794Z"
   },
   {
    "duration": 16,
    "start_time": "2023-04-04T15:50:49.584Z"
   },
   {
    "duration": 45,
    "start_time": "2023-04-04T15:51:05.571Z"
   },
   {
    "duration": 25,
    "start_time": "2023-04-04T15:53:46.189Z"
   },
   {
    "duration": 7,
    "start_time": "2023-04-04T15:53:58.472Z"
   },
   {
    "duration": 18,
    "start_time": "2023-04-04T15:54:05.820Z"
   },
   {
    "duration": 53,
    "start_time": "2023-04-04T15:54:13.946Z"
   },
   {
    "duration": 7,
    "start_time": "2023-04-04T15:55:09.459Z"
   },
   {
    "duration": 3,
    "start_time": "2023-04-04T15:55:25.231Z"
   },
   {
    "duration": 52,
    "start_time": "2023-04-04T15:55:25.235Z"
   },
   {
    "duration": 13,
    "start_time": "2023-04-04T15:55:25.289Z"
   },
   {
    "duration": 32,
    "start_time": "2023-04-04T15:55:25.303Z"
   },
   {
    "duration": 55,
    "start_time": "2023-04-04T15:55:25.337Z"
   },
   {
    "duration": 7,
    "start_time": "2023-04-04T15:55:25.394Z"
   },
   {
    "duration": 59,
    "start_time": "2023-04-04T15:55:25.403Z"
   },
   {
    "duration": 37,
    "start_time": "2023-04-04T16:00:18.098Z"
   },
   {
    "duration": 6,
    "start_time": "2023-04-04T16:00:30.488Z"
   },
   {
    "duration": 3,
    "start_time": "2023-04-04T16:00:33.286Z"
   },
   {
    "duration": 50,
    "start_time": "2023-04-04T16:00:33.291Z"
   },
   {
    "duration": 14,
    "start_time": "2023-04-04T16:00:33.342Z"
   },
   {
    "duration": 23,
    "start_time": "2023-04-04T16:00:33.357Z"
   },
   {
    "duration": 52,
    "start_time": "2023-04-04T16:00:33.382Z"
   },
   {
    "duration": 5,
    "start_time": "2023-04-04T16:00:33.436Z"
   },
   {
    "duration": 9,
    "start_time": "2023-04-04T16:00:33.443Z"
   },
   {
    "duration": 12,
    "start_time": "2023-04-04T16:00:33.454Z"
   },
   {
    "duration": 37,
    "start_time": "2023-04-04T16:00:33.467Z"
   },
   {
    "duration": 5,
    "start_time": "2023-04-04T16:00:33.506Z"
   },
   {
    "duration": 7,
    "start_time": "2023-04-04T16:25:23.086Z"
   },
   {
    "duration": 24,
    "start_time": "2023-04-04T16:26:51.059Z"
   },
   {
    "duration": 3,
    "start_time": "2023-04-04T16:28:08.293Z"
   },
   {
    "duration": 40,
    "start_time": "2023-04-04T16:28:08.298Z"
   },
   {
    "duration": 14,
    "start_time": "2023-04-04T16:28:08.340Z"
   },
   {
    "duration": 26,
    "start_time": "2023-04-04T16:28:08.355Z"
   },
   {
    "duration": 50,
    "start_time": "2023-04-04T16:28:08.383Z"
   },
   {
    "duration": 6,
    "start_time": "2023-04-04T16:28:08.434Z"
   },
   {
    "duration": 25,
    "start_time": "2023-04-04T16:28:08.441Z"
   },
   {
    "duration": 34,
    "start_time": "2023-04-04T16:28:08.472Z"
   },
   {
    "duration": 59,
    "start_time": "2023-04-04T16:28:08.508Z"
   },
   {
    "duration": 7,
    "start_time": "2023-04-04T16:28:08.569Z"
   },
   {
    "duration": 28,
    "start_time": "2023-04-04T16:28:08.578Z"
   },
   {
    "duration": 37,
    "start_time": "2023-04-04T16:28:08.608Z"
   },
   {
    "duration": 4,
    "start_time": "2023-04-04T16:28:58.138Z"
   },
   {
    "duration": 17,
    "start_time": "2023-04-04T16:28:59.029Z"
   },
   {
    "duration": 43,
    "start_time": "2023-04-04T16:29:00.280Z"
   },
   {
    "duration": 7,
    "start_time": "2023-04-04T16:29:03.526Z"
   },
   {
    "duration": 6,
    "start_time": "2023-04-04T16:29:07.423Z"
   },
   {
    "duration": 21,
    "start_time": "2023-04-04T16:29:10.206Z"
   },
   {
    "duration": 824,
    "start_time": "2023-04-04T18:15:23.180Z"
   },
   {
    "duration": 4,
    "start_time": "2023-04-04T18:16:47.843Z"
   },
   {
    "duration": 11,
    "start_time": "2023-04-04T18:29:09.235Z"
   },
   {
    "duration": 143,
    "start_time": "2023-04-04T19:17:29.201Z"
   },
   {
    "duration": 3,
    "start_time": "2023-04-04T19:17:38.430Z"
   },
   {
    "duration": 25,
    "start_time": "2023-04-04T19:17:42.029Z"
   },
   {
    "duration": 28,
    "start_time": "2023-04-04T19:18:44.640Z"
   },
   {
    "duration": 28,
    "start_time": "2023-04-04T19:21:33.800Z"
   },
   {
    "duration": 19,
    "start_time": "2023-04-04T19:21:46.731Z"
   },
   {
    "duration": 33,
    "start_time": "2023-04-04T19:24:31.085Z"
   },
   {
    "duration": 3,
    "start_time": "2023-04-04T19:24:33.545Z"
   },
   {
    "duration": 69,
    "start_time": "2023-04-04T19:24:33.550Z"
   },
   {
    "duration": 13,
    "start_time": "2023-04-04T19:24:33.621Z"
   },
   {
    "duration": 14,
    "start_time": "2023-04-04T19:24:33.635Z"
   },
   {
    "duration": 57,
    "start_time": "2023-04-04T19:24:33.651Z"
   },
   {
    "duration": 8,
    "start_time": "2023-04-04T19:24:33.712Z"
   },
   {
    "duration": 5,
    "start_time": "2023-04-04T19:24:33.721Z"
   },
   {
    "duration": 16,
    "start_time": "2023-04-04T19:24:33.728Z"
   },
   {
    "duration": 82,
    "start_time": "2023-04-04T19:24:33.745Z"
   },
   {
    "duration": 5,
    "start_time": "2023-04-04T19:24:33.830Z"
   },
   {
    "duration": 9,
    "start_time": "2023-04-04T19:24:33.837Z"
   },
   {
    "duration": 10,
    "start_time": "2023-04-04T19:24:33.847Z"
   },
   {
    "duration": 28,
    "start_time": "2023-04-04T19:24:33.858Z"
   },
   {
    "duration": 28,
    "start_time": "2023-04-04T19:24:33.888Z"
   },
   {
    "duration": 33,
    "start_time": "2023-04-04T19:36:15.330Z"
   },
   {
    "duration": 30,
    "start_time": "2023-04-04T19:39:12.822Z"
   },
   {
    "duration": 3,
    "start_time": "2023-04-04T19:41:20.832Z"
   },
   {
    "duration": 60,
    "start_time": "2023-04-04T19:41:20.838Z"
   },
   {
    "duration": 14,
    "start_time": "2023-04-04T19:41:20.901Z"
   },
   {
    "duration": 15,
    "start_time": "2023-04-04T19:41:20.917Z"
   },
   {
    "duration": 58,
    "start_time": "2023-04-04T19:41:20.936Z"
   },
   {
    "duration": 16,
    "start_time": "2023-04-04T19:41:20.997Z"
   },
   {
    "duration": 10,
    "start_time": "2023-04-04T19:41:21.015Z"
   },
   {
    "duration": 16,
    "start_time": "2023-04-04T19:41:21.027Z"
   },
   {
    "duration": 61,
    "start_time": "2023-04-04T19:41:21.045Z"
   },
   {
    "duration": 10,
    "start_time": "2023-04-04T19:41:21.108Z"
   },
   {
    "duration": 7,
    "start_time": "2023-04-04T19:41:21.119Z"
   },
   {
    "duration": 43,
    "start_time": "2023-04-04T19:41:21.128Z"
   },
   {
    "duration": 37,
    "start_time": "2023-04-04T19:41:21.176Z"
   },
   {
    "duration": 29,
    "start_time": "2023-04-04T19:42:40.791Z"
   },
   {
    "duration": 34,
    "start_time": "2023-04-04T19:44:51.642Z"
   },
   {
    "duration": 21,
    "start_time": "2023-04-04T19:44:59.232Z"
   },
   {
    "duration": 244,
    "start_time": "2023-04-04T20:10:50.142Z"
   },
   {
    "duration": 22,
    "start_time": "2023-04-04T20:11:35.969Z"
   },
   {
    "duration": 209,
    "start_time": "2023-04-04T20:11:39.847Z"
   },
   {
    "duration": 146,
    "start_time": "2023-04-04T20:11:41.886Z"
   },
   {
    "duration": 619,
    "start_time": "2023-04-04T20:11:43.755Z"
   },
   {
    "duration": 29,
    "start_time": "2023-04-04T20:14:47.784Z"
   },
   {
    "duration": 108,
    "start_time": "2023-04-04T20:15:21.939Z"
   },
   {
    "duration": 578,
    "start_time": "2023-04-04T20:15:22.992Z"
   },
   {
    "duration": 21,
    "start_time": "2023-04-04T20:19:12.871Z"
   },
   {
    "duration": 1501,
    "start_time": "2023-04-04T20:19:40.406Z"
   },
   {
    "duration": 648,
    "start_time": "2023-04-04T20:19:48.790Z"
   },
   {
    "duration": 88,
    "start_time": "2023-04-04T20:20:58.612Z"
   },
   {
    "duration": 12,
    "start_time": "2023-04-04T20:21:02.987Z"
   },
   {
    "duration": 275,
    "start_time": "2023-04-04T20:21:30.892Z"
   },
   {
    "duration": 569,
    "start_time": "2023-04-04T20:21:32.404Z"
   },
   {
    "duration": 663,
    "start_time": "2023-04-04T20:21:33.589Z"
   },
   {
    "duration": 1515,
    "start_time": "2023-04-04T20:21:34.759Z"
   },
   {
    "duration": 1560,
    "start_time": "2023-04-05T10:53:12.718Z"
   },
   {
    "duration": 79,
    "start_time": "2023-04-05T10:53:14.280Z"
   },
   {
    "duration": 20,
    "start_time": "2023-04-05T10:53:14.361Z"
   },
   {
    "duration": 21,
    "start_time": "2023-04-05T10:53:14.383Z"
   },
   {
    "duration": 45,
    "start_time": "2023-04-05T10:53:14.407Z"
   },
   {
    "duration": 7,
    "start_time": "2023-04-05T10:53:14.454Z"
   },
   {
    "duration": 14,
    "start_time": "2023-04-05T10:53:14.463Z"
   },
   {
    "duration": 15,
    "start_time": "2023-04-05T10:53:14.479Z"
   },
   {
    "duration": 53,
    "start_time": "2023-04-05T10:53:14.495Z"
   },
   {
    "duration": 6,
    "start_time": "2023-04-05T10:53:14.550Z"
   },
   {
    "duration": 17,
    "start_time": "2023-04-05T10:53:14.557Z"
   },
   {
    "duration": 308,
    "start_time": "2023-04-05T10:53:14.576Z"
   },
   {
    "duration": 567,
    "start_time": "2023-04-05T10:53:14.885Z"
   },
   {
    "duration": 771,
    "start_time": "2023-04-05T10:53:15.455Z"
   },
   {
    "duration": 1320,
    "start_time": "2023-04-05T10:53:16.228Z"
   },
   {
    "duration": 3,
    "start_time": "2023-04-05T16:02:25.866Z"
   },
   {
    "duration": 40,
    "start_time": "2023-04-05T16:02:25.871Z"
   },
   {
    "duration": 14,
    "start_time": "2023-04-05T16:02:25.915Z"
   },
   {
    "duration": 13,
    "start_time": "2023-04-05T16:02:25.930Z"
   },
   {
    "duration": 40,
    "start_time": "2023-04-05T16:02:25.945Z"
   },
   {
    "duration": 6,
    "start_time": "2023-04-05T16:02:25.987Z"
   },
   {
    "duration": 20,
    "start_time": "2023-04-05T16:02:25.994Z"
   },
   {
    "duration": 11,
    "start_time": "2023-04-05T16:02:26.016Z"
   },
   {
    "duration": 39,
    "start_time": "2023-04-05T16:02:26.040Z"
   },
   {
    "duration": 6,
    "start_time": "2023-04-05T16:02:26.081Z"
   },
   {
    "duration": 7,
    "start_time": "2023-04-05T16:02:26.088Z"
   },
   {
    "duration": 7,
    "start_time": "2023-04-05T16:02:26.096Z"
   },
   {
    "duration": 148,
    "start_time": "2023-04-05T16:02:26.105Z"
   },
   {
    "duration": 0,
    "start_time": "2023-04-05T16:02:26.255Z"
   },
   {
    "duration": 0,
    "start_time": "2023-04-05T16:02:26.256Z"
   },
   {
    "duration": 21,
    "start_time": "2023-04-05T16:02:45.589Z"
   },
   {
    "duration": 21,
    "start_time": "2023-04-05T16:02:50.422Z"
   },
   {
    "duration": 285,
    "start_time": "2023-04-05T16:06:02.722Z"
   },
   {
    "duration": 542,
    "start_time": "2023-04-05T16:06:04.210Z"
   },
   {
    "duration": 593,
    "start_time": "2023-04-05T16:06:09.739Z"
   },
   {
    "duration": 23,
    "start_time": "2023-04-05T16:06:36.845Z"
   },
   {
    "duration": 146,
    "start_time": "2023-04-05T16:06:47.122Z"
   },
   {
    "duration": 5,
    "start_time": "2023-04-05T16:07:05.597Z"
   },
   {
    "duration": 1459,
    "start_time": "2023-04-05T16:07:53.397Z"
   },
   {
    "duration": 1504,
    "start_time": "2023-04-05T16:08:21.974Z"
   },
   {
    "duration": 1411,
    "start_time": "2023-04-05T16:08:31.530Z"
   },
   {
    "duration": 3,
    "start_time": "2023-04-05T16:10:25.120Z"
   },
   {
    "duration": 654,
    "start_time": "2023-04-05T16:10:52.500Z"
   },
   {
    "duration": 659,
    "start_time": "2023-04-05T16:11:09.884Z"
   },
   {
    "duration": 627,
    "start_time": "2023-04-05T16:11:23.956Z"
   },
   {
    "duration": 1334,
    "start_time": "2023-04-05T16:11:28.054Z"
   },
   {
    "duration": 5488,
    "start_time": "2023-04-05T16:12:04.355Z"
   },
   {
    "duration": 587,
    "start_time": "2023-04-05T16:12:15.755Z"
   },
   {
    "duration": 871,
    "start_time": "2023-04-05T16:12:27.534Z"
   },
   {
    "duration": 626,
    "start_time": "2023-04-05T16:13:59.887Z"
   },
   {
    "duration": 666,
    "start_time": "2023-04-05T16:14:04.094Z"
   },
   {
    "duration": 689,
    "start_time": "2023-04-05T16:14:13.654Z"
   },
   {
    "duration": 712,
    "start_time": "2023-04-05T16:14:17.766Z"
   },
   {
    "duration": 3432,
    "start_time": "2023-04-05T16:20:26.980Z"
   },
   {
    "duration": 8,
    "start_time": "2023-04-05T16:21:17.579Z"
   },
   {
    "duration": 19396,
    "start_time": "2023-04-05T16:21:43.891Z"
   },
   {
    "duration": 587,
    "start_time": "2023-04-05T16:22:36.272Z"
   },
   {
    "duration": 20371,
    "start_time": "2023-04-05T16:23:47.532Z"
   },
   {
    "duration": 19299,
    "start_time": "2023-04-05T16:29:00.094Z"
   },
   {
    "duration": 48659,
    "start_time": "2023-04-05T16:29:56.628Z"
   },
   {
    "duration": 19720,
    "start_time": "2023-04-05T16:31:59.434Z"
   },
   {
    "duration": 49031,
    "start_time": "2023-04-05T16:32:20.928Z"
   },
   {
    "duration": 48610,
    "start_time": "2023-04-05T16:34:13.918Z"
   },
   {
    "duration": 19422,
    "start_time": "2023-04-05T16:35:02.530Z"
   },
   {
    "duration": 48815,
    "start_time": "2023-04-05T16:42:57.438Z"
   },
   {
    "duration": 51293,
    "start_time": "2023-04-05T16:44:00.187Z"
   },
   {
    "duration": 50747,
    "start_time": "2023-04-05T16:46:13.064Z"
   },
   {
    "duration": 4949,
    "start_time": "2023-04-05T16:48:03.198Z"
   },
   {
    "duration": 526,
    "start_time": "2023-04-05T16:48:49.424Z"
   },
   {
    "duration": 501,
    "start_time": "2023-04-05T17:04:39.859Z"
   },
   {
    "duration": 6,
    "start_time": "2023-04-05T17:05:13.980Z"
   },
   {
    "duration": 515,
    "start_time": "2023-04-05T18:15:06.553Z"
   },
   {
    "duration": 19543,
    "start_time": "2023-04-05T18:15:37.538Z"
   },
   {
    "duration": 51612,
    "start_time": "2023-04-05T18:15:57.083Z"
   },
   {
    "duration": 1051,
    "start_time": "2023-04-06T11:01:04.552Z"
   },
   {
    "duration": 75,
    "start_time": "2023-04-06T11:01:05.604Z"
   },
   {
    "duration": 16,
    "start_time": "2023-04-06T11:01:05.681Z"
   },
   {
    "duration": 11,
    "start_time": "2023-04-06T11:01:05.698Z"
   },
   {
    "duration": 33,
    "start_time": "2023-04-06T11:01:05.710Z"
   },
   {
    "duration": 4,
    "start_time": "2023-04-06T11:01:05.745Z"
   },
   {
    "duration": 6,
    "start_time": "2023-04-06T11:01:05.750Z"
   },
   {
    "duration": 22,
    "start_time": "2023-04-06T11:01:05.758Z"
   },
   {
    "duration": 33,
    "start_time": "2023-04-06T11:01:05.782Z"
   },
   {
    "duration": 4,
    "start_time": "2023-04-06T11:01:05.817Z"
   },
   {
    "duration": 7,
    "start_time": "2023-04-06T11:01:05.822Z"
   },
   {
    "duration": 317,
    "start_time": "2023-04-06T11:01:05.830Z"
   },
   {
    "duration": 520,
    "start_time": "2023-04-06T11:01:06.149Z"
   },
   {
    "duration": 16415,
    "start_time": "2023-04-06T11:01:06.673Z"
   },
   {
    "duration": 44055,
    "start_time": "2023-04-06T11:01:23.089Z"
   },
   {
    "duration": 3,
    "start_time": "2023-04-06T11:11:21.524Z"
   },
   {
    "duration": 139,
    "start_time": "2023-04-06T11:13:19.468Z"
   },
   {
    "duration": 5,
    "start_time": "2023-04-06T11:13:38.074Z"
   },
   {
    "duration": 5,
    "start_time": "2023-04-06T11:14:03.470Z"
   },
   {
    "duration": 5,
    "start_time": "2023-04-06T11:14:54.053Z"
   },
   {
    "duration": 6,
    "start_time": "2023-04-06T11:18:45.430Z"
   },
   {
    "duration": 590,
    "start_time": "2023-04-06T11:22:23.585Z"
   },
   {
    "duration": 878,
    "start_time": "2023-04-06T11:23:29.895Z"
   },
   {
    "duration": 1042,
    "start_time": "2023-04-06T11:23:59.331Z"
   },
   {
    "duration": 89,
    "start_time": "2023-04-06T11:26:50.501Z"
   },
   {
    "duration": 77,
    "start_time": "2023-04-06T11:26:59.694Z"
   },
   {
    "duration": 17168,
    "start_time": "2023-04-06T11:27:14.161Z"
   },
   {
    "duration": 3781,
    "start_time": "2023-04-06T11:27:57.866Z"
   },
   {
    "duration": 25125,
    "start_time": "2023-04-06T11:28:10.963Z"
   },
   {
    "duration": 847,
    "start_time": "2023-04-06T11:28:38.535Z"
   },
   {
    "duration": 506,
    "start_time": "2023-04-06T11:28:58.468Z"
   },
   {
    "duration": 26572,
    "start_time": "2023-04-06T11:29:26.925Z"
   },
   {
    "duration": 26317,
    "start_time": "2023-04-06T11:30:02.161Z"
   },
   {
    "duration": 47416,
    "start_time": "2023-04-06T11:32:04.992Z"
   },
   {
    "duration": 71860,
    "start_time": "2023-04-06T11:33:21.032Z"
   },
   {
    "duration": 67,
    "start_time": "2023-04-06T11:40:27.080Z"
   },
   {
    "duration": 5,
    "start_time": "2023-04-06T11:40:42.912Z"
   },
   {
    "duration": 434,
    "start_time": "2023-04-06T11:46:00.546Z"
   },
   {
    "duration": 5931,
    "start_time": "2023-04-06T11:46:46.498Z"
   },
   {
    "duration": 26261,
    "start_time": "2023-04-06T11:47:26.272Z"
   },
   {
    "duration": 82320,
    "start_time": "2023-04-06T11:48:07.991Z"
   },
   {
    "duration": 168602,
    "start_time": "2023-04-06T11:50:37.032Z"
   },
   {
    "duration": 5933,
    "start_time": "2023-04-06T11:53:42.718Z"
   },
   {
    "duration": 487121,
    "start_time": "2023-04-06T11:55:06.393Z"
   },
   {
    "duration": 1265260,
    "start_time": "2023-04-06T12:03:29.641Z"
   },
   {
    "duration": 4331,
    "start_time": "2023-04-06T12:25:56.186Z"
   },
   {
    "duration": 10078,
    "start_time": "2023-04-06T12:26:13.317Z"
   },
   {
    "duration": 478024,
    "start_time": "2023-04-06T12:26:27.764Z"
   },
   {
    "duration": 160594,
    "start_time": "2023-04-06T12:34:51.104Z"
   },
   {
    "duration": 626616,
    "start_time": "2023-04-06T12:37:47.093Z"
   },
   {
    "duration": 3,
    "start_time": "2023-04-06T12:54:32.918Z"
   },
   {
    "duration": 480,
    "start_time": "2023-04-06T12:55:19.110Z"
   },
   {
    "duration": 4,
    "start_time": "2023-04-06T12:55:54.034Z"
   },
   {
    "duration": 5,
    "start_time": "2023-04-06T12:56:02.542Z"
   },
   {
    "duration": 736,
    "start_time": "2023-04-06T12:56:12.666Z"
   },
   {
    "duration": 657,
    "start_time": "2023-04-06T12:56:27.984Z"
   },
   {
    "duration": 3295,
    "start_time": "2023-04-06T13:04:47.489Z"
   },
   {
    "duration": 4864,
    "start_time": "2023-04-06T13:04:59.941Z"
   },
   {
    "duration": 6874,
    "start_time": "2023-04-06T13:05:10.330Z"
   },
   {
    "duration": 4956,
    "start_time": "2023-04-06T13:05:22.747Z"
   },
   {
    "duration": 2318,
    "start_time": "2023-04-06T13:05:33.221Z"
   },
   {
    "duration": 4664,
    "start_time": "2023-04-06T13:07:29.034Z"
   },
   {
    "duration": 10458,
    "start_time": "2023-04-06T13:07:44.836Z"
   },
   {
    "duration": 113264,
    "start_time": "2023-04-06T13:08:06.323Z"
   },
   {
    "duration": 6317,
    "start_time": "2023-04-06T13:10:30.167Z"
   },
   {
    "duration": 259498,
    "start_time": "2023-04-06T13:10:49.885Z"
   },
   {
    "duration": 8097,
    "start_time": "2023-04-06T13:15:46.413Z"
   },
   {
    "duration": 34302,
    "start_time": "2023-04-06T13:16:03.758Z"
   },
   {
    "duration": 6968,
    "start_time": "2023-04-06T13:17:08.146Z"
   },
   {
    "duration": 8,
    "start_time": "2023-04-06T13:17:17.614Z"
   },
   {
    "duration": 9688,
    "start_time": "2023-04-06T13:17:20.167Z"
   },
   {
    "duration": 22241,
    "start_time": "2023-04-06T13:17:59.830Z"
   },
   {
    "duration": 47262,
    "start_time": "2023-04-06T13:18:37.059Z"
   },
   {
    "duration": 2411604,
    "start_time": "2023-04-06T13:19:47.224Z"
   },
   {
    "duration": 8,
    "start_time": "2023-04-06T14:01:53.076Z"
   },
   {
    "duration": 142357,
    "start_time": "2023-04-06T14:02:01.467Z"
   },
   {
    "duration": 4448,
    "start_time": "2023-04-06T14:05:05.542Z"
   },
   {
    "duration": 71123,
    "start_time": "2023-04-06T14:05:16.891Z"
   },
   {
    "duration": 39384,
    "start_time": "2023-04-06T14:06:31.445Z"
   },
   {
    "duration": 4163,
    "start_time": "2023-04-06T14:07:31.190Z"
   },
   {
    "duration": 2831,
    "start_time": "2023-04-06T14:07:39.693Z"
   },
   {
    "duration": 7489,
    "start_time": "2023-04-06T14:07:44.325Z"
   },
   {
    "duration": 400436,
    "start_time": "2023-04-06T14:09:04.741Z"
   },
   {
    "duration": 1437299,
    "start_time": "2023-04-06T14:16:11.096Z"
   },
   {
    "duration": 1188891,
    "start_time": "2023-04-06T14:40:13.163Z"
   },
   {
    "duration": 316387,
    "start_time": "2023-04-06T15:00:46.195Z"
   },
   {
    "duration": 444181,
    "start_time": "2023-04-06T15:08:13.131Z"
   },
   {
    "duration": 1004978,
    "start_time": "2023-04-06T15:16:07.235Z"
   },
   {
    "duration": 1625182,
    "start_time": "2023-04-06T15:36:35.212Z"
   },
   {
    "duration": 0,
    "start_time": "2023-04-06T16:03:40.395Z"
   },
   {
    "duration": 278,
    "start_time": "2023-04-06T16:03:45.000Z"
   },
   {
    "duration": 323,
    "start_time": "2023-04-06T16:04:13.660Z"
   },
   {
    "duration": 309,
    "start_time": "2023-04-06T16:04:35.015Z"
   },
   {
    "duration": 431,
    "start_time": "2023-04-06T16:04:38.240Z"
   },
   {
    "duration": 26529,
    "start_time": "2023-04-06T16:04:41.880Z"
   },
   {
    "duration": 509598,
    "start_time": "2023-04-06T16:05:14.147Z"
   },
   {
    "duration": 1995,
    "start_time": "2023-04-06T16:13:49.154Z"
   },
   {
    "duration": 42,
    "start_time": "2023-04-06T16:13:55.121Z"
   },
   {
    "duration": 484,
    "start_time": "2023-04-06T16:14:02.584Z"
   },
   {
    "duration": 422,
    "start_time": "2023-04-06T16:19:34.547Z"
   },
   {
    "duration": 9,
    "start_time": "2023-04-06T16:19:54.904Z"
   },
   {
    "duration": 503,
    "start_time": "2023-04-06T16:19:59.568Z"
   },
   {
    "duration": 28797,
    "start_time": "2023-04-06T16:21:42.723Z"
   },
   {
    "duration": 8,
    "start_time": "2023-04-06T16:23:07.395Z"
   },
   {
    "duration": 24048,
    "start_time": "2023-04-06T16:23:11.930Z"
   },
   {
    "duration": 215639,
    "start_time": "2023-04-06T16:24:14.807Z"
   },
   {
    "duration": 7,
    "start_time": "2023-04-06T16:28:45.893Z"
   },
   {
    "duration": 224122,
    "start_time": "2023-04-06T16:30:03.111Z"
   },
   {
    "duration": 97,
    "start_time": "2023-04-06T16:34:19.484Z"
   },
   {
    "duration": 5,
    "start_time": "2023-04-06T16:34:23.394Z"
   },
   {
    "duration": 687,
    "start_time": "2023-04-06T16:34:38.694Z"
   },
   {
    "duration": 18101,
    "start_time": "2023-04-06T16:34:48.383Z"
   },
   {
    "duration": 341383,
    "start_time": "2023-04-06T16:35:28.587Z"
   },
   {
    "duration": 51,
    "start_time": "2023-04-06T16:45:13.379Z"
   },
   {
    "duration": 5,
    "start_time": "2023-04-06T16:45:15.116Z"
   },
   {
    "duration": 225,
    "start_time": "2023-04-06T16:45:25.645Z"
   },
   {
    "duration": 95819,
    "start_time": "2023-04-06T16:46:20.871Z"
   },
   {
    "duration": 220050,
    "start_time": "2023-04-06T16:49:40.155Z"
   },
   {
    "duration": 2886,
    "start_time": "2023-04-06T16:54:39.953Z"
   },
   {
    "duration": 1277,
    "start_time": "2023-04-06T16:55:25.418Z"
   },
   {
    "duration": 1279,
    "start_time": "2023-04-06T16:57:13.934Z"
   },
   {
    "duration": 489,
    "start_time": "2023-04-06T16:57:24.604Z"
   },
   {
    "duration": 518,
    "start_time": "2023-04-06T16:57:39.701Z"
   },
   {
    "duration": 1260,
    "start_time": "2023-04-06T16:57:44.580Z"
   },
   {
    "duration": 1321,
    "start_time": "2023-04-06T16:57:59.767Z"
   },
   {
    "duration": 1284,
    "start_time": "2023-04-06T16:59:16.102Z"
   },
   {
    "duration": 1291,
    "start_time": "2023-04-06T16:59:30.903Z"
   },
   {
    "duration": 4163732,
    "start_time": "2023-04-06T17:00:52.156Z"
   },
   {
    "duration": 2348,
    "start_time": "2023-04-06T18:10:31.342Z"
   },
   {
    "duration": 1432,
    "start_time": "2023-04-06T18:10:42.899Z"
   },
   {
    "duration": 872449,
    "start_time": "2023-04-06T18:10:54.455Z"
   },
   {
    "duration": 3013,
    "start_time": "2023-04-06T18:28:02.648Z"
   },
   {
    "duration": 2774,
    "start_time": "2023-04-06T18:29:17.484Z"
   },
   {
    "duration": 848,
    "start_time": "2023-04-06T18:29:22.409Z"
   },
   {
    "duration": 2789,
    "start_time": "2023-04-06T18:29:34.945Z"
   },
   {
    "duration": 2835,
    "start_time": "2023-04-06T18:29:38.716Z"
   },
   {
    "duration": 87,
    "start_time": "2023-04-06T18:29:43.961Z"
   },
   {
    "duration": 2909,
    "start_time": "2023-04-06T18:29:46.587Z"
   },
   {
    "duration": 3121,
    "start_time": "2023-04-06T18:29:52.111Z"
   },
   {
    "duration": 3019,
    "start_time": "2023-04-06T18:29:59.063Z"
   },
   {
    "duration": 2894,
    "start_time": "2023-04-06T18:30:05.309Z"
   },
   {
    "duration": 3104,
    "start_time": "2023-04-06T18:30:12.185Z"
   },
   {
    "duration": 3012,
    "start_time": "2023-04-06T18:30:17.488Z"
   },
   {
    "duration": 3065,
    "start_time": "2023-04-06T18:30:25.260Z"
   },
   {
    "duration": 3142,
    "start_time": "2023-04-06T18:30:31.619Z"
   },
   {
    "duration": 3185,
    "start_time": "2023-04-06T18:30:38.760Z"
   },
   {
    "duration": 3140,
    "start_time": "2023-04-06T18:30:45.987Z"
   },
   {
    "duration": 3336,
    "start_time": "2023-04-06T18:30:52.385Z"
   },
   {
    "duration": 31036,
    "start_time": "2023-04-06T18:31:02.288Z"
   },
   {
    "duration": 6687,
    "start_time": "2023-04-06T18:31:39.335Z"
   },
   {
    "duration": 1358,
    "start_time": "2023-04-06T18:32:17.510Z"
   },
   {
    "duration": 3197,
    "start_time": "2023-04-06T18:32:36.709Z"
   },
   {
    "duration": 336,
    "start_time": "2023-04-06T18:36:25.558Z"
   },
   {
    "duration": 188,
    "start_time": "2023-04-06T18:37:21.245Z"
   },
   {
    "duration": 183,
    "start_time": "2023-04-06T18:38:29.504Z"
   },
   {
    "duration": 280,
    "start_time": "2023-04-06T18:41:51.206Z"
   },
   {
    "duration": 4474,
    "start_time": "2023-04-07T13:16:30.789Z"
   },
   {
    "duration": 178,
    "start_time": "2023-04-07T13:16:35.265Z"
   },
   {
    "duration": 20,
    "start_time": "2023-04-07T13:16:35.445Z"
   },
   {
    "duration": 28,
    "start_time": "2023-04-07T13:16:35.467Z"
   },
   {
    "duration": 62,
    "start_time": "2023-04-07T13:16:35.498Z"
   },
   {
    "duration": 42,
    "start_time": "2023-04-07T13:16:35.562Z"
   },
   {
    "duration": 68,
    "start_time": "2023-04-07T13:16:35.606Z"
   },
   {
    "duration": 30,
    "start_time": "2023-04-07T13:16:35.677Z"
   },
   {
    "duration": 45,
    "start_time": "2023-04-07T13:16:35.709Z"
   },
   {
    "duration": 7,
    "start_time": "2023-04-07T13:16:35.756Z"
   },
   {
    "duration": 11,
    "start_time": "2023-04-07T13:16:35.765Z"
   },
   {
    "duration": 456,
    "start_time": "2023-04-07T13:16:35.779Z"
   },
   {
    "duration": 26,
    "start_time": "2023-04-07T13:16:36.237Z"
   },
   {
    "duration": 1091,
    "start_time": "2023-04-07T15:21:01.931Z"
   },
   {
    "duration": 13,
    "start_time": "2023-04-07T15:22:01.992Z"
   },
   {
    "duration": 774,
    "start_time": "2023-04-07T15:22:07.606Z"
   },
   {
    "duration": 1223,
    "start_time": "2023-04-07T15:23:44.594Z"
   },
   {
    "duration": 4117,
    "start_time": "2023-04-07T15:24:25.953Z"
   },
   {
    "duration": 100,
    "start_time": "2023-04-07T15:24:55.676Z"
   },
   {
    "duration": 56,
    "start_time": "2023-04-07T15:25:50.073Z"
   },
   {
    "duration": 78,
    "start_time": "2023-04-07T15:26:00.621Z"
   },
   {
    "duration": 19,
    "start_time": "2023-04-07T15:26:01.352Z"
   },
   {
    "duration": 14,
    "start_time": "2023-04-07T15:26:03.219Z"
   },
   {
    "duration": 51,
    "start_time": "2023-04-07T15:26:04.041Z"
   },
   {
    "duration": 7,
    "start_time": "2023-04-07T15:26:04.664Z"
   },
   {
    "duration": 5,
    "start_time": "2023-04-07T15:26:05.787Z"
   },
   {
    "duration": 16,
    "start_time": "2023-04-07T15:26:06.426Z"
   },
   {
    "duration": 50,
    "start_time": "2023-04-07T15:26:06.749Z"
   },
   {
    "duration": 8,
    "start_time": "2023-04-07T15:26:07.339Z"
   },
   {
    "duration": 8278,
    "start_time": "2023-04-07T15:26:10.561Z"
   },
   {
    "duration": 7769,
    "start_time": "2023-04-07T15:27:41.162Z"
   },
   {
    "duration": 8478,
    "start_time": "2023-04-07T15:29:46.095Z"
   },
   {
    "duration": 8224,
    "start_time": "2023-04-07T15:30:48.157Z"
   },
   {
    "duration": 15354,
    "start_time": "2023-04-07T15:32:21.807Z"
   },
   {
    "duration": 2439,
    "start_time": "2023-04-07T15:33:34.356Z"
   },
   {
    "duration": 436,
    "start_time": "2023-04-07T15:34:57.574Z"
   },
   {
    "duration": 2665,
    "start_time": "2023-04-07T15:35:02.709Z"
   },
   {
    "duration": 225,
    "start_time": "2023-04-07T15:35:31.006Z"
   },
   {
    "duration": 59237,
    "start_time": "2023-04-07T15:36:17.383Z"
   },
   {
    "duration": 3825,
    "start_time": "2023-04-07T15:40:52.144Z"
   },
   {
    "duration": 42,
    "start_time": "2023-04-07T15:41:00.842Z"
   },
   {
    "duration": 14,
    "start_time": "2023-04-07T15:41:01.168Z"
   },
   {
    "duration": 15,
    "start_time": "2023-04-07T15:41:01.485Z"
   },
   {
    "duration": 46,
    "start_time": "2023-04-07T15:41:03.807Z"
   },
   {
    "duration": 7,
    "start_time": "2023-04-07T15:41:06.330Z"
   },
   {
    "duration": 61411,
    "start_time": "2023-04-07T15:41:08.354Z"
   },
   {
    "duration": 4,
    "start_time": "2023-04-07T15:42:42.394Z"
   },
   {
    "duration": 5,
    "start_time": "2023-04-07T15:43:21.986Z"
   },
   {
    "duration": 20104,
    "start_time": "2023-04-07T15:43:37.045Z"
   },
   {
    "duration": 4,
    "start_time": "2023-04-07T15:44:56.383Z"
   },
   {
    "duration": 5,
    "start_time": "2023-04-07T15:45:35.235Z"
   },
   {
    "duration": 13,
    "start_time": "2023-04-07T15:45:35.979Z"
   },
   {
    "duration": 49,
    "start_time": "2023-04-07T15:45:36.940Z"
   },
   {
    "duration": 8,
    "start_time": "2023-04-07T15:45:39.021Z"
   },
   {
    "duration": 58274,
    "start_time": "2023-04-07T15:45:47.903Z"
   },
   {
    "duration": 5,
    "start_time": "2023-04-07T15:53:49.588Z"
   },
   {
    "duration": 14,
    "start_time": "2023-04-07T15:54:09.074Z"
   },
   {
    "duration": 18,
    "start_time": "2023-04-07T15:56:20.270Z"
   },
   {
    "duration": 6,
    "start_time": "2023-04-07T15:56:29.695Z"
   },
   {
    "duration": 5,
    "start_time": "2023-04-07T15:56:48.767Z"
   },
   {
    "duration": 29,
    "start_time": "2023-04-07T15:57:08.036Z"
   },
   {
    "duration": 29,
    "start_time": "2023-04-07T15:57:23.222Z"
   },
   {
    "duration": 6,
    "start_time": "2023-04-07T15:57:44.418Z"
   },
   {
    "duration": 20,
    "start_time": "2023-04-07T15:57:52.435Z"
   },
   {
    "duration": 5,
    "start_time": "2023-04-07T15:58:16.758Z"
   },
   {
    "duration": 55,
    "start_time": "2023-04-07T15:58:16.768Z"
   },
   {
    "duration": 15,
    "start_time": "2023-04-07T15:58:16.827Z"
   },
   {
    "duration": 32,
    "start_time": "2023-04-07T15:58:16.844Z"
   },
   {
    "duration": 53,
    "start_time": "2023-04-07T15:58:16.878Z"
   },
   {
    "duration": 8,
    "start_time": "2023-04-07T15:58:16.933Z"
   },
   {
    "duration": 61533,
    "start_time": "2023-04-07T15:58:17.007Z"
   },
   {
    "duration": 8,
    "start_time": "2023-04-07T15:59:18.543Z"
   },
   {
    "duration": 19,
    "start_time": "2023-04-07T15:59:18.553Z"
   },
   {
    "duration": 81,
    "start_time": "2023-04-07T15:59:18.575Z"
   },
   {
    "duration": 8,
    "start_time": "2023-04-07T15:59:18.658Z"
   },
   {
    "duration": 63203,
    "start_time": "2023-04-07T15:59:18.668Z"
   },
   {
    "duration": 8,
    "start_time": "2023-04-07T16:00:21.875Z"
   },
   {
    "duration": 8,
    "start_time": "2023-04-07T16:00:30.527Z"
   },
   {
    "duration": 13,
    "start_time": "2023-04-07T16:00:32.259Z"
   },
   {
    "duration": 5,
    "start_time": "2023-04-07T17:14:20.637Z"
   },
   {
    "duration": 77,
    "start_time": "2023-04-07T17:23:30.903Z"
   },
   {
    "duration": 18,
    "start_time": "2023-04-07T17:23:52.146Z"
   },
   {
    "duration": 64,
    "start_time": "2023-04-07T17:24:04.328Z"
   },
   {
    "duration": 18,
    "start_time": "2023-04-07T17:24:20.247Z"
   },
   {
    "duration": 439,
    "start_time": "2023-04-07T17:24:34.199Z"
   },
   {
    "duration": 430,
    "start_time": "2023-04-07T17:25:33.011Z"
   },
   {
    "duration": 422,
    "start_time": "2023-04-07T17:26:36.412Z"
   },
   {
    "duration": 239,
    "start_time": "2023-04-07T17:30:29.883Z"
   },
   {
    "duration": 26,
    "start_time": "2023-04-07T17:30:48.827Z"
   },
   {
    "duration": 244,
    "start_time": "2023-04-07T17:31:15.765Z"
   },
   {
    "duration": 10,
    "start_time": "2023-04-07T17:32:08.673Z"
   },
   {
    "duration": 12,
    "start_time": "2023-04-07T17:32:16.915Z"
   },
   {
    "duration": 11,
    "start_time": "2023-04-07T17:34:04.167Z"
   },
   {
    "duration": 252,
    "start_time": "2023-04-07T17:37:04.070Z"
   },
   {
    "duration": 4,
    "start_time": "2023-04-07T17:37:07.809Z"
   },
   {
    "duration": 14,
    "start_time": "2023-04-07T17:38:58.172Z"
   },
   {
    "duration": 16,
    "start_time": "2023-04-07T17:39:00.433Z"
   },
   {
    "duration": 16,
    "start_time": "2023-04-07T17:39:55.395Z"
   },
   {
    "duration": 11,
    "start_time": "2023-04-07T17:40:38.541Z"
   },
   {
    "duration": 14,
    "start_time": "2023-04-07T17:40:40.697Z"
   },
   {
    "duration": 14,
    "start_time": "2023-04-07T17:40:56.492Z"
   },
   {
    "duration": 10,
    "start_time": "2023-04-07T17:41:27.288Z"
   },
   {
    "duration": 14,
    "start_time": "2023-04-07T17:41:27.875Z"
   },
   {
    "duration": 12,
    "start_time": "2023-04-07T17:42:02.728Z"
   },
   {
    "duration": 12,
    "start_time": "2023-04-07T17:42:04.393Z"
   },
   {
    "duration": 15,
    "start_time": "2023-04-07T17:42:05.059Z"
   },
   {
    "duration": 15,
    "start_time": "2023-04-07T17:51:26.430Z"
   },
   {
    "duration": 227,
    "start_time": "2023-04-07T17:51:31.123Z"
   },
   {
    "duration": 10,
    "start_time": "2023-04-07T17:53:56.090Z"
   },
   {
    "duration": 9,
    "start_time": "2023-04-07T17:56:36.203Z"
   },
   {
    "duration": 5,
    "start_time": "2023-04-07T17:56:40.657Z"
   },
   {
    "duration": 11,
    "start_time": "2023-04-07T17:57:39.944Z"
   },
   {
    "duration": 17,
    "start_time": "2023-04-07T17:57:41.318Z"
   },
   {
    "duration": 12,
    "start_time": "2023-04-07T17:58:27.770Z"
   },
   {
    "duration": 198,
    "start_time": "2023-04-07T17:59:17.246Z"
   },
   {
    "duration": 5,
    "start_time": "2023-04-07T17:59:43.331Z"
   },
   {
    "duration": 12,
    "start_time": "2023-04-07T17:59:46.933Z"
   },
   {
    "duration": 10,
    "start_time": "2023-04-07T17:59:53.073Z"
   },
   {
    "duration": 15,
    "start_time": "2023-04-07T18:00:07.897Z"
   },
   {
    "duration": 10,
    "start_time": "2023-04-07T18:00:10.251Z"
   },
   {
    "duration": 20,
    "start_time": "2023-04-07T18:00:13.011Z"
   },
   {
    "duration": 1634,
    "start_time": "2023-04-07T18:00:32.036Z"
   },
   {
    "duration": 85829,
    "start_time": "2023-04-07T18:00:49.211Z"
   },
   {
    "duration": 13,
    "start_time": "2023-04-07T18:04:45.495Z"
   },
   {
    "duration": 6,
    "start_time": "2023-04-07T18:04:55.997Z"
   },
   {
    "duration": 22,
    "start_time": "2023-04-07T18:05:09.209Z"
   },
   {
    "duration": 20,
    "start_time": "2023-04-07T18:05:13.200Z"
   },
   {
    "duration": 1587,
    "start_time": "2023-04-07T18:05:21.461Z"
   },
   {
    "duration": 84491,
    "start_time": "2023-04-07T18:05:30.986Z"
   },
   {
    "duration": 16,
    "start_time": "2023-04-07T18:08:04.113Z"
   },
   {
    "duration": 26,
    "start_time": "2023-04-07T18:08:24.265Z"
   },
   {
    "duration": 17,
    "start_time": "2023-04-07T18:09:13.520Z"
   },
   {
    "duration": 21,
    "start_time": "2023-04-07T18:09:26.007Z"
   },
   {
    "duration": 6,
    "start_time": "2023-04-07T18:09:37.864Z"
   },
   {
    "duration": 14,
    "start_time": "2023-04-07T18:10:26.059Z"
   },
   {
    "duration": 19,
    "start_time": "2023-04-07T18:11:52.136Z"
   },
   {
    "duration": 15,
    "start_time": "2023-04-07T18:12:11.196Z"
   },
   {
    "duration": 6,
    "start_time": "2023-04-07T18:12:21.178Z"
   },
   {
    "duration": 67,
    "start_time": "2023-04-07T18:12:36.542Z"
   },
   {
    "duration": 1007,
    "start_time": "2023-04-07T18:12:50.292Z"
   },
   {
    "duration": 114831,
    "start_time": "2023-04-07T18:12:58.574Z"
   },
   {
    "duration": 17,
    "start_time": "2023-04-07T18:15:56.847Z"
   },
   {
    "duration": 17,
    "start_time": "2023-04-07T18:15:59.860Z"
   },
   {
    "duration": 20,
    "start_time": "2023-04-07T18:16:22.075Z"
   },
   {
    "duration": 413,
    "start_time": "2023-04-07T18:16:33.036Z"
   },
   {
    "duration": 47228,
    "start_time": "2023-04-07T18:16:40.929Z"
   },
   {
    "duration": 20,
    "start_time": "2023-04-07T18:21:19.327Z"
   },
   {
    "duration": 14,
    "start_time": "2023-04-07T18:21:46.232Z"
   },
   {
    "duration": 10,
    "start_time": "2023-04-07T18:21:48.858Z"
   },
   {
    "duration": 284,
    "start_time": "2023-04-07T18:21:54.306Z"
   },
   {
    "duration": 21,
    "start_time": "2023-04-07T18:22:37.471Z"
   },
   {
    "duration": 1499,
    "start_time": "2023-04-07T18:22:39.112Z"
   },
   {
    "duration": 84347,
    "start_time": "2023-04-07T18:23:06.058Z"
   },
   {
    "duration": 299,
    "start_time": "2023-04-07T18:25:48.828Z"
   },
   {
    "duration": 378,
    "start_time": "2023-04-07T18:26:18.883Z"
   },
   {
    "duration": 362,
    "start_time": "2023-04-07T18:26:23.911Z"
   },
   {
    "duration": 735,
    "start_time": "2023-04-07T18:26:29.578Z"
   },
   {
    "duration": 19085,
    "start_time": "2023-04-07T18:26:55.042Z"
   },
   {
    "duration": 84301,
    "start_time": "2023-04-07T18:27:59.602Z"
   },
   {
    "duration": 83092,
    "start_time": "2023-04-07T18:29:45.447Z"
   },
   {
    "duration": 15,
    "start_time": "2023-04-07T18:33:04.999Z"
   },
   {
    "duration": 19,
    "start_time": "2023-04-07T18:34:03.773Z"
   },
   {
    "duration": 306,
    "start_time": "2023-04-07T18:34:39.870Z"
   },
   {
    "duration": 109680,
    "start_time": "2023-04-07T18:35:15.474Z"
   },
   {
    "duration": 86275,
    "start_time": "2023-04-07T18:37:08.381Z"
   },
   {
    "duration": 305,
    "start_time": "2023-04-07T18:38:54.966Z"
   },
   {
    "duration": 307,
    "start_time": "2023-04-07T18:38:59.037Z"
   },
   {
    "duration": 306,
    "start_time": "2023-04-07T18:39:02.582Z"
   },
   {
    "duration": 310,
    "start_time": "2023-04-07T18:39:05.707Z"
   },
   {
    "duration": 339,
    "start_time": "2023-04-07T18:39:12.590Z"
   },
   {
    "duration": 290,
    "start_time": "2023-04-07T18:39:17.392Z"
   },
   {
    "duration": 314,
    "start_time": "2023-04-07T18:39:30.349Z"
   },
   {
    "duration": 253,
    "start_time": "2023-04-07T18:39:44.436Z"
   },
   {
    "duration": 269,
    "start_time": "2023-04-07T18:39:46.922Z"
   },
   {
    "duration": 252,
    "start_time": "2023-04-07T18:39:48.855Z"
   },
   {
    "duration": 260,
    "start_time": "2023-04-07T18:39:54.486Z"
   },
   {
    "duration": 264,
    "start_time": "2023-04-07T18:39:57.869Z"
   },
   {
    "duration": 2527,
    "start_time": "2023-04-07T18:40:01.351Z"
   },
   {
    "duration": 332,
    "start_time": "2023-04-07T18:40:21.910Z"
   },
   {
    "duration": 251,
    "start_time": "2023-04-07T18:44:47.541Z"
   },
   {
    "duration": 3674,
    "start_time": "2023-04-07T18:45:03.564Z"
   },
   {
    "duration": 29787,
    "start_time": "2023-04-07T18:45:19.133Z"
   },
   {
    "duration": 0,
    "start_time": "2023-04-07T18:45:48.922Z"
   },
   {
    "duration": 5578,
    "start_time": "2023-04-07T18:45:51.373Z"
   },
   {
    "duration": 314,
    "start_time": "2023-04-07T18:46:07.966Z"
   },
   {
    "duration": 672636,
    "start_time": "2023-04-07T18:46:38.485Z"
   },
   {
    "duration": 14,
    "start_time": "2023-04-07T18:58:28.693Z"
   },
   {
    "duration": 28,
    "start_time": "2023-04-07T18:58:37.073Z"
   },
   {
    "duration": 4,
    "start_time": "2023-04-07T18:58:40.906Z"
   },
   {
    "duration": 5,
    "start_time": "2023-04-07T18:58:50.196Z"
   },
   {
    "duration": 5,
    "start_time": "2023-04-07T18:59:35.941Z"
   },
   {
    "duration": 5,
    "start_time": "2023-04-07T18:59:41.163Z"
   },
   {
    "duration": 5,
    "start_time": "2023-04-07T18:59:45.919Z"
   },
   {
    "duration": 40,
    "start_time": "2023-04-07T18:59:56.271Z"
   },
   {
    "duration": 1678,
    "start_time": "2023-04-07T19:01:15.840Z"
   },
   {
    "duration": 90580,
    "start_time": "2023-04-07T19:01:45.561Z"
   },
   {
    "duration": 22,
    "start_time": "2023-04-07T19:04:47.135Z"
   },
   {
    "duration": 1677,
    "start_time": "2023-04-07T19:04:56.639Z"
   },
   {
    "duration": 90114,
    "start_time": "2023-04-07T19:05:02.083Z"
   },
   {
    "duration": 16,
    "start_time": "2023-04-07T19:06:50.975Z"
   },
   {
    "duration": 6,
    "start_time": "2023-04-07T19:06:53.344Z"
   },
   {
    "duration": 26,
    "start_time": "2023-04-07T19:06:59.442Z"
   },
   {
    "duration": 1068,
    "start_time": "2023-04-07T19:07:04.807Z"
   },
   {
    "duration": 123632,
    "start_time": "2023-04-07T19:07:18.843Z"
   },
   {
    "duration": 16,
    "start_time": "2023-04-07T19:09:39.175Z"
   },
   {
    "duration": 6,
    "start_time": "2023-04-07T19:09:43.127Z"
   },
   {
    "duration": 82,
    "start_time": "2023-04-07T19:09:45.022Z"
   },
   {
    "duration": 501,
    "start_time": "2023-04-07T19:09:47.697Z"
   },
   {
    "duration": 54415,
    "start_time": "2023-04-07T19:09:51.516Z"
   },
   {
    "duration": 324,
    "start_time": "2023-04-07T19:11:23.612Z"
   },
   {
    "duration": 310,
    "start_time": "2023-04-07T19:11:58.511Z"
   },
   {
    "duration": 377,
    "start_time": "2023-04-07T19:12:30.248Z"
   },
   {
    "duration": 0,
    "start_time": "2023-04-07T19:29:07.172Z"
   },
   {
    "duration": 1,
    "start_time": "2023-04-07T19:29:07.173Z"
   },
   {
    "duration": 3011,
    "start_time": "2023-04-07T19:29:10.527Z"
   },
   {
    "duration": 11867,
    "start_time": "2023-04-07T19:29:19.766Z"
   },
   {
    "duration": 17999,
    "start_time": "2023-04-07T19:30:09.721Z"
   },
   {
    "duration": 24121,
    "start_time": "2023-04-07T19:30:36.158Z"
   },
   {
    "duration": 155022,
    "start_time": "2023-04-07T19:31:11.210Z"
   },
   {
    "duration": 337,
    "start_time": "2023-04-07T19:33:47.924Z"
   },
   {
    "duration": 1573440,
    "start_time": "2023-04-07T19:33:58.646Z"
   },
   {
    "duration": 979,
    "start_time": "2023-04-07T20:02:35.619Z"
   },
   {
    "duration": 1012,
    "start_time": "2023-04-07T20:02:45.436Z"
   },
   {
    "duration": 987,
    "start_time": "2023-04-07T20:02:54.303Z"
   },
   {
    "duration": 6517,
    "start_time": "2023-04-07T20:03:01.139Z"
   },
   {
    "duration": 6036,
    "start_time": "2023-04-07T20:06:09.651Z"
   },
   {
    "duration": 958,
    "start_time": "2023-04-07T20:06:55.219Z"
   },
   {
    "duration": 986,
    "start_time": "2023-04-07T20:07:01.326Z"
   },
   {
    "duration": 220,
    "start_time": "2023-04-07T20:07:41.962Z"
   },
   {
    "duration": 181,
    "start_time": "2023-04-07T20:09:51.608Z"
   },
   {
    "duration": 222,
    "start_time": "2023-04-07T20:41:47.608Z"
   },
   {
    "duration": 174,
    "start_time": "2023-04-07T20:41:59.148Z"
   },
   {
    "duration": 212,
    "start_time": "2023-04-07T20:42:36.986Z"
   },
   {
    "duration": 5,
    "start_time": "2023-04-07T20:43:05.046Z"
   },
   {
    "duration": 5,
    "start_time": "2023-04-07T20:43:17.235Z"
   },
   {
    "duration": 14,
    "start_time": "2023-04-07T21:26:48.750Z"
   },
   {
    "duration": 14,
    "start_time": "2023-04-07T21:27:12.747Z"
   },
   {
    "duration": 167,
    "start_time": "2023-04-07T21:28:13.207Z"
   },
   {
    "duration": 212,
    "start_time": "2023-04-07T21:29:41.751Z"
   },
   {
    "duration": 172,
    "start_time": "2023-04-07T21:29:53.159Z"
   },
   {
    "duration": 732,
    "start_time": "2023-04-07T21:34:15.660Z"
   },
   {
    "duration": 20,
    "start_time": "2023-04-07T21:35:44.247Z"
   },
   {
    "duration": 7,
    "start_time": "2023-04-07T21:37:14.105Z"
   }
  ],
  "kernelspec": {
   "display_name": "Python 3 (ipykernel)",
   "language": "python",
   "name": "python3"
  },
  "language_info": {
   "codemirror_mode": {
    "name": "ipython",
    "version": 3
   },
   "file_extension": ".py",
   "mimetype": "text/x-python",
   "name": "python",
   "nbconvert_exporter": "python",
   "pygments_lexer": "ipython3",
   "version": "3.11.3"
  },
  "toc": {
   "base_numbering": 1,
   "nav_menu": {},
   "number_sections": true,
   "sideBar": true,
   "skip_h1_title": true,
   "title_cell": "Содержание",
   "title_sidebar": "Contents",
   "toc_cell": true,
   "toc_position": {},
   "toc_section_display": true,
   "toc_window_display": false
  }
 },
 "nbformat": 4,
 "nbformat_minor": 2
}
