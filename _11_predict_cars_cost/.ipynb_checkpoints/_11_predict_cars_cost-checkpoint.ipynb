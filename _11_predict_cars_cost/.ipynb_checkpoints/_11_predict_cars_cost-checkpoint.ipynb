{
 "cells": [
  {
   "cell_type": "markdown",
   "metadata": {},
   "source": [
    "# Определение стоимости автомобилей"
   ]
  },
  {
   "cell_type": "markdown",
   "metadata": {},
   "source": [
    "Сервис по продаже автомобилей с пробегом «Не бит, не крашен» разрабатывает приложение для привлечения новых клиентов. В нём можно быстро узнать рыночную стоимость своего автомобиля. В вашем распоряжении исторические данные: технические характеристики, комплектации и цены автомобилей. Вам нужно построить модель для определения стоимости. \n",
    "\n",
    "Заказчику важны:\n",
    "\n",
    "- качество предсказания;\n",
    "- скорость предсказания;\n",
    "- время обучения."
   ]
  },
  {
   "cell_type": "markdown",
   "metadata": {},
   "source": [
    "## Подготовка данных"
   ]
  },
  {
   "cell_type": "code",
   "execution_count": 94,
   "metadata": {},
   "outputs": [],
   "source": [
    "import warnings\n",
    "import time\n",
    "\n",
    "import pandas as pd\n",
    "import numpy as np\n",
    "\n",
    "from lightgbm import LGBMRegressor\n",
    "from catboost import CatBoostRegressor\n",
    "from sklearn.linear_model import LinearRegression\n",
    "from sklearn.pipeline import Pipeline\n",
    "from sklearn.model_selection import cross_val_score\n",
    "from sklearn.model_selection import train_test_split\n",
    "from sklearn.metrics import mean_squared_error\n",
    "from sklearn.model_selection import GridSearchCV\n",
    "from sklearn.preprocessing import OrdinalEncoder\n",
    "from sklearn.preprocessing import StandardScaler"
   ]
  },
  {
   "cell_type": "code",
   "execution_count": 95,
   "metadata": {},
   "outputs": [],
   "source": [
    "warnings.filterwarnings('ignore')"
   ]
  },
  {
   "cell_type": "code",
   "execution_count": 96,
   "metadata": {},
   "outputs": [],
   "source": [
    "data = pd.read_csv('/datasets/autos.csv')"
   ]
  },
  {
   "cell_type": "code",
   "execution_count": 97,
   "metadata": {},
   "outputs": [],
   "source": [
    "df = data.copy()"
   ]
  },
  {
   "cell_type": "code",
   "execution_count": 98,
   "metadata": {},
   "outputs": [
    {
     "data": {
      "text/html": [
       "<div>\n",
       "<style scoped>\n",
       "    .dataframe tbody tr th:only-of-type {\n",
       "        vertical-align: middle;\n",
       "    }\n",
       "\n",
       "    .dataframe tbody tr th {\n",
       "        vertical-align: top;\n",
       "    }\n",
       "\n",
       "    .dataframe thead th {\n",
       "        text-align: right;\n",
       "    }\n",
       "</style>\n",
       "<table border=\"1\" class=\"dataframe\">\n",
       "  <thead>\n",
       "    <tr style=\"text-align: right;\">\n",
       "      <th></th>\n",
       "      <th>DateCrawled</th>\n",
       "      <th>Price</th>\n",
       "      <th>VehicleType</th>\n",
       "      <th>RegistrationYear</th>\n",
       "      <th>Gearbox</th>\n",
       "      <th>Power</th>\n",
       "      <th>Model</th>\n",
       "      <th>Kilometer</th>\n",
       "      <th>RegistrationMonth</th>\n",
       "      <th>FuelType</th>\n",
       "      <th>Brand</th>\n",
       "      <th>Repaired</th>\n",
       "      <th>DateCreated</th>\n",
       "      <th>NumberOfPictures</th>\n",
       "      <th>PostalCode</th>\n",
       "      <th>LastSeen</th>\n",
       "    </tr>\n",
       "  </thead>\n",
       "  <tbody>\n",
       "    <tr>\n",
       "      <th>0</th>\n",
       "      <td>2016-03-24 11:52:17</td>\n",
       "      <td>480</td>\n",
       "      <td>NaN</td>\n",
       "      <td>1993</td>\n",
       "      <td>manual</td>\n",
       "      <td>0</td>\n",
       "      <td>golf</td>\n",
       "      <td>150000</td>\n",
       "      <td>0</td>\n",
       "      <td>petrol</td>\n",
       "      <td>volkswagen</td>\n",
       "      <td>NaN</td>\n",
       "      <td>2016-03-24 00:00:00</td>\n",
       "      <td>0</td>\n",
       "      <td>70435</td>\n",
       "      <td>2016-04-07 03:16:57</td>\n",
       "    </tr>\n",
       "    <tr>\n",
       "      <th>1</th>\n",
       "      <td>2016-03-24 10:58:45</td>\n",
       "      <td>18300</td>\n",
       "      <td>coupe</td>\n",
       "      <td>2011</td>\n",
       "      <td>manual</td>\n",
       "      <td>190</td>\n",
       "      <td>NaN</td>\n",
       "      <td>125000</td>\n",
       "      <td>5</td>\n",
       "      <td>gasoline</td>\n",
       "      <td>audi</td>\n",
       "      <td>yes</td>\n",
       "      <td>2016-03-24 00:00:00</td>\n",
       "      <td>0</td>\n",
       "      <td>66954</td>\n",
       "      <td>2016-04-07 01:46:50</td>\n",
       "    </tr>\n",
       "    <tr>\n",
       "      <th>2</th>\n",
       "      <td>2016-03-14 12:52:21</td>\n",
       "      <td>9800</td>\n",
       "      <td>suv</td>\n",
       "      <td>2004</td>\n",
       "      <td>auto</td>\n",
       "      <td>163</td>\n",
       "      <td>grand</td>\n",
       "      <td>125000</td>\n",
       "      <td>8</td>\n",
       "      <td>gasoline</td>\n",
       "      <td>jeep</td>\n",
       "      <td>NaN</td>\n",
       "      <td>2016-03-14 00:00:00</td>\n",
       "      <td>0</td>\n",
       "      <td>90480</td>\n",
       "      <td>2016-04-05 12:47:46</td>\n",
       "    </tr>\n",
       "    <tr>\n",
       "      <th>3</th>\n",
       "      <td>2016-03-17 16:54:04</td>\n",
       "      <td>1500</td>\n",
       "      <td>small</td>\n",
       "      <td>2001</td>\n",
       "      <td>manual</td>\n",
       "      <td>75</td>\n",
       "      <td>golf</td>\n",
       "      <td>150000</td>\n",
       "      <td>6</td>\n",
       "      <td>petrol</td>\n",
       "      <td>volkswagen</td>\n",
       "      <td>no</td>\n",
       "      <td>2016-03-17 00:00:00</td>\n",
       "      <td>0</td>\n",
       "      <td>91074</td>\n",
       "      <td>2016-03-17 17:40:17</td>\n",
       "    </tr>\n",
       "    <tr>\n",
       "      <th>4</th>\n",
       "      <td>2016-03-31 17:25:20</td>\n",
       "      <td>3600</td>\n",
       "      <td>small</td>\n",
       "      <td>2008</td>\n",
       "      <td>manual</td>\n",
       "      <td>69</td>\n",
       "      <td>fabia</td>\n",
       "      <td>90000</td>\n",
       "      <td>7</td>\n",
       "      <td>gasoline</td>\n",
       "      <td>skoda</td>\n",
       "      <td>no</td>\n",
       "      <td>2016-03-31 00:00:00</td>\n",
       "      <td>0</td>\n",
       "      <td>60437</td>\n",
       "      <td>2016-04-06 10:17:21</td>\n",
       "    </tr>\n",
       "  </tbody>\n",
       "</table>\n",
       "</div>"
      ],
      "text/plain": [
       "           DateCrawled  Price VehicleType  RegistrationYear Gearbox  Power  \\\n",
       "0  2016-03-24 11:52:17    480         NaN              1993  manual      0   \n",
       "1  2016-03-24 10:58:45  18300       coupe              2011  manual    190   \n",
       "2  2016-03-14 12:52:21   9800         suv              2004    auto    163   \n",
       "3  2016-03-17 16:54:04   1500       small              2001  manual     75   \n",
       "4  2016-03-31 17:25:20   3600       small              2008  manual     69   \n",
       "\n",
       "   Model  Kilometer  RegistrationMonth  FuelType       Brand Repaired  \\\n",
       "0   golf     150000                  0    petrol  volkswagen      NaN   \n",
       "1    NaN     125000                  5  gasoline        audi      yes   \n",
       "2  grand     125000                  8  gasoline        jeep      NaN   \n",
       "3   golf     150000                  6    petrol  volkswagen       no   \n",
       "4  fabia      90000                  7  gasoline       skoda       no   \n",
       "\n",
       "           DateCreated  NumberOfPictures  PostalCode             LastSeen  \n",
       "0  2016-03-24 00:00:00                 0       70435  2016-04-07 03:16:57  \n",
       "1  2016-03-24 00:00:00                 0       66954  2016-04-07 01:46:50  \n",
       "2  2016-03-14 00:00:00                 0       90480  2016-04-05 12:47:46  \n",
       "3  2016-03-17 00:00:00                 0       91074  2016-03-17 17:40:17  \n",
       "4  2016-03-31 00:00:00                 0       60437  2016-04-06 10:17:21  "
      ]
     },
     "execution_count": 98,
     "metadata": {},
     "output_type": "execute_result"
    }
   ],
   "source": [
    "df.head()"
   ]
  },
  {
   "cell_type": "code",
   "execution_count": 99,
   "metadata": {},
   "outputs": [
    {
     "name": "stdout",
     "output_type": "stream",
     "text": [
      "<class 'pandas.core.frame.DataFrame'>\n",
      "RangeIndex: 354369 entries, 0 to 354368\n",
      "Data columns (total 16 columns):\n",
      " #   Column             Non-Null Count   Dtype \n",
      "---  ------             --------------   ----- \n",
      " 0   DateCrawled        354369 non-null  object\n",
      " 1   Price              354369 non-null  int64 \n",
      " 2   VehicleType        316879 non-null  object\n",
      " 3   RegistrationYear   354369 non-null  int64 \n",
      " 4   Gearbox            334536 non-null  object\n",
      " 5   Power              354369 non-null  int64 \n",
      " 6   Model              334664 non-null  object\n",
      " 7   Kilometer          354369 non-null  int64 \n",
      " 8   RegistrationMonth  354369 non-null  int64 \n",
      " 9   FuelType           321474 non-null  object\n",
      " 10  Brand              354369 non-null  object\n",
      " 11  Repaired           283215 non-null  object\n",
      " 12  DateCreated        354369 non-null  object\n",
      " 13  NumberOfPictures   354369 non-null  int64 \n",
      " 14  PostalCode         354369 non-null  int64 \n",
      " 15  LastSeen           354369 non-null  object\n",
      "dtypes: int64(7), object(9)\n",
      "memory usage: 43.3+ MB\n"
     ]
    }
   ],
   "source": [
    "df.info()"
   ]
  },
  {
   "cell_type": "code",
   "execution_count": 100,
   "metadata": {
    "scrolled": true
   },
   "outputs": [
    {
     "data": {
      "text/html": [
       "<div>\n",
       "<style scoped>\n",
       "    .dataframe tbody tr th:only-of-type {\n",
       "        vertical-align: middle;\n",
       "    }\n",
       "\n",
       "    .dataframe tbody tr th {\n",
       "        vertical-align: top;\n",
       "    }\n",
       "\n",
       "    .dataframe thead th {\n",
       "        text-align: right;\n",
       "    }\n",
       "</style>\n",
       "<table border=\"1\" class=\"dataframe\">\n",
       "  <thead>\n",
       "    <tr style=\"text-align: right;\">\n",
       "      <th></th>\n",
       "      <th>Price</th>\n",
       "      <th>RegistrationYear</th>\n",
       "      <th>Power</th>\n",
       "      <th>Kilometer</th>\n",
       "      <th>RegistrationMonth</th>\n",
       "      <th>NumberOfPictures</th>\n",
       "      <th>PostalCode</th>\n",
       "    </tr>\n",
       "  </thead>\n",
       "  <tbody>\n",
       "    <tr>\n",
       "      <th>count</th>\n",
       "      <td>354369.000000</td>\n",
       "      <td>354369.000000</td>\n",
       "      <td>354369.000000</td>\n",
       "      <td>354369.000000</td>\n",
       "      <td>354369.000000</td>\n",
       "      <td>354369.0</td>\n",
       "      <td>354369.000000</td>\n",
       "    </tr>\n",
       "    <tr>\n",
       "      <th>mean</th>\n",
       "      <td>4416.656776</td>\n",
       "      <td>2004.234448</td>\n",
       "      <td>110.094337</td>\n",
       "      <td>128211.172535</td>\n",
       "      <td>5.714645</td>\n",
       "      <td>0.0</td>\n",
       "      <td>50508.689087</td>\n",
       "    </tr>\n",
       "    <tr>\n",
       "      <th>std</th>\n",
       "      <td>4514.158514</td>\n",
       "      <td>90.227958</td>\n",
       "      <td>189.850405</td>\n",
       "      <td>37905.341530</td>\n",
       "      <td>3.726421</td>\n",
       "      <td>0.0</td>\n",
       "      <td>25783.096248</td>\n",
       "    </tr>\n",
       "    <tr>\n",
       "      <th>min</th>\n",
       "      <td>0.000000</td>\n",
       "      <td>1000.000000</td>\n",
       "      <td>0.000000</td>\n",
       "      <td>5000.000000</td>\n",
       "      <td>0.000000</td>\n",
       "      <td>0.0</td>\n",
       "      <td>1067.000000</td>\n",
       "    </tr>\n",
       "    <tr>\n",
       "      <th>25%</th>\n",
       "      <td>1050.000000</td>\n",
       "      <td>1999.000000</td>\n",
       "      <td>69.000000</td>\n",
       "      <td>125000.000000</td>\n",
       "      <td>3.000000</td>\n",
       "      <td>0.0</td>\n",
       "      <td>30165.000000</td>\n",
       "    </tr>\n",
       "    <tr>\n",
       "      <th>50%</th>\n",
       "      <td>2700.000000</td>\n",
       "      <td>2003.000000</td>\n",
       "      <td>105.000000</td>\n",
       "      <td>150000.000000</td>\n",
       "      <td>6.000000</td>\n",
       "      <td>0.0</td>\n",
       "      <td>49413.000000</td>\n",
       "    </tr>\n",
       "    <tr>\n",
       "      <th>75%</th>\n",
       "      <td>6400.000000</td>\n",
       "      <td>2008.000000</td>\n",
       "      <td>143.000000</td>\n",
       "      <td>150000.000000</td>\n",
       "      <td>9.000000</td>\n",
       "      <td>0.0</td>\n",
       "      <td>71083.000000</td>\n",
       "    </tr>\n",
       "    <tr>\n",
       "      <th>max</th>\n",
       "      <td>20000.000000</td>\n",
       "      <td>9999.000000</td>\n",
       "      <td>20000.000000</td>\n",
       "      <td>150000.000000</td>\n",
       "      <td>12.000000</td>\n",
       "      <td>0.0</td>\n",
       "      <td>99998.000000</td>\n",
       "    </tr>\n",
       "  </tbody>\n",
       "</table>\n",
       "</div>"
      ],
      "text/plain": [
       "               Price  RegistrationYear          Power      Kilometer  \\\n",
       "count  354369.000000     354369.000000  354369.000000  354369.000000   \n",
       "mean     4416.656776       2004.234448     110.094337  128211.172535   \n",
       "std      4514.158514         90.227958     189.850405   37905.341530   \n",
       "min         0.000000       1000.000000       0.000000    5000.000000   \n",
       "25%      1050.000000       1999.000000      69.000000  125000.000000   \n",
       "50%      2700.000000       2003.000000     105.000000  150000.000000   \n",
       "75%      6400.000000       2008.000000     143.000000  150000.000000   \n",
       "max     20000.000000       9999.000000   20000.000000  150000.000000   \n",
       "\n",
       "       RegistrationMonth  NumberOfPictures     PostalCode  \n",
       "count      354369.000000          354369.0  354369.000000  \n",
       "mean            5.714645               0.0   50508.689087  \n",
       "std             3.726421               0.0   25783.096248  \n",
       "min             0.000000               0.0    1067.000000  \n",
       "25%             3.000000               0.0   30165.000000  \n",
       "50%             6.000000               0.0   49413.000000  \n",
       "75%             9.000000               0.0   71083.000000  \n",
       "max            12.000000               0.0   99998.000000  "
      ]
     },
     "execution_count": 100,
     "metadata": {},
     "output_type": "execute_result"
    }
   ],
   "source": [
    "df.describe()"
   ]
  },
  {
   "cell_type": "markdown",
   "metadata": {},
   "source": [
    "Видим, что есть объявления с ценой = 0"
   ]
  },
  {
   "cell_type": "code",
   "execution_count": 101,
   "metadata": {},
   "outputs": [
    {
     "data": {
      "image/png": "[encoded data removed]",
      "text/plain": [
       "<Figure size 640x480 with 1 Axes>"
      ]
     },
     "metadata": {},
     "output_type": "display_data"
    }
   ],
   "source": [
    "df.Price.hist(bins=20);"
   ]
  },
  {
   "cell_type": "code",
   "execution_count": 102,
   "metadata": {},
   "outputs": [
    {
     "data": {
      "image/png": "[encoded data removed]",
      "text/plain": [
       "<Figure size 640x480 with 1 Axes>"
      ]
     },
     "metadata": {},
     "output_type": "display_data"
    }
   ],
   "source": [
    "df[df.Price > 6400].Price.hist(bins=20);"
   ]
  },
  {
   "cell_type": "code",
   "execution_count": 103,
   "metadata": {
    "scrolled": false
   },
   "outputs": [
    {
     "data": {
      "image/png": "[encoded data removed]",
      "text/plain": [
       "<Figure size 640x480 with 1 Axes>"
      ]
     },
     "metadata": {},
     "output_type": "display_data"
    }
   ],
   "source": [
    "df[df.Price < 1050].Price.hist(bins=20);"
   ]
  },
  {
   "cell_type": "code",
   "execution_count": 104,
   "metadata": {},
   "outputs": [
    {
     "data": {
      "text/plain": [
       "88057"
      ]
     },
     "execution_count": 104,
     "metadata": {},
     "output_type": "execute_result"
    }
   ],
   "source": [
    "df[df.Price < 1050].Price.count()"
   ]
  },
  {
   "cell_type": "code",
   "execution_count": 105,
   "metadata": {},
   "outputs": [
    {
     "data": {
      "text/plain": [
       "17462"
      ]
     },
     "execution_count": 105,
     "metadata": {},
     "output_type": "execute_result"
    }
   ],
   "source": [
    "df[df.Price < 200].Price.count()"
   ]
  },
  {
   "cell_type": "code",
   "execution_count": 106,
   "metadata": {},
   "outputs": [
    {
     "data": {
      "text/plain": [
       "10772"
      ]
     },
     "execution_count": 106,
     "metadata": {},
     "output_type": "execute_result"
    }
   ],
   "source": [
    "df[df.Price == 0].Price.count()"
   ]
  },
  {
   "cell_type": "markdown",
   "metadata": {},
   "source": [
    "Объявлений с ценой 0-200 немного, из брать в расчет не будем по причине неадекватности цены. Так дешего скорее всего машина стоить не может."
   ]
  },
  {
   "cell_type": "code",
   "execution_count": 107,
   "metadata": {},
   "outputs": [],
   "source": [
    "df = df[df.Price > 200]"
   ]
  },
  {
   "cell_type": "code",
   "execution_count": 108,
   "metadata": {
    "scrolled": true
   },
   "outputs": [
    {
     "data": {
      "text/html": [
       "<div>\n",
       "<style scoped>\n",
       "    .dataframe tbody tr th:only-of-type {\n",
       "        vertical-align: middle;\n",
       "    }\n",
       "\n",
       "    .dataframe tbody tr th {\n",
       "        vertical-align: top;\n",
       "    }\n",
       "\n",
       "    .dataframe thead th {\n",
       "        text-align: right;\n",
       "    }\n",
       "</style>\n",
       "<table border=\"1\" class=\"dataframe\">\n",
       "  <thead>\n",
       "    <tr style=\"text-align: right;\">\n",
       "      <th></th>\n",
       "      <th>Price</th>\n",
       "      <th>RegistrationYear</th>\n",
       "      <th>Power</th>\n",
       "      <th>Kilometer</th>\n",
       "      <th>RegistrationMonth</th>\n",
       "      <th>NumberOfPictures</th>\n",
       "      <th>PostalCode</th>\n",
       "    </tr>\n",
       "  </thead>\n",
       "  <tbody>\n",
       "    <tr>\n",
       "      <th>count</th>\n",
       "      <td>334921.000000</td>\n",
       "      <td>334921.000000</td>\n",
       "      <td>334921.000000</td>\n",
       "      <td>334921.000000</td>\n",
       "      <td>334921.000000</td>\n",
       "      <td>334921.0</td>\n",
       "      <td>334921.000000</td>\n",
       "    </tr>\n",
       "    <tr>\n",
       "      <th>mean</th>\n",
       "      <td>4669.964675</td>\n",
       "      <td>2003.977887</td>\n",
       "      <td>112.413721</td>\n",
       "      <td>128436.601467</td>\n",
       "      <td>5.835051</td>\n",
       "      <td>0.0</td>\n",
       "      <td>50766.078108</td>\n",
       "    </tr>\n",
       "    <tr>\n",
       "      <th>std</th>\n",
       "      <td>4515.682872</td>\n",
       "      <td>67.384097</td>\n",
       "      <td>187.203968</td>\n",
       "      <td>37165.226341</td>\n",
       "      <td>3.675285</td>\n",
       "      <td>0.0</td>\n",
       "      <td>25706.463683</td>\n",
       "    </tr>\n",
       "    <tr>\n",
       "      <th>min</th>\n",
       "      <td>202.000000</td>\n",
       "      <td>1000.000000</td>\n",
       "      <td>0.000000</td>\n",
       "      <td>5000.000000</td>\n",
       "      <td>0.000000</td>\n",
       "      <td>0.0</td>\n",
       "      <td>1067.000000</td>\n",
       "    </tr>\n",
       "    <tr>\n",
       "      <th>25%</th>\n",
       "      <td>1299.000000</td>\n",
       "      <td>1999.000000</td>\n",
       "      <td>72.000000</td>\n",
       "      <td>125000.000000</td>\n",
       "      <td>3.000000</td>\n",
       "      <td>0.0</td>\n",
       "      <td>30519.000000</td>\n",
       "    </tr>\n",
       "    <tr>\n",
       "      <th>50%</th>\n",
       "      <td>2990.000000</td>\n",
       "      <td>2003.000000</td>\n",
       "      <td>105.000000</td>\n",
       "      <td>150000.000000</td>\n",
       "      <td>6.000000</td>\n",
       "      <td>0.0</td>\n",
       "      <td>49593.000000</td>\n",
       "    </tr>\n",
       "    <tr>\n",
       "      <th>75%</th>\n",
       "      <td>6700.000000</td>\n",
       "      <td>2008.000000</td>\n",
       "      <td>143.000000</td>\n",
       "      <td>150000.000000</td>\n",
       "      <td>9.000000</td>\n",
       "      <td>0.0</td>\n",
       "      <td>71263.000000</td>\n",
       "    </tr>\n",
       "    <tr>\n",
       "      <th>max</th>\n",
       "      <td>20000.000000</td>\n",
       "      <td>9999.000000</td>\n",
       "      <td>20000.000000</td>\n",
       "      <td>150000.000000</td>\n",
       "      <td>12.000000</td>\n",
       "      <td>0.0</td>\n",
       "      <td>99998.000000</td>\n",
       "    </tr>\n",
       "  </tbody>\n",
       "</table>\n",
       "</div>"
      ],
      "text/plain": [
       "               Price  RegistrationYear          Power      Kilometer  \\\n",
       "count  334921.000000     334921.000000  334921.000000  334921.000000   \n",
       "mean     4669.964675       2003.977887     112.413721  128436.601467   \n",
       "std      4515.682872         67.384097     187.203968   37165.226341   \n",
       "min       202.000000       1000.000000       0.000000    5000.000000   \n",
       "25%      1299.000000       1999.000000      72.000000  125000.000000   \n",
       "50%      2990.000000       2003.000000     105.000000  150000.000000   \n",
       "75%      6700.000000       2008.000000     143.000000  150000.000000   \n",
       "max     20000.000000       9999.000000   20000.000000  150000.000000   \n",
       "\n",
       "       RegistrationMonth  NumberOfPictures     PostalCode  \n",
       "count      334921.000000          334921.0  334921.000000  \n",
       "mean            5.835051               0.0   50766.078108  \n",
       "std             3.675285               0.0   25706.463683  \n",
       "min             0.000000               0.0    1067.000000  \n",
       "25%             3.000000               0.0   30519.000000  \n",
       "50%             6.000000               0.0   49593.000000  \n",
       "75%             9.000000               0.0   71263.000000  \n",
       "max            12.000000               0.0   99998.000000  "
      ]
     },
     "execution_count": 108,
     "metadata": {},
     "output_type": "execute_result"
    }
   ],
   "source": [
    "df.describe()"
   ]
  },
  {
   "cell_type": "markdown",
   "metadata": {},
   "source": [
    "Есть ошибки в годе регистрации автомобиля `1000`, `9999`.\n",
    "Посмотрим распределение объектов по годам с 1900 по текущий год."
   ]
  },
  {
   "cell_type": "code",
   "execution_count": 109,
   "metadata": {},
   "outputs": [
    {
     "data": {
      "image/png": "[encoded data removed]",
      "text/plain": [
       "<Figure size 640x480 with 1 Axes>"
      ]
     },
     "metadata": {},
     "output_type": "display_data"
    }
   ],
   "source": [
    "df[((df.RegistrationYear > 1900) & (df.RegistrationYear < 2023))].RegistrationYear.hist(bins=30);"
   ]
  },
  {
   "cell_type": "code",
   "execution_count": 110,
   "metadata": {},
   "outputs": [
    {
     "data": {
      "text/plain": [
       "3024"
      ]
     },
     "execution_count": 110,
     "metadata": {},
     "output_type": "execute_result"
    }
   ],
   "source": [
    "df[df.RegistrationYear < 1980].RegistrationYear.count()"
   ]
  },
  {
   "cell_type": "markdown",
   "metadata": {},
   "source": [
    "Так как объявлений с датой регистрации менее 1980 года мало - будем рассматривать период с 1980 по 2023 гг."
   ]
  },
  {
   "cell_type": "code",
   "execution_count": 111,
   "metadata": {},
   "outputs": [],
   "source": [
    "df = df[((df.RegistrationYear > 1980) & (df.RegistrationYear < 2023))]"
   ]
  },
  {
   "cell_type": "code",
   "execution_count": 112,
   "metadata": {},
   "outputs": [
    {
     "data": {
      "text/html": [
       "<div>\n",
       "<style scoped>\n",
       "    .dataframe tbody tr th:only-of-type {\n",
       "        vertical-align: middle;\n",
       "    }\n",
       "\n",
       "    .dataframe tbody tr th {\n",
       "        vertical-align: top;\n",
       "    }\n",
       "\n",
       "    .dataframe thead th {\n",
       "        text-align: right;\n",
       "    }\n",
       "</style>\n",
       "<table border=\"1\" class=\"dataframe\">\n",
       "  <thead>\n",
       "    <tr style=\"text-align: right;\">\n",
       "      <th></th>\n",
       "      <th>Price</th>\n",
       "      <th>RegistrationYear</th>\n",
       "      <th>Power</th>\n",
       "      <th>Kilometer</th>\n",
       "      <th>RegistrationMonth</th>\n",
       "      <th>NumberOfPictures</th>\n",
       "      <th>PostalCode</th>\n",
       "    </tr>\n",
       "  </thead>\n",
       "  <tbody>\n",
       "    <tr>\n",
       "      <th>count</th>\n",
       "      <td>331389.000000</td>\n",
       "      <td>331389.000000</td>\n",
       "      <td>331389.000000</td>\n",
       "      <td>331389.000000</td>\n",
       "      <td>331389.000000</td>\n",
       "      <td>331389.0</td>\n",
       "      <td>331389.000000</td>\n",
       "    </tr>\n",
       "    <tr>\n",
       "      <th>mean</th>\n",
       "      <td>4642.197113</td>\n",
       "      <td>2003.624508</td>\n",
       "      <td>112.773559</td>\n",
       "      <td>128883.909846</td>\n",
       "      <td>5.850568</td>\n",
       "      <td>0.0</td>\n",
       "      <td>50768.657701</td>\n",
       "    </tr>\n",
       "    <tr>\n",
       "      <th>std</th>\n",
       "      <td>4497.086851</td>\n",
       "      <td>6.445665</td>\n",
       "      <td>185.808854</td>\n",
       "      <td>36710.963701</td>\n",
       "      <td>3.673950</td>\n",
       "      <td>0.0</td>\n",
       "      <td>25690.258048</td>\n",
       "    </tr>\n",
       "    <tr>\n",
       "      <th>min</th>\n",
       "      <td>202.000000</td>\n",
       "      <td>1981.000000</td>\n",
       "      <td>0.000000</td>\n",
       "      <td>5000.000000</td>\n",
       "      <td>0.000000</td>\n",
       "      <td>0.0</td>\n",
       "      <td>1067.000000</td>\n",
       "    </tr>\n",
       "    <tr>\n",
       "      <th>25%</th>\n",
       "      <td>1290.000000</td>\n",
       "      <td>1999.000000</td>\n",
       "      <td>75.000000</td>\n",
       "      <td>125000.000000</td>\n",
       "      <td>3.000000</td>\n",
       "      <td>0.0</td>\n",
       "      <td>30519.000000</td>\n",
       "    </tr>\n",
       "    <tr>\n",
       "      <th>50%</th>\n",
       "      <td>2950.000000</td>\n",
       "      <td>2003.000000</td>\n",
       "      <td>105.000000</td>\n",
       "      <td>150000.000000</td>\n",
       "      <td>6.000000</td>\n",
       "      <td>0.0</td>\n",
       "      <td>49593.000000</td>\n",
       "    </tr>\n",
       "    <tr>\n",
       "      <th>75%</th>\n",
       "      <td>6600.000000</td>\n",
       "      <td>2008.000000</td>\n",
       "      <td>143.000000</td>\n",
       "      <td>150000.000000</td>\n",
       "      <td>9.000000</td>\n",
       "      <td>0.0</td>\n",
       "      <td>71254.000000</td>\n",
       "    </tr>\n",
       "    <tr>\n",
       "      <th>max</th>\n",
       "      <td>20000.000000</td>\n",
       "      <td>2019.000000</td>\n",
       "      <td>20000.000000</td>\n",
       "      <td>150000.000000</td>\n",
       "      <td>12.000000</td>\n",
       "      <td>0.0</td>\n",
       "      <td>99998.000000</td>\n",
       "    </tr>\n",
       "  </tbody>\n",
       "</table>\n",
       "</div>"
      ],
      "text/plain": [
       "               Price  RegistrationYear          Power      Kilometer  \\\n",
       "count  331389.000000     331389.000000  331389.000000  331389.000000   \n",
       "mean     4642.197113       2003.624508     112.773559  128883.909846   \n",
       "std      4497.086851          6.445665     185.808854   36710.963701   \n",
       "min       202.000000       1981.000000       0.000000    5000.000000   \n",
       "25%      1290.000000       1999.000000      75.000000  125000.000000   \n",
       "50%      2950.000000       2003.000000     105.000000  150000.000000   \n",
       "75%      6600.000000       2008.000000     143.000000  150000.000000   \n",
       "max     20000.000000       2019.000000   20000.000000  150000.000000   \n",
       "\n",
       "       RegistrationMonth  NumberOfPictures     PostalCode  \n",
       "count      331389.000000          331389.0  331389.000000  \n",
       "mean            5.850568               0.0   50768.657701  \n",
       "std             3.673950               0.0   25690.258048  \n",
       "min             0.000000               0.0    1067.000000  \n",
       "25%             3.000000               0.0   30519.000000  \n",
       "50%             6.000000               0.0   49593.000000  \n",
       "75%             9.000000               0.0   71254.000000  \n",
       "max            12.000000               0.0   99998.000000  "
      ]
     },
     "execution_count": 112,
     "metadata": {},
     "output_type": "execute_result"
    }
   ],
   "source": [
    "df.describe()"
   ]
  },
  {
   "cell_type": "markdown",
   "metadata": {},
   "source": [
    "Так же есть автомобили с мощьностью 0 и 20000, что аномально для рынка в общем."
   ]
  },
  {
   "cell_type": "code",
   "execution_count": 113,
   "metadata": {},
   "outputs": [
    {
     "data": {
      "image/png": "[encoded data removed]",
      "text/plain": [
       "<Figure size 1000x600 with 1 Axes>"
      ]
     },
     "metadata": {},
     "output_type": "display_data"
    }
   ],
   "source": [
    "df[df.Power < 1000].Power.hist(bins = 50, figsize=(10,6));"
   ]
  },
  {
   "cell_type": "code",
   "execution_count": 114,
   "metadata": {},
   "outputs": [
    {
     "data": {
      "image/png": "[encoded data removed]",
      "text/plain": [
       "<Figure size 1000x600 with 1 Axes>"
      ]
     },
     "metadata": {},
     "output_type": "display_data"
    }
   ],
   "source": [
    "df[df.Power < 100].Power.hist(bins = 50, figsize=(10,6));"
   ]
  },
  {
   "cell_type": "markdown",
   "metadata": {},
   "source": [
    "Как видим более 30000 объектов имеют мощность 0 л.с., что сранно, такие объявления не рассматриваем, так же не рассматриваем автомобили с мощностью менее 50 л.с (малолитражки бывают c такой мощностью)"
   ]
  },
  {
   "cell_type": "code",
   "execution_count": 115,
   "metadata": {},
   "outputs": [],
   "source": [
    "df = df[((df.Power > 60) & (df.Power < 400))]"
   ]
  },
  {
   "cell_type": "code",
   "execution_count": 116,
   "metadata": {
    "scrolled": true
   },
   "outputs": [
    {
     "data": {
      "text/html": [
       "<div>\n",
       "<style scoped>\n",
       "    .dataframe tbody tr th:only-of-type {\n",
       "        vertical-align: middle;\n",
       "    }\n",
       "\n",
       "    .dataframe tbody tr th {\n",
       "        vertical-align: top;\n",
       "    }\n",
       "\n",
       "    .dataframe thead th {\n",
       "        text-align: right;\n",
       "    }\n",
       "</style>\n",
       "<table border=\"1\" class=\"dataframe\">\n",
       "  <thead>\n",
       "    <tr style=\"text-align: right;\">\n",
       "      <th></th>\n",
       "      <th>Price</th>\n",
       "      <th>RegistrationYear</th>\n",
       "      <th>Power</th>\n",
       "      <th>Kilometer</th>\n",
       "      <th>RegistrationMonth</th>\n",
       "      <th>NumberOfPictures</th>\n",
       "      <th>PostalCode</th>\n",
       "    </tr>\n",
       "  </thead>\n",
       "  <tbody>\n",
       "    <tr>\n",
       "      <th>count</th>\n",
       "      <td>263762.000000</td>\n",
       "      <td>263762.000000</td>\n",
       "      <td>263762.000000</td>\n",
       "      <td>263762.000000</td>\n",
       "      <td>263762.000000</td>\n",
       "      <td>263762.0</td>\n",
       "      <td>263762.000000</td>\n",
       "    </tr>\n",
       "    <tr>\n",
       "      <th>mean</th>\n",
       "      <td>5298.677141</td>\n",
       "      <td>2003.948018</td>\n",
       "      <td>129.364400</td>\n",
       "      <td>128850.023885</td>\n",
       "      <td>6.026861</td>\n",
       "      <td>0.0</td>\n",
       "      <td>51589.459274</td>\n",
       "    </tr>\n",
       "    <tr>\n",
       "      <th>std</th>\n",
       "      <td>4642.089825</td>\n",
       "      <td>6.184117</td>\n",
       "      <td>49.222979</td>\n",
       "      <td>36475.771557</td>\n",
       "      <td>3.574058</td>\n",
       "      <td>0.0</td>\n",
       "      <td>25851.281453</td>\n",
       "    </tr>\n",
       "    <tr>\n",
       "      <th>min</th>\n",
       "      <td>202.000000</td>\n",
       "      <td>1981.000000</td>\n",
       "      <td>61.000000</td>\n",
       "      <td>5000.000000</td>\n",
       "      <td>0.000000</td>\n",
       "      <td>0.0</td>\n",
       "      <td>1067.000000</td>\n",
       "    </tr>\n",
       "    <tr>\n",
       "      <th>25%</th>\n",
       "      <td>1699.000000</td>\n",
       "      <td>2000.000000</td>\n",
       "      <td>95.000000</td>\n",
       "      <td>125000.000000</td>\n",
       "      <td>3.000000</td>\n",
       "      <td>0.0</td>\n",
       "      <td>31141.000000</td>\n",
       "    </tr>\n",
       "    <tr>\n",
       "      <th>50%</th>\n",
       "      <td>3750.000000</td>\n",
       "      <td>2004.000000</td>\n",
       "      <td>118.000000</td>\n",
       "      <td>150000.000000</td>\n",
       "      <td>6.000000</td>\n",
       "      <td>0.0</td>\n",
       "      <td>50825.000000</td>\n",
       "    </tr>\n",
       "    <tr>\n",
       "      <th>75%</th>\n",
       "      <td>7600.000000</td>\n",
       "      <td>2008.000000</td>\n",
       "      <td>150.000000</td>\n",
       "      <td>150000.000000</td>\n",
       "      <td>9.000000</td>\n",
       "      <td>0.0</td>\n",
       "      <td>72459.000000</td>\n",
       "    </tr>\n",
       "    <tr>\n",
       "      <th>max</th>\n",
       "      <td>20000.000000</td>\n",
       "      <td>2019.000000</td>\n",
       "      <td>399.000000</td>\n",
       "      <td>150000.000000</td>\n",
       "      <td>12.000000</td>\n",
       "      <td>0.0</td>\n",
       "      <td>99998.000000</td>\n",
       "    </tr>\n",
       "  </tbody>\n",
       "</table>\n",
       "</div>"
      ],
      "text/plain": [
       "               Price  RegistrationYear          Power      Kilometer  \\\n",
       "count  263762.000000     263762.000000  263762.000000  263762.000000   \n",
       "mean     5298.677141       2003.948018     129.364400  128850.023885   \n",
       "std      4642.089825          6.184117      49.222979   36475.771557   \n",
       "min       202.000000       1981.000000      61.000000    5000.000000   \n",
       "25%      1699.000000       2000.000000      95.000000  125000.000000   \n",
       "50%      3750.000000       2004.000000     118.000000  150000.000000   \n",
       "75%      7600.000000       2008.000000     150.000000  150000.000000   \n",
       "max     20000.000000       2019.000000     399.000000  150000.000000   \n",
       "\n",
       "       RegistrationMonth  NumberOfPictures     PostalCode  \n",
       "count      263762.000000          263762.0  263762.000000  \n",
       "mean            6.026861               0.0   51589.459274  \n",
       "std             3.574058               0.0   25851.281453  \n",
       "min             0.000000               0.0    1067.000000  \n",
       "25%             3.000000               0.0   31141.000000  \n",
       "50%             6.000000               0.0   50825.000000  \n",
       "75%             9.000000               0.0   72459.000000  \n",
       "max            12.000000               0.0   99998.000000  "
      ]
     },
     "execution_count": 116,
     "metadata": {},
     "output_type": "execute_result"
    }
   ],
   "source": [
    "df.describe()"
   ]
  },
  {
   "cell_type": "markdown",
   "metadata": {},
   "source": [
    "У всех объектов кол-во фотографий автомобиля 0, смысла в таких данных нет, поэтому удаляем этот признак"
   ]
  },
  {
   "cell_type": "code",
   "execution_count": 117,
   "metadata": {},
   "outputs": [
    {
     "data": {
      "text/plain": [
       "0    263762\n",
       "Name: NumberOfPictures, dtype: int64"
      ]
     },
     "execution_count": 117,
     "metadata": {},
     "output_type": "execute_result"
    }
   ],
   "source": [
    "df.NumberOfPictures.value_counts()"
   ]
  },
  {
   "cell_type": "code",
   "execution_count": 118,
   "metadata": {},
   "outputs": [],
   "source": [
    "df = df.drop(['NumberOfPictures'], axis=1)"
   ]
  },
  {
   "cell_type": "markdown",
   "metadata": {},
   "source": [
    "Проанализируем текстовые признаки"
   ]
  },
  {
   "cell_type": "code",
   "execution_count": 119,
   "metadata": {},
   "outputs": [
    {
     "name": "stdout",
     "output_type": "stream",
     "text": [
      "<class 'pandas.core.frame.DataFrame'>\n",
      "Int64Index: 263762 entries, 1 to 354368\n",
      "Data columns (total 15 columns):\n",
      " #   Column             Non-Null Count   Dtype \n",
      "---  ------             --------------   ----- \n",
      " 0   DateCrawled        263762 non-null  object\n",
      " 1   Price              263762 non-null  int64 \n",
      " 2   VehicleType        246905 non-null  object\n",
      " 3   RegistrationYear   263762 non-null  int64 \n",
      " 4   Gearbox            259441 non-null  object\n",
      " 5   Power              263762 non-null  int64 \n",
      " 6   Model              254076 non-null  object\n",
      " 7   Kilometer          263762 non-null  int64 \n",
      " 8   RegistrationMonth  263762 non-null  int64 \n",
      " 9   FuelType           248435 non-null  object\n",
      " 10  Brand              263762 non-null  object\n",
      " 11  Repaired           226400 non-null  object\n",
      " 12  DateCreated        263762 non-null  object\n",
      " 13  PostalCode         263762 non-null  int64 \n",
      " 14  LastSeen           263762 non-null  object\n",
      "dtypes: int64(6), object(9)\n",
      "memory usage: 32.2+ MB\n"
     ]
    }
   ],
   "source": [
    "df.info()"
   ]
  },
  {
   "cell_type": "code",
   "execution_count": 120,
   "metadata": {},
   "outputs": [
    {
     "data": {
      "text/plain": [
       "array(['coupe', 'suv', 'small', 'sedan', 'convertible', 'bus', 'wagon',\n",
       "       nan, 'other'], dtype=object)"
      ]
     },
     "execution_count": 120,
     "metadata": {},
     "output_type": "execute_result"
    }
   ],
   "source": [
    "df.VehicleType.unique()"
   ]
  },
  {
   "cell_type": "code",
   "execution_count": 121,
   "metadata": {},
   "outputs": [
    {
     "data": {
      "text/plain": [
       "array(['manual', 'auto', nan], dtype=object)"
      ]
     },
     "execution_count": 121,
     "metadata": {},
     "output_type": "execute_result"
    }
   ],
   "source": [
    "df.Gearbox.unique()"
   ]
  },
  {
   "cell_type": "code",
   "execution_count": 122,
   "metadata": {},
   "outputs": [
    {
     "data": {
      "text/plain": [
       "18108"
      ]
     },
     "execution_count": 122,
     "metadata": {},
     "output_type": "execute_result"
    }
   ],
   "source": [
    "sum(df.Model == 'other')"
   ]
  },
  {
   "cell_type": "code",
   "execution_count": 123,
   "metadata": {},
   "outputs": [
    {
     "data": {
      "text/plain": [
       "array(['gasoline', 'petrol', nan, 'lpg', 'other', 'hybrid', 'cng',\n",
       "       'electric'], dtype=object)"
      ]
     },
     "execution_count": 123,
     "metadata": {},
     "output_type": "execute_result"
    }
   ],
   "source": [
    "df.FuelType.unique()"
   ]
  },
  {
   "cell_type": "code",
   "execution_count": 124,
   "metadata": {},
   "outputs": [
    {
     "data": {
      "text/plain": [
       "array(['yes', nan, 'no'], dtype=object)"
      ]
     },
     "execution_count": 124,
     "metadata": {},
     "output_type": "execute_result"
    }
   ],
   "source": [
    "df.Repaired.unique()"
   ]
  },
  {
   "cell_type": "markdown",
   "metadata": {},
   "source": [
    "VehicleType, Model, FuelType, Gearbox, Repaired имеют пропуски, которые можно заменить на категорию `other`"
   ]
  },
  {
   "cell_type": "code",
   "execution_count": 125,
   "metadata": {},
   "outputs": [],
   "source": [
    "df.VehicleType.fillna('other', inplace=True)\n",
    "df.Model.fillna('other', inplace=True)\n",
    "df.FuelType.fillna('other', inplace=True)\n",
    "df.Gearbox.fillna('other', inplace=True)\n",
    "df.Repaired.fillna('other', inplace=True)"
   ]
  },
  {
   "cell_type": "markdown",
   "metadata": {},
   "source": [
    "Неинформативнфми признаками в данном случае являются:\n",
    "- DateCrawled `Дата скачивания анкеты из базы`\n",
    "- RegistrationMonth `Месяц регистрации автомобиля`\n",
    "- DateCreated `Дата создания анкеты`\n",
    "- LastSeen `Дата последней активности клиента`\n",
    "\n",
    "эти признаки можно удалить"
   ]
  },
  {
   "cell_type": "code",
   "execution_count": 126,
   "metadata": {},
   "outputs": [],
   "source": [
    "df.drop(['DateCrawled','RegistrationMonth','DateCreated','LastSeen'], axis=1, inplace=True)"
   ]
  },
  {
   "cell_type": "code",
   "execution_count": 127,
   "metadata": {},
   "outputs": [
    {
     "data": {
      "text/html": [
       "<div>\n",
       "<style scoped>\n",
       "    .dataframe tbody tr th:only-of-type {\n",
       "        vertical-align: middle;\n",
       "    }\n",
       "\n",
       "    .dataframe tbody tr th {\n",
       "        vertical-align: top;\n",
       "    }\n",
       "\n",
       "    .dataframe thead th {\n",
       "        text-align: right;\n",
       "    }\n",
       "</style>\n",
       "<table border=\"1\" class=\"dataframe\">\n",
       "  <thead>\n",
       "    <tr style=\"text-align: right;\">\n",
       "      <th></th>\n",
       "      <th>Price</th>\n",
       "      <th>RegistrationYear</th>\n",
       "      <th>Power</th>\n",
       "      <th>Kilometer</th>\n",
       "      <th>PostalCode</th>\n",
       "    </tr>\n",
       "  </thead>\n",
       "  <tbody>\n",
       "    <tr>\n",
       "      <th>count</th>\n",
       "      <td>263762.000000</td>\n",
       "      <td>263762.000000</td>\n",
       "      <td>263762.000000</td>\n",
       "      <td>263762.000000</td>\n",
       "      <td>263762.000000</td>\n",
       "    </tr>\n",
       "    <tr>\n",
       "      <th>mean</th>\n",
       "      <td>5298.677141</td>\n",
       "      <td>2003.948018</td>\n",
       "      <td>129.364400</td>\n",
       "      <td>128850.023885</td>\n",
       "      <td>51589.459274</td>\n",
       "    </tr>\n",
       "    <tr>\n",
       "      <th>std</th>\n",
       "      <td>4642.089825</td>\n",
       "      <td>6.184117</td>\n",
       "      <td>49.222979</td>\n",
       "      <td>36475.771557</td>\n",
       "      <td>25851.281453</td>\n",
       "    </tr>\n",
       "    <tr>\n",
       "      <th>min</th>\n",
       "      <td>202.000000</td>\n",
       "      <td>1981.000000</td>\n",
       "      <td>61.000000</td>\n",
       "      <td>5000.000000</td>\n",
       "      <td>1067.000000</td>\n",
       "    </tr>\n",
       "    <tr>\n",
       "      <th>25%</th>\n",
       "      <td>1699.000000</td>\n",
       "      <td>2000.000000</td>\n",
       "      <td>95.000000</td>\n",
       "      <td>125000.000000</td>\n",
       "      <td>31141.000000</td>\n",
       "    </tr>\n",
       "    <tr>\n",
       "      <th>50%</th>\n",
       "      <td>3750.000000</td>\n",
       "      <td>2004.000000</td>\n",
       "      <td>118.000000</td>\n",
       "      <td>150000.000000</td>\n",
       "      <td>50825.000000</td>\n",
       "    </tr>\n",
       "    <tr>\n",
       "      <th>75%</th>\n",
       "      <td>7600.000000</td>\n",
       "      <td>2008.000000</td>\n",
       "      <td>150.000000</td>\n",
       "      <td>150000.000000</td>\n",
       "      <td>72459.000000</td>\n",
       "    </tr>\n",
       "    <tr>\n",
       "      <th>max</th>\n",
       "      <td>20000.000000</td>\n",
       "      <td>2019.000000</td>\n",
       "      <td>399.000000</td>\n",
       "      <td>150000.000000</td>\n",
       "      <td>99998.000000</td>\n",
       "    </tr>\n",
       "  </tbody>\n",
       "</table>\n",
       "</div>"
      ],
      "text/plain": [
       "               Price  RegistrationYear          Power      Kilometer  \\\n",
       "count  263762.000000     263762.000000  263762.000000  263762.000000   \n",
       "mean     5298.677141       2003.948018     129.364400  128850.023885   \n",
       "std      4642.089825          6.184117      49.222979   36475.771557   \n",
       "min       202.000000       1981.000000      61.000000    5000.000000   \n",
       "25%      1699.000000       2000.000000      95.000000  125000.000000   \n",
       "50%      3750.000000       2004.000000     118.000000  150000.000000   \n",
       "75%      7600.000000       2008.000000     150.000000  150000.000000   \n",
       "max     20000.000000       2019.000000     399.000000  150000.000000   \n",
       "\n",
       "          PostalCode  \n",
       "count  263762.000000  \n",
       "mean    51589.459274  \n",
       "std     25851.281453  \n",
       "min      1067.000000  \n",
       "25%     31141.000000  \n",
       "50%     50825.000000  \n",
       "75%     72459.000000  \n",
       "max     99998.000000  "
      ]
     },
     "execution_count": 127,
     "metadata": {},
     "output_type": "execute_result"
    }
   ],
   "source": [
    "df.describe()"
   ]
  },
  {
   "cell_type": "code",
   "execution_count": 128,
   "metadata": {},
   "outputs": [
    {
     "name": "stdout",
     "output_type": "stream",
     "text": [
      "<class 'pandas.core.frame.DataFrame'>\n",
      "Int64Index: 263762 entries, 1 to 354368\n",
      "Data columns (total 11 columns):\n",
      " #   Column            Non-Null Count   Dtype \n",
      "---  ------            --------------   ----- \n",
      " 0   Price             263762 non-null  int64 \n",
      " 1   VehicleType       263762 non-null  object\n",
      " 2   RegistrationYear  263762 non-null  int64 \n",
      " 3   Gearbox           263762 non-null  object\n",
      " 4   Power             263762 non-null  int64 \n",
      " 5   Model             263762 non-null  object\n",
      " 6   Kilometer         263762 non-null  int64 \n",
      " 7   FuelType          263762 non-null  object\n",
      " 8   Brand             263762 non-null  object\n",
      " 9   Repaired          263762 non-null  object\n",
      " 10  PostalCode        263762 non-null  int64 \n",
      "dtypes: int64(5), object(6)\n",
      "memory usage: 24.1+ MB\n"
     ]
    }
   ],
   "source": [
    "df.info()"
   ]
  },
  {
   "cell_type": "markdown",
   "metadata": {},
   "source": [
    "Вывод\n",
    "- из поля Price убрали 0 значения и цены менее 200 евро (неадекватные цены на автомобиль)\n",
    "- из поля RegistrationYear удалены объекты с годом регистрации менее 1980 г. (неликвид) и более 2023 г.\n",
    "- объекты с мощностью менее 60 л.с (мощность малолитражек) и более 400 л.с.(таких авто в данных очень мало и есть выбросы до 20000 л.с) так же исключены из расчета\n",
    "- к признаках VehicleType, Model, FuelType, Gearbox, Repaired пропуски были за менены на категорию other (таких пропусков мало)\n",
    "- были удалены неинформативные признаки: \n",
    "    - NumberOfPictures `Кол-во фото автомобиля`\n",
    "    - DateCrawled `Дата скачивания анкеты из базы`\n",
    "    - RegistrationMonth `Месяц регитсрации автомобиля`\n",
    "    - DateCreated `Дата создания анкеты`\n",
    "    - LastSeen `Дата последней активности клиента`"
   ]
  },
  {
   "cell_type": "markdown",
   "metadata": {},
   "source": [
    "## Обучение моделей"
   ]
  },
  {
   "cell_type": "markdown",
   "metadata": {},
   "source": [
    "Обучим следующие модели для нахождения оптимальных гипер-параметров и среднего значения качества:\n",
    "\n",
    "1. LinearRegression\n",
    "2. CatBoostRegressor\n",
    "3. LGBMRegressor"
   ]
  },
  {
   "cell_type": "markdown",
   "metadata": {},
   "source": [
    "Разделим features и target на обучающую и тестовую выборки"
   ]
  },
  {
   "cell_type": "code",
   "execution_count": 129,
   "metadata": {},
   "outputs": [],
   "source": [
    "features, target = df.drop(['Price'], axis=1), df['Price']"
   ]
  },
  {
   "cell_type": "code",
   "execution_count": 130,
   "metadata": {},
   "outputs": [],
   "source": [
    "features_train, features_test, target_train, target_test= train_test_split(features,\n",
    "                                                                            target,\n",
    "                                                                            test_size=0.25,\n",
    "                                                                            random_state=12345,\n",
    "                                                                            )"
   ]
  },
  {
   "cell_type": "markdown",
   "metadata": {},
   "source": [
    "Проведем кодирование признаков"
   ]
  },
  {
   "cell_type": "code",
   "execution_count": 138,
   "metadata": {},
   "outputs": [],
   "source": [
    "def encode(features_train,features_test):\n",
    "    encoder = OrdinalEncoder()\n",
    "    encoder.fit(features_train[['VehicleType',\n",
    "                    'Gearbox',\n",
    "                    'Model',\n",
    "                    'FuelType',\n",
    "                    'Brand',\n",
    "                    'Repaired']])\n",
    "    features_train.loc[:, ['VehicleType',\n",
    "                'Gearbox',\n",
    "                'Model',\n",
    "                'FuelType',\n",
    "                'Brand',\n",
    "                'Repaired']] = \\\n",
    "    encoder.transform(features_train[['VehicleType',\n",
    "                        'Gearbox',\n",
    "                        'Model',\n",
    "                        'FuelType',\n",
    "                        'Brand',\n",
    "                        'Repaired']])\n",
    "    features_test.loc[:, ['VehicleType',\n",
    "                'Gearbox',\n",
    "                'Model',\n",
    "                'FuelType',\n",
    "                'Brand',\n",
    "                'Repaired']] = \\\n",
    "    encoder.transform(features_test[['VehicleType',\n",
    "                        'Gearbox',\n",
    "                        'Model',\n",
    "                        'FuelType',\n",
    "                        'Brand',\n",
    "                        'Repaired']])\n",
    "    return features_train,features_test"
   ]
  },
  {
   "cell_type": "code",
   "execution_count": 139,
   "metadata": {},
   "outputs": [],
   "source": [
    "def ohe(features):\n",
    "    return pd.get_dummies(features, drop_first=True)"
   ]
  },
  {
   "cell_type": "code",
   "execution_count": 140,
   "metadata": {},
   "outputs": [],
   "source": [
    "ordinal_features_train,ordinal_features_test = encode(features_train,features_test)\n",
    "\n",
    "ohe_features_train = ohe(features_train)\n",
    "ohe_features_test = ohe(features_test)"
   ]
  },
  {
   "cell_type": "markdown",
   "metadata": {},
   "source": [
    "### LinearRegression"
   ]
  },
  {
   "cell_type": "markdown",
   "metadata": {},
   "source": [
    "Обучим модель без масштабирования и с масштабированием признаков"
   ]
  },
  {
   "cell_type": "code",
   "execution_count": 141,
   "metadata": {},
   "outputs": [
    {
     "name": "stdout",
     "output_type": "stream",
     "text": [
      "Средний показатель RMSE при кросс-валидации для модели LinearRegression = 2921.7553858137844\n",
      "CPU times: total: 156 ms\n",
      "Wall time: 282 ms\n"
     ]
    }
   ],
   "source": [
    "%%time\n",
    "\n",
    "regressor = LinearRegression()\n",
    "cv_RMSE_LR = (cross_val_score(regressor, \n",
    "                             ohe_features_train, \n",
    "                             target_train, \n",
    "                             cv=5, \n",
    "                             scoring='neg_mean_squared_error').mean() * -1) ** 0.5\n",
    "print('Средний показатель RMSE при кросс-валидации для модели LinearRegression =', cv_RMSE_LR)"
   ]
  },
  {
   "cell_type": "code",
   "execution_count": 142,
   "metadata": {},
   "outputs": [
    {
     "name": "stdout",
     "output_type": "stream",
     "text": [
      "Средний показатель RMSE при кросс-валидации и масштабировании для модели LinearRegression = 2921.7553858137803\n",
      "CPU times: total: 234 ms\n",
      "Wall time: 384 ms\n"
     ]
    }
   ],
   "source": [
    "%%time\n",
    "\n",
    "regressor = LinearRegression()\n",
    "scaller = StandardScaler()\n",
    "pipeline = Pipeline([(\"standard_scaller\", scaller),(\"linear_regression\", regressor)])\n",
    "cv_RMSE_LR_S = (cross_val_score(pipeline,\n",
    "                                ohe_features_train, \n",
    "                                target_train, \n",
    "                                cv=5, \n",
    "                                scoring='neg_mean_squared_error').mean() * -1) ** 0.5\n",
    "print('Средний показатель RMSE при кросс-валидации и масштабировании для модели LinearRegression =', cv_RMSE_LR_S)"
   ]
  },
  {
   "cell_type": "markdown",
   "metadata": {},
   "source": [
    "Масштабирование признаков не влияет на качество модели, отказываемся от применения масштаба."
   ]
  },
  {
   "cell_type": "markdown",
   "metadata": {},
   "source": [
    "### CatBoostRegressor"
   ]
  },
  {
   "cell_type": "code",
   "execution_count": 143,
   "metadata": {},
   "outputs": [
    {
     "data": {
      "text/html": [
       "<style>#sk-container-id-13 {color: black;background-color: white;}#sk-container-id-13 pre{padding: 0;}#sk-container-id-13 div.sk-toggleable {background-color: white;}#sk-container-id-13 label.sk-toggleable__label {cursor: pointer;display: block;width: 100%;margin-bottom: 0;padding: 0.3em;box-sizing: border-box;text-align: center;}#sk-container-id-13 label.sk-toggleable__label-arrow:before {content: \"▸\";float: left;margin-right: 0.25em;color: #696969;}#sk-container-id-13 label.sk-toggleable__label-arrow:hover:before {color: black;}#sk-container-id-13 div.sk-estimator:hover label.sk-toggleable__label-arrow:before {color: black;}#sk-container-id-13 div.sk-toggleable__content {max-height: 0;max-width: 0;overflow: hidden;text-align: left;background-color: #f0f8ff;}#sk-container-id-13 div.sk-toggleable__content pre {margin: 0.2em;color: black;border-radius: 0.25em;background-color: #f0f8ff;}#sk-container-id-13 input.sk-toggleable__control:checked~div.sk-toggleable__content {max-height: 200px;max-width: 100%;overflow: auto;}#sk-container-id-13 input.sk-toggleable__control:checked~label.sk-toggleable__label-arrow:before {content: \"▾\";}#sk-container-id-13 div.sk-estimator input.sk-toggleable__control:checked~label.sk-toggleable__label {background-color: #d4ebff;}#sk-container-id-13 div.sk-label input.sk-toggleable__control:checked~label.sk-toggleable__label {background-color: #d4ebff;}#sk-container-id-13 input.sk-hidden--visually {border: 0;clip: rect(1px 1px 1px 1px);clip: rect(1px, 1px, 1px, 1px);height: 1px;margin: -1px;overflow: hidden;padding: 0;position: absolute;width: 1px;}#sk-container-id-13 div.sk-estimator {font-family: monospace;background-color: #f0f8ff;border: 1px dotted black;border-radius: 0.25em;box-sizing: border-box;margin-bottom: 0.5em;}#sk-container-id-13 div.sk-estimator:hover {background-color: #d4ebff;}#sk-container-id-13 div.sk-parallel-item::after {content: \"\";width: 100%;border-bottom: 1px solid gray;flex-grow: 1;}#sk-container-id-13 div.sk-label:hover label.sk-toggleable__label {background-color: #d4ebff;}#sk-container-id-13 div.sk-serial::before {content: \"\";position: absolute;border-left: 1px solid gray;box-sizing: border-box;top: 0;bottom: 0;left: 50%;z-index: 0;}#sk-container-id-13 div.sk-serial {display: flex;flex-direction: column;align-items: center;background-color: white;padding-right: 0.2em;padding-left: 0.2em;position: relative;}#sk-container-id-13 div.sk-item {position: relative;z-index: 1;}#sk-container-id-13 div.sk-parallel {display: flex;align-items: stretch;justify-content: center;background-color: white;position: relative;}#sk-container-id-13 div.sk-item::before, #sk-container-id-13 div.sk-parallel-item::before {content: \"\";position: absolute;border-left: 1px solid gray;box-sizing: border-box;top: 0;bottom: 0;left: 50%;z-index: -1;}#sk-container-id-13 div.sk-parallel-item {display: flex;flex-direction: column;z-index: 1;position: relative;background-color: white;}#sk-container-id-13 div.sk-parallel-item:first-child::after {align-self: flex-end;width: 50%;}#sk-container-id-13 div.sk-parallel-item:last-child::after {align-self: flex-start;width: 50%;}#sk-container-id-13 div.sk-parallel-item:only-child::after {width: 0;}#sk-container-id-13 div.sk-dashed-wrapped {border: 1px dashed gray;margin: 0 0.4em 0.5em 0.4em;box-sizing: border-box;padding-bottom: 0.4em;background-color: white;}#sk-container-id-13 div.sk-label label {font-family: monospace;font-weight: bold;display: inline-block;line-height: 1.2em;}#sk-container-id-13 div.sk-label-container {text-align: center;}#sk-container-id-13 div.sk-container {/* jupyter's `normalize.less` sets `[hidden] { display: none; }` but bootstrap.min.css set `[hidden] { display: none !important; }` so we also need the `!important` here to be able to override the default hidden behavior on the sphinx rendered scikit-learn.org. See: https://github.com/scikit-learn/scikit-learn/issues/21755 */display: inline-block !important;position: relative;}#sk-container-id-13 div.sk-text-repr-fallback {display: none;}</style><div id=\"sk-container-id-13\" class=\"sk-top-container\"><div class=\"sk-text-repr-fallback\"><pre>GridSearchCV(estimator=&lt;catboost.core.CatBoostRegressor object at 0x000002B18F19FB10&gt;,\n",
       "             param_grid=[{&#x27;depth&#x27;: [2, 4, 6, 8, 10], &#x27;iterations&#x27;: [100],\n",
       "                          &#x27;learning_rate&#x27;: [0.5], &#x27;random_state&#x27;: [12345],\n",
       "                          &#x27;verbose&#x27;: [False]}],\n",
       "             scoring=&#x27;neg_mean_squared_error&#x27;)</pre><b>In a Jupyter environment, please rerun this cell to show the HTML representation or trust the notebook. <br />On GitHub, the HTML representation is unable to render, please try loading this page with nbviewer.org.</b></div><div class=\"sk-container\" hidden><div class=\"sk-item sk-dashed-wrapped\"><div class=\"sk-label-container\"><div class=\"sk-label sk-toggleable\"><input class=\"sk-toggleable__control sk-hidden--visually\" id=\"sk-estimator-id-17\" type=\"checkbox\" ><label for=\"sk-estimator-id-17\" class=\"sk-toggleable__label sk-toggleable__label-arrow\">GridSearchCV</label><div class=\"sk-toggleable__content\"><pre>GridSearchCV(estimator=&lt;catboost.core.CatBoostRegressor object at 0x000002B18F19FB10&gt;,\n",
       "             param_grid=[{&#x27;depth&#x27;: [2, 4, 6, 8, 10], &#x27;iterations&#x27;: [100],\n",
       "                          &#x27;learning_rate&#x27;: [0.5], &#x27;random_state&#x27;: [12345],\n",
       "                          &#x27;verbose&#x27;: [False]}],\n",
       "             scoring=&#x27;neg_mean_squared_error&#x27;)</pre></div></div></div><div class=\"sk-parallel\"><div class=\"sk-parallel-item\"><div class=\"sk-item\"><div class=\"sk-label-container\"><div class=\"sk-label sk-toggleable\"><input class=\"sk-toggleable__control sk-hidden--visually\" id=\"sk-estimator-id-18\" type=\"checkbox\" ><label for=\"sk-estimator-id-18\" class=\"sk-toggleable__label sk-toggleable__label-arrow\">estimator: CatBoostRegressor</label><div class=\"sk-toggleable__content\"><pre>&lt;catboost.core.CatBoostRegressor object at 0x000002B18F19FB10&gt;</pre></div></div></div><div class=\"sk-serial\"><div class=\"sk-item\"><div class=\"sk-estimator sk-toggleable\"><input class=\"sk-toggleable__control sk-hidden--visually\" id=\"sk-estimator-id-19\" type=\"checkbox\" ><label for=\"sk-estimator-id-19\" class=\"sk-toggleable__label sk-toggleable__label-arrow\">CatBoostRegressor</label><div class=\"sk-toggleable__content\"><pre>&lt;catboost.core.CatBoostRegressor object at 0x000002B18F19FB10&gt;</pre></div></div></div></div></div></div></div></div></div></div>"
      ],
      "text/plain": [
       "GridSearchCV(estimator=<catboost.core.CatBoostRegressor object at 0x000002B18F19FB10>,\n",
       "             param_grid=[{'depth': [2, 4, 6, 8, 10], 'iterations': [100],\n",
       "                          'learning_rate': [0.5], 'random_state': [12345],\n",
       "                          'verbose': [False]}],\n",
       "             scoring='neg_mean_squared_error')"
      ]
     },
     "execution_count": 143,
     "metadata": {},
     "output_type": "execute_result"
    }
   ],
   "source": [
    "regressor = CatBoostRegressor()\n",
    "\n",
    "hyperparams = [{'learning_rate':[0.5],\n",
    "                'iterations':[100],\n",
    "                'depth':[2,4,6,8,10],\n",
    "                'random_state':[12345],\n",
    "                'verbose':[False]}]\n",
    "\n",
    "clf = GridSearchCV(regressor, hyperparams, scoring='neg_mean_squared_error')\n",
    "clf.fit(ordinal_features_train, target_train)"
   ]
  },
  {
   "cell_type": "code",
   "execution_count": 144,
   "metadata": {},
   "outputs": [
    {
     "data": {
      "text/plain": [
       "{'depth': 10,\n",
       " 'iterations': 100,\n",
       " 'learning_rate': 0.5,\n",
       " 'random_state': 12345,\n",
       " 'verbose': False}"
      ]
     },
     "execution_count": 144,
     "metadata": {},
     "output_type": "execute_result"
    }
   ],
   "source": [
    "clf.best_params_"
   ]
  },
  {
   "cell_type": "code",
   "execution_count": 145,
   "metadata": {
    "scrolled": true
   },
   "outputs": [
    {
     "name": "stdout",
     "output_type": "stream",
     "text": [
      "Средний показатель RMSE при кросс-валидации и масштабировании для модели CatBoostRegressor = 1649.7926995369091\n",
      "CPU times: total: 5.39 s\n",
      "Wall time: 9.5 s\n"
     ]
    }
   ],
   "source": [
    "%%time\n",
    "\n",
    "regressor = CatBoostRegressor(learning_rate=0.5,\n",
    "                              iterations=100,\n",
    "                              depth=10,\n",
    "                              random_state=12345, \n",
    "                              verbose=False,) \n",
    "\n",
    "cv_RMSE_CBR_original = (cross_val_score(regressor,\n",
    "                                ordinal_features_train, \n",
    "                                target_train, \n",
    "                                cv=5, \n",
    "                                scoring='neg_mean_squared_error').mean() * -1) ** 0.5\n",
    "\n",
    "print('Средний показатель RMSE при кросс-валидации и масштабировании для модели CatBoostRegressor =', cv_RMSE_CBR_original)"
   ]
  },
  {
   "cell_type": "markdown",
   "metadata": {},
   "source": [
    "### LightGBMRegressor"
   ]
  },
  {
   "cell_type": "code",
   "execution_count": 146,
   "metadata": {},
   "outputs": [
    {
     "data": {
      "text/html": [
       "<style>#sk-container-id-14 {color: black;background-color: white;}#sk-container-id-14 pre{padding: 0;}#sk-container-id-14 div.sk-toggleable {background-color: white;}#sk-container-id-14 label.sk-toggleable__label {cursor: pointer;display: block;width: 100%;margin-bottom: 0;padding: 0.3em;box-sizing: border-box;text-align: center;}#sk-container-id-14 label.sk-toggleable__label-arrow:before {content: \"▸\";float: left;margin-right: 0.25em;color: #696969;}#sk-container-id-14 label.sk-toggleable__label-arrow:hover:before {color: black;}#sk-container-id-14 div.sk-estimator:hover label.sk-toggleable__label-arrow:before {color: black;}#sk-container-id-14 div.sk-toggleable__content {max-height: 0;max-width: 0;overflow: hidden;text-align: left;background-color: #f0f8ff;}#sk-container-id-14 div.sk-toggleable__content pre {margin: 0.2em;color: black;border-radius: 0.25em;background-color: #f0f8ff;}#sk-container-id-14 input.sk-toggleable__control:checked~div.sk-toggleable__content {max-height: 200px;max-width: 100%;overflow: auto;}#sk-container-id-14 input.sk-toggleable__control:checked~label.sk-toggleable__label-arrow:before {content: \"▾\";}#sk-container-id-14 div.sk-estimator input.sk-toggleable__control:checked~label.sk-toggleable__label {background-color: #d4ebff;}#sk-container-id-14 div.sk-label input.sk-toggleable__control:checked~label.sk-toggleable__label {background-color: #d4ebff;}#sk-container-id-14 input.sk-hidden--visually {border: 0;clip: rect(1px 1px 1px 1px);clip: rect(1px, 1px, 1px, 1px);height: 1px;margin: -1px;overflow: hidden;padding: 0;position: absolute;width: 1px;}#sk-container-id-14 div.sk-estimator {font-family: monospace;background-color: #f0f8ff;border: 1px dotted black;border-radius: 0.25em;box-sizing: border-box;margin-bottom: 0.5em;}#sk-container-id-14 div.sk-estimator:hover {background-color: #d4ebff;}#sk-container-id-14 div.sk-parallel-item::after {content: \"\";width: 100%;border-bottom: 1px solid gray;flex-grow: 1;}#sk-container-id-14 div.sk-label:hover label.sk-toggleable__label {background-color: #d4ebff;}#sk-container-id-14 div.sk-serial::before {content: \"\";position: absolute;border-left: 1px solid gray;box-sizing: border-box;top: 0;bottom: 0;left: 50%;z-index: 0;}#sk-container-id-14 div.sk-serial {display: flex;flex-direction: column;align-items: center;background-color: white;padding-right: 0.2em;padding-left: 0.2em;position: relative;}#sk-container-id-14 div.sk-item {position: relative;z-index: 1;}#sk-container-id-14 div.sk-parallel {display: flex;align-items: stretch;justify-content: center;background-color: white;position: relative;}#sk-container-id-14 div.sk-item::before, #sk-container-id-14 div.sk-parallel-item::before {content: \"\";position: absolute;border-left: 1px solid gray;box-sizing: border-box;top: 0;bottom: 0;left: 50%;z-index: -1;}#sk-container-id-14 div.sk-parallel-item {display: flex;flex-direction: column;z-index: 1;position: relative;background-color: white;}#sk-container-id-14 div.sk-parallel-item:first-child::after {align-self: flex-end;width: 50%;}#sk-container-id-14 div.sk-parallel-item:last-child::after {align-self: flex-start;width: 50%;}#sk-container-id-14 div.sk-parallel-item:only-child::after {width: 0;}#sk-container-id-14 div.sk-dashed-wrapped {border: 1px dashed gray;margin: 0 0.4em 0.5em 0.4em;box-sizing: border-box;padding-bottom: 0.4em;background-color: white;}#sk-container-id-14 div.sk-label label {font-family: monospace;font-weight: bold;display: inline-block;line-height: 1.2em;}#sk-container-id-14 div.sk-label-container {text-align: center;}#sk-container-id-14 div.sk-container {/* jupyter's `normalize.less` sets `[hidden] { display: none; }` but bootstrap.min.css set `[hidden] { display: none !important; }` so we also need the `!important` here to be able to override the default hidden behavior on the sphinx rendered scikit-learn.org. See: https://github.com/scikit-learn/scikit-learn/issues/21755 */display: inline-block !important;position: relative;}#sk-container-id-14 div.sk-text-repr-fallback {display: none;}</style><div id=\"sk-container-id-14\" class=\"sk-top-container\"><div class=\"sk-text-repr-fallback\"><pre>GridSearchCV(estimator=LGBMRegressor(),\n",
       "             param_grid=[{&#x27;learning_rate&#x27;: [0.1, 0.3, 0.5],\n",
       "                          &#x27;num_leaves&#x27;: [30, 60, 100],\n",
       "                          &#x27;random_state&#x27;: [12345]}],\n",
       "             scoring=&#x27;neg_mean_squared_error&#x27;)</pre><b>In a Jupyter environment, please rerun this cell to show the HTML representation or trust the notebook. <br />On GitHub, the HTML representation is unable to render, please try loading this page with nbviewer.org.</b></div><div class=\"sk-container\" hidden><div class=\"sk-item sk-dashed-wrapped\"><div class=\"sk-label-container\"><div class=\"sk-label sk-toggleable\"><input class=\"sk-toggleable__control sk-hidden--visually\" id=\"sk-estimator-id-20\" type=\"checkbox\" ><label for=\"sk-estimator-id-20\" class=\"sk-toggleable__label sk-toggleable__label-arrow\">GridSearchCV</label><div class=\"sk-toggleable__content\"><pre>GridSearchCV(estimator=LGBMRegressor(),\n",
       "             param_grid=[{&#x27;learning_rate&#x27;: [0.1, 0.3, 0.5],\n",
       "                          &#x27;num_leaves&#x27;: [30, 60, 100],\n",
       "                          &#x27;random_state&#x27;: [12345]}],\n",
       "             scoring=&#x27;neg_mean_squared_error&#x27;)</pre></div></div></div><div class=\"sk-parallel\"><div class=\"sk-parallel-item\"><div class=\"sk-item\"><div class=\"sk-label-container\"><div class=\"sk-label sk-toggleable\"><input class=\"sk-toggleable__control sk-hidden--visually\" id=\"sk-estimator-id-21\" type=\"checkbox\" ><label for=\"sk-estimator-id-21\" class=\"sk-toggleable__label sk-toggleable__label-arrow\">estimator: LGBMRegressor</label><div class=\"sk-toggleable__content\"><pre>LGBMRegressor()</pre></div></div></div><div class=\"sk-serial\"><div class=\"sk-item\"><div class=\"sk-estimator sk-toggleable\"><input class=\"sk-toggleable__control sk-hidden--visually\" id=\"sk-estimator-id-22\" type=\"checkbox\" ><label for=\"sk-estimator-id-22\" class=\"sk-toggleable__label sk-toggleable__label-arrow\">LGBMRegressor</label><div class=\"sk-toggleable__content\"><pre>LGBMRegressor()</pre></div></div></div></div></div></div></div></div></div></div>"
      ],
      "text/plain": [
       "GridSearchCV(estimator=LGBMRegressor(),\n",
       "             param_grid=[{'learning_rate': [0.1, 0.3, 0.5],\n",
       "                          'num_leaves': [30, 60, 100],\n",
       "                          'random_state': [12345]}],\n",
       "             scoring='neg_mean_squared_error')"
      ]
     },
     "execution_count": 146,
     "metadata": {},
     "output_type": "execute_result"
    }
   ],
   "source": [
    "regressor = LGBMRegressor() \n",
    "hyperparams = [{'num_leaves':[30, 60, 100], \n",
    "                'learning_rate':[0.1, 0.3, 0.5],\n",
    "                'random_state':[12345]}]\n",
    "\n",
    "clf = GridSearchCV(regressor, hyperparams, scoring='neg_mean_squared_error')\n",
    "clf.fit(ordinal_features_train, target_train)"
   ]
  },
  {
   "cell_type": "code",
   "execution_count": 147,
   "metadata": {
    "scrolled": true
   },
   "outputs": [
    {
     "data": {
      "text/plain": [
       "{'learning_rate': 0.3, 'num_leaves': 100, 'random_state': 12345}"
      ]
     },
     "execution_count": 147,
     "metadata": {},
     "output_type": "execute_result"
    }
   ],
   "source": [
    "clf.best_params_"
   ]
  },
  {
   "cell_type": "code",
   "execution_count": 148,
   "metadata": {},
   "outputs": [
    {
     "name": "stdout",
     "output_type": "stream",
     "text": [
      "Средний показатель RMSE при кросс-валидации и масштабировании для модели LGBMRegressor = 1623.2959516985384\n",
      "CPU times: total: 26.1 s\n",
      "Wall time: 2.24 s\n"
     ]
    }
   ],
   "source": [
    "%%time\n",
    "\n",
    "regressor = LGBMRegressor(learning_rate=0.3,\n",
    "                          num_leaves=100,\n",
    "                          random_state=12345) \n",
    "\n",
    "cv_RMSE_LGBMR = (cross_val_score(regressor,\n",
    "                                ordinal_features_train, \n",
    "                                target_train, \n",
    "                                cv=5, \n",
    "                                scoring='neg_mean_squared_error').mean() * -1) ** 0.5\n",
    "\n",
    "print('Средний показатель RMSE при кросс-валидации и масштабировании для модели LGBMRegressor =', cv_RMSE_LGBMR)"
   ]
  },
  {
   "cell_type": "markdown",
   "metadata": {},
   "source": [
    "Были рассмотрены 3 модели: 2 с бустингом и 1 без\\\n",
    "По каждой были определены оптимальные параметры и среднее значение качества."
   ]
  },
  {
   "cell_type": "markdown",
   "metadata": {},
   "source": [
    "## Анализ моделей"
   ]
  },
  {
   "cell_type": "markdown",
   "metadata": {},
   "source": [
    "Теперь с учетом оптимальных гипер-параметров обучим каждую из моделей, определим время обучения и предсказания, а так же рассчитаем качество."
   ]
  },
  {
   "cell_type": "markdown",
   "metadata": {},
   "source": [
    "### Линейная регрессия"
   ]
  },
  {
   "cell_type": "code",
   "execution_count": 165,
   "metadata": {},
   "outputs": [
    {
     "data": {
      "text/html": [
       "<style>#sk-container-id-19 {color: black;background-color: white;}#sk-container-id-19 pre{padding: 0;}#sk-container-id-19 div.sk-toggleable {background-color: white;}#sk-container-id-19 label.sk-toggleable__label {cursor: pointer;display: block;width: 100%;margin-bottom: 0;padding: 0.3em;box-sizing: border-box;text-align: center;}#sk-container-id-19 label.sk-toggleable__label-arrow:before {content: \"▸\";float: left;margin-right: 0.25em;color: #696969;}#sk-container-id-19 label.sk-toggleable__label-arrow:hover:before {color: black;}#sk-container-id-19 div.sk-estimator:hover label.sk-toggleable__label-arrow:before {color: black;}#sk-container-id-19 div.sk-toggleable__content {max-height: 0;max-width: 0;overflow: hidden;text-align: left;background-color: #f0f8ff;}#sk-container-id-19 div.sk-toggleable__content pre {margin: 0.2em;color: black;border-radius: 0.25em;background-color: #f0f8ff;}#sk-container-id-19 input.sk-toggleable__control:checked~div.sk-toggleable__content {max-height: 200px;max-width: 100%;overflow: auto;}#sk-container-id-19 input.sk-toggleable__control:checked~label.sk-toggleable__label-arrow:before {content: \"▾\";}#sk-container-id-19 div.sk-estimator input.sk-toggleable__control:checked~label.sk-toggleable__label {background-color: #d4ebff;}#sk-container-id-19 div.sk-label input.sk-toggleable__control:checked~label.sk-toggleable__label {background-color: #d4ebff;}#sk-container-id-19 input.sk-hidden--visually {border: 0;clip: rect(1px 1px 1px 1px);clip: rect(1px, 1px, 1px, 1px);height: 1px;margin: -1px;overflow: hidden;padding: 0;position: absolute;width: 1px;}#sk-container-id-19 div.sk-estimator {font-family: monospace;background-color: #f0f8ff;border: 1px dotted black;border-radius: 0.25em;box-sizing: border-box;margin-bottom: 0.5em;}#sk-container-id-19 div.sk-estimator:hover {background-color: #d4ebff;}#sk-container-id-19 div.sk-parallel-item::after {content: \"\";width: 100%;border-bottom: 1px solid gray;flex-grow: 1;}#sk-container-id-19 div.sk-label:hover label.sk-toggleable__label {background-color: #d4ebff;}#sk-container-id-19 div.sk-serial::before {content: \"\";position: absolute;border-left: 1px solid gray;box-sizing: border-box;top: 0;bottom: 0;left: 50%;z-index: 0;}#sk-container-id-19 div.sk-serial {display: flex;flex-direction: column;align-items: center;background-color: white;padding-right: 0.2em;padding-left: 0.2em;position: relative;}#sk-container-id-19 div.sk-item {position: relative;z-index: 1;}#sk-container-id-19 div.sk-parallel {display: flex;align-items: stretch;justify-content: center;background-color: white;position: relative;}#sk-container-id-19 div.sk-item::before, #sk-container-id-19 div.sk-parallel-item::before {content: \"\";position: absolute;border-left: 1px solid gray;box-sizing: border-box;top: 0;bottom: 0;left: 50%;z-index: -1;}#sk-container-id-19 div.sk-parallel-item {display: flex;flex-direction: column;z-index: 1;position: relative;background-color: white;}#sk-container-id-19 div.sk-parallel-item:first-child::after {align-self: flex-end;width: 50%;}#sk-container-id-19 div.sk-parallel-item:last-child::after {align-self: flex-start;width: 50%;}#sk-container-id-19 div.sk-parallel-item:only-child::after {width: 0;}#sk-container-id-19 div.sk-dashed-wrapped {border: 1px dashed gray;margin: 0 0.4em 0.5em 0.4em;box-sizing: border-box;padding-bottom: 0.4em;background-color: white;}#sk-container-id-19 div.sk-label label {font-family: monospace;font-weight: bold;display: inline-block;line-height: 1.2em;}#sk-container-id-19 div.sk-label-container {text-align: center;}#sk-container-id-19 div.sk-container {/* jupyter's `normalize.less` sets `[hidden] { display: none; }` but bootstrap.min.css set `[hidden] { display: none !important; }` so we also need the `!important` here to be able to override the default hidden behavior on the sphinx rendered scikit-learn.org. See: https://github.com/scikit-learn/scikit-learn/issues/21755 */display: inline-block !important;position: relative;}#sk-container-id-19 div.sk-text-repr-fallback {display: none;}</style><div id=\"sk-container-id-19\" class=\"sk-top-container\"><div class=\"sk-text-repr-fallback\"><pre>LinearRegression()</pre><b>In a Jupyter environment, please rerun this cell to show the HTML representation or trust the notebook. <br />On GitHub, the HTML representation is unable to render, please try loading this page with nbviewer.org.</b></div><div class=\"sk-container\" hidden><div class=\"sk-item\"><div class=\"sk-estimator sk-toggleable\"><input class=\"sk-toggleable__control sk-hidden--visually\" id=\"sk-estimator-id-27\" type=\"checkbox\" checked><label for=\"sk-estimator-id-27\" class=\"sk-toggleable__label sk-toggleable__label-arrow\">LinearRegression</label><div class=\"sk-toggleable__content\"><pre>LinearRegression()</pre></div></div></div></div></div>"
      ],
      "text/plain": [
       "LinearRegression()"
      ]
     },
     "execution_count": 165,
     "metadata": {},
     "output_type": "execute_result"
    }
   ],
   "source": [
    "model = LinearRegression()\n",
    "model.fit(ohe_features_train, target_train)"
   ]
  },
  {
   "cell_type": "code",
   "execution_count": 166,
   "metadata": {
    "scrolled": true
   },
   "outputs": [
    {
     "name": "stdout",
     "output_type": "stream",
     "text": [
      "CPU times: total: 0 ns\n",
      "Wall time: 0 ns\n"
     ]
    }
   ],
   "source": [
    "%%time\n",
    "\n",
    "pred = model.predict(ohe_features_test)"
   ]
  },
  {
   "cell_type": "code",
   "execution_count": 167,
   "metadata": {},
   "outputs": [
    {
     "name": "stdout",
     "output_type": "stream",
     "text": [
      "Качество модели: 2933.9037947507036\n"
     ]
    }
   ],
   "source": [
    "final_RMSE_LR = mean_squared_error(target_test, pred) ** 0.5\n",
    "print(f'Качество модели: {final_RMSE_LR}')"
   ]
  },
  {
   "cell_type": "markdown",
   "metadata": {},
   "source": [
    "### Регрессия CatBoostRegressor"
   ]
  },
  {
   "cell_type": "code",
   "execution_count": 168,
   "metadata": {},
   "outputs": [
    {
     "data": {
      "text/plain": [
       "<catboost.core.CatBoostRegressor at 0x2b18e171b90>"
      ]
     },
     "execution_count": 168,
     "metadata": {},
     "output_type": "execute_result"
    }
   ],
   "source": [
    "model = CatBoostRegressor(learning_rate=0.5,\n",
    "                          iterations=100,\n",
    "                          depth=10,\n",
    "                          random_state=12345, \n",
    "                          verbose=False) \n",
    "model.fit(ordinal_features_train, target_train)"
   ]
  },
  {
   "cell_type": "code",
   "execution_count": 169,
   "metadata": {},
   "outputs": [
    {
     "name": "stdout",
     "output_type": "stream",
     "text": [
      "CPU times: total: 0 ns\n",
      "Wall time: 5.01 ms\n"
     ]
    }
   ],
   "source": [
    "%%time\n",
    "\n",
    "pred = model.predict(ordinal_features_test)"
   ]
  },
  {
   "cell_type": "code",
   "execution_count": 170,
   "metadata": {},
   "outputs": [
    {
     "name": "stdout",
     "output_type": "stream",
     "text": [
      "Качество модели: 1640.8290980360252\n"
     ]
    }
   ],
   "source": [
    "final_RMSE_CBR_ordinal = mean_squared_error(target_test, pred) ** 0.5\n",
    "print(f'Качество модели: {final_RMSE_CBR_ordinal}')"
   ]
  },
  {
   "cell_type": "markdown",
   "metadata": {},
   "source": [
    "### Регрессия LGBMRegressor"
   ]
  },
  {
   "cell_type": "code",
   "execution_count": 171,
   "metadata": {},
   "outputs": [
    {
     "data": {
      "text/html": [
       "<style>#sk-container-id-20 {color: black;background-color: white;}#sk-container-id-20 pre{padding: 0;}#sk-container-id-20 div.sk-toggleable {background-color: white;}#sk-container-id-20 label.sk-toggleable__label {cursor: pointer;display: block;width: 100%;margin-bottom: 0;padding: 0.3em;box-sizing: border-box;text-align: center;}#sk-container-id-20 label.sk-toggleable__label-arrow:before {content: \"▸\";float: left;margin-right: 0.25em;color: #696969;}#sk-container-id-20 label.sk-toggleable__label-arrow:hover:before {color: black;}#sk-container-id-20 div.sk-estimator:hover label.sk-toggleable__label-arrow:before {color: black;}#sk-container-id-20 div.sk-toggleable__content {max-height: 0;max-width: 0;overflow: hidden;text-align: left;background-color: #f0f8ff;}#sk-container-id-20 div.sk-toggleable__content pre {margin: 0.2em;color: black;border-radius: 0.25em;background-color: #f0f8ff;}#sk-container-id-20 input.sk-toggleable__control:checked~div.sk-toggleable__content {max-height: 200px;max-width: 100%;overflow: auto;}#sk-container-id-20 input.sk-toggleable__control:checked~label.sk-toggleable__label-arrow:before {content: \"▾\";}#sk-container-id-20 div.sk-estimator input.sk-toggleable__control:checked~label.sk-toggleable__label {background-color: #d4ebff;}#sk-container-id-20 div.sk-label input.sk-toggleable__control:checked~label.sk-toggleable__label {background-color: #d4ebff;}#sk-container-id-20 input.sk-hidden--visually {border: 0;clip: rect(1px 1px 1px 1px);clip: rect(1px, 1px, 1px, 1px);height: 1px;margin: -1px;overflow: hidden;padding: 0;position: absolute;width: 1px;}#sk-container-id-20 div.sk-estimator {font-family: monospace;background-color: #f0f8ff;border: 1px dotted black;border-radius: 0.25em;box-sizing: border-box;margin-bottom: 0.5em;}#sk-container-id-20 div.sk-estimator:hover {background-color: #d4ebff;}#sk-container-id-20 div.sk-parallel-item::after {content: \"\";width: 100%;border-bottom: 1px solid gray;flex-grow: 1;}#sk-container-id-20 div.sk-label:hover label.sk-toggleable__label {background-color: #d4ebff;}#sk-container-id-20 div.sk-serial::before {content: \"\";position: absolute;border-left: 1px solid gray;box-sizing: border-box;top: 0;bottom: 0;left: 50%;z-index: 0;}#sk-container-id-20 div.sk-serial {display: flex;flex-direction: column;align-items: center;background-color: white;padding-right: 0.2em;padding-left: 0.2em;position: relative;}#sk-container-id-20 div.sk-item {position: relative;z-index: 1;}#sk-container-id-20 div.sk-parallel {display: flex;align-items: stretch;justify-content: center;background-color: white;position: relative;}#sk-container-id-20 div.sk-item::before, #sk-container-id-20 div.sk-parallel-item::before {content: \"\";position: absolute;border-left: 1px solid gray;box-sizing: border-box;top: 0;bottom: 0;left: 50%;z-index: -1;}#sk-container-id-20 div.sk-parallel-item {display: flex;flex-direction: column;z-index: 1;position: relative;background-color: white;}#sk-container-id-20 div.sk-parallel-item:first-child::after {align-self: flex-end;width: 50%;}#sk-container-id-20 div.sk-parallel-item:last-child::after {align-self: flex-start;width: 50%;}#sk-container-id-20 div.sk-parallel-item:only-child::after {width: 0;}#sk-container-id-20 div.sk-dashed-wrapped {border: 1px dashed gray;margin: 0 0.4em 0.5em 0.4em;box-sizing: border-box;padding-bottom: 0.4em;background-color: white;}#sk-container-id-20 div.sk-label label {font-family: monospace;font-weight: bold;display: inline-block;line-height: 1.2em;}#sk-container-id-20 div.sk-label-container {text-align: center;}#sk-container-id-20 div.sk-container {/* jupyter's `normalize.less` sets `[hidden] { display: none; }` but bootstrap.min.css set `[hidden] { display: none !important; }` so we also need the `!important` here to be able to override the default hidden behavior on the sphinx rendered scikit-learn.org. See: https://github.com/scikit-learn/scikit-learn/issues/21755 */display: inline-block !important;position: relative;}#sk-container-id-20 div.sk-text-repr-fallback {display: none;}</style><div id=\"sk-container-id-20\" class=\"sk-top-container\"><div class=\"sk-text-repr-fallback\"><pre>LGBMRegressor(learning_rate=0.3, num_leaves=100, random_state=19072020)</pre><b>In a Jupyter environment, please rerun this cell to show the HTML representation or trust the notebook. <br />On GitHub, the HTML representation is unable to render, please try loading this page with nbviewer.org.</b></div><div class=\"sk-container\" hidden><div class=\"sk-item\"><div class=\"sk-estimator sk-toggleable\"><input class=\"sk-toggleable__control sk-hidden--visually\" id=\"sk-estimator-id-28\" type=\"checkbox\" checked><label for=\"sk-estimator-id-28\" class=\"sk-toggleable__label sk-toggleable__label-arrow\">LGBMRegressor</label><div class=\"sk-toggleable__content\"><pre>LGBMRegressor(learning_rate=0.3, num_leaves=100, random_state=19072020)</pre></div></div></div></div></div>"
      ],
      "text/plain": [
       "LGBMRegressor(learning_rate=0.3, num_leaves=100, random_state=19072020)"
      ]
     },
     "execution_count": 171,
     "metadata": {},
     "output_type": "execute_result"
    }
   ],
   "source": [
    "model = LGBMRegressor(learning_rate=0.3, \n",
    "                      num_leaves=100, \n",
    "                      random_state=19072020)\n",
    "model.fit(ordinal_features_train, target_train)"
   ]
  },
  {
   "cell_type": "code",
   "execution_count": 172,
   "metadata": {},
   "outputs": [
    {
     "name": "stdout",
     "output_type": "stream",
     "text": [
      "CPU times: total: 344 ms\n",
      "Wall time: 46.8 ms\n"
     ]
    }
   ],
   "source": [
    "%%time\n",
    "\n",
    "pred = model.predict(ordinal_features_test)"
   ]
  },
  {
   "cell_type": "code",
   "execution_count": 173,
   "metadata": {},
   "outputs": [
    {
     "name": "stdout",
     "output_type": "stream",
     "text": [
      "Качество модели: 1620.5686442647614\n"
     ]
    }
   ],
   "source": [
    "final_RMSE_LGBMR = mean_squared_error(target_test, pred) ** 0.5\n",
    "print(f'Качество модели: {final_RMSE_LGBMR}')"
   ]
  },
  {
   "cell_type": "markdown",
   "metadata": {},
   "source": [
    "## Сравнение моделей"
   ]
  },
  {
   "cell_type": "code",
   "execution_count": 174,
   "metadata": {
    "scrolled": true
   },
   "outputs": [
    {
     "data": {
      "text/html": [
       "<div>\n",
       "<style scoped>\n",
       "    .dataframe tbody tr th:only-of-type {\n",
       "        vertical-align: middle;\n",
       "    }\n",
       "\n",
       "    .dataframe tbody tr th {\n",
       "        vertical-align: top;\n",
       "    }\n",
       "\n",
       "    .dataframe thead th {\n",
       "        text-align: right;\n",
       "    }\n",
       "</style>\n",
       "<table border=\"1\" class=\"dataframe\">\n",
       "  <thead>\n",
       "    <tr style=\"text-align: right;\">\n",
       "      <th></th>\n",
       "      <th>RMSE на CV</th>\n",
       "      <th>Время обучения на CV, сек</th>\n",
       "      <th>Время предсказания на тесте, мсек</th>\n",
       "    </tr>\n",
       "    <tr>\n",
       "      <th>Модель</th>\n",
       "      <th></th>\n",
       "      <th></th>\n",
       "      <th></th>\n",
       "    </tr>\n",
       "  </thead>\n",
       "  <tbody>\n",
       "    <tr>\n",
       "      <th>LinearRegression</th>\n",
       "      <td>2922</td>\n",
       "      <td>0.156</td>\n",
       "      <td>0</td>\n",
       "    </tr>\n",
       "    <tr>\n",
       "      <th>CatBoostRegressor</th>\n",
       "      <td>1650</td>\n",
       "      <td>3.900</td>\n",
       "      <td>0</td>\n",
       "    </tr>\n",
       "    <tr>\n",
       "      <th>LightGBMRegressor</th>\n",
       "      <td>1623</td>\n",
       "      <td>26.100</td>\n",
       "      <td>344</td>\n",
       "    </tr>\n",
       "  </tbody>\n",
       "</table>\n",
       "</div>"
      ],
      "text/plain": [
       "                   RMSE на CV  Время обучения на CV, сек  \\\n",
       "Модель                                                     \n",
       "LinearRegression         2922                      0.156   \n",
       "CatBoostRegressor        1650                      3.900   \n",
       "LightGBMRegressor        1623                     26.100   \n",
       "\n",
       "                   Время предсказания на тесте, мсек  \n",
       "Модель                                                \n",
       "LinearRegression                                   0  \n",
       "CatBoostRegressor                                  0  \n",
       "LightGBMRegressor                                344  "
      ]
     },
     "execution_count": 174,
     "metadata": {},
     "output_type": "execute_result"
    }
   ],
   "source": [
    "result = pd.DataFrame([['LinearRegression',2922,0.156,0],\n",
    "                       ['CatBoostRegressor',1650,3.9,0],\n",
    "                       ['LightGBMRegressor',1623,26.1,344]],\n",
    "                        columns=['Модель',\n",
    "                                'RMSE на CV',\n",
    "                                'Время обучения на CV, сек',\n",
    "                                'Время предсказания на тесте, мсек'],\n",
    ")\n",
    "result.set_index('Модель')"
   ]
  },
  {
   "cell_type": "markdown",
   "metadata": {},
   "source": [
    "Как видно из итоговой таблицы быстрее всего обучается модель `LinearRegression`, но при этом качество сильно хуже целевого.\\\n",
    "Лучшее качество показывает модель `LightGBMRegressor`, но при этом дольше остальных обучается и предсказывает."
   ]
  },
  {
   "cell_type": "markdown",
   "metadata": {},
   "source": [
    "## Выводы"
   ]
  },
  {
   "cell_type": "markdown",
   "metadata": {},
   "source": [
    "Анализ данных:\n",
    "- из поля Price убрали 0 значения и цены менее 200 евро (неадекватные цены на автомобиль)\n",
    "- из поля RegistrationYear удалены объекты с годом регистрации менее 1980 г. (неликвид) и более 2023 г.\n",
    "- объекты с мощностью менее 60 л.с (мощность малолитражек) и более 400 л.с.(таких авто в данных очень мало и есть выбросы до 20000 л.с) так же исключены из расчета\n",
    "- к признаках VehicleType, Model, FuelType, Gearbox,Repaired пропуски были за менены на категорию other (таких пропусков мало)\n",
    "- были удалены неинформативные признаки: \n",
    "    - NumberOfPictures `Кол-во фото автомобиля`\n",
    "    - DateCrawled `Дата скачивания анкеты из базы`\n",
    "    - RegistrationMonth `Месяц регитсрации автомобиля`\n",
    "    - DateCreated `Дата создания анкеты`\n",
    "    - LastSeen `Дата последней активности клиента`\n",
    "\n",
    "Обучение моделей:\n",
    "- Модель `LinearRegression` (без градиентного бустинга) сильно уступает в качестве моделям с бустингом, превосходя в скорости обучения и предсказания.\n",
    "- Наилучшее качество 1608 показала модель `LightGBMRegressor`\n",
    "- Но так как заказчику также выжны скорость обучения и скорость предсказания модели, то по совокупности оценок лидером становится модель `CatBoostRegressor`, которая показывает качество наравне с `LightGBMRegressor`, но при этом в разы быстрее обучается и на порядок быстрее предсказывает. "
   ]
  },
  {
   "cell_type": "code",
   "execution_count": null,
   "metadata": {},
   "outputs": [],
   "source": []
  }
 ],
 "metadata": {
  "ExecuteTimeLog": [
   {
    "duration": 506,
    "start_time": "2023-06-04T15:15:49.057Z"
   },
   {
    "duration": 1120,
    "start_time": "2023-06-04T15:16:22.249Z"
   },
   {
    "duration": 22,
    "start_time": "2023-06-04T15:16:31.300Z"
   },
   {
    "duration": 110,
    "start_time": "2023-06-04T15:16:38.809Z"
   },
   {
    "duration": 136,
    "start_time": "2023-06-04T15:16:48.607Z"
   },
   {
    "duration": 7,
    "start_time": "2023-06-04T15:17:52.861Z"
   },
   {
    "duration": 26,
    "start_time": "2023-06-04T15:18:09.811Z"
   },
   {
    "duration": 46,
    "start_time": "2023-06-04T15:19:06.238Z"
   },
   {
    "duration": 60,
    "start_time": "2023-06-04T15:19:49.419Z"
   },
   {
    "duration": 27,
    "start_time": "2023-06-04T15:20:06.339Z"
   },
   {
    "duration": 30,
    "start_time": "2023-06-04T15:20:31.884Z"
   },
   {
    "duration": 29,
    "start_time": "2023-06-04T15:20:38.531Z"
   },
   {
    "duration": 41,
    "start_time": "2023-06-04T15:21:40.654Z"
   },
   {
    "duration": 79,
    "start_time": "2023-06-04T15:22:31.857Z"
   },
   {
    "duration": 58,
    "start_time": "2023-06-04T15:22:44.398Z"
   },
   {
    "duration": 109,
    "start_time": "2023-06-04T15:22:51.007Z"
   },
   {
    "duration": 18,
    "start_time": "2023-06-04T15:23:46.772Z"
   },
   {
    "duration": 24,
    "start_time": "2023-06-04T15:24:01.969Z"
   },
   {
    "duration": 98,
    "start_time": "2023-06-04T15:24:05.657Z"
   },
   {
    "duration": 60,
    "start_time": "2023-06-04T15:24:24.822Z"
   },
   {
    "duration": 107,
    "start_time": "2023-06-04T15:24:29.665Z"
   },
   {
    "duration": 67,
    "start_time": "2023-06-04T15:24:51.549Z"
   },
   {
    "duration": 99,
    "start_time": "2023-06-04T15:24:51.944Z"
   },
   {
    "duration": 67,
    "start_time": "2023-06-04T15:25:34.387Z"
   },
   {
    "duration": 19,
    "start_time": "2023-06-04T15:25:44.578Z"
   },
   {
    "duration": 15,
    "start_time": "2023-06-04T15:27:15.745Z"
   },
   {
    "duration": 19,
    "start_time": "2023-06-04T15:27:29.393Z"
   },
   {
    "duration": 19,
    "start_time": "2023-06-04T15:27:41.881Z"
   },
   {
    "duration": 24,
    "start_time": "2023-06-04T15:28:04.166Z"
   },
   {
    "duration": 2,
    "start_time": "2023-06-04T15:29:01.560Z"
   },
   {
    "duration": 3,
    "start_time": "2023-06-04T15:29:01.842Z"
   },
   {
    "duration": 16,
    "start_time": "2023-06-04T15:29:05.082Z"
   },
   {
    "duration": 21,
    "start_time": "2023-06-04T15:29:06.912Z"
   },
   {
    "duration": 62,
    "start_time": "2023-06-04T15:29:25.732Z"
   },
   {
    "duration": 2,
    "start_time": "2023-06-04T15:29:27.898Z"
   },
   {
    "duration": 49,
    "start_time": "2023-06-04T15:29:28.194Z"
   },
   {
    "duration": 842,
    "start_time": "2023-06-04T15:29:31.453Z"
   },
   {
    "duration": 13,
    "start_time": "2023-06-04T15:29:33.075Z"
   },
   {
    "duration": 112,
    "start_time": "2023-06-04T15:29:35.333Z"
   },
   {
    "duration": 84,
    "start_time": "2023-06-04T15:29:38.933Z"
   },
   {
    "duration": 20,
    "start_time": "2023-06-04T15:29:41.553Z"
   },
   {
    "duration": 19,
    "start_time": "2023-06-04T15:29:53.061Z"
   },
   {
    "duration": 19,
    "start_time": "2023-06-04T15:29:55.682Z"
   },
   {
    "duration": 26,
    "start_time": "2023-06-04T15:30:38.321Z"
   },
   {
    "duration": 19,
    "start_time": "2023-06-04T15:31:10.686Z"
   },
   {
    "duration": 8,
    "start_time": "2023-06-04T15:31:18.839Z"
   },
   {
    "duration": 8,
    "start_time": "2023-06-04T15:31:30.068Z"
   },
   {
    "duration": 780,
    "start_time": "2023-06-04T15:31:34.188Z"
   },
   {
    "duration": 13,
    "start_time": "2023-06-04T15:31:34.970Z"
   },
   {
    "duration": 117,
    "start_time": "2023-06-04T15:31:34.985Z"
   },
   {
    "duration": 93,
    "start_time": "2023-06-04T15:31:35.105Z"
   },
   {
    "duration": 18,
    "start_time": "2023-06-04T15:31:38.856Z"
   },
   {
    "duration": 17,
    "start_time": "2023-06-04T15:31:39.565Z"
   },
   {
    "duration": 20,
    "start_time": "2023-06-04T15:31:41.671Z"
   },
   {
    "duration": 6,
    "start_time": "2023-06-04T15:31:42.801Z"
   },
   {
    "duration": 8,
    "start_time": "2023-06-04T15:31:55.381Z"
   },
   {
    "duration": 18,
    "start_time": "2023-06-04T15:32:12.454Z"
   },
   {
    "duration": 19,
    "start_time": "2023-06-04T15:32:16.290Z"
   },
   {
    "duration": 19,
    "start_time": "2023-06-04T15:32:25.805Z"
   },
   {
    "duration": 22,
    "start_time": "2023-06-04T15:32:51.020Z"
   },
   {
    "duration": 17,
    "start_time": "2023-06-04T15:33:28.719Z"
   },
   {
    "duration": 109,
    "start_time": "2023-06-04T15:33:43.880Z"
   },
   {
    "duration": 8,
    "start_time": "2023-06-04T15:34:23.874Z"
   },
   {
    "duration": 8,
    "start_time": "2023-06-04T15:34:53.972Z"
   },
   {
    "duration": 19,
    "start_time": "2023-06-04T15:35:11.286Z"
   },
   {
    "duration": 20,
    "start_time": "2023-06-04T15:36:44.541Z"
   },
   {
    "duration": 104,
    "start_time": "2023-06-04T15:36:55.274Z"
   },
   {
    "duration": 18,
    "start_time": "2023-06-04T15:37:14.052Z"
   },
   {
    "duration": 49,
    "start_time": "2023-06-04T15:38:27.868Z"
   },
   {
    "duration": 105,
    "start_time": "2023-06-04T15:38:35.389Z"
   },
   {
    "duration": 10,
    "start_time": "2023-06-04T15:40:05.726Z"
   },
   {
    "duration": 9,
    "start_time": "2023-06-04T15:40:15.619Z"
   },
   {
    "duration": 45,
    "start_time": "2023-06-04T15:40:31.767Z"
   },
   {
    "duration": 98,
    "start_time": "2023-06-04T15:40:47.080Z"
   },
   {
    "duration": 727,
    "start_time": "2023-06-04T15:41:09.005Z"
   },
   {
    "duration": 15,
    "start_time": "2023-06-04T15:41:09.734Z"
   },
   {
    "duration": 105,
    "start_time": "2023-06-04T15:41:11.030Z"
   },
   {
    "duration": 85,
    "start_time": "2023-06-04T15:41:12.975Z"
   },
   {
    "duration": 41,
    "start_time": "2023-06-04T15:41:16.516Z"
   },
   {
    "duration": 8,
    "start_time": "2023-06-04T15:41:48.613Z"
   },
   {
    "duration": 9,
    "start_time": "2023-06-04T15:42:01.191Z"
   },
   {
    "duration": 12,
    "start_time": "2023-06-04T15:42:13.978Z"
   },
   {
    "duration": 9,
    "start_time": "2023-06-04T15:42:17.084Z"
   },
   {
    "duration": 22,
    "start_time": "2023-06-04T15:42:40.680Z"
   },
   {
    "duration": 9,
    "start_time": "2023-06-04T15:43:48.192Z"
   },
   {
    "duration": 10,
    "start_time": "2023-06-04T15:44:14.182Z"
   },
   {
    "duration": 10,
    "start_time": "2023-06-04T15:44:25.870Z"
   },
   {
    "duration": 12,
    "start_time": "2023-06-04T15:44:53.088Z"
   },
   {
    "duration": 10,
    "start_time": "2023-06-04T15:45:29.579Z"
   },
   {
    "duration": 54,
    "start_time": "2023-06-04T15:45:39.668Z"
   },
   {
    "duration": 24,
    "start_time": "2023-06-04T15:45:46.768Z"
   },
   {
    "duration": 11,
    "start_time": "2023-06-04T15:46:21.556Z"
   },
   {
    "duration": 21,
    "start_time": "2023-06-04T15:46:28.165Z"
   },
   {
    "duration": 874,
    "start_time": "2023-06-04T15:46:56.144Z"
   },
   {
    "duration": 147,
    "start_time": "2023-06-04T15:47:02.791Z"
   },
   {
    "duration": 351,
    "start_time": "2023-06-04T15:47:06.421Z"
   },
   {
    "duration": 178,
    "start_time": "2023-06-04T15:47:18.199Z"
   },
   {
    "duration": 157,
    "start_time": "2023-06-04T15:47:44.604Z"
   },
   {
    "duration": 1530,
    "start_time": "2023-06-04T15:47:49.457Z"
   },
   {
    "duration": 129,
    "start_time": "2023-06-04T15:47:59.756Z"
   },
   {
    "duration": 137,
    "start_time": "2023-06-04T15:48:05.147Z"
   },
   {
    "duration": 153,
    "start_time": "2023-06-04T15:48:35.052Z"
   },
   {
    "duration": 6,
    "start_time": "2023-06-04T15:48:45.133Z"
   },
   {
    "duration": 9,
    "start_time": "2023-06-04T15:49:09.078Z"
   },
   {
    "duration": 9,
    "start_time": "2023-06-04T15:49:19.619Z"
   },
   {
    "duration": 8,
    "start_time": "2023-06-04T15:49:30.662Z"
   },
   {
    "duration": 9,
    "start_time": "2023-06-04T15:49:44.640Z"
   },
   {
    "duration": 8,
    "start_time": "2023-06-04T15:49:55.242Z"
   },
   {
    "duration": 10,
    "start_time": "2023-06-04T15:50:29.073Z"
   },
   {
    "duration": 7,
    "start_time": "2023-06-04T15:50:37.603Z"
   },
   {
    "duration": 8,
    "start_time": "2023-06-04T15:50:47.881Z"
   },
   {
    "duration": 74,
    "start_time": "2023-06-04T15:52:37.845Z"
   },
   {
    "duration": 25,
    "start_time": "2023-06-04T15:53:03.254Z"
   },
   {
    "duration": 68,
    "start_time": "2023-06-04T15:53:17.260Z"
   },
   {
    "duration": 4,
    "start_time": "2023-06-04T15:54:23.473Z"
   },
   {
    "duration": 71,
    "start_time": "2023-06-04T15:54:29.289Z"
   },
   {
    "duration": 89,
    "start_time": "2023-06-04T15:54:48.046Z"
   },
   {
    "duration": 67,
    "start_time": "2023-06-04T15:54:56.070Z"
   },
   {
    "duration": 72,
    "start_time": "2023-06-04T15:55:12.381Z"
   },
   {
    "duration": 69,
    "start_time": "2023-06-04T15:55:18.807Z"
   },
   {
    "duration": 70,
    "start_time": "2023-06-04T15:55:57.417Z"
   },
   {
    "duration": 58,
    "start_time": "2023-06-04T15:56:22.094Z"
   },
   {
    "duration": 101,
    "start_time": "2023-06-04T15:56:35.332Z"
   },
   {
    "duration": 918,
    "start_time": "2023-06-04T15:56:54.398Z"
   },
   {
    "duration": 129,
    "start_time": "2023-06-04T15:57:06.224Z"
   },
   {
    "duration": 177,
    "start_time": "2023-06-04T15:57:15.281Z"
   },
   {
    "duration": 788,
    "start_time": "2023-06-04T15:58:10.038Z"
   },
   {
    "duration": 16,
    "start_time": "2023-06-04T15:58:10.828Z"
   },
   {
    "duration": 118,
    "start_time": "2023-06-04T15:58:10.845Z"
   },
   {
    "duration": 95,
    "start_time": "2023-06-04T15:58:13.611Z"
   },
   {
    "duration": 206,
    "start_time": "2023-06-04T15:58:19.237Z"
   },
   {
    "duration": 242,
    "start_time": "2023-06-04T15:58:57.984Z"
   },
   {
    "duration": 250,
    "start_time": "2023-06-04T15:59:08.307Z"
   },
   {
    "duration": 291,
    "start_time": "2023-06-04T15:59:14.102Z"
   },
   {
    "duration": 1676,
    "start_time": "2023-06-04T15:59:17.600Z"
   },
   {
    "duration": 38,
    "start_time": "2023-06-04T16:00:16.609Z"
   },
   {
    "duration": 216,
    "start_time": "2023-06-04T16:00:17.360Z"
   },
   {
    "duration": 61,
    "start_time": "2023-06-04T16:01:36.554Z"
   },
   {
    "duration": 189,
    "start_time": "2023-06-04T16:01:37.161Z"
   },
   {
    "duration": 252,
    "start_time": "2023-06-04T16:01:55.233Z"
   },
   {
    "duration": 175,
    "start_time": "2023-06-04T16:01:59.447Z"
   },
   {
    "duration": 52,
    "start_time": "2023-06-04T16:02:18.485Z"
   },
   {
    "duration": 56,
    "start_time": "2023-06-04T16:02:20.839Z"
   },
   {
    "duration": 51,
    "start_time": "2023-06-04T16:02:22.183Z"
   },
   {
    "duration": 754,
    "start_time": "2023-06-04T16:02:44.711Z"
   },
   {
    "duration": 14,
    "start_time": "2023-06-04T16:02:45.467Z"
   },
   {
    "duration": 114,
    "start_time": "2023-06-04T16:02:45.483Z"
   },
   {
    "duration": 110,
    "start_time": "2023-06-04T16:02:48.283Z"
   },
   {
    "duration": 719,
    "start_time": "2023-06-04T16:04:01.506Z"
   },
   {
    "duration": 182,
    "start_time": "2023-06-04T16:04:08.705Z"
   },
   {
    "duration": 178,
    "start_time": "2023-06-04T16:04:20.800Z"
   },
   {
    "duration": 188,
    "start_time": "2023-06-04T16:04:28.028Z"
   },
   {
    "duration": 50,
    "start_time": "2023-06-04T16:04:38.977Z"
   },
   {
    "duration": 597,
    "start_time": "2023-06-04T16:04:42.835Z"
   },
   {
    "duration": 212,
    "start_time": "2023-06-04T16:05:12.367Z"
   },
   {
    "duration": 221,
    "start_time": "2023-06-04T16:05:25.917Z"
   },
   {
    "duration": 17,
    "start_time": "2023-06-04T16:06:06.139Z"
   },
   {
    "duration": 12,
    "start_time": "2023-06-04T16:06:15.638Z"
   },
   {
    "duration": 318,
    "start_time": "2023-06-04T16:06:48.999Z"
   },
   {
    "duration": 320,
    "start_time": "2023-06-04T16:07:07.653Z"
   },
   {
    "duration": 299,
    "start_time": "2023-06-04T16:07:12.291Z"
   },
   {
    "duration": 16,
    "start_time": "2023-06-04T16:08:12.759Z"
   },
   {
    "duration": 13,
    "start_time": "2023-06-04T16:08:21.215Z"
   },
   {
    "duration": 43,
    "start_time": "2023-06-04T16:08:29.794Z"
   },
   {
    "duration": 13,
    "start_time": "2023-06-04T16:08:32.743Z"
   },
   {
    "duration": 38,
    "start_time": "2023-06-04T16:08:57.440Z"
   },
   {
    "duration": 88,
    "start_time": "2023-06-04T16:09:07.642Z"
   },
   {
    "duration": 198,
    "start_time": "2023-06-04T16:09:40.879Z"
   },
   {
    "duration": 737,
    "start_time": "2023-06-04T16:10:26.568Z"
   },
   {
    "duration": 14,
    "start_time": "2023-06-04T16:10:27.307Z"
   },
   {
    "duration": 125,
    "start_time": "2023-06-04T16:10:27.323Z"
   },
   {
    "duration": 87,
    "start_time": "2023-06-04T16:10:29.673Z"
   },
   {
    "duration": 153,
    "start_time": "2023-06-04T16:10:37.384Z"
   },
   {
    "duration": 328,
    "start_time": "2023-06-04T16:11:01.781Z"
   },
   {
    "duration": 277,
    "start_time": "2023-06-04T16:11:34.215Z"
   },
   {
    "duration": 783,
    "start_time": "2023-06-04T16:11:50.186Z"
   },
   {
    "duration": 184,
    "start_time": "2023-06-04T16:11:57.302Z"
   },
   {
    "duration": 157,
    "start_time": "2023-06-04T16:12:24.726Z"
   },
   {
    "duration": 151,
    "start_time": "2023-06-04T16:12:30.874Z"
   },
   {
    "duration": 61,
    "start_time": "2023-06-04T16:13:25.971Z"
   },
   {
    "duration": 37,
    "start_time": "2023-06-04T16:13:39.341Z"
   },
   {
    "duration": 5,
    "start_time": "2023-06-04T16:17:00.789Z"
   },
   {
    "duration": 23,
    "start_time": "2023-06-04T16:17:09.546Z"
   },
   {
    "duration": 694,
    "start_time": "2023-06-04T16:17:28.713Z"
   },
   {
    "duration": 12,
    "start_time": "2023-06-04T16:17:29.410Z"
   },
   {
    "duration": 118,
    "start_time": "2023-06-04T16:17:29.424Z"
   },
   {
    "duration": 91,
    "start_time": "2023-06-04T16:17:32.285Z"
   },
   {
    "duration": 9,
    "start_time": "2023-06-04T16:17:34.897Z"
   },
   {
    "duration": 28,
    "start_time": "2023-06-04T16:17:39.762Z"
   },
   {
    "duration": 57,
    "start_time": "2023-06-04T16:17:51.605Z"
   },
   {
    "duration": 50,
    "start_time": "2023-06-04T16:17:55.840Z"
   },
   {
    "duration": 91,
    "start_time": "2023-06-04T16:17:57.811Z"
   },
   {
    "duration": 889,
    "start_time": "2023-06-04T16:18:47.355Z"
   },
   {
    "duration": 19,
    "start_time": "2023-06-04T16:18:48.247Z"
   },
   {
    "duration": 180,
    "start_time": "2023-06-04T16:18:48.268Z"
   },
   {
    "duration": 94,
    "start_time": "2023-06-04T16:18:50.414Z"
   },
   {
    "duration": 231,
    "start_time": "2023-06-04T16:19:23.988Z"
   },
   {
    "duration": 240,
    "start_time": "2023-06-04T16:19:49.552Z"
   },
   {
    "duration": 195,
    "start_time": "2023-06-04T16:20:04.505Z"
   },
   {
    "duration": 163,
    "start_time": "2023-06-04T16:20:08.503Z"
   },
   {
    "duration": 32,
    "start_time": "2023-06-04T16:20:38.007Z"
   },
   {
    "duration": 18,
    "start_time": "2023-06-04T16:20:49.348Z"
   },
   {
    "duration": 15,
    "start_time": "2023-06-04T16:22:25.449Z"
   },
   {
    "duration": 33,
    "start_time": "2023-06-04T16:22:26.374Z"
   },
   {
    "duration": 761,
    "start_time": "2023-06-04T16:22:37.707Z"
   },
   {
    "duration": 13,
    "start_time": "2023-06-04T16:22:38.470Z"
   },
   {
    "duration": 121,
    "start_time": "2023-06-04T16:22:38.484Z"
   },
   {
    "duration": 91,
    "start_time": "2023-06-04T16:22:38.608Z"
   },
   {
    "duration": 162,
    "start_time": "2023-06-04T16:22:40.720Z"
   },
   {
    "duration": 19,
    "start_time": "2023-06-04T16:22:45.462Z"
   },
   {
    "duration": 43,
    "start_time": "2023-06-04T16:22:51.494Z"
   },
   {
    "duration": 90,
    "start_time": "2023-06-04T16:22:53.982Z"
   },
   {
    "duration": 168,
    "start_time": "2023-06-04T16:23:27.387Z"
   },
   {
    "duration": 227,
    "start_time": "2023-06-04T16:23:50.607Z"
   },
   {
    "duration": 4,
    "start_time": "2023-06-04T16:24:12.461Z"
   },
   {
    "duration": 214,
    "start_time": "2023-06-04T16:24:21.713Z"
   },
   {
    "duration": 221,
    "start_time": "2023-06-04T16:24:28.904Z"
   },
   {
    "duration": 28,
    "start_time": "2023-06-04T16:24:54.342Z"
   },
   {
    "duration": 739,
    "start_time": "2023-06-04T16:25:02.359Z"
   },
   {
    "duration": 162,
    "start_time": "2023-06-04T16:25:08.495Z"
   },
   {
    "duration": 250,
    "start_time": "2023-06-04T16:25:11.865Z"
   },
   {
    "duration": 17,
    "start_time": "2023-06-04T16:25:28.151Z"
   },
   {
    "duration": 11,
    "start_time": "2023-06-04T16:25:33.794Z"
   },
   {
    "duration": 49,
    "start_time": "2023-06-04T16:25:52.215Z"
   },
   {
    "duration": 91,
    "start_time": "2023-06-04T16:26:00.784Z"
   },
   {
    "duration": 161,
    "start_time": "2023-06-04T16:26:24.433Z"
   },
   {
    "duration": 179,
    "start_time": "2023-06-04T16:26:47.825Z"
   },
   {
    "duration": 233,
    "start_time": "2023-06-04T16:26:56.371Z"
   },
   {
    "duration": 188,
    "start_time": "2023-06-04T16:27:15.159Z"
   },
   {
    "duration": 1536,
    "start_time": "2023-06-04T16:27:41.331Z"
   },
   {
    "duration": 63,
    "start_time": "2023-06-04T16:27:51.097Z"
   },
   {
    "duration": 239,
    "start_time": "2023-06-04T16:28:07.034Z"
   },
   {
    "duration": 227,
    "start_time": "2023-06-04T16:28:12.881Z"
   },
   {
    "duration": 290,
    "start_time": "2023-06-04T16:28:15.179Z"
   },
   {
    "duration": 305,
    "start_time": "2023-06-04T16:28:29.346Z"
   },
   {
    "duration": 320,
    "start_time": "2023-06-04T16:28:46.440Z"
   },
   {
    "duration": 832,
    "start_time": "2023-06-04T16:28:51.218Z"
   },
   {
    "duration": 219,
    "start_time": "2023-06-04T16:29:12.393Z"
   },
   {
    "duration": 224,
    "start_time": "2023-06-04T16:29:35.543Z"
   },
   {
    "duration": 245,
    "start_time": "2023-06-04T16:29:40.313Z"
   },
   {
    "duration": 217,
    "start_time": "2023-06-04T16:29:49.424Z"
   },
   {
    "duration": 47,
    "start_time": "2023-06-04T16:30:34.644Z"
   },
   {
    "duration": 86,
    "start_time": "2023-06-04T16:30:46.549Z"
   },
   {
    "duration": 9,
    "start_time": "2023-06-04T16:31:33.532Z"
   },
   {
    "duration": 7,
    "start_time": "2023-06-04T16:31:43.488Z"
   },
   {
    "duration": 401,
    "start_time": "2023-06-11T14:13:27.855Z"
   },
   {
    "duration": 3,
    "start_time": "2023-06-11T14:13:28.258Z"
   },
   {
    "duration": 1328,
    "start_time": "2023-06-11T14:13:28.453Z"
   },
   {
    "duration": 19,
    "start_time": "2023-06-11T14:13:29.783Z"
   },
   {
    "duration": 160,
    "start_time": "2023-06-11T14:13:31.254Z"
   },
   {
    "duration": 98,
    "start_time": "2023-06-11T14:13:32.972Z"
   },
   {
    "duration": 763,
    "start_time": "2023-06-11T14:14:24.475Z"
   },
   {
    "duration": 223,
    "start_time": "2023-06-11T14:14:35.882Z"
   },
   {
    "duration": 262,
    "start_time": "2023-06-11T14:14:41.337Z"
   },
   {
    "duration": 252,
    "start_time": "2023-06-11T14:14:49.615Z"
   },
   {
    "duration": 22,
    "start_time": "2023-06-11T14:15:15.351Z"
   },
   {
    "duration": 42,
    "start_time": "2023-06-11T14:15:16.153Z"
   },
   {
    "duration": 4,
    "start_time": "2023-06-11T14:15:52.783Z"
   },
   {
    "duration": 3,
    "start_time": "2023-06-11T14:15:53.016Z"
   },
   {
    "duration": 990,
    "start_time": "2023-06-11T14:15:53.284Z"
   },
   {
    "duration": 23,
    "start_time": "2023-06-11T14:15:54.278Z"
   },
   {
    "duration": 232,
    "start_time": "2023-06-11T14:15:54.302Z"
   },
   {
    "duration": 99,
    "start_time": "2023-06-11T14:15:57.123Z"
   },
   {
    "duration": 186,
    "start_time": "2023-06-11T14:16:06.758Z"
   },
   {
    "duration": 206,
    "start_time": "2023-06-11T14:16:36.891Z"
   },
   {
    "duration": 181,
    "start_time": "2023-06-11T14:16:42.500Z"
   },
   {
    "duration": 208,
    "start_time": "2023-06-11T14:17:00.290Z"
   },
   {
    "duration": 15,
    "start_time": "2023-06-11T14:18:03.424Z"
   },
   {
    "duration": 21,
    "start_time": "2023-06-11T14:18:25.473Z"
   },
   {
    "duration": 19,
    "start_time": "2023-06-11T14:20:09.566Z"
   },
   {
    "duration": 17,
    "start_time": "2023-06-11T14:20:41.664Z"
   },
   {
    "duration": 11,
    "start_time": "2023-06-11T14:20:51.745Z"
   },
   {
    "duration": 14,
    "start_time": "2023-06-11T14:21:02.272Z"
   },
   {
    "duration": 34,
    "start_time": "2023-06-11T14:21:08.587Z"
   },
   {
    "duration": 89,
    "start_time": "2023-06-11T14:21:08.876Z"
   },
   {
    "duration": 256,
    "start_time": "2023-06-11T14:27:25.567Z"
   },
   {
    "duration": 10,
    "start_time": "2023-06-11T14:27:43.992Z"
   },
   {
    "duration": 44,
    "start_time": "2023-06-11T14:28:47.851Z"
   },
   {
    "duration": 103,
    "start_time": "2023-06-11T14:28:49.014Z"
   },
   {
    "duration": 222,
    "start_time": "2023-06-11T14:31:25.473Z"
   },
   {
    "duration": 229,
    "start_time": "2023-06-11T14:31:27.853Z"
   },
   {
    "duration": 282,
    "start_time": "2023-06-11T14:31:54.597Z"
   },
   {
    "duration": 42,
    "start_time": "2023-06-11T14:35:12.958Z"
   },
   {
    "duration": 87,
    "start_time": "2023-06-11T14:35:14.161Z"
   },
   {
    "duration": 11,
    "start_time": "2023-06-11T14:36:53.382Z"
   },
   {
    "duration": 11,
    "start_time": "2023-06-11T14:39:55.857Z"
   },
   {
    "duration": 112,
    "start_time": "2023-06-11T14:39:58.427Z"
   },
   {
    "duration": 44,
    "start_time": "2023-06-11T14:40:02.617Z"
   },
   {
    "duration": 10,
    "start_time": "2023-06-11T14:40:07.249Z"
   },
   {
    "duration": 120,
    "start_time": "2023-06-11T14:40:22.919Z"
   },
   {
    "duration": 9,
    "start_time": "2023-06-11T14:40:52.017Z"
   },
   {
    "duration": 8,
    "start_time": "2023-06-11T14:42:15.100Z"
   },
   {
    "duration": 34,
    "start_time": "2023-06-11T14:42:54.271Z"
   },
   {
    "duration": 10,
    "start_time": "2023-06-11T14:43:21.690Z"
   },
   {
    "duration": 135,
    "start_time": "2023-06-11T14:44:43.895Z"
   },
   {
    "duration": 17,
    "start_time": "2023-06-11T14:45:13.699Z"
   },
   {
    "duration": 15,
    "start_time": "2023-06-11T14:45:43.573Z"
   },
   {
    "duration": 26,
    "start_time": "2023-06-11T14:46:03.454Z"
   },
   {
    "duration": 20,
    "start_time": "2023-06-11T14:46:16.208Z"
   },
   {
    "duration": 18,
    "start_time": "2023-06-11T14:46:31.487Z"
   },
   {
    "duration": 53,
    "start_time": "2023-06-11T14:46:38.819Z"
   },
   {
    "duration": 19,
    "start_time": "2023-06-11T14:47:02.155Z"
   },
   {
    "duration": 17,
    "start_time": "2023-06-11T14:47:26.560Z"
   },
   {
    "duration": 63,
    "start_time": "2023-06-11T14:51:54.918Z"
   },
   {
    "duration": 128,
    "start_time": "2023-06-11T14:52:01.773Z"
   },
   {
    "duration": 34,
    "start_time": "2023-06-11T14:52:57.289Z"
   },
   {
    "duration": 23,
    "start_time": "2023-06-11T14:53:11.778Z"
   },
   {
    "duration": 141,
    "start_time": "2023-06-11T14:53:16.455Z"
   },
   {
    "duration": 166,
    "start_time": "2023-06-11T14:53:38.892Z"
   },
   {
    "duration": 96,
    "start_time": "2023-06-11T14:53:40.054Z"
   },
   {
    "duration": 877,
    "start_time": "2023-06-11T14:54:45.358Z"
   },
   {
    "duration": 31,
    "start_time": "2023-06-11T14:54:56.968Z"
   },
   {
    "duration": 22,
    "start_time": "2023-06-11T14:55:05.549Z"
   },
   {
    "duration": 220,
    "start_time": "2023-06-11T14:55:05.573Z"
   },
   {
    "duration": 105,
    "start_time": "2023-06-11T14:55:05.794Z"
   },
   {
    "duration": 206,
    "start_time": "2023-06-11T14:55:05.901Z"
   },
   {
    "duration": 206,
    "start_time": "2023-06-11T14:55:06.109Z"
   },
   {
    "duration": 282,
    "start_time": "2023-06-11T14:55:06.326Z"
   },
   {
    "duration": 49,
    "start_time": "2023-06-11T14:55:06.610Z"
   },
   {
    "duration": 43,
    "start_time": "2023-06-11T14:55:06.664Z"
   },
   {
    "duration": 13,
    "start_time": "2023-06-11T14:55:06.708Z"
   },
   {
    "duration": 75,
    "start_time": "2023-06-11T14:55:06.723Z"
   },
   {
    "duration": 97,
    "start_time": "2023-06-11T14:55:06.800Z"
   },
   {
    "duration": 234,
    "start_time": "2023-06-11T14:55:06.898Z"
   },
   {
    "duration": 22,
    "start_time": "2023-06-11T14:55:07.142Z"
   },
   {
    "duration": 53,
    "start_time": "2023-06-11T14:55:07.167Z"
   },
   {
    "duration": 143,
    "start_time": "2023-06-11T14:55:07.222Z"
   },
   {
    "duration": 234,
    "start_time": "2023-06-11T14:55:07.367Z"
   },
   {
    "duration": 255,
    "start_time": "2023-06-11T14:55:07.603Z"
   },
   {
    "duration": 39,
    "start_time": "2023-06-11T14:55:07.861Z"
   },
   {
    "duration": 84,
    "start_time": "2023-06-11T14:55:07.902Z"
   },
   {
    "duration": 8,
    "start_time": "2023-06-11T14:55:07.988Z"
   },
   {
    "duration": 63,
    "start_time": "2023-06-11T14:55:07.997Z"
   },
   {
    "duration": 95,
    "start_time": "2023-06-11T14:55:08.061Z"
   },
   {
    "duration": 9,
    "start_time": "2023-06-11T14:55:08.164Z"
   },
   {
    "duration": 60,
    "start_time": "2023-06-11T14:55:08.175Z"
   },
   {
    "duration": 198,
    "start_time": "2023-06-11T14:55:08.239Z"
   },
   {
    "duration": 53,
    "start_time": "2023-06-11T14:55:08.441Z"
   },
   {
    "duration": 25,
    "start_time": "2023-06-11T14:55:08.496Z"
   },
   {
    "duration": 62,
    "start_time": "2023-06-11T14:55:08.522Z"
   },
   {
    "duration": 34,
    "start_time": "2023-06-11T14:55:08.586Z"
   },
   {
    "duration": 52,
    "start_time": "2023-06-11T14:55:08.622Z"
   },
   {
    "duration": 53,
    "start_time": "2023-06-11T14:55:08.676Z"
   },
   {
    "duration": 191,
    "start_time": "2023-06-11T14:55:08.733Z"
   },
   {
    "duration": 151,
    "start_time": "2023-06-11T14:55:08.925Z"
   },
   {
    "duration": 872,
    "start_time": "2023-06-11T14:56:12.554Z"
   },
   {
    "duration": 20,
    "start_time": "2023-06-11T15:02:50.214Z"
   },
   {
    "duration": 110,
    "start_time": "2023-06-11T15:02:50.918Z"
   },
   {
    "duration": 8,
    "start_time": "2023-06-11T15:03:56.802Z"
   },
   {
    "duration": 57,
    "start_time": "2023-06-11T15:03:56.817Z"
   },
   {
    "duration": 867,
    "start_time": "2023-06-11T15:03:56.877Z"
   },
   {
    "duration": 21,
    "start_time": "2023-06-11T15:03:57.751Z"
   },
   {
    "duration": 13,
    "start_time": "2023-06-11T15:03:57.775Z"
   },
   {
    "duration": 172,
    "start_time": "2023-06-11T15:03:57.791Z"
   },
   {
    "duration": 100,
    "start_time": "2023-06-11T15:03:57.966Z"
   },
   {
    "duration": 198,
    "start_time": "2023-06-11T15:03:58.070Z"
   },
   {
    "duration": 199,
    "start_time": "2023-06-11T15:03:58.270Z"
   },
   {
    "duration": 180,
    "start_time": "2023-06-11T15:03:58.471Z"
   },
   {
    "duration": 26,
    "start_time": "2023-06-11T15:03:58.657Z"
   },
   {
    "duration": 15,
    "start_time": "2023-06-11T15:03:58.685Z"
   },
   {
    "duration": 13,
    "start_time": "2023-06-11T15:03:58.701Z"
   },
   {
    "duration": 62,
    "start_time": "2023-06-11T15:03:58.716Z"
   },
   {
    "duration": 109,
    "start_time": "2023-06-11T15:03:58.781Z"
   },
   {
    "duration": 268,
    "start_time": "2023-06-11T15:03:58.892Z"
   },
   {
    "duration": 11,
    "start_time": "2023-06-11T15:03:59.163Z"
   },
   {
    "duration": 47,
    "start_time": "2023-06-11T15:03:59.176Z"
   },
   {
    "duration": 88,
    "start_time": "2023-06-11T15:03:59.233Z"
   },
   {
    "duration": 242,
    "start_time": "2023-06-11T15:03:59.323Z"
   },
   {
    "duration": 224,
    "start_time": "2023-06-11T15:03:59.566Z"
   },
   {
    "duration": 51,
    "start_time": "2023-06-11T15:03:59.792Z"
   },
   {
    "duration": 86,
    "start_time": "2023-06-11T15:03:59.850Z"
   },
   {
    "duration": 23,
    "start_time": "2023-06-11T15:03:59.938Z"
   },
   {
    "duration": 36,
    "start_time": "2023-06-11T15:03:59.963Z"
   },
   {
    "duration": 126,
    "start_time": "2023-06-11T15:04:00.001Z"
   },
   {
    "duration": 27,
    "start_time": "2023-06-11T15:04:00.136Z"
   },
   {
    "duration": 18,
    "start_time": "2023-06-11T15:04:00.165Z"
   },
   {
    "duration": 66,
    "start_time": "2023-06-11T15:04:00.186Z"
   },
   {
    "duration": 28,
    "start_time": "2023-06-11T15:04:00.256Z"
   },
   {
    "duration": 25,
    "start_time": "2023-06-11T15:04:00.286Z"
   },
   {
    "duration": 66,
    "start_time": "2023-06-11T15:04:00.313Z"
   },
   {
    "duration": 153,
    "start_time": "2023-06-11T15:04:00.381Z"
   },
   {
    "duration": 33,
    "start_time": "2023-06-11T15:04:00.539Z"
   },
   {
    "duration": 60,
    "start_time": "2023-06-11T15:04:00.573Z"
   },
   {
    "duration": 69,
    "start_time": "2023-06-11T15:04:19.686Z"
   },
   {
    "duration": 42,
    "start_time": "2023-06-11T15:07:50.069Z"
   },
   {
    "duration": 15,
    "start_time": "2023-06-11T15:09:57.509Z"
   },
   {
    "duration": 21,
    "start_time": "2023-06-11T15:10:07.040Z"
   },
   {
    "duration": 4,
    "start_time": "2023-06-11T15:10:10.107Z"
   },
   {
    "duration": 42,
    "start_time": "2023-06-11T15:19:00.142Z"
   },
   {
    "duration": 14,
    "start_time": "2023-06-11T15:19:00.785Z"
   },
   {
    "duration": 11,
    "start_time": "2023-06-11T15:24:03.839Z"
   },
   {
    "duration": 122,
    "start_time": "2023-06-11T15:24:09.189Z"
   },
   {
    "duration": 63,
    "start_time": "2023-06-11T15:25:23.040Z"
   },
   {
    "duration": 4,
    "start_time": "2023-06-11T15:25:38.182Z"
   },
   {
    "duration": 5,
    "start_time": "2023-06-11T15:25:46.076Z"
   },
   {
    "duration": 77,
    "start_time": "2023-06-11T15:26:06.807Z"
   },
   {
    "duration": 31,
    "start_time": "2023-06-11T15:27:16.909Z"
   },
   {
    "duration": 101,
    "start_time": "2023-06-11T15:30:39.994Z"
   },
   {
    "duration": 116,
    "start_time": "2023-06-11T15:31:42.906Z"
   },
   {
    "duration": 91,
    "start_time": "2023-06-11T15:31:53.158Z"
   },
   {
    "duration": 27,
    "start_time": "2023-06-11T15:32:05.779Z"
   },
   {
    "duration": 10,
    "start_time": "2023-06-11T15:32:10.334Z"
   },
   {
    "duration": 26,
    "start_time": "2023-06-11T15:32:10.612Z"
   },
   {
    "duration": 179,
    "start_time": "2023-06-11T15:32:11.572Z"
   },
   {
    "duration": 4,
    "start_time": "2023-06-11T15:34:12.568Z"
   },
   {
    "duration": 35,
    "start_time": "2023-06-11T15:38:43.858Z"
   },
   {
    "duration": 3,
    "start_time": "2023-06-11T15:41:06.888Z"
   },
   {
    "duration": 31,
    "start_time": "2023-06-11T15:41:46.919Z"
   },
   {
    "duration": 152,
    "start_time": "2023-06-11T15:42:01.395Z"
   },
   {
    "duration": 153,
    "start_time": "2023-06-11T15:42:13.680Z"
   },
   {
    "duration": 20,
    "start_time": "2023-06-11T15:42:14.890Z"
   },
   {
    "duration": 8431,
    "start_time": "2023-06-11T15:42:27.012Z"
   },
   {
    "duration": 8109,
    "start_time": "2023-06-11T15:42:39.418Z"
   },
   {
    "duration": 8416,
    "start_time": "2023-06-11T15:43:46.513Z"
   },
   {
    "duration": 8322,
    "start_time": "2023-06-11T15:44:03.521Z"
   },
   {
    "duration": 8047,
    "start_time": "2023-06-11T15:44:22.381Z"
   },
   {
    "duration": 4,
    "start_time": "2023-06-11T15:44:37.913Z"
   },
   {
    "duration": 8436,
    "start_time": "2023-06-11T15:44:44.707Z"
   },
   {
    "duration": 8219,
    "start_time": "2023-06-11T15:45:36.032Z"
   },
   {
    "duration": 8637,
    "start_time": "2023-06-11T15:46:02.812Z"
   },
   {
    "duration": 8209,
    "start_time": "2023-06-11T15:47:42.621Z"
   },
   {
    "duration": 8079,
    "start_time": "2023-06-11T15:47:56.447Z"
   },
   {
    "duration": 4,
    "start_time": "2023-06-11T15:48:09.366Z"
   },
   {
    "duration": 15996,
    "start_time": "2023-06-11T15:48:25.952Z"
   },
   {
    "duration": 77,
    "start_time": "2023-06-11T15:48:41.950Z"
   },
   {
    "duration": 25428,
    "start_time": "2023-06-11T15:49:03.725Z"
   },
   {
    "duration": 4,
    "start_time": "2023-06-11T15:49:29.226Z"
   },
   {
    "duration": 4,
    "start_time": "2023-06-11T15:54:14.615Z"
   },
   {
    "duration": 7858,
    "start_time": "2023-06-11T15:57:48.467Z"
   },
   {
    "duration": 6,
    "start_time": "2023-06-11T15:57:56.328Z"
   },
   {
    "duration": 24636,
    "start_time": "2023-06-11T15:58:06.197Z"
   },
   {
    "duration": 4,
    "start_time": "2023-06-11T15:58:30.835Z"
   },
   {
    "duration": 51283,
    "start_time": "2023-06-11T15:58:56.067Z"
   },
   {
    "duration": 19467,
    "start_time": "2023-06-11T16:00:11.094Z"
   },
   {
    "duration": 5,
    "start_time": "2023-06-11T16:00:30.626Z"
   },
   {
    "duration": 22407,
    "start_time": "2023-06-11T16:00:42.923Z"
   },
   {
    "duration": 4,
    "start_time": "2023-06-11T16:01:05.332Z"
   },
   {
    "duration": 0,
    "start_time": "2023-06-11T16:01:05.378Z"
   },
   {
    "duration": 9,
    "start_time": "2023-06-11T16:01:10.453Z"
   },
   {
    "duration": 173,
    "start_time": "2023-06-11T16:01:36.461Z"
   },
   {
    "duration": 223,
    "start_time": "2023-06-11T16:02:44.718Z"
   },
   {
    "duration": 152,
    "start_time": "2023-06-11T16:04:51.750Z"
   },
   {
    "duration": 136,
    "start_time": "2023-06-11T16:05:08.321Z"
   },
   {
    "duration": 152,
    "start_time": "2023-06-11T16:05:18.326Z"
   },
   {
    "duration": 64,
    "start_time": "2023-06-11T16:07:39.041Z"
   },
   {
    "duration": 4060,
    "start_time": "2023-06-11T16:07:52.891Z"
   },
   {
    "duration": 0,
    "start_time": "2023-06-11T16:07:56.953Z"
   },
   {
    "duration": 22851,
    "start_time": "2023-06-11T16:08:21.499Z"
   },
   {
    "duration": 5,
    "start_time": "2023-06-11T16:09:09.638Z"
   },
   {
    "duration": 24576,
    "start_time": "2023-06-11T16:10:13.750Z"
   },
   {
    "duration": 4,
    "start_time": "2023-06-11T16:10:38.328Z"
   },
   {
    "duration": 59,
    "start_time": "2023-06-11T16:11:19.352Z"
   },
   {
    "duration": 5,
    "start_time": "2023-06-11T16:11:25.171Z"
   },
   {
    "duration": 9,
    "start_time": "2023-06-11T16:11:28.009Z"
   },
   {
    "duration": 66,
    "start_time": "2023-06-11T16:12:55.536Z"
   },
   {
    "duration": 353,
    "start_time": "2023-06-11T16:12:59.854Z"
   },
   {
    "duration": 362,
    "start_time": "2023-06-11T16:13:18.756Z"
   },
   {
    "duration": 18,
    "start_time": "2023-06-11T16:13:27.898Z"
   },
   {
    "duration": 9,
    "start_time": "2023-06-11T16:13:43.595Z"
   },
   {
    "duration": 14,
    "start_time": "2023-06-11T16:14:07.725Z"
   },
   {
    "duration": 3,
    "start_time": "2023-06-11T16:14:26.288Z"
   },
   {
    "duration": 8,
    "start_time": "2023-06-11T16:14:32.099Z"
   },
   {
    "duration": 184970,
    "start_time": "2023-06-11T16:16:09.677Z"
   },
   {
    "duration": 2,
    "start_time": "2023-06-11T16:19:14.650Z"
   },
   {
    "duration": 13481,
    "start_time": "2023-06-11T16:43:02.157Z"
   },
   {
    "duration": 2,
    "start_time": "2023-06-11T16:43:15.639Z"
   },
   {
    "duration": 13459,
    "start_time": "2023-06-11T16:44:20.082Z"
   },
   {
    "duration": 56836,
    "start_time": "2023-06-11T16:45:44.911Z"
   },
   {
    "duration": 24,
    "start_time": "2023-06-11T16:49:02.277Z"
   },
   {
    "duration": 3,
    "start_time": "2023-06-11T16:49:46.750Z"
   },
   {
    "duration": 11,
    "start_time": "2023-06-11T16:50:32.331Z"
   },
   {
    "duration": 3,
    "start_time": "2023-06-11T16:51:25.128Z"
   },
   {
    "duration": 4101,
    "start_time": "2023-06-11T16:51:39.824Z"
   },
   {
    "duration": 3,
    "start_time": "2023-06-11T16:52:33.837Z"
   },
   {
    "duration": 3,
    "start_time": "2023-06-11T16:52:34.118Z"
   },
   {
    "duration": 107865,
    "start_time": "2023-06-11T16:52:34.582Z"
   },
   {
    "duration": 3,
    "start_time": "2023-06-11T16:55:05.371Z"
   },
   {
    "duration": 3,
    "start_time": "2023-06-11T16:55:05.796Z"
   },
   {
    "duration": 109592,
    "start_time": "2023-06-11T16:55:06.434Z"
   },
   {
    "duration": 3,
    "start_time": "2023-06-11T16:58:23.763Z"
   },
   {
    "duration": 3,
    "start_time": "2023-06-11T16:58:24.113Z"
   },
   {
    "duration": 33,
    "start_time": "2023-06-11T16:58:24.345Z"
   },
   {
    "duration": 3,
    "start_time": "2023-06-11T16:58:32.394Z"
   },
   {
    "duration": 3,
    "start_time": "2023-06-11T16:58:32.658Z"
   },
   {
    "duration": 12232,
    "start_time": "2023-06-11T16:58:32.895Z"
   },
   {
    "duration": 2,
    "start_time": "2023-06-11T16:59:00.329Z"
   },
   {
    "duration": 3,
    "start_time": "2023-06-11T16:59:00.601Z"
   },
   {
    "duration": 108807,
    "start_time": "2023-06-11T16:59:00.918Z"
   },
   {
    "duration": 18,
    "start_time": "2023-06-11T17:01:34.043Z"
   },
   {
    "duration": 18,
    "start_time": "2023-06-11T17:04:34.130Z"
   },
   {
    "duration": 333,
    "start_time": "2023-06-11T17:06:09.410Z"
   },
   {
    "duration": 60,
    "start_time": "2023-06-11T17:12:18.433Z"
   },
   {
    "duration": 3,
    "start_time": "2023-06-11T17:12:33.857Z"
   },
   {
    "duration": 77,
    "start_time": "2023-06-11T17:22:45.029Z"
   },
   {
    "duration": 2,
    "start_time": "2023-06-11T17:23:22.248Z"
   },
   {
    "duration": 1568,
    "start_time": "2023-06-11T17:24:02.039Z"
   },
   {
    "duration": 58,
    "start_time": "2023-06-11T17:26:36.618Z"
   },
   {
    "duration": 3937,
    "start_time": "2023-06-11T17:26:41.716Z"
   },
   {
    "duration": 58,
    "start_time": "2023-06-11T17:27:21.164Z"
   },
   {
    "duration": 38,
    "start_time": "2023-06-11T17:28:03.804Z"
   },
   {
    "duration": 69,
    "start_time": "2023-06-11T17:28:30.322Z"
   },
   {
    "duration": 3,
    "start_time": "2023-06-11T17:28:34.319Z"
   },
   {
    "duration": 2321,
    "start_time": "2023-06-11T17:28:35.022Z"
   },
   {
    "duration": 88,
    "start_time": "2023-06-11T17:32:07.583Z"
   },
   {
    "duration": 3,
    "start_time": "2023-06-11T17:32:08.942Z"
   },
   {
    "duration": 2792,
    "start_time": "2023-06-11T17:32:09.288Z"
   },
   {
    "duration": 72,
    "start_time": "2023-06-11T17:32:51.362Z"
   },
   {
    "duration": 2,
    "start_time": "2023-06-11T17:32:52.241Z"
   },
   {
    "duration": 2285,
    "start_time": "2023-06-11T17:32:52.489Z"
   },
   {
    "duration": 24,
    "start_time": "2023-06-11T17:33:37.661Z"
   },
   {
    "duration": 68,
    "start_time": "2023-06-11T17:33:43.180Z"
   },
   {
    "duration": 2392,
    "start_time": "2023-06-11T17:33:56.713Z"
   },
   {
    "duration": 5,
    "start_time": "2023-06-11T17:34:31.052Z"
   },
   {
    "duration": 67,
    "start_time": "2023-06-11T17:35:21.318Z"
   },
   {
    "duration": 84,
    "start_time": "2023-06-11T17:35:26.026Z"
   },
   {
    "duration": 4,
    "start_time": "2023-06-11T17:35:29.531Z"
   },
   {
    "duration": 2301,
    "start_time": "2023-06-11T17:35:34.856Z"
   },
   {
    "duration": 22,
    "start_time": "2023-06-11T17:36:38.750Z"
   },
   {
    "duration": 3,
    "start_time": "2023-06-11T17:37:04.336Z"
   },
   {
    "duration": 1031,
    "start_time": "2023-06-11T17:37:04.569Z"
   },
   {
    "duration": 1608,
    "start_time": "2023-06-12T11:09:59.558Z"
   },
   {
    "duration": 4,
    "start_time": "2023-06-12T11:10:01.169Z"
   },
   {
    "duration": 4162,
    "start_time": "2023-06-12T11:10:01.175Z"
   },
   {
    "duration": 59,
    "start_time": "2023-06-12T11:10:05.345Z"
   },
   {
    "duration": 35,
    "start_time": "2023-06-12T11:10:05.407Z"
   },
   {
    "duration": 188,
    "start_time": "2023-06-12T11:10:05.450Z"
   },
   {
    "duration": 175,
    "start_time": "2023-06-12T11:10:05.642Z"
   },
   {
    "duration": 643,
    "start_time": "2023-06-12T11:10:05.819Z"
   },
   {
    "duration": 219,
    "start_time": "2023-06-12T11:10:06.464Z"
   },
   {
    "duration": 193,
    "start_time": "2023-06-12T11:10:06.686Z"
   },
   {
    "duration": 24,
    "start_time": "2023-06-12T11:10:06.881Z"
   },
   {
    "duration": 37,
    "start_time": "2023-06-12T11:10:06.907Z"
   },
   {
    "duration": 32,
    "start_time": "2023-06-12T11:10:06.950Z"
   },
   {
    "duration": 51,
    "start_time": "2023-06-12T11:10:06.987Z"
   },
   {
    "duration": 129,
    "start_time": "2023-06-12T11:10:07.040Z"
   },
   {
    "duration": 375,
    "start_time": "2023-06-12T11:10:07.171Z"
   },
   {
    "duration": 27,
    "start_time": "2023-06-12T11:10:07.552Z"
   },
   {
    "duration": 89,
    "start_time": "2023-06-12T11:10:07.583Z"
   },
   {
    "duration": 125,
    "start_time": "2023-06-12T11:10:07.674Z"
   },
   {
    "duration": 375,
    "start_time": "2023-06-12T11:10:07.802Z"
   },
   {
    "duration": 278,
    "start_time": "2023-06-12T11:10:08.179Z"
   },
   {
    "duration": 40,
    "start_time": "2023-06-12T11:10:08.459Z"
   },
   {
    "duration": 110,
    "start_time": "2023-06-12T11:10:08.501Z"
   },
   {
    "duration": 17,
    "start_time": "2023-06-12T11:10:08.613Z"
   },
   {
    "duration": 40,
    "start_time": "2023-06-12T11:10:08.632Z"
   },
   {
    "duration": 157,
    "start_time": "2023-06-12T11:10:08.675Z"
   },
   {
    "duration": 31,
    "start_time": "2023-06-12T11:10:08.838Z"
   },
   {
    "duration": 18,
    "start_time": "2023-06-12T11:10:08.870Z"
   },
   {
    "duration": 73,
    "start_time": "2023-06-12T11:10:08.890Z"
   },
   {
    "duration": 19,
    "start_time": "2023-06-12T11:10:08.965Z"
   },
   {
    "duration": 22,
    "start_time": "2023-06-12T11:10:08.986Z"
   },
   {
    "duration": 79,
    "start_time": "2023-06-12T11:10:09.010Z"
   },
   {
    "duration": 177,
    "start_time": "2023-06-12T11:10:09.091Z"
   },
   {
    "duration": 22,
    "start_time": "2023-06-12T11:10:09.271Z"
   },
   {
    "duration": 184,
    "start_time": "2023-06-12T11:10:09.295Z"
   },
   {
    "duration": 1,
    "start_time": "2023-06-12T11:10:09.480Z"
   },
   {
    "duration": 0,
    "start_time": "2023-06-12T11:10:09.482Z"
   },
   {
    "duration": 0,
    "start_time": "2023-06-12T11:10:09.484Z"
   },
   {
    "duration": 0,
    "start_time": "2023-06-12T11:10:09.485Z"
   },
   {
    "duration": 0,
    "start_time": "2023-06-12T11:10:09.487Z"
   },
   {
    "duration": 0,
    "start_time": "2023-06-12T11:10:09.489Z"
   },
   {
    "duration": 0,
    "start_time": "2023-06-12T11:10:09.490Z"
   },
   {
    "duration": 0,
    "start_time": "2023-06-12T11:10:09.492Z"
   },
   {
    "duration": 0,
    "start_time": "2023-06-12T11:10:09.493Z"
   },
   {
    "duration": 15,
    "start_time": "2023-06-12T11:12:01.857Z"
   },
   {
    "duration": 11,
    "start_time": "2023-06-12T11:12:08.470Z"
   },
   {
    "duration": 5,
    "start_time": "2023-06-12T11:12:14.674Z"
   },
   {
    "duration": 3,
    "start_time": "2023-06-12T11:12:14.912Z"
   },
   {
    "duration": 1133,
    "start_time": "2023-06-12T11:12:15.174Z"
   },
   {
    "duration": 46,
    "start_time": "2023-06-12T11:12:16.310Z"
   },
   {
    "duration": 19,
    "start_time": "2023-06-12T11:12:16.362Z"
   },
   {
    "duration": 208,
    "start_time": "2023-06-12T11:12:16.383Z"
   },
   {
    "duration": 127,
    "start_time": "2023-06-12T11:12:17.061Z"
   },
   {
    "duration": 277,
    "start_time": "2023-06-12T11:12:17.509Z"
   },
   {
    "duration": 219,
    "start_time": "2023-06-12T11:12:17.789Z"
   },
   {
    "duration": 210,
    "start_time": "2023-06-12T11:12:18.011Z"
   },
   {
    "duration": 38,
    "start_time": "2023-06-12T11:12:18.271Z"
   },
   {
    "duration": 27,
    "start_time": "2023-06-12T11:12:18.557Z"
   },
   {
    "duration": 22,
    "start_time": "2023-06-12T11:12:18.815Z"
   },
   {
    "duration": 44,
    "start_time": "2023-06-12T11:12:19.376Z"
   },
   {
    "duration": 144,
    "start_time": "2023-06-12T11:12:19.665Z"
   },
   {
    "duration": 299,
    "start_time": "2023-06-12T11:12:20.178Z"
   },
   {
    "duration": 12,
    "start_time": "2023-06-12T11:12:20.482Z"
   },
   {
    "duration": 66,
    "start_time": "2023-06-12T11:12:21.063Z"
   },
   {
    "duration": 160,
    "start_time": "2023-06-12T11:12:21.344Z"
   },
   {
    "duration": 321,
    "start_time": "2023-06-12T11:12:21.892Z"
   },
   {
    "duration": 274,
    "start_time": "2023-06-12T11:12:22.248Z"
   },
   {
    "duration": 60,
    "start_time": "2023-06-12T11:12:24.289Z"
   },
   {
    "duration": 106,
    "start_time": "2023-06-12T11:12:24.593Z"
   },
   {
    "duration": 10,
    "start_time": "2023-06-12T11:12:25.087Z"
   },
   {
    "duration": 34,
    "start_time": "2023-06-12T11:12:25.366Z"
   },
   {
    "duration": 161,
    "start_time": "2023-06-12T11:12:25.890Z"
   },
   {
    "duration": 29,
    "start_time": "2023-06-12T11:12:26.265Z"
   },
   {
    "duration": 19,
    "start_time": "2023-06-12T11:12:26.577Z"
   },
   {
    "duration": 37,
    "start_time": "2023-06-12T11:12:27.269Z"
   },
   {
    "duration": 38,
    "start_time": "2023-06-12T11:12:27.614Z"
   },
   {
    "duration": 29,
    "start_time": "2023-06-12T11:12:27.966Z"
   },
   {
    "duration": 75,
    "start_time": "2023-06-12T11:12:28.702Z"
   },
   {
    "duration": 224,
    "start_time": "2023-06-12T11:12:29.050Z"
   },
   {
    "duration": 33,
    "start_time": "2023-06-12T11:12:31.850Z"
   },
   {
    "duration": 27,
    "start_time": "2023-06-12T11:12:32.760Z"
   },
   {
    "duration": 76,
    "start_time": "2023-06-12T11:13:05.463Z"
   },
   {
    "duration": 18,
    "start_time": "2023-06-12T11:13:13.364Z"
   },
   {
    "duration": 119,
    "start_time": "2023-06-12T11:13:13.766Z"
   },
   {
    "duration": 52,
    "start_time": "2023-06-12T11:13:14.126Z"
   },
   {
    "duration": 245,
    "start_time": "2023-06-12T11:13:17.282Z"
   },
   {
    "duration": 29987,
    "start_time": "2023-06-12T11:13:18.861Z"
   },
   {
    "duration": 5,
    "start_time": "2023-06-12T11:13:53.711Z"
   },
   {
    "duration": 4,
    "start_time": "2023-06-12T11:14:01.181Z"
   },
   {
    "duration": 12,
    "start_time": "2023-06-12T11:24:19.272Z"
   },
   {
    "duration": 9,
    "start_time": "2023-06-12T11:24:43.750Z"
   },
   {
    "duration": 8112,
    "start_time": "2023-06-12T11:24:49.288Z"
   },
   {
    "duration": 21,
    "start_time": "2023-06-12T11:25:44.552Z"
   },
   {
    "duration": 2709,
    "start_time": "2023-06-12T11:27:44.357Z"
   },
   {
    "duration": 12,
    "start_time": "2023-06-12T11:37:31.501Z"
   },
   {
    "duration": 5,
    "start_time": "2023-06-12T11:39:01.360Z"
   },
   {
    "duration": 5,
    "start_time": "2023-06-12T11:39:59.882Z"
   },
   {
    "duration": 22,
    "start_time": "2023-06-12T11:50:48.349Z"
   },
   {
    "duration": 93,
    "start_time": "2023-06-12T11:51:11.395Z"
   },
   {
    "duration": 11,
    "start_time": "2023-06-12T11:54:33.587Z"
   },
   {
    "duration": 15,
    "start_time": "2023-06-12T11:54:56.419Z"
   },
   {
    "duration": 6,
    "start_time": "2023-06-12T11:55:26.096Z"
   },
   {
    "duration": 12,
    "start_time": "2023-06-12T11:55:44.042Z"
   },
   {
    "duration": 11,
    "start_time": "2023-06-12T11:55:54.968Z"
   },
   {
    "duration": 78,
    "start_time": "2023-06-12T11:56:03.260Z"
   },
   {
    "duration": 4,
    "start_time": "2023-06-12T11:56:06.758Z"
   },
   {
    "duration": 5,
    "start_time": "2023-06-12T11:56:13.387Z"
   },
   {
    "duration": 3,
    "start_time": "2023-06-12T11:57:54.795Z"
   },
   {
    "duration": 5,
    "start_time": "2023-06-12T11:58:00.774Z"
   },
   {
    "duration": 5,
    "start_time": "2023-06-12T11:58:01.063Z"
   },
   {
    "duration": 3,
    "start_time": "2023-06-12T11:58:16.495Z"
   },
   {
    "duration": 6313,
    "start_time": "2023-06-12T11:58:35.919Z"
   },
   {
    "duration": 77,
    "start_time": "2023-06-12T12:01:44.713Z"
   },
   {
    "duration": 893,
    "start_time": "2023-06-12T12:05:10.466Z"
   },
   {
    "duration": 32,
    "start_time": "2023-06-12T12:05:14.037Z"
   },
   {
    "duration": 16,
    "start_time": "2023-06-12T12:06:35.184Z"
   },
   {
    "duration": 49,
    "start_time": "2023-06-12T12:06:36.442Z"
   },
   {
    "duration": 4,
    "start_time": "2023-06-12T12:06:41.794Z"
   },
   {
    "duration": 8,
    "start_time": "2023-06-12T12:06:42.723Z"
   },
   {
    "duration": 147008,
    "start_time": "2023-06-12T12:06:43.666Z"
   },
   {
    "duration": 5,
    "start_time": "2023-06-12T12:09:10.677Z"
   },
   {
    "duration": 8,
    "start_time": "2023-06-12T12:10:47.274Z"
   },
   {
    "duration": 10598,
    "start_time": "2023-06-12T12:11:01.809Z"
   },
   {
    "duration": 54,
    "start_time": "2023-06-12T12:12:42.904Z"
   },
   {
    "duration": 7,
    "start_time": "2023-06-12T12:13:17.464Z"
   },
   {
    "duration": 4,
    "start_time": "2023-06-12T12:21:19.502Z"
   },
   {
    "duration": 82,
    "start_time": "2023-06-12T12:21:24.093Z"
   },
   {
    "duration": 126,
    "start_time": "2023-06-12T12:21:37.370Z"
   },
   {
    "duration": 83,
    "start_time": "2023-06-12T12:21:45.240Z"
   },
   {
    "duration": 104,
    "start_time": "2023-06-12T12:21:49.686Z"
   },
   {
    "duration": 295667,
    "start_time": "2023-06-12T12:21:58.362Z"
   },
   {
    "duration": 12813,
    "start_time": "2023-06-12T12:29:54.055Z"
   },
   {
    "duration": 1596,
    "start_time": "2023-06-12T12:30:34.914Z"
   },
   {
    "duration": 3,
    "start_time": "2023-06-12T12:30:36.511Z"
   },
   {
    "duration": 1065,
    "start_time": "2023-06-12T12:30:36.516Z"
   },
   {
    "duration": 77,
    "start_time": "2023-06-12T12:30:37.584Z"
   },
   {
    "duration": 37,
    "start_time": "2023-06-12T12:30:37.666Z"
   },
   {
    "duration": 192,
    "start_time": "2023-06-12T12:30:37.706Z"
   },
   {
    "duration": 123,
    "start_time": "2023-06-12T12:30:37.900Z"
   },
   {
    "duration": 385,
    "start_time": "2023-06-12T12:30:38.025Z"
   },
   {
    "duration": 211,
    "start_time": "2023-06-12T12:30:38.412Z"
   },
   {
    "duration": 213,
    "start_time": "2023-06-12T12:30:38.630Z"
   },
   {
    "duration": 37,
    "start_time": "2023-06-12T12:30:38.845Z"
   },
   {
    "duration": 16,
    "start_time": "2023-06-12T12:30:38.884Z"
   },
   {
    "duration": 59,
    "start_time": "2023-06-12T12:30:38.902Z"
   },
   {
    "duration": 74,
    "start_time": "2023-06-12T12:30:38.965Z"
   },
   {
    "duration": 118,
    "start_time": "2023-06-12T12:30:39.044Z"
   },
   {
    "duration": 336,
    "start_time": "2023-06-12T12:30:39.163Z"
   },
   {
    "duration": 11,
    "start_time": "2023-06-12T12:30:39.500Z"
   },
   {
    "duration": 76,
    "start_time": "2023-06-12T12:30:39.534Z"
   },
   {
    "duration": 151,
    "start_time": "2023-06-12T12:30:39.612Z"
   },
   {
    "duration": 345,
    "start_time": "2023-06-12T12:30:39.768Z"
   },
   {
    "duration": 353,
    "start_time": "2023-06-12T12:30:40.118Z"
   },
   {
    "duration": 40,
    "start_time": "2023-06-12T12:30:40.481Z"
   },
   {
    "duration": 84,
    "start_time": "2023-06-12T12:30:40.523Z"
   },
   {
    "duration": 18,
    "start_time": "2023-06-12T12:30:40.609Z"
   },
   {
    "duration": 50,
    "start_time": "2023-06-12T12:30:40.631Z"
   },
   {
    "duration": 180,
    "start_time": "2023-06-12T12:30:40.683Z"
   },
   {
    "duration": 22,
    "start_time": "2023-06-12T12:30:40.869Z"
   },
   {
    "duration": 60,
    "start_time": "2023-06-12T12:30:40.894Z"
   },
   {
    "duration": 44,
    "start_time": "2023-06-12T12:30:40.955Z"
   },
   {
    "duration": 64,
    "start_time": "2023-06-12T12:30:41.001Z"
   },
   {
    "duration": 28,
    "start_time": "2023-06-12T12:30:41.067Z"
   },
   {
    "duration": 84,
    "start_time": "2023-06-12T12:30:41.097Z"
   },
   {
    "duration": 175,
    "start_time": "2023-06-12T12:30:41.183Z"
   },
   {
    "duration": 26,
    "start_time": "2023-06-12T12:30:41.360Z"
   },
   {
    "duration": 81,
    "start_time": "2023-06-12T12:30:41.388Z"
   },
   {
    "duration": 71,
    "start_time": "2023-06-12T12:30:41.474Z"
   },
   {
    "duration": 934,
    "start_time": "2023-06-12T12:30:41.547Z"
   },
   {
    "duration": 13,
    "start_time": "2023-06-12T12:30:42.483Z"
   },
   {
    "duration": 56,
    "start_time": "2023-06-12T12:30:42.498Z"
   },
   {
    "duration": 411807,
    "start_time": "2023-06-12T12:30:42.556Z"
   },
   {
    "duration": 185,
    "start_time": "2023-06-12T12:40:59.917Z"
   },
   {
    "duration": 24,
    "start_time": "2023-06-12T12:41:48.056Z"
   },
   {
    "duration": 21,
    "start_time": "2023-06-12T12:41:57.190Z"
   },
   {
    "duration": 32563,
    "start_time": "2023-06-12T12:42:42.788Z"
   },
   {
    "duration": 6,
    "start_time": "2023-06-12T12:43:18.607Z"
   },
   {
    "duration": 40,
    "start_time": "2023-06-12T12:46:52.209Z"
   },
   {
    "duration": 120,
    "start_time": "2023-06-12T12:52:29.874Z"
   },
   {
    "duration": 8369,
    "start_time": "2023-06-12T12:52:33.642Z"
   },
   {
    "duration": 8,
    "start_time": "2023-06-12T12:52:42.014Z"
   },
   {
    "duration": 58874,
    "start_time": "2023-06-12T12:53:44.454Z"
   },
   {
    "duration": 8229,
    "start_time": "2023-06-12T12:54:43.334Z"
   },
   {
    "duration": 13,
    "start_time": "2023-06-12T12:54:51.573Z"
   },
   {
    "duration": 27471,
    "start_time": "2023-06-12T12:55:57.893Z"
   },
   {
    "duration": 172,
    "start_time": "2023-06-12T12:59:27.509Z"
   },
   {
    "duration": 46843,
    "start_time": "2023-06-12T12:59:39.098Z"
   },
   {
    "duration": 74149,
    "start_time": "2023-06-12T13:00:34.082Z"
   },
   {
    "duration": 3,
    "start_time": "2023-06-12T13:02:00.556Z"
   },
   {
    "duration": 6297,
    "start_time": "2023-06-12T13:02:10.652Z"
   },
   {
    "duration": 18,
    "start_time": "2023-06-12T13:02:19.421Z"
   },
   {
    "duration": 5,
    "start_time": "2023-06-12T13:03:15.211Z"
   },
   {
    "duration": 7,
    "start_time": "2023-06-12T13:03:23.652Z"
   },
   {
    "duration": 9,
    "start_time": "2023-06-12T13:04:39.571Z"
   },
   {
    "duration": 8,
    "start_time": "2023-06-12T13:07:34.101Z"
   },
   {
    "duration": 72,
    "start_time": "2023-06-12T13:07:34.370Z"
   },
   {
    "duration": 8,
    "start_time": "2023-06-12T13:07:40.903Z"
   },
   {
    "duration": 8095,
    "start_time": "2023-06-12T13:07:49.822Z"
   },
   {
    "duration": 13,
    "start_time": "2023-06-12T13:07:57.919Z"
   },
   {
    "duration": 7782,
    "start_time": "2023-06-12T13:08:03.323Z"
   },
   {
    "duration": 6,
    "start_time": "2023-06-12T13:08:11.107Z"
   },
   {
    "duration": 1084,
    "start_time": "2023-06-12T13:16:07.279Z"
   },
   {
    "duration": 528,
    "start_time": "2023-06-12T13:16:10.869Z"
   },
   {
    "duration": 99,
    "start_time": "2023-06-12T13:16:42.667Z"
   },
   {
    "duration": 26,
    "start_time": "2023-06-12T13:17:08.773Z"
   },
   {
    "duration": 123,
    "start_time": "2023-06-12T13:17:18.709Z"
   },
   {
    "duration": 4,
    "start_time": "2023-06-12T13:17:36.220Z"
   },
   {
    "duration": 373,
    "start_time": "2023-06-12T13:17:43.958Z"
   },
   {
    "duration": 112,
    "start_time": "2023-06-12T13:17:45.674Z"
   },
   {
    "duration": 285755,
    "start_time": "2023-06-12T13:18:26.795Z"
   },
   {
    "duration": 138,
    "start_time": "2023-06-12T13:23:12.552Z"
   },
   {
    "duration": 13,
    "start_time": "2023-06-12T13:23:12.701Z"
   },
   {
    "duration": 1435,
    "start_time": "2023-06-12T13:24:40.757Z"
   },
   {
    "duration": 3,
    "start_time": "2023-06-12T13:24:42.194Z"
   },
   {
    "duration": 1027,
    "start_time": "2023-06-12T13:24:42.199Z"
   },
   {
    "duration": 60,
    "start_time": "2023-06-12T13:24:43.232Z"
   },
   {
    "duration": 32,
    "start_time": "2023-06-12T13:24:43.294Z"
   },
   {
    "duration": 194,
    "start_time": "2023-06-12T13:24:43.336Z"
   },
   {
    "duration": 118,
    "start_time": "2023-06-12T13:24:43.531Z"
   },
   {
    "duration": 353,
    "start_time": "2023-06-12T13:24:43.651Z"
   },
   {
    "duration": 209,
    "start_time": "2023-06-12T13:24:44.005Z"
   },
   {
    "duration": 194,
    "start_time": "2023-06-12T13:24:44.217Z"
   },
   {
    "duration": 38,
    "start_time": "2023-06-12T13:24:44.413Z"
   },
   {
    "duration": 18,
    "start_time": "2023-06-12T13:24:44.456Z"
   },
   {
    "duration": 21,
    "start_time": "2023-06-12T13:24:44.475Z"
   },
   {
    "duration": 68,
    "start_time": "2023-06-12T13:24:44.498Z"
   },
   {
    "duration": 124,
    "start_time": "2023-06-12T13:24:44.568Z"
   },
   {
    "duration": 387,
    "start_time": "2023-06-12T13:24:44.694Z"
   },
   {
    "duration": 14,
    "start_time": "2023-06-12T13:24:45.084Z"
   },
   {
    "duration": 103,
    "start_time": "2023-06-12T13:24:45.102Z"
   },
   {
    "duration": 126,
    "start_time": "2023-06-12T13:24:45.208Z"
   },
   {
    "duration": 276,
    "start_time": "2023-06-12T13:24:45.337Z"
   },
   {
    "duration": 335,
    "start_time": "2023-06-12T13:24:45.616Z"
   },
   {
    "duration": 44,
    "start_time": "2023-06-12T13:24:45.954Z"
   },
   {
    "duration": 91,
    "start_time": "2023-06-12T13:24:46.000Z"
   },
   {
    "duration": 8,
    "start_time": "2023-06-12T13:24:46.093Z"
   },
   {
    "duration": 52,
    "start_time": "2023-06-12T13:24:46.103Z"
   },
   {
    "duration": 140,
    "start_time": "2023-06-12T13:24:46.157Z"
   },
   {
    "duration": 19,
    "start_time": "2023-06-12T13:24:46.298Z"
   },
   {
    "duration": 29,
    "start_time": "2023-06-12T13:24:46.328Z"
   },
   {
    "duration": 42,
    "start_time": "2023-06-12T13:24:46.358Z"
   },
   {
    "duration": 63,
    "start_time": "2023-06-12T13:24:46.402Z"
   },
   {
    "duration": 24,
    "start_time": "2023-06-12T13:24:46.471Z"
   },
   {
    "duration": 85,
    "start_time": "2023-06-12T13:24:46.497Z"
   },
   {
    "duration": 172,
    "start_time": "2023-06-12T13:24:46.584Z"
   },
   {
    "duration": 28,
    "start_time": "2023-06-12T13:24:46.759Z"
   },
   {
    "duration": 70,
    "start_time": "2023-06-12T13:24:46.788Z"
   },
   {
    "duration": 68,
    "start_time": "2023-06-12T13:24:46.860Z"
   },
   {
    "duration": 918,
    "start_time": "2023-06-12T13:24:46.942Z"
   },
   {
    "duration": 14,
    "start_time": "2023-06-12T13:24:47.862Z"
   },
   {
    "duration": 35,
    "start_time": "2023-06-12T13:24:47.878Z"
   },
   {
    "duration": 1012,
    "start_time": "2023-06-12T13:24:47.940Z"
   },
   {
    "duration": 412,
    "start_time": "2023-06-12T13:24:48.954Z"
   },
   {
    "duration": 290077,
    "start_time": "2023-06-12T13:24:49.368Z"
   },
   {
    "duration": 356,
    "start_time": "2023-06-12T13:29:39.450Z"
   },
   {
    "duration": 13,
    "start_time": "2023-06-12T13:30:49.062Z"
   },
   {
    "duration": 266726,
    "start_time": "2023-06-12T13:30:54.113Z"
   },
   {
    "duration": 116,
    "start_time": "2023-06-12T13:35:20.845Z"
   },
   {
    "duration": 108,
    "start_time": "2023-06-12T13:42:00.789Z"
   },
   {
    "duration": 108794,
    "start_time": "2023-06-12T13:42:06.494Z"
   },
   {
    "duration": 4,
    "start_time": "2023-06-12T13:43:55.292Z"
   },
   {
    "duration": 111,
    "start_time": "2023-06-12T13:43:55.298Z"
   },
   {
    "duration": 64151,
    "start_time": "2023-06-12T13:44:24.368Z"
   },
   {
    "duration": 2042,
    "start_time": "2023-06-12T13:47:20.078Z"
   },
   {
    "duration": 38819,
    "start_time": "2023-06-12T13:47:42.565Z"
   },
   {
    "duration": 1146374,
    "start_time": "2023-06-12T13:50:54.223Z"
   },
   {
    "duration": 12,
    "start_time": "2023-06-12T14:10:00.599Z"
   },
   {
    "duration": 0,
    "start_time": "2023-06-12T14:10:00.615Z"
   },
   {
    "duration": 1478,
    "start_time": "2023-06-13T06:18:49.645Z"
   },
   {
    "duration": 3,
    "start_time": "2023-06-13T06:18:51.125Z"
   },
   {
    "duration": 1312,
    "start_time": "2023-06-13T06:18:51.130Z"
   },
   {
    "duration": 61,
    "start_time": "2023-06-13T06:18:52.445Z"
   },
   {
    "duration": 57,
    "start_time": "2023-06-13T06:18:52.509Z"
   },
   {
    "duration": 239,
    "start_time": "2023-06-13T06:18:52.569Z"
   },
   {
    "duration": 112,
    "start_time": "2023-06-13T06:18:52.809Z"
   },
   {
    "duration": 574,
    "start_time": "2023-06-13T06:18:52.923Z"
   },
   {
    "duration": 211,
    "start_time": "2023-06-13T06:18:53.499Z"
   },
   {
    "duration": 180,
    "start_time": "2023-06-13T06:18:53.714Z"
   },
   {
    "duration": 23,
    "start_time": "2023-06-13T06:18:53.896Z"
   },
   {
    "duration": 38,
    "start_time": "2023-06-13T06:18:53.922Z"
   },
   {
    "duration": 43,
    "start_time": "2023-06-13T06:18:53.962Z"
   },
   {
    "duration": 57,
    "start_time": "2023-06-13T06:18:54.007Z"
   },
   {
    "duration": 103,
    "start_time": "2023-06-13T06:18:54.066Z"
   },
   {
    "duration": 316,
    "start_time": "2023-06-13T06:18:54.171Z"
   },
   {
    "duration": 10,
    "start_time": "2023-06-13T06:18:54.489Z"
   },
   {
    "duration": 71,
    "start_time": "2023-06-13T06:18:54.500Z"
   },
   {
    "duration": 89,
    "start_time": "2023-06-13T06:18:54.573Z"
   },
   {
    "duration": 242,
    "start_time": "2023-06-13T06:18:54.664Z"
   },
   {
    "duration": 233,
    "start_time": "2023-06-13T06:18:54.908Z"
   },
   {
    "duration": 44,
    "start_time": "2023-06-13T06:18:55.146Z"
   },
   {
    "duration": 83,
    "start_time": "2023-06-13T06:18:55.192Z"
   },
   {
    "duration": 7,
    "start_time": "2023-06-13T06:18:55.277Z"
   },
   {
    "duration": 38,
    "start_time": "2023-06-13T06:18:55.286Z"
   },
   {
    "duration": 134,
    "start_time": "2023-06-13T06:18:55.327Z"
   },
   {
    "duration": 31,
    "start_time": "2023-06-13T06:18:55.463Z"
   },
   {
    "duration": 23,
    "start_time": "2023-06-13T06:18:55.498Z"
   },
   {
    "duration": 48,
    "start_time": "2023-06-13T06:18:55.523Z"
   },
   {
    "duration": 26,
    "start_time": "2023-06-13T06:18:55.573Z"
   },
   {
    "duration": 30,
    "start_time": "2023-06-13T06:18:55.601Z"
   },
   {
    "duration": 61,
    "start_time": "2023-06-13T06:18:55.633Z"
   },
   {
    "duration": 176,
    "start_time": "2023-06-13T06:18:55.696Z"
   },
   {
    "duration": 21,
    "start_time": "2023-06-13T06:18:55.874Z"
   },
   {
    "duration": 67,
    "start_time": "2023-06-13T06:18:55.897Z"
   },
   {
    "duration": 61,
    "start_time": "2023-06-13T06:18:55.965Z"
   },
   {
    "duration": 790,
    "start_time": "2023-06-13T06:18:56.028Z"
   },
   {
    "duration": 12,
    "start_time": "2023-06-13T06:18:56.820Z"
   },
   {
    "duration": 51,
    "start_time": "2023-06-13T06:18:56.834Z"
   },
   {
    "duration": 893,
    "start_time": "2023-06-13T06:18:56.887Z"
   },
   {
    "duration": 371,
    "start_time": "2023-06-13T06:18:57.782Z"
   },
   {
    "duration": 137707,
    "start_time": "2023-06-13T06:18:58.155Z"
   }
  ],
  "kernelspec": {
   "display_name": "Python 3 (ipykernel)",
   "language": "python",
   "name": "python3"
  },
  "language_info": {
   "codemirror_mode": {
    "name": "ipython",
    "version": 3
   },
   "file_extension": ".py",
   "mimetype": "text/x-python",
   "name": "python",
   "nbconvert_exporter": "python",
   "pygments_lexer": "ipython3",
   "version": "3.11.3"
  },
  "toc": {
   "base_numbering": 1,
   "nav_menu": {},
   "number_sections": true,
   "sideBar": true,
   "skip_h1_title": true,
   "title_cell": "Table of Contents",
   "title_sidebar": "Contents",
   "toc_cell": false,
   "toc_position": {},
   "toc_section_display": true,
   "toc_window_display": false
  }
 },
 "nbformat": 4,
 "nbformat_minor": 2
}
